{
 "cells": [
  {
   "cell_type": "markdown",
   "metadata": {
    "id": "_VVLyyz2zyei"
   },
   "source": [
    "# Case study: Loan Payment Prediction"
   ]
  },
  {
   "cell_type": "markdown",
   "metadata": {
    "id": "Oba5r_Sbzyer"
   },
   "source": [
    "###  Problem Statement: Produce a supervised machine learning model to predict whether a load will be paid in full or charged off"
   ]
  },
  {
   "cell_type": "markdown",
   "metadata": {
    "id": "nKFM8J0uzyes"
   },
   "source": [
    "## Step One: Data processing and cleaning"
   ]
  },
  {
   "cell_type": "code",
   "execution_count": 1,
   "metadata": {
    "id": "KvRny06-zyet"
   },
   "outputs": [],
   "source": [
    "import pandas as pd\n",
    "import numpy as np\n",
    "pd.options.display.max_columns = 20\n",
    "pd.options.display.max_rows = 20\n",
    "import datetime as dt\n",
    "\n",
    "# visualization\n",
    "import matplotlib.pyplot as plt\n",
    "import seaborn as sns\n",
    "from IPython.display import HTML\n",
    "%matplotlib inline"
   ]
  },
  {
   "cell_type": "markdown",
   "metadata": {
    "id": "fHn0RkGpzye4"
   },
   "source": [
    "Packages for model build:"
   ]
  },
  {
   "cell_type": "code",
   "execution_count": 2,
   "metadata": {
    "id": "BV-FQDijzye5"
   },
   "outputs": [],
   "source": [
    "from sklearn import metrics\n",
    "from sklearn.preprocessing import OneHotEncoder, LabelEncoder\n",
    "from sklearn.model_selection import train_test_split\n",
    "from sklearn.linear_model import LogisticRegression\n",
    "from sklearn.metrics import accuracy_score\n",
    "from sklearn.neighbors import KNeighborsClassifier\n",
    "from sklearn.tree import DecisionTreeClassifier\n",
    "from sklearn.ensemble import RandomForestClassifier,GradientBoostingClassifier\n",
    "from sklearn.metrics import f1_score, recall_score, precision_score, roc_auc_score\n",
    "from sklearn.metrics import classification_report, precision_recall_curve, roc_curve, auc"
   ]
  },
  {
   "cell_type": "markdown",
   "metadata": {
    "id": "BkiPpfgVzye5"
   },
   "source": [
    "Load the data to Pandas:"
   ]
  },
  {
   "cell_type": "code",
   "execution_count": null,
   "metadata": {
    "colab": {
     "base_uri": "https://localhost:8080/"
    },
    "id": "pBHgsB1WcEP9",
    "outputId": "ad5baf5c-5015-470c-d5a1-d7e420e4af85"
   },
   "outputs": [],
   "source": [
    "! unzip CaseStudy_Dataset.csv.zip"
   ]
  },
  {
   "cell_type": "code",
   "execution_count": 4,
   "metadata": {
    "colab": {
     "base_uri": "https://localhost:8080/",
     "height": 372
    },
    "id": "Cq0rm3v5zye6",
    "outputId": "c8313b91-305f-4ebc-da0d-78514427679d"
   },
   "outputs": [
    {
     "name": "stderr",
     "output_type": "stream",
     "text": [
      "/Users/apple/opt/anaconda3/lib/python3.8/site-packages/IPython/core/interactiveshell.py:3145: DtypeWarning: Columns (0,47) have mixed types.Specify dtype option on import or set low_memory=False.\n",
      "  has_raised = await self.run_ast_nodes(code_ast.body, cell_name,\n"
     ]
    },
    {
     "data": {
      "text/html": [
       "<div>\n",
       "<style scoped>\n",
       "    .dataframe tbody tr th:only-of-type {\n",
       "        vertical-align: middle;\n",
       "    }\n",
       "\n",
       "    .dataframe tbody tr th {\n",
       "        vertical-align: top;\n",
       "    }\n",
       "\n",
       "    .dataframe thead th {\n",
       "        text-align: right;\n",
       "    }\n",
       "</style>\n",
       "<table border=\"1\" class=\"dataframe\">\n",
       "  <thead>\n",
       "    <tr style=\"text-align: right;\">\n",
       "      <th></th>\n",
       "      <th>id</th>\n",
       "      <th>member_id</th>\n",
       "      <th>loan_amnt</th>\n",
       "      <th>funded_amnt</th>\n",
       "      <th>funded_amnt_inv</th>\n",
       "      <th>term</th>\n",
       "      <th>int_rate</th>\n",
       "      <th>installment</th>\n",
       "      <th>grade</th>\n",
       "      <th>sub_grade</th>\n",
       "      <th>...</th>\n",
       "      <th>orig_projected_additional_accrued_interest</th>\n",
       "      <th>hardship_payoff_balance_amount</th>\n",
       "      <th>hardship_last_payment_amount</th>\n",
       "      <th>debt_settlement_flag</th>\n",
       "      <th>debt_settlement_flag_date</th>\n",
       "      <th>settlement_status</th>\n",
       "      <th>settlement_date</th>\n",
       "      <th>settlement_amount</th>\n",
       "      <th>settlement_percentage</th>\n",
       "      <th>settlement_term</th>\n",
       "    </tr>\n",
       "  </thead>\n",
       "  <tbody>\n",
       "    <tr>\n",
       "      <th>0</th>\n",
       "      <td>NaN</td>\n",
       "      <td>NaN</td>\n",
       "      <td>5000.0</td>\n",
       "      <td>5000.0</td>\n",
       "      <td>4975.0</td>\n",
       "      <td>36 months</td>\n",
       "      <td>10.65%</td>\n",
       "      <td>162.87</td>\n",
       "      <td>B</td>\n",
       "      <td>B2</td>\n",
       "      <td>...</td>\n",
       "      <td>NaN</td>\n",
       "      <td>NaN</td>\n",
       "      <td>NaN</td>\n",
       "      <td>N</td>\n",
       "      <td>NaN</td>\n",
       "      <td>NaN</td>\n",
       "      <td>NaN</td>\n",
       "      <td>NaN</td>\n",
       "      <td>NaN</td>\n",
       "      <td>NaN</td>\n",
       "    </tr>\n",
       "    <tr>\n",
       "      <th>1</th>\n",
       "      <td>NaN</td>\n",
       "      <td>NaN</td>\n",
       "      <td>2500.0</td>\n",
       "      <td>2500.0</td>\n",
       "      <td>2500.0</td>\n",
       "      <td>60 months</td>\n",
       "      <td>15.27%</td>\n",
       "      <td>59.83</td>\n",
       "      <td>C</td>\n",
       "      <td>C4</td>\n",
       "      <td>...</td>\n",
       "      <td>NaN</td>\n",
       "      <td>NaN</td>\n",
       "      <td>NaN</td>\n",
       "      <td>N</td>\n",
       "      <td>NaN</td>\n",
       "      <td>NaN</td>\n",
       "      <td>NaN</td>\n",
       "      <td>NaN</td>\n",
       "      <td>NaN</td>\n",
       "      <td>NaN</td>\n",
       "    </tr>\n",
       "    <tr>\n",
       "      <th>2</th>\n",
       "      <td>NaN</td>\n",
       "      <td>NaN</td>\n",
       "      <td>2400.0</td>\n",
       "      <td>2400.0</td>\n",
       "      <td>2400.0</td>\n",
       "      <td>36 months</td>\n",
       "      <td>15.96%</td>\n",
       "      <td>84.33</td>\n",
       "      <td>C</td>\n",
       "      <td>C5</td>\n",
       "      <td>...</td>\n",
       "      <td>NaN</td>\n",
       "      <td>NaN</td>\n",
       "      <td>NaN</td>\n",
       "      <td>N</td>\n",
       "      <td>NaN</td>\n",
       "      <td>NaN</td>\n",
       "      <td>NaN</td>\n",
       "      <td>NaN</td>\n",
       "      <td>NaN</td>\n",
       "      <td>NaN</td>\n",
       "    </tr>\n",
       "    <tr>\n",
       "      <th>3</th>\n",
       "      <td>NaN</td>\n",
       "      <td>NaN</td>\n",
       "      <td>10000.0</td>\n",
       "      <td>10000.0</td>\n",
       "      <td>10000.0</td>\n",
       "      <td>36 months</td>\n",
       "      <td>13.49%</td>\n",
       "      <td>339.31</td>\n",
       "      <td>C</td>\n",
       "      <td>C1</td>\n",
       "      <td>...</td>\n",
       "      <td>NaN</td>\n",
       "      <td>NaN</td>\n",
       "      <td>NaN</td>\n",
       "      <td>N</td>\n",
       "      <td>NaN</td>\n",
       "      <td>NaN</td>\n",
       "      <td>NaN</td>\n",
       "      <td>NaN</td>\n",
       "      <td>NaN</td>\n",
       "      <td>NaN</td>\n",
       "    </tr>\n",
       "    <tr>\n",
       "      <th>4</th>\n",
       "      <td>NaN</td>\n",
       "      <td>NaN</td>\n",
       "      <td>3000.0</td>\n",
       "      <td>3000.0</td>\n",
       "      <td>3000.0</td>\n",
       "      <td>60 months</td>\n",
       "      <td>12.69%</td>\n",
       "      <td>67.79</td>\n",
       "      <td>B</td>\n",
       "      <td>B5</td>\n",
       "      <td>...</td>\n",
       "      <td>NaN</td>\n",
       "      <td>NaN</td>\n",
       "      <td>NaN</td>\n",
       "      <td>N</td>\n",
       "      <td>NaN</td>\n",
       "      <td>NaN</td>\n",
       "      <td>NaN</td>\n",
       "      <td>NaN</td>\n",
       "      <td>NaN</td>\n",
       "      <td>NaN</td>\n",
       "    </tr>\n",
       "  </tbody>\n",
       "</table>\n",
       "<p>5 rows × 144 columns</p>\n",
       "</div>"
      ],
      "text/plain": [
       "    id  member_id  loan_amnt  funded_amnt  funded_amnt_inv        term  \\\n",
       "0  NaN        NaN     5000.0       5000.0           4975.0   36 months   \n",
       "1  NaN        NaN     2500.0       2500.0           2500.0   60 months   \n",
       "2  NaN        NaN     2400.0       2400.0           2400.0   36 months   \n",
       "3  NaN        NaN    10000.0      10000.0          10000.0   36 months   \n",
       "4  NaN        NaN     3000.0       3000.0           3000.0   60 months   \n",
       "\n",
       "  int_rate  installment grade sub_grade  ...  \\\n",
       "0   10.65%       162.87     B        B2  ...   \n",
       "1   15.27%        59.83     C        C4  ...   \n",
       "2   15.96%        84.33     C        C5  ...   \n",
       "3   13.49%       339.31     C        C1  ...   \n",
       "4   12.69%        67.79     B        B5  ...   \n",
       "\n",
       "  orig_projected_additional_accrued_interest hardship_payoff_balance_amount  \\\n",
       "0                                        NaN                            NaN   \n",
       "1                                        NaN                            NaN   \n",
       "2                                        NaN                            NaN   \n",
       "3                                        NaN                            NaN   \n",
       "4                                        NaN                            NaN   \n",
       "\n",
       "  hardship_last_payment_amount  debt_settlement_flag  \\\n",
       "0                          NaN                     N   \n",
       "1                          NaN                     N   \n",
       "2                          NaN                     N   \n",
       "3                          NaN                     N   \n",
       "4                          NaN                     N   \n",
       "\n",
       "  debt_settlement_flag_date settlement_status settlement_date  \\\n",
       "0                       NaN               NaN             NaN   \n",
       "1                       NaN               NaN             NaN   \n",
       "2                       NaN               NaN             NaN   \n",
       "3                       NaN               NaN             NaN   \n",
       "4                       NaN               NaN             NaN   \n",
       "\n",
       "  settlement_amount  settlement_percentage settlement_term  \n",
       "0               NaN                    NaN             NaN  \n",
       "1               NaN                    NaN             NaN  \n",
       "2               NaN                    NaN             NaN  \n",
       "3               NaN                    NaN             NaN  \n",
       "4               NaN                    NaN             NaN  \n",
       "\n",
       "[5 rows x 144 columns]"
      ]
     },
     "execution_count": 4,
     "metadata": {},
     "output_type": "execute_result"
    }
   ],
   "source": [
    "df=pd.read_csv('CaseStudy_Dataset.csv')\n",
    "df.head(5)"
   ]
  },
  {
   "cell_type": "code",
   "execution_count": 5,
   "metadata": {
    "colab": {
     "base_uri": "https://localhost:8080/"
    },
    "id": "Zj8qL103zye8",
    "outputId": "d4374c35-03e6-40d6-f119-fe7da7a64637"
   },
   "outputs": [
    {
     "data": {
      "text/plain": [
       "(42545, 144)"
      ]
     },
     "execution_count": 5,
     "metadata": {},
     "output_type": "execute_result"
    }
   ],
   "source": [
    "df.shape"
   ]
  },
  {
   "cell_type": "markdown",
   "metadata": {
    "id": "ahZU4wbazye8"
   },
   "source": [
    "Check the column information:"
   ]
  },
  {
   "cell_type": "code",
   "execution_count": 6,
   "metadata": {
    "colab": {
     "base_uri": "https://localhost:8080/"
    },
    "id": "kORAQ6Rgzye9",
    "outputId": "9d1bec67-d80c-49a4-9c2c-301af5209210"
   },
   "outputs": [
    {
     "data": {
      "text/plain": [
       "['id',\n",
       " 'member_id',\n",
       " 'loan_amnt',\n",
       " 'funded_amnt',\n",
       " 'funded_amnt_inv',\n",
       " 'term',\n",
       " 'int_rate',\n",
       " 'installment',\n",
       " 'grade',\n",
       " 'sub_grade',\n",
       " 'emp_title',\n",
       " 'emp_length',\n",
       " 'home_ownership',\n",
       " 'annual_inc',\n",
       " 'verification_status',\n",
       " 'issue_d',\n",
       " 'loan_status',\n",
       " 'pymnt_plan',\n",
       " 'url',\n",
       " 'desc',\n",
       " 'purpose',\n",
       " 'title',\n",
       " 'zip_code',\n",
       " 'addr_state',\n",
       " 'dti',\n",
       " 'delinq_2yrs',\n",
       " 'earliest_cr_line',\n",
       " 'inq_last_6mths',\n",
       " 'mths_since_last_delinq',\n",
       " 'mths_since_last_record',\n",
       " 'open_acc',\n",
       " 'pub_rec',\n",
       " 'revol_bal',\n",
       " 'revol_util',\n",
       " 'total_acc',\n",
       " 'initial_list_status',\n",
       " 'out_prncp',\n",
       " 'out_prncp_inv',\n",
       " 'total_pymnt',\n",
       " 'total_pymnt_inv',\n",
       " 'total_rec_prncp',\n",
       " 'total_rec_int',\n",
       " 'total_rec_late_fee',\n",
       " 'recoveries',\n",
       " 'collection_recovery_fee',\n",
       " 'last_pymnt_d',\n",
       " 'last_pymnt_amnt',\n",
       " 'next_pymnt_d',\n",
       " 'last_credit_pull_d',\n",
       " 'collections_12_mths_ex_med',\n",
       " 'mths_since_last_major_derog',\n",
       " 'policy_code',\n",
       " 'application_type',\n",
       " 'annual_inc_joint',\n",
       " 'dti_joint',\n",
       " 'verification_status_joint',\n",
       " 'acc_now_delinq',\n",
       " 'tot_coll_amt',\n",
       " 'tot_cur_bal',\n",
       " 'open_acc_6m',\n",
       " 'open_act_il',\n",
       " 'open_il_12m',\n",
       " 'open_il_24m',\n",
       " 'mths_since_rcnt_il',\n",
       " 'total_bal_il',\n",
       " 'il_util',\n",
       " 'open_rv_12m',\n",
       " 'open_rv_24m',\n",
       " 'max_bal_bc',\n",
       " 'all_util',\n",
       " 'total_rev_hi_lim',\n",
       " 'inq_fi',\n",
       " 'total_cu_tl',\n",
       " 'inq_last_12m',\n",
       " 'acc_open_past_24mths',\n",
       " 'avg_cur_bal',\n",
       " 'bc_open_to_buy',\n",
       " 'bc_util',\n",
       " 'chargeoff_within_12_mths',\n",
       " 'delinq_amnt',\n",
       " 'mo_sin_old_il_acct',\n",
       " 'mo_sin_old_rev_tl_op',\n",
       " 'mo_sin_rcnt_rev_tl_op',\n",
       " 'mo_sin_rcnt_tl',\n",
       " 'mort_acc',\n",
       " 'mths_since_recent_bc',\n",
       " 'mths_since_recent_bc_dlq',\n",
       " 'mths_since_recent_inq',\n",
       " 'mths_since_recent_revol_delinq',\n",
       " 'num_accts_ever_120_pd',\n",
       " 'num_actv_bc_tl',\n",
       " 'num_actv_rev_tl',\n",
       " 'num_bc_sats',\n",
       " 'num_bc_tl',\n",
       " 'num_il_tl',\n",
       " 'num_op_rev_tl',\n",
       " 'num_rev_accts',\n",
       " 'num_rev_tl_bal_gt_0',\n",
       " 'num_sats',\n",
       " 'num_tl_120dpd_2m',\n",
       " 'num_tl_30dpd',\n",
       " 'num_tl_90g_dpd_24m',\n",
       " 'num_tl_op_past_12m',\n",
       " 'pct_tl_nvr_dlq',\n",
       " 'percent_bc_gt_75',\n",
       " 'pub_rec_bankruptcies',\n",
       " 'tax_liens',\n",
       " 'tot_hi_cred_lim',\n",
       " 'total_bal_ex_mort',\n",
       " 'total_bc_limit',\n",
       " 'total_il_high_credit_limit',\n",
       " 'revol_bal_joint',\n",
       " 'sec_app_earliest_cr_line',\n",
       " 'sec_app_inq_last_6mths',\n",
       " 'sec_app_mort_acc',\n",
       " 'sec_app_open_acc',\n",
       " 'sec_app_revol_util',\n",
       " 'sec_app_open_act_il',\n",
       " 'sec_app_num_rev_accts',\n",
       " 'sec_app_chargeoff_within_12_mths',\n",
       " 'sec_app_collections_12_mths_ex_med',\n",
       " 'sec_app_mths_since_last_major_derog',\n",
       " 'hardship_flag',\n",
       " 'hardship_type',\n",
       " 'hardship_reason',\n",
       " 'hardship_status',\n",
       " 'deferral_term',\n",
       " 'hardship_amount',\n",
       " 'hardship_start_date',\n",
       " 'hardship_end_date',\n",
       " 'payment_plan_start_date',\n",
       " 'hardship_length',\n",
       " 'hardship_dpd',\n",
       " 'hardship_loan_status',\n",
       " 'orig_projected_additional_accrued_interest',\n",
       " 'hardship_payoff_balance_amount',\n",
       " 'hardship_last_payment_amount',\n",
       " 'debt_settlement_flag',\n",
       " 'debt_settlement_flag_date',\n",
       " 'settlement_status',\n",
       " 'settlement_date',\n",
       " 'settlement_amount',\n",
       " 'settlement_percentage',\n",
       " 'settlement_term']"
      ]
     },
     "execution_count": 6,
     "metadata": {},
     "output_type": "execute_result"
    }
   ],
   "source": [
    "list(df.columns)"
   ]
  },
  {
   "cell_type": "markdown",
   "metadata": {
    "id": "h7QFQBcDzye9"
   },
   "source": [
    "Check the target variable - loan_status by using value_counts():"
   ]
  },
  {
   "cell_type": "code",
   "execution_count": 7,
   "metadata": {
    "colab": {
     "base_uri": "https://localhost:8080/"
    },
    "id": "ZTJ_6seGzye-",
    "outputId": "26f6e426-58c3-4954-b625-d7275e1623d9"
   },
   "outputs": [
    {
     "data": {
      "text/plain": [
       "Fully Paid                                             34121\n",
       "Charged Off                                             5672\n",
       "Does not meet the credit policy. Status:Fully Paid      1988\n",
       "Does not meet the credit policy. Status:Charged Off      761\n",
       "Name: loan_status, dtype: int64"
      ]
     },
     "execution_count": 7,
     "metadata": {},
     "output_type": "execute_result"
    }
   ],
   "source": [
    "df['loan_status'].value_counts()"
   ]
  },
  {
   "cell_type": "markdown",
   "metadata": {
    "id": "Xe3V6tnlzye-"
   },
   "source": [
    "Usually for loan applications which **didn't meet credit policy**, they should be declined directly before sent to the model.\n",
    "Although, in this case these loans still had 'Status' information, we **would remove these records from build model and assume these loans won't be processed by the model** "
   ]
  },
  {
   "cell_type": "markdown",
   "metadata": {
    "id": "uEKt75h2zye-"
   },
   "source": [
    "Only keep records which passed credit policy:"
   ]
  },
  {
   "cell_type": "code",
   "execution_count": 8,
   "metadata": {
    "id": "K1WLDjNazye_"
   },
   "outputs": [],
   "source": [
    "df=df.loc[df['loan_status'].isin(['Fully Paid', 'Charged Off'])]"
   ]
  },
  {
   "cell_type": "code",
   "execution_count": 9,
   "metadata": {
    "colab": {
     "base_uri": "https://localhost:8080/"
    },
    "id": "LbOTUqjEzye_",
    "outputId": "b9e6364d-4c44-4b1f-e113-0f7e2e91d413"
   },
   "outputs": [
    {
     "data": {
      "text/plain": [
       "Fully Paid     34121\n",
       "Charged Off     5672\n",
       "Name: loan_status, dtype: int64"
      ]
     },
     "execution_count": 9,
     "metadata": {},
     "output_type": "execute_result"
    }
   ],
   "source": [
    "df['loan_status'].value_counts()"
   ]
  },
  {
   "cell_type": "markdown",
   "metadata": {
    "id": "GwgWuMwIzyfA"
   },
   "source": [
    "Define a function to check missing values:"
   ]
  },
  {
   "cell_type": "code",
   "execution_count": 10,
   "metadata": {
    "id": "VixlMfXizyfA"
   },
   "outputs": [],
   "source": [
    "def missing_values_table(df):\n",
    "        #1 Total missing values\n",
    "        mis_val = df.isnull().sum()\n",
    "        \n",
    "        #2 Percentage of missing values\n",
    "        mis_val_percent = 100 * df.isnull().sum() / len(df)\n",
    "        \n",
    "        #3 Make a table with the results\n",
    "        mis_val_table = pd.concat([mis_val, mis_val_percent], axis=1)\n",
    "        \n",
    "        #4 Rename the columns\n",
    "        mis_val_table_ren_columns = mis_val_table.rename(\n",
    "        columns = {0 : 'Missing Values', 1 : '% of Total Values'})\n",
    "        \n",
    "        #5 Only keep the columns with missing values\n",
    "        mis_val_table_only = mis_val_table_ren_columns.loc[mis_val_table_ren_columns['% of Total Values'] > 0]\n",
    "        \n",
    "        #6 Return the dataframe with missing information\n",
    "        return mis_val_table_only"
   ]
  },
  {
   "cell_type": "code",
   "execution_count": 11,
   "metadata": {
    "colab": {
     "base_uri": "https://localhost:8080/",
     "height": 419
    },
    "id": "O0Bw2V0JzyfH",
    "outputId": "e72e4159-07c6-46c3-f512-1c9d2d3d3b47"
   },
   "outputs": [
    {
     "data": {
      "text/html": [
       "<div>\n",
       "<style scoped>\n",
       "    .dataframe tbody tr th:only-of-type {\n",
       "        vertical-align: middle;\n",
       "    }\n",
       "\n",
       "    .dataframe tbody tr th {\n",
       "        vertical-align: top;\n",
       "    }\n",
       "\n",
       "    .dataframe thead th {\n",
       "        text-align: right;\n",
       "    }\n",
       "</style>\n",
       "<table border=\"1\" class=\"dataframe\">\n",
       "  <thead>\n",
       "    <tr style=\"text-align: right;\">\n",
       "      <th></th>\n",
       "      <th>Missing Values</th>\n",
       "      <th>% of Total Values</th>\n",
       "    </tr>\n",
       "  </thead>\n",
       "  <tbody>\n",
       "    <tr>\n",
       "      <th>id</th>\n",
       "      <td>39793</td>\n",
       "      <td>100.000000</td>\n",
       "    </tr>\n",
       "    <tr>\n",
       "      <th>member_id</th>\n",
       "      <td>39793</td>\n",
       "      <td>100.000000</td>\n",
       "    </tr>\n",
       "    <tr>\n",
       "      <th>emp_title</th>\n",
       "      <td>2468</td>\n",
       "      <td>6.202096</td>\n",
       "    </tr>\n",
       "    <tr>\n",
       "      <th>emp_length</th>\n",
       "      <td>1078</td>\n",
       "      <td>2.709019</td>\n",
       "    </tr>\n",
       "    <tr>\n",
       "      <th>url</th>\n",
       "      <td>39793</td>\n",
       "      <td>100.000000</td>\n",
       "    </tr>\n",
       "    <tr>\n",
       "      <th>...</th>\n",
       "      <td>...</td>\n",
       "      <td>...</td>\n",
       "    </tr>\n",
       "    <tr>\n",
       "      <th>settlement_status</th>\n",
       "      <td>39643</td>\n",
       "      <td>99.623049</td>\n",
       "    </tr>\n",
       "    <tr>\n",
       "      <th>settlement_date</th>\n",
       "      <td>39643</td>\n",
       "      <td>99.623049</td>\n",
       "    </tr>\n",
       "    <tr>\n",
       "      <th>settlement_amount</th>\n",
       "      <td>39643</td>\n",
       "      <td>99.623049</td>\n",
       "    </tr>\n",
       "    <tr>\n",
       "      <th>settlement_percentage</th>\n",
       "      <td>39643</td>\n",
       "      <td>99.623049</td>\n",
       "    </tr>\n",
       "    <tr>\n",
       "      <th>settlement_term</th>\n",
       "      <td>39643</td>\n",
       "      <td>99.623049</td>\n",
       "    </tr>\n",
       "  </tbody>\n",
       "</table>\n",
       "<p>102 rows × 2 columns</p>\n",
       "</div>"
      ],
      "text/plain": [
       "                       Missing Values  % of Total Values\n",
       "id                              39793         100.000000\n",
       "member_id                       39793         100.000000\n",
       "emp_title                        2468           6.202096\n",
       "emp_length                       1078           2.709019\n",
       "url                             39793         100.000000\n",
       "...                               ...                ...\n",
       "settlement_status               39643          99.623049\n",
       "settlement_date                 39643          99.623049\n",
       "settlement_amount               39643          99.623049\n",
       "settlement_percentage           39643          99.623049\n",
       "settlement_term                 39643          99.623049\n",
       "\n",
       "[102 rows x 2 columns]"
      ]
     },
     "execution_count": 11,
     "metadata": {},
     "output_type": "execute_result"
    }
   ],
   "source": [
    "#Apply the function to our dataframe:\n",
    "missing=missing_values_table(df)\n",
    "missing"
   ]
  },
  {
   "cell_type": "markdown",
   "metadata": {
    "id": "GyUq2v9gzyfH"
   },
   "source": [
    "Usually there are three options to deal with missing values:\n",
    " 1. Imputation\n",
    " 2. Create missing flag\n",
    " 3. Drop columns with a high percentage of missing vlaues"
   ]
  },
  {
   "cell_type": "markdown",
   "metadata": {
    "id": "CIBeYfiPzyfH"
   },
   "source": [
    "We see there are a number of columns with a high percentage of missing values. \n",
    "There is no well-established threshold for removing missing values, \n",
    "\n",
    "and the best course of action depends on the problem. \n",
    "\n",
    "Here, to reduce the number of features, we will remove any columns that have greater than 80% missing rate (in real situations, the threshold can be 98%)."
   ]
  },
  {
   "cell_type": "code",
   "execution_count": 12,
   "metadata": {
    "colab": {
     "base_uri": "https://localhost:8080/"
    },
    "id": "Zi2rm0bLzyfI",
    "outputId": "524c40fe-e433-43f8-ccdb-70f31d9c453c",
    "scrolled": true
   },
   "outputs": [
    {
     "data": {
      "text/plain": [
       "['id',\n",
       " 'member_id',\n",
       " 'url',\n",
       " 'mths_since_last_record',\n",
       " 'next_pymnt_d',\n",
       " 'mths_since_last_major_derog',\n",
       " 'annual_inc_joint',\n",
       " 'dti_joint',\n",
       " 'verification_status_joint',\n",
       " 'tot_coll_amt',\n",
       " 'tot_cur_bal',\n",
       " 'open_acc_6m',\n",
       " 'open_act_il',\n",
       " 'open_il_12m',\n",
       " 'open_il_24m',\n",
       " 'mths_since_rcnt_il',\n",
       " 'total_bal_il',\n",
       " 'il_util',\n",
       " 'open_rv_12m',\n",
       " 'open_rv_24m',\n",
       " 'max_bal_bc',\n",
       " 'all_util',\n",
       " 'total_rev_hi_lim',\n",
       " 'inq_fi',\n",
       " 'total_cu_tl',\n",
       " 'inq_last_12m',\n",
       " 'acc_open_past_24mths',\n",
       " 'avg_cur_bal',\n",
       " 'bc_open_to_buy',\n",
       " 'bc_util',\n",
       " 'mo_sin_old_il_acct',\n",
       " 'mo_sin_old_rev_tl_op',\n",
       " 'mo_sin_rcnt_rev_tl_op',\n",
       " 'mo_sin_rcnt_tl',\n",
       " 'mort_acc',\n",
       " 'mths_since_recent_bc',\n",
       " 'mths_since_recent_bc_dlq',\n",
       " 'mths_since_recent_inq',\n",
       " 'mths_since_recent_revol_delinq',\n",
       " 'num_accts_ever_120_pd',\n",
       " 'num_actv_bc_tl',\n",
       " 'num_actv_rev_tl',\n",
       " 'num_bc_sats',\n",
       " 'num_bc_tl',\n",
       " 'num_il_tl',\n",
       " 'num_op_rev_tl',\n",
       " 'num_rev_accts',\n",
       " 'num_rev_tl_bal_gt_0',\n",
       " 'num_sats',\n",
       " 'num_tl_120dpd_2m',\n",
       " 'num_tl_30dpd',\n",
       " 'num_tl_90g_dpd_24m',\n",
       " 'num_tl_op_past_12m',\n",
       " 'pct_tl_nvr_dlq',\n",
       " 'percent_bc_gt_75',\n",
       " 'tot_hi_cred_lim',\n",
       " 'total_bal_ex_mort',\n",
       " 'total_bc_limit',\n",
       " 'total_il_high_credit_limit',\n",
       " 'revol_bal_joint',\n",
       " 'sec_app_earliest_cr_line',\n",
       " 'sec_app_inq_last_6mths',\n",
       " 'sec_app_mort_acc',\n",
       " 'sec_app_open_acc',\n",
       " 'sec_app_revol_util',\n",
       " 'sec_app_open_act_il',\n",
       " 'sec_app_num_rev_accts',\n",
       " 'sec_app_chargeoff_within_12_mths',\n",
       " 'sec_app_collections_12_mths_ex_med',\n",
       " 'sec_app_mths_since_last_major_derog',\n",
       " 'hardship_type',\n",
       " 'hardship_reason',\n",
       " 'hardship_status',\n",
       " 'deferral_term',\n",
       " 'hardship_amount',\n",
       " 'hardship_start_date',\n",
       " 'hardship_end_date',\n",
       " 'payment_plan_start_date',\n",
       " 'hardship_length',\n",
       " 'hardship_dpd',\n",
       " 'hardship_loan_status',\n",
       " 'orig_projected_additional_accrued_interest',\n",
       " 'hardship_payoff_balance_amount',\n",
       " 'hardship_last_payment_amount',\n",
       " 'debt_settlement_flag_date',\n",
       " 'settlement_status',\n",
       " 'settlement_date',\n",
       " 'settlement_amount',\n",
       " 'settlement_percentage',\n",
       " 'settlement_term']"
      ]
     },
     "execution_count": 12,
     "metadata": {},
     "output_type": "execute_result"
    }
   ],
   "source": [
    "# find columns with missing > 80%\n",
    "missing_columns = list(missing.index[missing['% of Total Values'] > 80])\n",
    "missing_columns"
   ]
  },
  {
   "cell_type": "markdown",
   "metadata": {
    "id": "kyq-sMxJzyfI"
   },
   "source": [
    "Drop these columns with missing rate > 80%:"
   ]
  },
  {
   "cell_type": "code",
   "execution_count": 13,
   "metadata": {
    "colab": {
     "base_uri": "https://localhost:8080/",
     "height": 421
    },
    "id": "P5DZ_NvDzyfI",
    "outputId": "60ba163c-56c7-4d74-eee2-ca322be40c9d"
   },
   "outputs": [
    {
     "data": {
      "text/html": [
       "<div>\n",
       "<style scoped>\n",
       "    .dataframe tbody tr th:only-of-type {\n",
       "        vertical-align: middle;\n",
       "    }\n",
       "\n",
       "    .dataframe tbody tr th {\n",
       "        vertical-align: top;\n",
       "    }\n",
       "\n",
       "    .dataframe thead th {\n",
       "        text-align: right;\n",
       "    }\n",
       "</style>\n",
       "<table border=\"1\" class=\"dataframe\">\n",
       "  <thead>\n",
       "    <tr style=\"text-align: right;\">\n",
       "      <th></th>\n",
       "      <th>Missing Values</th>\n",
       "      <th>% of Total Values</th>\n",
       "    </tr>\n",
       "  </thead>\n",
       "  <tbody>\n",
       "    <tr>\n",
       "      <th>emp_title</th>\n",
       "      <td>2468</td>\n",
       "      <td>6.202096</td>\n",
       "    </tr>\n",
       "    <tr>\n",
       "      <th>emp_length</th>\n",
       "      <td>1078</td>\n",
       "      <td>2.709019</td>\n",
       "    </tr>\n",
       "    <tr>\n",
       "      <th>desc</th>\n",
       "      <td>12969</td>\n",
       "      <td>32.591159</td>\n",
       "    </tr>\n",
       "    <tr>\n",
       "      <th>title</th>\n",
       "      <td>11</td>\n",
       "      <td>0.027643</td>\n",
       "    </tr>\n",
       "    <tr>\n",
       "      <th>mths_since_last_delinq</th>\n",
       "      <td>25733</td>\n",
       "      <td>64.667153</td>\n",
       "    </tr>\n",
       "    <tr>\n",
       "      <th>revol_util</th>\n",
       "      <td>50</td>\n",
       "      <td>0.125650</td>\n",
       "    </tr>\n",
       "    <tr>\n",
       "      <th>last_pymnt_d</th>\n",
       "      <td>71</td>\n",
       "      <td>0.178423</td>\n",
       "    </tr>\n",
       "    <tr>\n",
       "      <th>last_credit_pull_d</th>\n",
       "      <td>2</td>\n",
       "      <td>0.005026</td>\n",
       "    </tr>\n",
       "    <tr>\n",
       "      <th>collections_12_mths_ex_med</th>\n",
       "      <td>56</td>\n",
       "      <td>0.140728</td>\n",
       "    </tr>\n",
       "    <tr>\n",
       "      <th>chargeoff_within_12_mths</th>\n",
       "      <td>56</td>\n",
       "      <td>0.140728</td>\n",
       "    </tr>\n",
       "    <tr>\n",
       "      <th>pub_rec_bankruptcies</th>\n",
       "      <td>697</td>\n",
       "      <td>1.751564</td>\n",
       "    </tr>\n",
       "    <tr>\n",
       "      <th>tax_liens</th>\n",
       "      <td>39</td>\n",
       "      <td>0.098007</td>\n",
       "    </tr>\n",
       "  </tbody>\n",
       "</table>\n",
       "</div>"
      ],
      "text/plain": [
       "                            Missing Values  % of Total Values\n",
       "emp_title                             2468           6.202096\n",
       "emp_length                            1078           2.709019\n",
       "desc                                 12969          32.591159\n",
       "title                                   11           0.027643\n",
       "mths_since_last_delinq               25733          64.667153\n",
       "revol_util                              50           0.125650\n",
       "last_pymnt_d                            71           0.178423\n",
       "last_credit_pull_d                       2           0.005026\n",
       "collections_12_mths_ex_med              56           0.140728\n",
       "chargeoff_within_12_mths                56           0.140728\n",
       "pub_rec_bankruptcies                   697           1.751564\n",
       "tax_liens                               39           0.098007"
      ]
     },
     "execution_count": 13,
     "metadata": {},
     "output_type": "execute_result"
    }
   ],
   "source": [
    "df2 = df.drop(columns = missing_columns)\n",
    "missing_values_table(df2)"
   ]
  },
  {
   "cell_type": "markdown",
   "metadata": {
    "id": "fFftBnbczyfJ"
   },
   "source": [
    "Check duplicates in Pandas:"
   ]
  },
  {
   "cell_type": "code",
   "execution_count": 14,
   "metadata": {
    "colab": {
     "base_uri": "https://localhost:8080/"
    },
    "id": "1ZI2RVRbzyfJ",
    "outputId": "035f6fe3-a4b7-4c36-b20d-9ff833d4ade7"
   },
   "outputs": [
    {
     "data": {
      "text/plain": [
       "0        False\n",
       "1        False\n",
       "2        False\n",
       "3        False\n",
       "4        False\n",
       "         ...  \n",
       "39788    False\n",
       "39789    False\n",
       "39790    False\n",
       "39791    False\n",
       "39792    False\n",
       "Length: 39793, dtype: bool"
      ]
     },
     "execution_count": 14,
     "metadata": {},
     "output_type": "execute_result"
    }
   ],
   "source": [
    "# DataFrame.duplicated(): Return boolean Series denoting duplicate rows\n",
    "df2.duplicated()"
   ]
  },
  {
   "cell_type": "code",
   "execution_count": 15,
   "metadata": {
    "colab": {
     "base_uri": "https://localhost:8080/",
     "height": 485
    },
    "id": "uI2o3TYEzyfL",
    "outputId": "b1b5f08f-3538-4580-c57e-fc0c46ff33f9"
   },
   "outputs": [
    {
     "data": {
      "text/html": [
       "<div>\n",
       "<style scoped>\n",
       "    .dataframe tbody tr th:only-of-type {\n",
       "        vertical-align: middle;\n",
       "    }\n",
       "\n",
       "    .dataframe tbody tr th {\n",
       "        vertical-align: top;\n",
       "    }\n",
       "\n",
       "    .dataframe thead th {\n",
       "        text-align: right;\n",
       "    }\n",
       "</style>\n",
       "<table border=\"1\" class=\"dataframe\">\n",
       "  <thead>\n",
       "    <tr style=\"text-align: right;\">\n",
       "      <th></th>\n",
       "      <th>loan_amnt</th>\n",
       "      <th>funded_amnt</th>\n",
       "      <th>funded_amnt_inv</th>\n",
       "      <th>term</th>\n",
       "      <th>int_rate</th>\n",
       "      <th>installment</th>\n",
       "      <th>grade</th>\n",
       "      <th>sub_grade</th>\n",
       "      <th>emp_title</th>\n",
       "      <th>emp_length</th>\n",
       "      <th>...</th>\n",
       "      <th>collections_12_mths_ex_med</th>\n",
       "      <th>policy_code</th>\n",
       "      <th>application_type</th>\n",
       "      <th>acc_now_delinq</th>\n",
       "      <th>chargeoff_within_12_mths</th>\n",
       "      <th>delinq_amnt</th>\n",
       "      <th>pub_rec_bankruptcies</th>\n",
       "      <th>tax_liens</th>\n",
       "      <th>hardship_flag</th>\n",
       "      <th>debt_settlement_flag</th>\n",
       "    </tr>\n",
       "  </thead>\n",
       "  <tbody>\n",
       "    <tr>\n",
       "      <th>10</th>\n",
       "      <td>3000.0</td>\n",
       "      <td>3000.0</td>\n",
       "      <td>3000.000000</td>\n",
       "      <td>36 months</td>\n",
       "      <td>18.64%</td>\n",
       "      <td>109.43</td>\n",
       "      <td>E</td>\n",
       "      <td>E1</td>\n",
       "      <td>MKC Accounting</td>\n",
       "      <td>9 years</td>\n",
       "      <td>...</td>\n",
       "      <td>0.0</td>\n",
       "      <td>1.0</td>\n",
       "      <td>Individual</td>\n",
       "      <td>0.0</td>\n",
       "      <td>0.0</td>\n",
       "      <td>0.0</td>\n",
       "      <td>0.0</td>\n",
       "      <td>0.0</td>\n",
       "      <td>N</td>\n",
       "      <td>N</td>\n",
       "    </tr>\n",
       "    <tr>\n",
       "      <th>11</th>\n",
       "      <td>5600.0</td>\n",
       "      <td>5600.0</td>\n",
       "      <td>5600.000000</td>\n",
       "      <td>60 months</td>\n",
       "      <td>21.28%</td>\n",
       "      <td>152.39</td>\n",
       "      <td>F</td>\n",
       "      <td>F2</td>\n",
       "      <td>NaN</td>\n",
       "      <td>4 years</td>\n",
       "      <td>...</td>\n",
       "      <td>0.0</td>\n",
       "      <td>1.0</td>\n",
       "      <td>Individual</td>\n",
       "      <td>0.0</td>\n",
       "      <td>0.0</td>\n",
       "      <td>0.0</td>\n",
       "      <td>0.0</td>\n",
       "      <td>0.0</td>\n",
       "      <td>N</td>\n",
       "      <td>N</td>\n",
       "    </tr>\n",
       "    <tr>\n",
       "      <th>24670</th>\n",
       "      <td>10000.0</td>\n",
       "      <td>10000.0</td>\n",
       "      <td>9932.403848</td>\n",
       "      <td>36 months</td>\n",
       "      <td>7.51%</td>\n",
       "      <td>311.11</td>\n",
       "      <td>A</td>\n",
       "      <td>A4</td>\n",
       "      <td>ResMed</td>\n",
       "      <td>&lt; 1 year</td>\n",
       "      <td>...</td>\n",
       "      <td>0.0</td>\n",
       "      <td>1.0</td>\n",
       "      <td>Individual</td>\n",
       "      <td>0.0</td>\n",
       "      <td>0.0</td>\n",
       "      <td>0.0</td>\n",
       "      <td>0.0</td>\n",
       "      <td>0.0</td>\n",
       "      <td>N</td>\n",
       "      <td>N</td>\n",
       "    </tr>\n",
       "    <tr>\n",
       "      <th>24671</th>\n",
       "      <td>8400.0</td>\n",
       "      <td>8400.0</td>\n",
       "      <td>8350.000000</td>\n",
       "      <td>36 months</td>\n",
       "      <td>7.51%</td>\n",
       "      <td>261.34</td>\n",
       "      <td>A</td>\n",
       "      <td>A4</td>\n",
       "      <td>Defense Language Institute</td>\n",
       "      <td>4 years</td>\n",
       "      <td>...</td>\n",
       "      <td>0.0</td>\n",
       "      <td>1.0</td>\n",
       "      <td>Individual</td>\n",
       "      <td>0.0</td>\n",
       "      <td>0.0</td>\n",
       "      <td>0.0</td>\n",
       "      <td>0.0</td>\n",
       "      <td>0.0</td>\n",
       "      <td>N</td>\n",
       "      <td>N</td>\n",
       "    </tr>\n",
       "    <tr>\n",
       "      <th>24672</th>\n",
       "      <td>7200.0</td>\n",
       "      <td>4525.0</td>\n",
       "      <td>4522.491529</td>\n",
       "      <td>60 months</td>\n",
       "      <td>6.17%</td>\n",
       "      <td>87.84</td>\n",
       "      <td>A</td>\n",
       "      <td>A3</td>\n",
       "      <td>MARR Inc.</td>\n",
       "      <td>2 years</td>\n",
       "      <td>...</td>\n",
       "      <td>0.0</td>\n",
       "      <td>1.0</td>\n",
       "      <td>Individual</td>\n",
       "      <td>0.0</td>\n",
       "      <td>0.0</td>\n",
       "      <td>0.0</td>\n",
       "      <td>0.0</td>\n",
       "      <td>0.0</td>\n",
       "      <td>N</td>\n",
       "      <td>N</td>\n",
       "    </tr>\n",
       "    <tr>\n",
       "      <th>24673</th>\n",
       "      <td>12000.0</td>\n",
       "      <td>12000.0</td>\n",
       "      <td>12000.000000</td>\n",
       "      <td>36 months</td>\n",
       "      <td>11.86%</td>\n",
       "      <td>397.77</td>\n",
       "      <td>B</td>\n",
       "      <td>B5</td>\n",
       "      <td>Gaming Laboratories International</td>\n",
       "      <td>3 years</td>\n",
       "      <td>...</td>\n",
       "      <td>0.0</td>\n",
       "      <td>1.0</td>\n",
       "      <td>Individual</td>\n",
       "      <td>0.0</td>\n",
       "      <td>0.0</td>\n",
       "      <td>0.0</td>\n",
       "      <td>0.0</td>\n",
       "      <td>0.0</td>\n",
       "      <td>N</td>\n",
       "      <td>N</td>\n",
       "    </tr>\n",
       "    <tr>\n",
       "      <th>24674</th>\n",
       "      <td>15000.0</td>\n",
       "      <td>9875.0</td>\n",
       "      <td>9625.000000</td>\n",
       "      <td>60 months</td>\n",
       "      <td>15.95%</td>\n",
       "      <td>239.88</td>\n",
       "      <td>E</td>\n",
       "      <td>E1</td>\n",
       "      <td>Hospital for Special Surgery</td>\n",
       "      <td>2 years</td>\n",
       "      <td>...</td>\n",
       "      <td>0.0</td>\n",
       "      <td>1.0</td>\n",
       "      <td>Individual</td>\n",
       "      <td>0.0</td>\n",
       "      <td>0.0</td>\n",
       "      <td>0.0</td>\n",
       "      <td>0.0</td>\n",
       "      <td>0.0</td>\n",
       "      <td>N</td>\n",
       "      <td>N</td>\n",
       "    </tr>\n",
       "  </tbody>\n",
       "</table>\n",
       "<p>7 rows × 54 columns</p>\n",
       "</div>"
      ],
      "text/plain": [
       "       loan_amnt  funded_amnt  funded_amnt_inv        term int_rate  \\\n",
       "10        3000.0       3000.0      3000.000000   36 months   18.64%   \n",
       "11        5600.0       5600.0      5600.000000   60 months   21.28%   \n",
       "24670    10000.0      10000.0      9932.403848   36 months    7.51%   \n",
       "24671     8400.0       8400.0      8350.000000   36 months    7.51%   \n",
       "24672     7200.0       4525.0      4522.491529   60 months    6.17%   \n",
       "24673    12000.0      12000.0     12000.000000   36 months   11.86%   \n",
       "24674    15000.0       9875.0      9625.000000   60 months   15.95%   \n",
       "\n",
       "       installment grade sub_grade                          emp_title  \\\n",
       "10          109.43     E        E1                    MKC Accounting    \n",
       "11          152.39     F        F2                                NaN   \n",
       "24670       311.11     A        A4                             ResMed   \n",
       "24671       261.34     A        A4         Defense Language Institute   \n",
       "24672        87.84     A        A3                          MARR Inc.   \n",
       "24673       397.77     B        B5  Gaming Laboratories International   \n",
       "24674       239.88     E        E1       Hospital for Special Surgery   \n",
       "\n",
       "      emp_length  ... collections_12_mths_ex_med  policy_code  \\\n",
       "10       9 years  ...                        0.0          1.0   \n",
       "11       4 years  ...                        0.0          1.0   \n",
       "24670   < 1 year  ...                        0.0          1.0   \n",
       "24671    4 years  ...                        0.0          1.0   \n",
       "24672    2 years  ...                        0.0          1.0   \n",
       "24673    3 years  ...                        0.0          1.0   \n",
       "24674    2 years  ...                        0.0          1.0   \n",
       "\n",
       "      application_type acc_now_delinq chargeoff_within_12_mths delinq_amnt  \\\n",
       "10          Individual            0.0                      0.0         0.0   \n",
       "11          Individual            0.0                      0.0         0.0   \n",
       "24670       Individual            0.0                      0.0         0.0   \n",
       "24671       Individual            0.0                      0.0         0.0   \n",
       "24672       Individual            0.0                      0.0         0.0   \n",
       "24673       Individual            0.0                      0.0         0.0   \n",
       "24674       Individual            0.0                      0.0         0.0   \n",
       "\n",
       "      pub_rec_bankruptcies tax_liens hardship_flag debt_settlement_flag  \n",
       "10                     0.0       0.0             N                    N  \n",
       "11                     0.0       0.0             N                    N  \n",
       "24670                  0.0       0.0             N                    N  \n",
       "24671                  0.0       0.0             N                    N  \n",
       "24672                  0.0       0.0             N                    N  \n",
       "24673                  0.0       0.0             N                    N  \n",
       "24674                  0.0       0.0             N                    N  \n",
       "\n",
       "[7 rows x 54 columns]"
      ]
     },
     "execution_count": 15,
     "metadata": {},
     "output_type": "execute_result"
    }
   ],
   "source": [
    "df2.loc[df2.duplicated()]"
   ]
  },
  {
   "cell_type": "markdown",
   "metadata": {
    "id": "SzfQtldpzyfM"
   },
   "source": [
    "Remove duplicates:"
   ]
  },
  {
   "cell_type": "code",
   "execution_count": 16,
   "metadata": {
    "colab": {
     "base_uri": "https://localhost:8080/"
    },
    "id": "k0KIlMBVzyfM",
    "outputId": "25c987fc-c2ff-4362-84d7-db4b9bb5db55"
   },
   "outputs": [
    {
     "data": {
      "text/plain": [
       "(39786, 54)"
      ]
     },
     "execution_count": 16,
     "metadata": {},
     "output_type": "execute_result"
    }
   ],
   "source": [
    "# DataFrame.drop_duplicates(): Return DataFrame with duplicate rows removed\n",
    "  # inplace (bool, default False): Whether to drop duplicates in place or to return a copy\n",
    "df2.drop_duplicates(inplace= True)\n",
    "df2.shape"
   ]
  },
  {
   "cell_type": "markdown",
   "metadata": {
    "id": "AUj6PfNuzyfN"
   },
   "source": [
    "## Step Two: Exploratory Data Analysis"
   ]
  },
  {
   "cell_type": "markdown",
   "metadata": {
    "id": "alFpXxEmzyfN"
   },
   "source": [
    "###### 2.1 Check whether the data is balanced or imbalanced"
   ]
  },
  {
   "cell_type": "markdown",
   "metadata": {
    "id": "swMn9BrLzyfN"
   },
   "source": [
    "Practice:\n",
    "1. Encode the target variable as 1 for 'Charged Off' and 0 for 'Fully Paid':\n",
    "2. Calculate the charge off rate:"
   ]
  },
  {
   "cell_type": "code",
   "execution_count": 17,
   "metadata": {
    "id": "LMa_fbkmzyfO"
   },
   "outputs": [],
   "source": [
    "df2['target'] = df2['loan_status'].apply(lambda x:1 if x == 'Charged Off' else 0)"
   ]
  },
  {
   "cell_type": "code",
   "execution_count": 18,
   "metadata": {
    "colab": {
     "base_uri": "https://localhost:8080/"
    },
    "id": "SsGRwXIIzyfO",
    "outputId": "80c3b8e9-fde3-4a56-cf3a-a57d649cd427"
   },
   "outputs": [
    {
     "data": {
      "text/plain": [
       "14.251244156235861"
      ]
     },
     "execution_count": 18,
     "metadata": {},
     "output_type": "execute_result"
    }
   ],
   "source": [
    "df2.target.sum() / df2.shape[0] * 100"
   ]
  },
  {
   "cell_type": "markdown",
   "metadata": {
    "id": "cmAbwdvtzyfO"
   },
   "source": [
    "The data is imbalanced"
   ]
  },
  {
   "cell_type": "markdown",
   "metadata": {
    "id": "yA6ae5aNzyfO"
   },
   "source": [
    "##### 2.2 Drop Columns May Cause Data Leakge\n",
    "Data leakage is when information from outside the training dataset is used to create the model. This additional information can allow the model to learn or know something that it otherwise would not know and in turn invalidate the estimated performance of the mode being constructed.\n",
    "\n",
    "In this case, we want to predict from the client's information whether the loan is \"charged off\" or \"fully paid\". The variables about the loan payment can fully infer the status of the loan, which is against the goal of prediction."
   ]
  },
  {
   "cell_type": "code",
   "execution_count": 19,
   "metadata": {
    "id": "TjrWDasdzyfP"
   },
   "outputs": [],
   "source": [
    "data_leakage_cols = ['funded_amnt','funded_amnt_inv','total_pymnt','total_pymnt_inv','total_rec_prncp',\n",
    "                     'total_rec_int','total_rec_late_fee','recoveries','collection_recovery_fee',\n",
    "                     'last_pymnt_amnt','chargeoff_within_12_mths','debt_settlement_flag']"
   ]
  },
  {
   "cell_type": "code",
   "execution_count": 20,
   "metadata": {
    "id": "y3rOgFoDzyfP"
   },
   "outputs": [],
   "source": [
    "df2.drop(columns=data_leakage_cols, inplace=True)"
   ]
  },
  {
   "cell_type": "markdown",
   "metadata": {
    "id": "cQq7LYK2zyfQ"
   },
   "source": [
    "##### 2.3 Explore numerical features"
   ]
  },
  {
   "cell_type": "markdown",
   "metadata": {
    "id": "Bdj-bRPnzyfR"
   },
   "source": [
    "Basic descriptive statistics view:"
   ]
  },
  {
   "cell_type": "code",
   "execution_count": 21,
   "metadata": {
    "colab": {
     "base_uri": "https://localhost:8080/",
     "height": 317
    },
    "id": "RFhcjNmKzyfR",
    "outputId": "d1d692c3-23c5-41ce-e5dd-95ffc19a23f0"
   },
   "outputs": [
    {
     "data": {
      "text/html": [
       "<div>\n",
       "<style scoped>\n",
       "    .dataframe tbody tr th:only-of-type {\n",
       "        vertical-align: middle;\n",
       "    }\n",
       "\n",
       "    .dataframe tbody tr th {\n",
       "        vertical-align: top;\n",
       "    }\n",
       "\n",
       "    .dataframe thead th {\n",
       "        text-align: right;\n",
       "    }\n",
       "</style>\n",
       "<table border=\"1\" class=\"dataframe\">\n",
       "  <thead>\n",
       "    <tr style=\"text-align: right;\">\n",
       "      <th></th>\n",
       "      <th>loan_amnt</th>\n",
       "      <th>installment</th>\n",
       "      <th>annual_inc</th>\n",
       "      <th>dti</th>\n",
       "      <th>delinq_2yrs</th>\n",
       "      <th>inq_last_6mths</th>\n",
       "      <th>mths_since_last_delinq</th>\n",
       "      <th>open_acc</th>\n",
       "      <th>pub_rec</th>\n",
       "      <th>revol_bal</th>\n",
       "      <th>total_acc</th>\n",
       "      <th>out_prncp</th>\n",
       "      <th>out_prncp_inv</th>\n",
       "      <th>collections_12_mths_ex_med</th>\n",
       "      <th>policy_code</th>\n",
       "      <th>acc_now_delinq</th>\n",
       "      <th>delinq_amnt</th>\n",
       "      <th>pub_rec_bankruptcies</th>\n",
       "      <th>tax_liens</th>\n",
       "      <th>target</th>\n",
       "    </tr>\n",
       "  </thead>\n",
       "  <tbody>\n",
       "    <tr>\n",
       "      <th>count</th>\n",
       "      <td>39786.000000</td>\n",
       "      <td>39786.000000</td>\n",
       "      <td>3.978600e+04</td>\n",
       "      <td>39786.000000</td>\n",
       "      <td>39786.000000</td>\n",
       "      <td>39786.000000</td>\n",
       "      <td>14059.000000</td>\n",
       "      <td>39786.000000</td>\n",
       "      <td>39786.000000</td>\n",
       "      <td>39786.000000</td>\n",
       "      <td>39786.000000</td>\n",
       "      <td>39786.0</td>\n",
       "      <td>39786.0</td>\n",
       "      <td>39730.0</td>\n",
       "      <td>39786.0</td>\n",
       "      <td>39786.0</td>\n",
       "      <td>39786.0</td>\n",
       "      <td>39089.000000</td>\n",
       "      <td>39747.0</td>\n",
       "      <td>39786.000000</td>\n",
       "    </tr>\n",
       "    <tr>\n",
       "      <th>mean</th>\n",
       "      <td>11231.360277</td>\n",
       "      <td>324.733637</td>\n",
       "      <td>6.897907e+04</td>\n",
       "      <td>13.317794</td>\n",
       "      <td>0.146534</td>\n",
       "      <td>0.869049</td>\n",
       "      <td>35.901913</td>\n",
       "      <td>9.294023</td>\n",
       "      <td>0.055145</td>\n",
       "      <td>13391.983914</td>\n",
       "      <td>22.090308</td>\n",
       "      <td>0.0</td>\n",
       "      <td>0.0</td>\n",
       "      <td>0.0</td>\n",
       "      <td>1.0</td>\n",
       "      <td>0.0</td>\n",
       "      <td>0.0</td>\n",
       "      <td>0.043286</td>\n",
       "      <td>0.0</td>\n",
       "      <td>0.142512</td>\n",
       "    </tr>\n",
       "    <tr>\n",
       "      <th>std</th>\n",
       "      <td>7464.542832</td>\n",
       "      <td>208.923212</td>\n",
       "      <td>6.376263e+04</td>\n",
       "      <td>6.678300</td>\n",
       "      <td>0.491826</td>\n",
       "      <td>1.070069</td>\n",
       "      <td>22.017895</td>\n",
       "      <td>4.399997</td>\n",
       "      <td>0.237653</td>\n",
       "      <td>15894.635107</td>\n",
       "      <td>11.401620</td>\n",
       "      <td>0.0</td>\n",
       "      <td>0.0</td>\n",
       "      <td>0.0</td>\n",
       "      <td>0.0</td>\n",
       "      <td>0.0</td>\n",
       "      <td>0.0</td>\n",
       "      <td>0.204381</td>\n",
       "      <td>0.0</td>\n",
       "      <td>0.349579</td>\n",
       "    </tr>\n",
       "    <tr>\n",
       "      <th>min</th>\n",
       "      <td>500.000000</td>\n",
       "      <td>15.690000</td>\n",
       "      <td>4.000000e+03</td>\n",
       "      <td>0.000000</td>\n",
       "      <td>0.000000</td>\n",
       "      <td>0.000000</td>\n",
       "      <td>0.000000</td>\n",
       "      <td>2.000000</td>\n",
       "      <td>0.000000</td>\n",
       "      <td>0.000000</td>\n",
       "      <td>2.000000</td>\n",
       "      <td>0.0</td>\n",
       "      <td>0.0</td>\n",
       "      <td>0.0</td>\n",
       "      <td>1.0</td>\n",
       "      <td>0.0</td>\n",
       "      <td>0.0</td>\n",
       "      <td>0.000000</td>\n",
       "      <td>0.0</td>\n",
       "      <td>0.000000</td>\n",
       "    </tr>\n",
       "    <tr>\n",
       "      <th>25%</th>\n",
       "      <td>5500.000000</td>\n",
       "      <td>167.080000</td>\n",
       "      <td>4.050000e+04</td>\n",
       "      <td>8.180000</td>\n",
       "      <td>0.000000</td>\n",
       "      <td>0.000000</td>\n",
       "      <td>18.000000</td>\n",
       "      <td>6.000000</td>\n",
       "      <td>0.000000</td>\n",
       "      <td>3704.250000</td>\n",
       "      <td>13.000000</td>\n",
       "      <td>0.0</td>\n",
       "      <td>0.0</td>\n",
       "      <td>0.0</td>\n",
       "      <td>1.0</td>\n",
       "      <td>0.0</td>\n",
       "      <td>0.0</td>\n",
       "      <td>0.000000</td>\n",
       "      <td>0.0</td>\n",
       "      <td>0.000000</td>\n",
       "    </tr>\n",
       "    <tr>\n",
       "      <th>50%</th>\n",
       "      <td>10000.000000</td>\n",
       "      <td>280.610000</td>\n",
       "      <td>5.900000e+04</td>\n",
       "      <td>13.410000</td>\n",
       "      <td>0.000000</td>\n",
       "      <td>1.000000</td>\n",
       "      <td>34.000000</td>\n",
       "      <td>9.000000</td>\n",
       "      <td>0.000000</td>\n",
       "      <td>8859.500000</td>\n",
       "      <td>20.000000</td>\n",
       "      <td>0.0</td>\n",
       "      <td>0.0</td>\n",
       "      <td>0.0</td>\n",
       "      <td>1.0</td>\n",
       "      <td>0.0</td>\n",
       "      <td>0.0</td>\n",
       "      <td>0.000000</td>\n",
       "      <td>0.0</td>\n",
       "      <td>0.000000</td>\n",
       "    </tr>\n",
       "    <tr>\n",
       "      <th>75%</th>\n",
       "      <td>15000.000000</td>\n",
       "      <td>430.780000</td>\n",
       "      <td>8.234250e+04</td>\n",
       "      <td>18.600000</td>\n",
       "      <td>0.000000</td>\n",
       "      <td>1.000000</td>\n",
       "      <td>52.000000</td>\n",
       "      <td>12.000000</td>\n",
       "      <td>0.000000</td>\n",
       "      <td>17065.000000</td>\n",
       "      <td>29.000000</td>\n",
       "      <td>0.0</td>\n",
       "      <td>0.0</td>\n",
       "      <td>0.0</td>\n",
       "      <td>1.0</td>\n",
       "      <td>0.0</td>\n",
       "      <td>0.0</td>\n",
       "      <td>0.000000</td>\n",
       "      <td>0.0</td>\n",
       "      <td>0.000000</td>\n",
       "    </tr>\n",
       "    <tr>\n",
       "      <th>max</th>\n",
       "      <td>35000.000000</td>\n",
       "      <td>1305.190000</td>\n",
       "      <td>6.000000e+06</td>\n",
       "      <td>29.990000</td>\n",
       "      <td>11.000000</td>\n",
       "      <td>8.000000</td>\n",
       "      <td>120.000000</td>\n",
       "      <td>44.000000</td>\n",
       "      <td>4.000000</td>\n",
       "      <td>149588.000000</td>\n",
       "      <td>90.000000</td>\n",
       "      <td>0.0</td>\n",
       "      <td>0.0</td>\n",
       "      <td>0.0</td>\n",
       "      <td>1.0</td>\n",
       "      <td>0.0</td>\n",
       "      <td>0.0</td>\n",
       "      <td>2.000000</td>\n",
       "      <td>0.0</td>\n",
       "      <td>1.000000</td>\n",
       "    </tr>\n",
       "  </tbody>\n",
       "</table>\n",
       "</div>"
      ],
      "text/plain": [
       "          loan_amnt   installment    annual_inc           dti   delinq_2yrs  \\\n",
       "count  39786.000000  39786.000000  3.978600e+04  39786.000000  39786.000000   \n",
       "mean   11231.360277    324.733637  6.897907e+04     13.317794      0.146534   \n",
       "std     7464.542832    208.923212  6.376263e+04      6.678300      0.491826   \n",
       "min      500.000000     15.690000  4.000000e+03      0.000000      0.000000   \n",
       "25%     5500.000000    167.080000  4.050000e+04      8.180000      0.000000   \n",
       "50%    10000.000000    280.610000  5.900000e+04     13.410000      0.000000   \n",
       "75%    15000.000000    430.780000  8.234250e+04     18.600000      0.000000   \n",
       "max    35000.000000   1305.190000  6.000000e+06     29.990000     11.000000   \n",
       "\n",
       "       inq_last_6mths  mths_since_last_delinq      open_acc       pub_rec  \\\n",
       "count    39786.000000            14059.000000  39786.000000  39786.000000   \n",
       "mean         0.869049               35.901913      9.294023      0.055145   \n",
       "std          1.070069               22.017895      4.399997      0.237653   \n",
       "min          0.000000                0.000000      2.000000      0.000000   \n",
       "25%          0.000000               18.000000      6.000000      0.000000   \n",
       "50%          1.000000               34.000000      9.000000      0.000000   \n",
       "75%          1.000000               52.000000     12.000000      0.000000   \n",
       "max          8.000000              120.000000     44.000000      4.000000   \n",
       "\n",
       "           revol_bal     total_acc  out_prncp  out_prncp_inv  \\\n",
       "count   39786.000000  39786.000000    39786.0        39786.0   \n",
       "mean    13391.983914     22.090308        0.0            0.0   \n",
       "std     15894.635107     11.401620        0.0            0.0   \n",
       "min         0.000000      2.000000        0.0            0.0   \n",
       "25%      3704.250000     13.000000        0.0            0.0   \n",
       "50%      8859.500000     20.000000        0.0            0.0   \n",
       "75%     17065.000000     29.000000        0.0            0.0   \n",
       "max    149588.000000     90.000000        0.0            0.0   \n",
       "\n",
       "       collections_12_mths_ex_med  policy_code  acc_now_delinq  delinq_amnt  \\\n",
       "count                     39730.0      39786.0         39786.0      39786.0   \n",
       "mean                          0.0          1.0             0.0          0.0   \n",
       "std                           0.0          0.0             0.0          0.0   \n",
       "min                           0.0          1.0             0.0          0.0   \n",
       "25%                           0.0          1.0             0.0          0.0   \n",
       "50%                           0.0          1.0             0.0          0.0   \n",
       "75%                           0.0          1.0             0.0          0.0   \n",
       "max                           0.0          1.0             0.0          0.0   \n",
       "\n",
       "       pub_rec_bankruptcies  tax_liens        target  \n",
       "count          39089.000000    39747.0  39786.000000  \n",
       "mean               0.043286        0.0      0.142512  \n",
       "std                0.204381        0.0      0.349579  \n",
       "min                0.000000        0.0      0.000000  \n",
       "25%                0.000000        0.0      0.000000  \n",
       "50%                0.000000        0.0      0.000000  \n",
       "75%                0.000000        0.0      0.000000  \n",
       "max                2.000000        0.0      1.000000  "
      ]
     },
     "execution_count": 21,
     "metadata": {},
     "output_type": "execute_result"
    }
   ],
   "source": [
    "df2.describe()"
   ]
  },
  {
   "cell_type": "code",
   "execution_count": 22,
   "metadata": {
    "colab": {
     "base_uri": "https://localhost:8080/"
    },
    "id": "wp26frdOzyfS",
    "outputId": "d159b30c-7617-41e6-ad21-cb39088d0d7f",
    "scrolled": true
   },
   "outputs": [
    {
     "data": {
      "text/plain": [
       "0.0    39786\n",
       "Name: delinq_amnt, dtype: int64"
      ]
     },
     "execution_count": 22,
     "metadata": {},
     "output_type": "execute_result"
    }
   ],
   "source": [
    "df2['delinq_amnt'].value_counts()"
   ]
  },
  {
   "cell_type": "markdown",
   "metadata": {
    "id": "bSy9EgotzyfS"
   },
   "source": [
    "Drop columns with constant values:\n",
    "- collections_12_mths_ex_med\n",
    "- tax_liens\n",
    "- out_prncp\n",
    "- out_prncp_inv\n",
    "- delinq_amnt\n",
    "- acc_now_delinq "
   ]
  },
  {
   "cell_type": "code",
   "execution_count": 23,
   "metadata": {
    "id": "6H7KFa6QzyfT"
   },
   "outputs": [],
   "source": [
    "df2.drop(columns=['collections_12_mths_ex_med','tax_liens','out_prncp','out_prncp_inv','delinq_amnt','acc_now_delinq'], inplace=True)"
   ]
  },
  {
   "cell_type": "code",
   "execution_count": 24,
   "metadata": {
    "colab": {
     "base_uri": "https://localhost:8080/"
    },
    "id": "lJq-H90_zyfT",
    "outputId": "e972bc08-841f-4112-ea01-5c573aaf3f87"
   },
   "outputs": [
    {
     "data": {
      "text/plain": [
       "(39786, 37)"
      ]
     },
     "execution_count": 24,
     "metadata": {},
     "output_type": "execute_result"
    }
   ],
   "source": [
    "df2.shape"
   ]
  },
  {
   "cell_type": "markdown",
   "metadata": {
    "id": "E7F7oWnKzyfU"
   },
   "source": [
    "##### 2.5 Explore Categorical features"
   ]
  },
  {
   "cell_type": "code",
   "execution_count": 25,
   "metadata": {
    "colab": {
     "base_uri": "https://localhost:8080/"
    },
    "id": "2mSLqNRQzyfU",
    "outputId": "2bacca7b-e654-4f1b-9a0a-e4501fc5b9ff"
   },
   "outputs": [
    {
     "name": "stdout",
     "output_type": "stream",
     "text": [
      "<class 'pandas.core.frame.DataFrame'>\n",
      "Int64Index: 39786 entries, 0 to 39792\n",
      "Data columns (total 37 columns):\n",
      " #   Column                  Non-Null Count  Dtype  \n",
      "---  ------                  --------------  -----  \n",
      " 0   loan_amnt               39786 non-null  float64\n",
      " 1   term                    39786 non-null  object \n",
      " 2   int_rate                39786 non-null  object \n",
      " 3   installment             39786 non-null  float64\n",
      " 4   grade                   39786 non-null  object \n",
      " 5   sub_grade               39786 non-null  object \n",
      " 6   emp_title               37319 non-null  object \n",
      " 7   emp_length              38708 non-null  object \n",
      " 8   home_ownership          39786 non-null  object \n",
      " 9   annual_inc              39786 non-null  float64\n",
      " 10  verification_status     39786 non-null  object \n",
      " 11  issue_d                 39786 non-null  object \n",
      " 12  loan_status             39786 non-null  object \n",
      " 13  pymnt_plan              39786 non-null  object \n",
      " 14  desc                    26819 non-null  object \n",
      " 15  purpose                 39786 non-null  object \n",
      " 16  title                   39775 non-null  object \n",
      " 17  zip_code                39786 non-null  object \n",
      " 18  addr_state              39786 non-null  object \n",
      " 19  dti                     39786 non-null  float64\n",
      " 20  delinq_2yrs             39786 non-null  float64\n",
      " 21  earliest_cr_line        39786 non-null  object \n",
      " 22  inq_last_6mths          39786 non-null  float64\n",
      " 23  mths_since_last_delinq  14059 non-null  float64\n",
      " 24  open_acc                39786 non-null  float64\n",
      " 25  pub_rec                 39786 non-null  float64\n",
      " 26  revol_bal               39786 non-null  float64\n",
      " 27  revol_util              39736 non-null  object \n",
      " 28  total_acc               39786 non-null  float64\n",
      " 29  initial_list_status     39786 non-null  object \n",
      " 30  last_pymnt_d            39715 non-null  object \n",
      " 31  last_credit_pull_d      39784 non-null  object \n",
      " 32  policy_code             39786 non-null  float64\n",
      " 33  application_type        39786 non-null  object \n",
      " 34  pub_rec_bankruptcies    39089 non-null  float64\n",
      " 35  hardship_flag           39786 non-null  object \n",
      " 36  target                  39786 non-null  int64  \n",
      "dtypes: float64(13), int64(1), object(23)\n",
      "memory usage: 11.5+ MB\n",
      "None\n"
     ]
    }
   ],
   "source": [
    "print(df2.info(0))"
   ]
  },
  {
   "cell_type": "markdown",
   "metadata": {
    "id": "hAwnEb-MzyfV"
   },
   "source": [
    "Create a separate DataFrame consisting of only categorical features:"
   ]
  },
  {
   "cell_type": "code",
   "execution_count": 26,
   "metadata": {
    "colab": {
     "base_uri": "https://localhost:8080/",
     "height": 389
    },
    "id": "Z1HA6FrRzyfV",
    "outputId": "64d81603-80cb-4fdd-e23d-380236e816a0"
   },
   "outputs": [
    {
     "data": {
      "text/html": [
       "<div>\n",
       "<style scoped>\n",
       "    .dataframe tbody tr th:only-of-type {\n",
       "        vertical-align: middle;\n",
       "    }\n",
       "\n",
       "    .dataframe tbody tr th {\n",
       "        vertical-align: top;\n",
       "    }\n",
       "\n",
       "    .dataframe thead th {\n",
       "        text-align: right;\n",
       "    }\n",
       "</style>\n",
       "<table border=\"1\" class=\"dataframe\">\n",
       "  <thead>\n",
       "    <tr style=\"text-align: right;\">\n",
       "      <th></th>\n",
       "      <th>term</th>\n",
       "      <th>int_rate</th>\n",
       "      <th>grade</th>\n",
       "      <th>sub_grade</th>\n",
       "      <th>emp_title</th>\n",
       "      <th>emp_length</th>\n",
       "      <th>home_ownership</th>\n",
       "      <th>verification_status</th>\n",
       "      <th>issue_d</th>\n",
       "      <th>loan_status</th>\n",
       "      <th>...</th>\n",
       "      <th>title</th>\n",
       "      <th>zip_code</th>\n",
       "      <th>addr_state</th>\n",
       "      <th>earliest_cr_line</th>\n",
       "      <th>revol_util</th>\n",
       "      <th>initial_list_status</th>\n",
       "      <th>last_pymnt_d</th>\n",
       "      <th>last_credit_pull_d</th>\n",
       "      <th>application_type</th>\n",
       "      <th>hardship_flag</th>\n",
       "    </tr>\n",
       "  </thead>\n",
       "  <tbody>\n",
       "    <tr>\n",
       "      <th>0</th>\n",
       "      <td>36 months</td>\n",
       "      <td>10.65%</td>\n",
       "      <td>B</td>\n",
       "      <td>B2</td>\n",
       "      <td>NaN</td>\n",
       "      <td>10+ years</td>\n",
       "      <td>RENT</td>\n",
       "      <td>Verified</td>\n",
       "      <td>11-Dec</td>\n",
       "      <td>Fully Paid</td>\n",
       "      <td>...</td>\n",
       "      <td>Computer</td>\n",
       "      <td>860xx</td>\n",
       "      <td>AZ</td>\n",
       "      <td>Jan-85</td>\n",
       "      <td>83.70%</td>\n",
       "      <td>f</td>\n",
       "      <td>15-Jan</td>\n",
       "      <td>19-May</td>\n",
       "      <td>Individual</td>\n",
       "      <td>N</td>\n",
       "    </tr>\n",
       "    <tr>\n",
       "      <th>1</th>\n",
       "      <td>60 months</td>\n",
       "      <td>15.27%</td>\n",
       "      <td>C</td>\n",
       "      <td>C4</td>\n",
       "      <td>Ryder</td>\n",
       "      <td>&lt; 1 year</td>\n",
       "      <td>RENT</td>\n",
       "      <td>Source Verified</td>\n",
       "      <td>11-Dec</td>\n",
       "      <td>Charged Off</td>\n",
       "      <td>...</td>\n",
       "      <td>bike</td>\n",
       "      <td>309xx</td>\n",
       "      <td>GA</td>\n",
       "      <td>Apr-99</td>\n",
       "      <td>9.40%</td>\n",
       "      <td>f</td>\n",
       "      <td>13-Apr</td>\n",
       "      <td>16-Oct</td>\n",
       "      <td>Individual</td>\n",
       "      <td>N</td>\n",
       "    </tr>\n",
       "    <tr>\n",
       "      <th>2</th>\n",
       "      <td>36 months</td>\n",
       "      <td>15.96%</td>\n",
       "      <td>C</td>\n",
       "      <td>C5</td>\n",
       "      <td>NaN</td>\n",
       "      <td>10+ years</td>\n",
       "      <td>RENT</td>\n",
       "      <td>Not Verified</td>\n",
       "      <td>11-Dec</td>\n",
       "      <td>Fully Paid</td>\n",
       "      <td>...</td>\n",
       "      <td>real estate business</td>\n",
       "      <td>606xx</td>\n",
       "      <td>IL</td>\n",
       "      <td>1-Nov</td>\n",
       "      <td>98.50%</td>\n",
       "      <td>f</td>\n",
       "      <td>14-Jun</td>\n",
       "      <td>17-Jun</td>\n",
       "      <td>Individual</td>\n",
       "      <td>N</td>\n",
       "    </tr>\n",
       "    <tr>\n",
       "      <th>3</th>\n",
       "      <td>36 months</td>\n",
       "      <td>13.49%</td>\n",
       "      <td>C</td>\n",
       "      <td>C1</td>\n",
       "      <td>AIR RESOURCES BOARD</td>\n",
       "      <td>10+ years</td>\n",
       "      <td>RENT</td>\n",
       "      <td>Source Verified</td>\n",
       "      <td>11-Dec</td>\n",
       "      <td>Fully Paid</td>\n",
       "      <td>...</td>\n",
       "      <td>personel</td>\n",
       "      <td>917xx</td>\n",
       "      <td>CA</td>\n",
       "      <td>Feb-96</td>\n",
       "      <td>21%</td>\n",
       "      <td>f</td>\n",
       "      <td>15-Jan</td>\n",
       "      <td>16-Apr</td>\n",
       "      <td>Individual</td>\n",
       "      <td>N</td>\n",
       "    </tr>\n",
       "    <tr>\n",
       "      <th>4</th>\n",
       "      <td>60 months</td>\n",
       "      <td>12.69%</td>\n",
       "      <td>B</td>\n",
       "      <td>B5</td>\n",
       "      <td>University Medical Group</td>\n",
       "      <td>1 year</td>\n",
       "      <td>RENT</td>\n",
       "      <td>Source Verified</td>\n",
       "      <td>11-Dec</td>\n",
       "      <td>Fully Paid</td>\n",
       "      <td>...</td>\n",
       "      <td>Personal</td>\n",
       "      <td>972xx</td>\n",
       "      <td>OR</td>\n",
       "      <td>Jan-96</td>\n",
       "      <td>53.90%</td>\n",
       "      <td>f</td>\n",
       "      <td>17-Jan</td>\n",
       "      <td>18-Apr</td>\n",
       "      <td>Individual</td>\n",
       "      <td>N</td>\n",
       "    </tr>\n",
       "  </tbody>\n",
       "</table>\n",
       "<p>5 rows × 23 columns</p>\n",
       "</div>"
      ],
      "text/plain": [
       "         term int_rate grade sub_grade                 emp_title emp_length  \\\n",
       "0   36 months   10.65%     B        B2                       NaN  10+ years   \n",
       "1   60 months   15.27%     C        C4                     Ryder   < 1 year   \n",
       "2   36 months   15.96%     C        C5                       NaN  10+ years   \n",
       "3   36 months   13.49%     C        C1       AIR RESOURCES BOARD  10+ years   \n",
       "4   60 months   12.69%     B        B5  University Medical Group     1 year   \n",
       "\n",
       "  home_ownership verification_status issue_d  loan_status  ...  \\\n",
       "0           RENT            Verified  11-Dec   Fully Paid  ...   \n",
       "1           RENT     Source Verified  11-Dec  Charged Off  ...   \n",
       "2           RENT        Not Verified  11-Dec   Fully Paid  ...   \n",
       "3           RENT     Source Verified  11-Dec   Fully Paid  ...   \n",
       "4           RENT     Source Verified  11-Dec   Fully Paid  ...   \n",
       "\n",
       "                  title zip_code addr_state earliest_cr_line revol_util  \\\n",
       "0              Computer    860xx         AZ           Jan-85     83.70%   \n",
       "1                  bike    309xx         GA           Apr-99      9.40%   \n",
       "2  real estate business    606xx         IL            1-Nov     98.50%   \n",
       "3              personel    917xx         CA           Feb-96        21%   \n",
       "4              Personal    972xx         OR           Jan-96     53.90%   \n",
       "\n",
       "  initial_list_status last_pymnt_d last_credit_pull_d application_type  \\\n",
       "0                   f       15-Jan             19-May       Individual   \n",
       "1                   f       13-Apr             16-Oct       Individual   \n",
       "2                   f       14-Jun             17-Jun       Individual   \n",
       "3                   f       15-Jan             16-Apr       Individual   \n",
       "4                   f       17-Jan             18-Apr       Individual   \n",
       "\n",
       "  hardship_flag  \n",
       "0             N  \n",
       "1             N  \n",
       "2             N  \n",
       "3             N  \n",
       "4             N  \n",
       "\n",
       "[5 rows x 23 columns]"
      ]
     },
     "execution_count": 26,
     "metadata": {},
     "output_type": "execute_result"
    }
   ],
   "source": [
    "df_cat=df2.select_dtypes(include=['object'])\n",
    "df_cat.head()"
   ]
  },
  {
   "cell_type": "markdown",
   "metadata": {
    "id": "-C9M3cIMzyfV"
   },
   "source": [
    "Drop the target column and create a list with all categorical columns:"
   ]
  },
  {
   "cell_type": "code",
   "execution_count": 27,
   "metadata": {
    "colab": {
     "base_uri": "https://localhost:8080/"
    },
    "id": "OS3vkkzBzyfV",
    "outputId": "fcb10f5b-2de7-4ef0-b96e-b66f1b45a522"
   },
   "outputs": [
    {
     "data": {
      "text/plain": [
       "['term',\n",
       " 'int_rate',\n",
       " 'grade',\n",
       " 'sub_grade',\n",
       " 'emp_title',\n",
       " 'emp_length',\n",
       " 'home_ownership',\n",
       " 'verification_status',\n",
       " 'issue_d',\n",
       " 'pymnt_plan',\n",
       " 'desc',\n",
       " 'purpose',\n",
       " 'title',\n",
       " 'zip_code',\n",
       " 'addr_state',\n",
       " 'earliest_cr_line',\n",
       " 'revol_util',\n",
       " 'initial_list_status',\n",
       " 'last_pymnt_d',\n",
       " 'last_credit_pull_d',\n",
       " 'application_type',\n",
       " 'hardship_flag']"
      ]
     },
     "execution_count": 27,
     "metadata": {},
     "output_type": "execute_result"
    }
   ],
   "source": [
    "cat_columns=list(df_cat.drop(columns=['loan_status']).columns)\n",
    "cat_columns"
   ]
  },
  {
   "cell_type": "markdown",
   "metadata": {
    "id": "44Di2Yg9zyfW"
   },
   "source": [
    "Strip leading and trailing space of each categorical column:"
   ]
  },
  {
   "cell_type": "code",
   "execution_count": 28,
   "metadata": {
    "id": "jOr7YL5MzyfW"
   },
   "outputs": [],
   "source": [
    "for i in cat_columns:   \n",
    "    df2[i] = df2[i].str.strip()"
   ]
  },
  {
   "cell_type": "markdown",
   "metadata": {
    "id": "tqRBi-wVzyfW"
   },
   "source": [
    "Quickly explore each each categorical feature and check the frequency:"
   ]
  },
  {
   "cell_type": "code",
   "execution_count": 29,
   "metadata": {
    "colab": {
     "base_uri": "https://localhost:8080/",
     "height": 598
    },
    "id": "yQH3Gyt2zyfX",
    "outputId": "c06a9983-1021-4175-ba59-4828f912649c"
   },
   "outputs": [
    {
     "data": {
      "text/html": [
       "<div>\n",
       "<style scoped>\n",
       "    .dataframe tbody tr th:only-of-type {\n",
       "        vertical-align: middle;\n",
       "    }\n",
       "\n",
       "    .dataframe tbody tr th {\n",
       "        vertical-align: top;\n",
       "    }\n",
       "\n",
       "    .dataframe thead th {\n",
       "        text-align: right;\n",
       "    }\n",
       "</style>\n",
       "<table border=\"1\" class=\"dataframe\">\n",
       "  <thead>\n",
       "    <tr style=\"text-align: right;\">\n",
       "      <th></th>\n",
       "      <th>term</th>\n",
       "      <th>int_rate</th>\n",
       "      <th>grade</th>\n",
       "      <th>sub_grade</th>\n",
       "      <th>emp_title</th>\n",
       "      <th>emp_length</th>\n",
       "      <th>home_ownership</th>\n",
       "      <th>verification_status</th>\n",
       "      <th>issue_d</th>\n",
       "      <th>pymnt_plan</th>\n",
       "      <th>desc</th>\n",
       "      <th>purpose</th>\n",
       "      <th>title</th>\n",
       "      <th>zip_code</th>\n",
       "      <th>addr_state</th>\n",
       "      <th>earliest_cr_line</th>\n",
       "      <th>revol_util</th>\n",
       "      <th>initial_list_status</th>\n",
       "      <th>last_pymnt_d</th>\n",
       "      <th>last_credit_pull_d</th>\n",
       "      <th>application_type</th>\n",
       "      <th>hardship_flag</th>\n",
       "    </tr>\n",
       "  </thead>\n",
       "  <tbody>\n",
       "    <tr>\n",
       "      <th>0</th>\n",
       "      <td>36 months</td>\n",
       "      <td>10.65%</td>\n",
       "      <td>B</td>\n",
       "      <td>B2</td>\n",
       "      <td>NaN</td>\n",
       "      <td>10+ years</td>\n",
       "      <td>RENT</td>\n",
       "      <td>Verified</td>\n",
       "      <td>11-Dec</td>\n",
       "      <td>n</td>\n",
       "      <td>Borrower added on 12/22/11 &gt; I need to upgrade...</td>\n",
       "      <td>credit_card</td>\n",
       "      <td>Computer</td>\n",
       "      <td>860xx</td>\n",
       "      <td>AZ</td>\n",
       "      <td>Jan-85</td>\n",
       "      <td>83.70%</td>\n",
       "      <td>f</td>\n",
       "      <td>15-Jan</td>\n",
       "      <td>19-May</td>\n",
       "      <td>Individual</td>\n",
       "      <td>N</td>\n",
       "    </tr>\n",
       "    <tr>\n",
       "      <th>1</th>\n",
       "      <td>60 months</td>\n",
       "      <td>15.27%</td>\n",
       "      <td>C</td>\n",
       "      <td>C4</td>\n",
       "      <td>Ryder</td>\n",
       "      <td>&lt; 1 year</td>\n",
       "      <td>RENT</td>\n",
       "      <td>Source Verified</td>\n",
       "      <td>11-Dec</td>\n",
       "      <td>n</td>\n",
       "      <td>Borrower added on 12/22/11 &gt; I plan to use thi...</td>\n",
       "      <td>car</td>\n",
       "      <td>bike</td>\n",
       "      <td>309xx</td>\n",
       "      <td>GA</td>\n",
       "      <td>Apr-99</td>\n",
       "      <td>9.40%</td>\n",
       "      <td>f</td>\n",
       "      <td>13-Apr</td>\n",
       "      <td>16-Oct</td>\n",
       "      <td>Individual</td>\n",
       "      <td>N</td>\n",
       "    </tr>\n",
       "    <tr>\n",
       "      <th>2</th>\n",
       "      <td>36 months</td>\n",
       "      <td>15.96%</td>\n",
       "      <td>C</td>\n",
       "      <td>C5</td>\n",
       "      <td>NaN</td>\n",
       "      <td>10+ years</td>\n",
       "      <td>RENT</td>\n",
       "      <td>Not Verified</td>\n",
       "      <td>11-Dec</td>\n",
       "      <td>n</td>\n",
       "      <td>NaN</td>\n",
       "      <td>small_business</td>\n",
       "      <td>real estate business</td>\n",
       "      <td>606xx</td>\n",
       "      <td>IL</td>\n",
       "      <td>1-Nov</td>\n",
       "      <td>98.50%</td>\n",
       "      <td>f</td>\n",
       "      <td>14-Jun</td>\n",
       "      <td>17-Jun</td>\n",
       "      <td>Individual</td>\n",
       "      <td>N</td>\n",
       "    </tr>\n",
       "    <tr>\n",
       "      <th>3</th>\n",
       "      <td>36 months</td>\n",
       "      <td>13.49%</td>\n",
       "      <td>C</td>\n",
       "      <td>C1</td>\n",
       "      <td>AIR RESOURCES BOARD</td>\n",
       "      <td>10+ years</td>\n",
       "      <td>RENT</td>\n",
       "      <td>Source Verified</td>\n",
       "      <td>11-Dec</td>\n",
       "      <td>n</td>\n",
       "      <td>Borrower added on 12/21/11 &gt; to pay for proper...</td>\n",
       "      <td>other</td>\n",
       "      <td>personel</td>\n",
       "      <td>917xx</td>\n",
       "      <td>CA</td>\n",
       "      <td>Feb-96</td>\n",
       "      <td>21%</td>\n",
       "      <td>f</td>\n",
       "      <td>15-Jan</td>\n",
       "      <td>16-Apr</td>\n",
       "      <td>Individual</td>\n",
       "      <td>N</td>\n",
       "    </tr>\n",
       "    <tr>\n",
       "      <th>4</th>\n",
       "      <td>60 months</td>\n",
       "      <td>12.69%</td>\n",
       "      <td>B</td>\n",
       "      <td>B5</td>\n",
       "      <td>University Medical Group</td>\n",
       "      <td>1 year</td>\n",
       "      <td>RENT</td>\n",
       "      <td>Source Verified</td>\n",
       "      <td>11-Dec</td>\n",
       "      <td>n</td>\n",
       "      <td>Borrower added on 12/21/11 &gt; I plan on combini...</td>\n",
       "      <td>other</td>\n",
       "      <td>Personal</td>\n",
       "      <td>972xx</td>\n",
       "      <td>OR</td>\n",
       "      <td>Jan-96</td>\n",
       "      <td>53.90%</td>\n",
       "      <td>f</td>\n",
       "      <td>17-Jan</td>\n",
       "      <td>18-Apr</td>\n",
       "      <td>Individual</td>\n",
       "      <td>N</td>\n",
       "    </tr>\n",
       "  </tbody>\n",
       "</table>\n",
       "</div>"
      ],
      "text/plain": [
       "        term int_rate grade sub_grade                 emp_title emp_length  \\\n",
       "0  36 months   10.65%     B        B2                       NaN  10+ years   \n",
       "1  60 months   15.27%     C        C4                     Ryder   < 1 year   \n",
       "2  36 months   15.96%     C        C5                       NaN  10+ years   \n",
       "3  36 months   13.49%     C        C1       AIR RESOURCES BOARD  10+ years   \n",
       "4  60 months   12.69%     B        B5  University Medical Group     1 year   \n",
       "\n",
       "  home_ownership verification_status issue_d pymnt_plan  \\\n",
       "0           RENT            Verified  11-Dec          n   \n",
       "1           RENT     Source Verified  11-Dec          n   \n",
       "2           RENT        Not Verified  11-Dec          n   \n",
       "3           RENT     Source Verified  11-Dec          n   \n",
       "4           RENT     Source Verified  11-Dec          n   \n",
       "\n",
       "                                                desc         purpose  \\\n",
       "0  Borrower added on 12/22/11 > I need to upgrade...     credit_card   \n",
       "1  Borrower added on 12/22/11 > I plan to use thi...             car   \n",
       "2                                                NaN  small_business   \n",
       "3  Borrower added on 12/21/11 > to pay for proper...           other   \n",
       "4  Borrower added on 12/21/11 > I plan on combini...           other   \n",
       "\n",
       "                  title zip_code addr_state earliest_cr_line revol_util  \\\n",
       "0              Computer    860xx         AZ           Jan-85     83.70%   \n",
       "1                  bike    309xx         GA           Apr-99      9.40%   \n",
       "2  real estate business    606xx         IL            1-Nov     98.50%   \n",
       "3              personel    917xx         CA           Feb-96        21%   \n",
       "4              Personal    972xx         OR           Jan-96     53.90%   \n",
       "\n",
       "  initial_list_status last_pymnt_d last_credit_pull_d application_type  \\\n",
       "0                   f       15-Jan             19-May       Individual   \n",
       "1                   f       13-Apr             16-Oct       Individual   \n",
       "2                   f       14-Jun             17-Jun       Individual   \n",
       "3                   f       15-Jan             16-Apr       Individual   \n",
       "4                   f       17-Jan             18-Apr       Individual   \n",
       "\n",
       "  hardship_flag  \n",
       "0             N  \n",
       "1             N  \n",
       "2             N  \n",
       "3             N  \n",
       "4             N  "
      ]
     },
     "execution_count": 29,
     "metadata": {},
     "output_type": "execute_result"
    }
   ],
   "source": [
    "pd.set_option('display.max_columns', None)\n",
    "df2[cat_columns].head(5)"
   ]
  },
  {
   "cell_type": "markdown",
   "metadata": {
    "id": "8EvryG_SzyfX"
   },
   "source": [
    "Check frequency:"
   ]
  },
  {
   "cell_type": "code",
   "execution_count": 30,
   "metadata": {
    "colab": {
     "base_uri": "https://localhost:8080/"
    },
    "id": "fs6USoakzyfX",
    "outputId": "ff785fdd-e697-45e4-ca7f-9cfd9f2d3758"
   },
   "outputs": [
    {
     "name": "stdout",
     "output_type": "stream",
     "text": [
      "            term\n",
      "36 months  29096\n",
      "60 months  10690\n",
      "        int_rate\n",
      "10.99%       958\n",
      "13.49%       831\n",
      "11.49%       826\n",
      "7.51%        787\n",
      "7.88%        725\n",
      "...          ...\n",
      "21.48%         1\n",
      "24.59%         1\n",
      "17.46%         1\n",
      "17.54%         1\n",
      "24.40%         1\n",
      "\n",
      "[371 rows x 1 columns]\n",
      "   grade\n",
      "B  12035\n",
      "A  10085\n",
      "C   8111\n",
      "D   5325\n",
      "E   2858\n",
      "F   1054\n",
      "G    318\n",
      "    sub_grade\n",
      "B3       2924\n",
      "A4       2886\n",
      "A5       2742\n",
      "B5       2709\n",
      "B4       2514\n",
      "..        ...\n",
      "G1        105\n",
      "G2         78\n",
      "G4         56\n",
      "G3         49\n",
      "G5         30\n",
      "\n",
      "[35 rows x 1 columns]\n",
      "                          emp_title\n",
      "US Army                         136\n",
      "Bank of America                 109\n",
      "IBM                              67\n",
      "AT&T                             64\n",
      "USAF                             57\n",
      "...                             ...\n",
      "Frys Electronics                  1\n",
      "Salt River Community              1\n",
      "Oklamotive Inc.                   1\n",
      "supplemental health care          1\n",
      "Humana Inc.                       1\n",
      "\n",
      "[28658 rows x 1 columns]\n",
      "           emp_length\n",
      "10+ years        8899\n",
      "< 1 year         4590\n",
      "2 years          4394\n",
      "3 years          4098\n",
      "4 years          3444\n",
      "5 years          3286\n",
      "1 year           3247\n",
      "6 years          2231\n",
      "7 years          1775\n",
      "8 years          1485\n",
      "9 years          1259\n",
      "          home_ownership\n",
      "RENT               18918\n",
      "MORTGAGE           17703\n",
      "OWN                 3064\n",
      "OTHER                 98\n",
      "NONE                   3\n",
      "                 verification_status\n",
      "Not Verified                   16926\n",
      "Verified                       12844\n",
      "Source Verified                10016\n",
      "        issue_d\n",
      "11-Dec     2267\n",
      "11-Nov     2232\n",
      "11-Oct     2118\n",
      "11-Sep     2067\n",
      "11-Aug     1934\n",
      "...         ...\n",
      "7-Aug        33\n",
      "8-Sep        32\n",
      "7-Jul        30\n",
      "7-Sep        18\n",
      "7-Jun         1\n",
      "\n",
      "[55 rows x 1 columns]\n",
      "   pymnt_plan\n",
      "n       39786\n",
      "                                                    desc\n",
      "                                                     210\n",
      "Debt Consolidation                                     8\n",
      "Camping Membership                                     6\n",
      "Personal Loan                                          4\n",
      "consolidate debt                                       3\n",
      "...                                                  ...\n",
      "I finally sat down with all of my credit card b...     1\n",
      "Borrower added on 10/18/11 > I  purchased a bus...     1\n",
      "557542 added on 10/15/09 > Thnak you very much,...     1\n",
      "Borrower added on 03/18/10 > This loan is prima...     1\n",
      "Borrower added on 11/25/11 > Pay off all my deb...     1\n",
      "\n",
      "[26562 rows x 1 columns]\n",
      "                    purpose\n",
      "debt_consolidation    18676\n",
      "credit_card            5137\n",
      "other                  4001\n",
      "home_improvement       2985\n",
      "major_purchase         2188\n",
      "small_business         1831\n",
      "car                    1551\n",
      "wedding                 948\n",
      "medical                 695\n",
      "moving                  583\n",
      "house                   382\n",
      "vacation                381\n",
      "educational             325\n",
      "renewable_energy        103\n",
      "                              title\n",
      "Debt Consolidation             2262\n",
      "Debt Consolidation Loan        1745\n",
      "Personal Loan                   678\n",
      "Consolidation                   534\n",
      "debt consolidation              530\n",
      "...                             ...\n",
      "Revolving Debt Consolidation      1\n",
      "Florofree                         1\n",
      "Patty Newell                      1\n",
      "GET OUTTA DEBT                    1\n",
      "14.85% to replace 17.24%          1\n",
      "\n",
      "[19353 rows x 1 columns]\n",
      "       zip_code\n",
      "100xx       597\n",
      "945xx       546\n",
      "112xx       517\n",
      "606xx       503\n",
      "070xx       473\n",
      "...         ...\n",
      "414xx         1\n",
      "999xx         1\n",
      "373xx         1\n",
      "471xx         1\n",
      "332xx         1\n",
      "\n",
      "[823 rows x 1 columns]\n",
      "    addr_state\n",
      "CA        7105\n",
      "NY        3817\n",
      "FL        2872\n",
      "TX        2734\n",
      "NJ        1855\n",
      "..         ...\n",
      "IN           9\n",
      "ID           6\n",
      "NE           5\n",
      "IA           5\n",
      "ME           3\n",
      "\n",
      "[50 rows x 1 columns]\n",
      "        earliest_cr_line\n",
      "Nov-98               371\n",
      "Oct-99               366\n",
      "Dec-98               349\n",
      "Oct-00               346\n",
      "Dec-97               329\n",
      "...                  ...\n",
      "Feb-66                 1\n",
      "Nov-68                 1\n",
      "Apr-66                 1\n",
      "Oct-74                 1\n",
      "Apr-69                 1\n",
      "\n",
      "[526 rows x 1 columns]\n",
      "        revol_util\n",
      "0%             980\n",
      "0.20%           63\n",
      "63%             62\n",
      "40.70%          59\n",
      "66.70%          58\n",
      "...            ...\n",
      "32.04%           1\n",
      "0.75%            1\n",
      "10.17%           1\n",
      "41.85%           1\n",
      "26.33%           1\n",
      "\n",
      "[1089 rows x 1 columns]\n",
      "   initial_list_status\n",
      "f                39786\n",
      "        last_pymnt_d\n",
      "13-Mar          1026\n",
      "14-Dec           945\n",
      "13-May           907\n",
      "13-Feb           869\n",
      "13-Apr           851\n",
      "...              ...\n",
      "17-Feb             6\n",
      "8-Mar              5\n",
      "8-Jan              4\n",
      "17-Apr             1\n",
      "8-Feb              1\n",
      "\n",
      "[111 rows x 1 columns]\n",
      "        last_credit_pull_d\n",
      "19-May                7919\n",
      "16-Oct                3579\n",
      "19-Apr                 926\n",
      "19-Mar                 766\n",
      "18-Aug                 674\n",
      "...                    ...\n",
      "7-Dec                    1\n",
      "7-Jul                    1\n",
      "7-May                    1\n",
      "8-Jul                    1\n",
      "8-Jun                    1\n",
      "\n",
      "[141 rows x 1 columns]\n",
      "            application_type\n",
      "Individual             39786\n",
      "   hardship_flag\n",
      "N          39786\n"
     ]
    }
   ],
   "source": [
    "for i in cat_columns:\n",
    "    print(df2[i].value_counts().to_frame())\n",
    "#for seperate columns:\n",
    "#df2['emp_title'].value_counts()"
   ]
  },
  {
   "cell_type": "markdown",
   "metadata": {
    "id": "uizdMznvzyfq"
   },
   "source": [
    "After the exploratory analysis, we have a few findings:\n",
    "\n",
    "1. **'desc'** is not relevant to the mdoel build and should be dropped\n",
    "\n",
    "2. Drop all **date columns** to simplify the model build in this case. If we have more time, we can do some feature engineering by using date features, e.g. df_loan['issue_to_earliest_cr_line'] = df_loan['issue_d'] - df_loan['earliest_cr_line']\n",
    "\n",
    "3. **'pmnt_plan','hardship_flag','initial_list_status' and 'application_type'** only have constant values and are useless for model build\n",
    "\n",
    "4. **'emp_title', 'zip_code', and 'title'** have too many unique values and are not informative, we should drop them \n",
    "\n",
    "5. To simplify the analysis, we only **keep 'grade' and drop 'sub_grade'**\n",
    "\n",
    "6. Also, some types of information filled in by customer are very difficult to verify (customers can put whatever they want to). To simplify the analysis for this case, we should drop these columns that cann't be easily verified: **'emp_length', 'purpose'**\n",
    "\n",
    "Finally, we create a list including all categorical columns should be dropped"
   ]
  },
  {
   "cell_type": "code",
   "execution_count": 31,
   "metadata": {
    "id": "88_2ck39zyfq"
   },
   "outputs": [],
   "source": [
    "drop_feature=['desc','issue_d','last_pymnt_d','last_credit_pull_d','earliest_cr_line', 'pymnt_plan','hardship_flag', 'emp_title',\n",
    "             'emp_length', 'zip_code','title', 'purpose','sub_grade','initial_list_status','application_type']"
   ]
  },
  {
   "cell_type": "code",
   "execution_count": 32,
   "metadata": {
    "id": "crSuT595zyfr"
   },
   "outputs": [],
   "source": [
    "# Drop thoes features\n",
    "df2 = df2.drop(columns=drop_feature)"
   ]
  },
  {
   "cell_type": "code",
   "execution_count": 33,
   "metadata": {
    "colab": {
     "base_uri": "https://localhost:8080/",
     "height": 309
    },
    "id": "JNdUKGCdzyfs",
    "outputId": "2585e755-0eec-4df5-d566-c41ddb102749"
   },
   "outputs": [
    {
     "data": {
      "text/html": [
       "<div>\n",
       "<style scoped>\n",
       "    .dataframe tbody tr th:only-of-type {\n",
       "        vertical-align: middle;\n",
       "    }\n",
       "\n",
       "    .dataframe tbody tr th {\n",
       "        vertical-align: top;\n",
       "    }\n",
       "\n",
       "    .dataframe thead th {\n",
       "        text-align: right;\n",
       "    }\n",
       "</style>\n",
       "<table border=\"1\" class=\"dataframe\">\n",
       "  <thead>\n",
       "    <tr style=\"text-align: right;\">\n",
       "      <th></th>\n",
       "      <th>loan_amnt</th>\n",
       "      <th>term</th>\n",
       "      <th>int_rate</th>\n",
       "      <th>installment</th>\n",
       "      <th>grade</th>\n",
       "      <th>home_ownership</th>\n",
       "      <th>annual_inc</th>\n",
       "      <th>verification_status</th>\n",
       "      <th>loan_status</th>\n",
       "      <th>addr_state</th>\n",
       "      <th>dti</th>\n",
       "      <th>delinq_2yrs</th>\n",
       "      <th>inq_last_6mths</th>\n",
       "      <th>mths_since_last_delinq</th>\n",
       "      <th>open_acc</th>\n",
       "      <th>pub_rec</th>\n",
       "      <th>revol_bal</th>\n",
       "      <th>revol_util</th>\n",
       "      <th>total_acc</th>\n",
       "      <th>policy_code</th>\n",
       "      <th>pub_rec_bankruptcies</th>\n",
       "      <th>target</th>\n",
       "    </tr>\n",
       "  </thead>\n",
       "  <tbody>\n",
       "    <tr>\n",
       "      <th>0</th>\n",
       "      <td>5000.0</td>\n",
       "      <td>36 months</td>\n",
       "      <td>10.65%</td>\n",
       "      <td>162.87</td>\n",
       "      <td>B</td>\n",
       "      <td>RENT</td>\n",
       "      <td>24000.0</td>\n",
       "      <td>Verified</td>\n",
       "      <td>Fully Paid</td>\n",
       "      <td>AZ</td>\n",
       "      <td>27.65</td>\n",
       "      <td>0.0</td>\n",
       "      <td>1.0</td>\n",
       "      <td>NaN</td>\n",
       "      <td>3.0</td>\n",
       "      <td>0.0</td>\n",
       "      <td>13648.0</td>\n",
       "      <td>83.70%</td>\n",
       "      <td>9.0</td>\n",
       "      <td>1.0</td>\n",
       "      <td>0.0</td>\n",
       "      <td>0</td>\n",
       "    </tr>\n",
       "    <tr>\n",
       "      <th>1</th>\n",
       "      <td>2500.0</td>\n",
       "      <td>60 months</td>\n",
       "      <td>15.27%</td>\n",
       "      <td>59.83</td>\n",
       "      <td>C</td>\n",
       "      <td>RENT</td>\n",
       "      <td>30000.0</td>\n",
       "      <td>Source Verified</td>\n",
       "      <td>Charged Off</td>\n",
       "      <td>GA</td>\n",
       "      <td>1.00</td>\n",
       "      <td>0.0</td>\n",
       "      <td>5.0</td>\n",
       "      <td>NaN</td>\n",
       "      <td>3.0</td>\n",
       "      <td>0.0</td>\n",
       "      <td>1687.0</td>\n",
       "      <td>9.40%</td>\n",
       "      <td>4.0</td>\n",
       "      <td>1.0</td>\n",
       "      <td>0.0</td>\n",
       "      <td>1</td>\n",
       "    </tr>\n",
       "    <tr>\n",
       "      <th>2</th>\n",
       "      <td>2400.0</td>\n",
       "      <td>36 months</td>\n",
       "      <td>15.96%</td>\n",
       "      <td>84.33</td>\n",
       "      <td>C</td>\n",
       "      <td>RENT</td>\n",
       "      <td>12252.0</td>\n",
       "      <td>Not Verified</td>\n",
       "      <td>Fully Paid</td>\n",
       "      <td>IL</td>\n",
       "      <td>8.72</td>\n",
       "      <td>0.0</td>\n",
       "      <td>2.0</td>\n",
       "      <td>NaN</td>\n",
       "      <td>2.0</td>\n",
       "      <td>0.0</td>\n",
       "      <td>2956.0</td>\n",
       "      <td>98.50%</td>\n",
       "      <td>10.0</td>\n",
       "      <td>1.0</td>\n",
       "      <td>0.0</td>\n",
       "      <td>0</td>\n",
       "    </tr>\n",
       "    <tr>\n",
       "      <th>3</th>\n",
       "      <td>10000.0</td>\n",
       "      <td>36 months</td>\n",
       "      <td>13.49%</td>\n",
       "      <td>339.31</td>\n",
       "      <td>C</td>\n",
       "      <td>RENT</td>\n",
       "      <td>49200.0</td>\n",
       "      <td>Source Verified</td>\n",
       "      <td>Fully Paid</td>\n",
       "      <td>CA</td>\n",
       "      <td>20.00</td>\n",
       "      <td>0.0</td>\n",
       "      <td>1.0</td>\n",
       "      <td>35.0</td>\n",
       "      <td>10.0</td>\n",
       "      <td>0.0</td>\n",
       "      <td>5598.0</td>\n",
       "      <td>21%</td>\n",
       "      <td>37.0</td>\n",
       "      <td>1.0</td>\n",
       "      <td>0.0</td>\n",
       "      <td>0</td>\n",
       "    </tr>\n",
       "    <tr>\n",
       "      <th>4</th>\n",
       "      <td>3000.0</td>\n",
       "      <td>60 months</td>\n",
       "      <td>12.69%</td>\n",
       "      <td>67.79</td>\n",
       "      <td>B</td>\n",
       "      <td>RENT</td>\n",
       "      <td>80000.0</td>\n",
       "      <td>Source Verified</td>\n",
       "      <td>Fully Paid</td>\n",
       "      <td>OR</td>\n",
       "      <td>17.94</td>\n",
       "      <td>0.0</td>\n",
       "      <td>0.0</td>\n",
       "      <td>38.0</td>\n",
       "      <td>15.0</td>\n",
       "      <td>0.0</td>\n",
       "      <td>27783.0</td>\n",
       "      <td>53.90%</td>\n",
       "      <td>38.0</td>\n",
       "      <td>1.0</td>\n",
       "      <td>0.0</td>\n",
       "      <td>0</td>\n",
       "    </tr>\n",
       "  </tbody>\n",
       "</table>\n",
       "</div>"
      ],
      "text/plain": [
       "   loan_amnt       term int_rate  installment grade home_ownership  \\\n",
       "0     5000.0  36 months   10.65%       162.87     B           RENT   \n",
       "1     2500.0  60 months   15.27%        59.83     C           RENT   \n",
       "2     2400.0  36 months   15.96%        84.33     C           RENT   \n",
       "3    10000.0  36 months   13.49%       339.31     C           RENT   \n",
       "4     3000.0  60 months   12.69%        67.79     B           RENT   \n",
       "\n",
       "   annual_inc verification_status  loan_status addr_state    dti  delinq_2yrs  \\\n",
       "0     24000.0            Verified   Fully Paid         AZ  27.65          0.0   \n",
       "1     30000.0     Source Verified  Charged Off         GA   1.00          0.0   \n",
       "2     12252.0        Not Verified   Fully Paid         IL   8.72          0.0   \n",
       "3     49200.0     Source Verified   Fully Paid         CA  20.00          0.0   \n",
       "4     80000.0     Source Verified   Fully Paid         OR  17.94          0.0   \n",
       "\n",
       "   inq_last_6mths  mths_since_last_delinq  open_acc  pub_rec  revol_bal  \\\n",
       "0             1.0                     NaN       3.0      0.0    13648.0   \n",
       "1             5.0                     NaN       3.0      0.0     1687.0   \n",
       "2             2.0                     NaN       2.0      0.0     2956.0   \n",
       "3             1.0                    35.0      10.0      0.0     5598.0   \n",
       "4             0.0                    38.0      15.0      0.0    27783.0   \n",
       "\n",
       "  revol_util  total_acc  policy_code  pub_rec_bankruptcies  target  \n",
       "0     83.70%        9.0          1.0                   0.0       0  \n",
       "1      9.40%        4.0          1.0                   0.0       1  \n",
       "2     98.50%       10.0          1.0                   0.0       0  \n",
       "3        21%       37.0          1.0                   0.0       0  \n",
       "4     53.90%       38.0          1.0                   0.0       0  "
      ]
     },
     "execution_count": 33,
     "metadata": {},
     "output_type": "execute_result"
    }
   ],
   "source": [
    "df2.head(5)"
   ]
  },
  {
   "cell_type": "code",
   "execution_count": 34,
   "metadata": {
    "colab": {
     "base_uri": "https://localhost:8080/"
    },
    "id": "KV1g0Bcwzyfs",
    "outputId": "ee25abd1-c1b7-47a4-ec2e-c5ef9e08e2fa"
   },
   "outputs": [
    {
     "data": {
      "text/plain": [
       "['term',\n",
       " 'int_rate',\n",
       " 'grade',\n",
       " 'home_ownership',\n",
       " 'verification_status',\n",
       " 'addr_state',\n",
       " 'revol_util']"
      ]
     },
     "execution_count": 34,
     "metadata": {},
     "output_type": "execute_result"
    }
   ],
   "source": [
    "remaining_cat_fea=[i for i in cat_columns if i not in drop_feature]\n",
    "remaining_cat_fea"
   ]
  },
  {
   "cell_type": "markdown",
   "metadata": {
    "id": "5aSPHoslzyft"
   },
   "source": [
    "##### 2.6 Encode remaining categorical features"
   ]
  },
  {
   "cell_type": "markdown",
   "metadata": {
    "id": "Qd0QQMRhzyft"
   },
   "source": [
    "Convert 'revol_util' into a numerical feature:"
   ]
  },
  {
   "cell_type": "code",
   "execution_count": 35,
   "metadata": {
    "colab": {
     "base_uri": "https://localhost:8080/"
    },
    "id": "yJshBrGbzyft",
    "outputId": "2b27f446-e51c-4d18-aacc-b2a3ee28b7be",
    "scrolled": false
   },
   "outputs": [
    {
     "data": {
      "text/plain": [
       "0%        980\n",
       "0.20%      63\n",
       "63%        62\n",
       "40.70%     59\n",
       "66.70%     58\n",
       "         ... \n",
       "32.04%      1\n",
       "0.75%       1\n",
       "10.17%      1\n",
       "41.85%      1\n",
       "26.33%      1\n",
       "Name: revol_util, Length: 1089, dtype: int64"
      ]
     },
     "execution_count": 35,
     "metadata": {},
     "output_type": "execute_result"
    }
   ],
   "source": [
    "df2['revol_util'].value_counts()"
   ]
  },
  {
   "cell_type": "code",
   "execution_count": 36,
   "metadata": {
    "colab": {
     "base_uri": "https://localhost:8080/"
    },
    "id": "GKoei1j8zyfu",
    "outputId": "d04880a2-6276-47dc-edd0-cb6fb73ce011"
   },
   "outputs": [
    {
     "data": {
      "text/plain": [
       "0.0000    980\n",
       "0.0020     63\n",
       "0.6300     62\n",
       "0.4070     59\n",
       "0.6670     58\n",
       "         ... \n",
       "0.2781      1\n",
       "0.0001      1\n",
       "0.2311      1\n",
       "0.1778      1\n",
       "0.3489      1\n",
       "Name: revol_util, Length: 1089, dtype: int64"
      ]
     },
     "execution_count": 36,
     "metadata": {},
     "output_type": "execute_result"
    }
   ],
   "source": [
    "df2['revol_util'] = df2['revol_util'].str.replace('%', '').astype(float)/100\n",
    "df2['revol_util'].value_counts()"
   ]
  },
  {
   "cell_type": "markdown",
   "metadata": {
    "id": "LISbE7Snzyfu"
   },
   "source": [
    "1. Convert 'int_rate' into a numerical feature:\n",
    "2. Convert 'verification_status' into a numerical feature: if 'Not Verified' then 0, else 1"
   ]
  },
  {
   "cell_type": "code",
   "execution_count": 37,
   "metadata": {
    "colab": {
     "base_uri": "https://localhost:8080/"
    },
    "id": "qk1sd9Cdzyfu",
    "outputId": "addda303-349a-45be-dcfa-74600c560d5b"
   },
   "outputs": [
    {
     "data": {
      "text/plain": [
       "0.1099    958\n",
       "0.1349    831\n",
       "0.1149    826\n",
       "0.0751    787\n",
       "0.0788    725\n",
       "         ... \n",
       "0.1836      1\n",
       "0.1671      1\n",
       "0.1872      1\n",
       "0.2440      1\n",
       "0.2264      1\n",
       "Name: int_rate, Length: 371, dtype: int64"
      ]
     },
     "execution_count": 37,
     "metadata": {},
     "output_type": "execute_result"
    }
   ],
   "source": [
    "df2['int_rate'] = df2['int_rate'].str.replace('%', '').astype(float)/100\n",
    "df2['int_rate'].value_counts()"
   ]
  },
  {
   "cell_type": "code",
   "execution_count": 38,
   "metadata": {
    "colab": {
     "base_uri": "https://localhost:8080/"
    },
    "id": "vC3WC2Vczyfv",
    "outputId": "cd7c24fa-fa7d-40a9-cd82-9d5cefe61d18",
    "scrolled": true
   },
   "outputs": [
    {
     "data": {
      "text/plain": [
       "Not Verified       16926\n",
       "Verified           12844\n",
       "Source Verified    10016\n",
       "Name: verification_status, dtype: int64"
      ]
     },
     "execution_count": 38,
     "metadata": {},
     "output_type": "execute_result"
    }
   ],
   "source": [
    "df2['verification_status'].value_counts()"
   ]
  },
  {
   "cell_type": "code",
   "execution_count": 39,
   "metadata": {
    "colab": {
     "base_uri": "https://localhost:8080/"
    },
    "id": "C8VeO6Ttzyfw",
    "outputId": "f7906f52-8402-4f15-8421-548b0ea9fc9e"
   },
   "outputs": [
    {
     "data": {
      "text/plain": [
       "1    22860\n",
       "0    16926\n",
       "Name: verification_status, dtype: int64"
      ]
     },
     "execution_count": 39,
     "metadata": {},
     "output_type": "execute_result"
    }
   ],
   "source": [
    "df2['verification_status'] = df2['verification_status'].apply(lambda x: 0 if x == 'Not Verified' else 1)\n",
    "df2['verification_status'].value_counts()"
   ]
  },
  {
   "cell_type": "markdown",
   "metadata": {
    "id": "qsgQj8nGzyfw"
   },
   "source": [
    "Check remaining categorical features:"
   ]
  },
  {
   "cell_type": "code",
   "execution_count": 40,
   "metadata": {
    "colab": {
     "base_uri": "https://localhost:8080/"
    },
    "id": "srGByRFxzyfx",
    "outputId": "25dfe93f-e288-41a9-db8c-eb97389a07ad"
   },
   "outputs": [
    {
     "data": {
      "text/plain": [
       "['term', 'grade', 'home_ownership', 'loan_status', 'addr_state']"
      ]
     },
     "execution_count": 40,
     "metadata": {},
     "output_type": "execute_result"
    }
   ],
   "source": [
    "list(df2.select_dtypes(include=['object']).columns)"
   ]
  },
  {
   "cell_type": "markdown",
   "metadata": {
    "id": "nsc6KeJjzyfx"
   },
   "source": [
    "Remove 'loan_status':"
   ]
  },
  {
   "cell_type": "code",
   "execution_count": 41,
   "metadata": {
    "id": "WNlo9hpFzyfx"
   },
   "outputs": [],
   "source": [
    "df2=df2.drop(columns=['loan_status'])"
   ]
  },
  {
   "cell_type": "markdown",
   "metadata": {
    "id": "XyPj3HOdzyfx"
   },
   "source": [
    "##### 2.7 One-hot encoding for remaining categorical features:"
   ]
  },
  {
   "cell_type": "markdown",
   "metadata": {
    "id": "KYWCv8ORzyfy"
   },
   "source": [
    "Most machine learning models unfortunately cannot deal with categorical variables\n",
    "\n",
    "There are two mains to encode categorical variables:"
   ]
  },
  {
   "cell_type": "markdown",
   "metadata": {
    "id": "B6xnMjxmzyfy"
   },
   "source": [
    "1. **Label encoding**: assign each unique category \n",
    "   in a categorical variable with an integer. \n",
    "   \n",
    "   No new columns are created."
   ]
  },
  {
   "cell_type": "markdown",
   "metadata": {
    "id": "Zj5Ckg6wzyfy"
   },
   "source": [
    "2. **One-hot encoding**: create a new column for each unique category in a categorical variable. \n",
    "\n",
    "    Each observation recieves a 1 in the column for its corresponding category and a 0 in all other new columns."
   ]
  },
  {
   "cell_type": "code",
   "execution_count": 42,
   "metadata": {
    "id": "IaapVWySzyf0"
   },
   "outputs": [],
   "source": [
    "def cate_convert(df, nan_as_category = True):\n",
    "    original_columns = list(df.columns)\n",
    "    categorical_columns = [col for col in df.columns if df[col].dtype == 'object']\n",
    "    df = pd.get_dummies(df, columns = categorical_columns, dummy_na= nan_as_category)\n",
    "    new_columns = [c for c in df.columns if c not in original_columns]\n",
    "    return df, new_columns"
   ]
  },
  {
   "cell_type": "code",
   "execution_count": 43,
   "metadata": {
    "id": "Xe71tVBQzyf1"
   },
   "outputs": [],
   "source": [
    "df2,cat_cols = cate_convert(df2, nan_as_category = True)"
   ]
  },
  {
   "cell_type": "code",
   "execution_count": 44,
   "metadata": {
    "colab": {
     "base_uri": "https://localhost:8080/",
     "height": 241
    },
    "id": "2jDzoFr2zyf1",
    "outputId": "694404e6-8c59-41e7-e088-07967d2eedd3"
   },
   "outputs": [
    {
     "data": {
      "text/html": [
       "<div>\n",
       "<style scoped>\n",
       "    .dataframe tbody tr th:only-of-type {\n",
       "        vertical-align: middle;\n",
       "    }\n",
       "\n",
       "    .dataframe tbody tr th {\n",
       "        vertical-align: top;\n",
       "    }\n",
       "\n",
       "    .dataframe thead th {\n",
       "        text-align: right;\n",
       "    }\n",
       "</style>\n",
       "<table border=\"1\" class=\"dataframe\">\n",
       "  <thead>\n",
       "    <tr style=\"text-align: right;\">\n",
       "      <th></th>\n",
       "      <th>loan_amnt</th>\n",
       "      <th>int_rate</th>\n",
       "      <th>installment</th>\n",
       "      <th>annual_inc</th>\n",
       "      <th>verification_status</th>\n",
       "      <th>dti</th>\n",
       "      <th>delinq_2yrs</th>\n",
       "      <th>inq_last_6mths</th>\n",
       "      <th>mths_since_last_delinq</th>\n",
       "      <th>open_acc</th>\n",
       "      <th>pub_rec</th>\n",
       "      <th>revol_bal</th>\n",
       "      <th>revol_util</th>\n",
       "      <th>total_acc</th>\n",
       "      <th>policy_code</th>\n",
       "      <th>pub_rec_bankruptcies</th>\n",
       "      <th>target</th>\n",
       "      <th>term_36 months</th>\n",
       "      <th>term_60 months</th>\n",
       "      <th>term_nan</th>\n",
       "      <th>grade_A</th>\n",
       "      <th>grade_B</th>\n",
       "      <th>grade_C</th>\n",
       "      <th>grade_D</th>\n",
       "      <th>grade_E</th>\n",
       "      <th>grade_F</th>\n",
       "      <th>grade_G</th>\n",
       "      <th>grade_nan</th>\n",
       "      <th>home_ownership_MORTGAGE</th>\n",
       "      <th>home_ownership_NONE</th>\n",
       "      <th>home_ownership_OTHER</th>\n",
       "      <th>home_ownership_OWN</th>\n",
       "      <th>home_ownership_RENT</th>\n",
       "      <th>home_ownership_nan</th>\n",
       "      <th>addr_state_AK</th>\n",
       "      <th>addr_state_AL</th>\n",
       "      <th>addr_state_AR</th>\n",
       "      <th>addr_state_AZ</th>\n",
       "      <th>addr_state_CA</th>\n",
       "      <th>addr_state_CO</th>\n",
       "      <th>addr_state_CT</th>\n",
       "      <th>addr_state_DC</th>\n",
       "      <th>addr_state_DE</th>\n",
       "      <th>addr_state_FL</th>\n",
       "      <th>addr_state_GA</th>\n",
       "      <th>addr_state_HI</th>\n",
       "      <th>addr_state_IA</th>\n",
       "      <th>addr_state_ID</th>\n",
       "      <th>addr_state_IL</th>\n",
       "      <th>addr_state_IN</th>\n",
       "      <th>addr_state_KS</th>\n",
       "      <th>addr_state_KY</th>\n",
       "      <th>addr_state_LA</th>\n",
       "      <th>addr_state_MA</th>\n",
       "      <th>addr_state_MD</th>\n",
       "      <th>addr_state_ME</th>\n",
       "      <th>addr_state_MI</th>\n",
       "      <th>addr_state_MN</th>\n",
       "      <th>addr_state_MO</th>\n",
       "      <th>addr_state_MS</th>\n",
       "      <th>addr_state_MT</th>\n",
       "      <th>addr_state_NC</th>\n",
       "      <th>addr_state_NE</th>\n",
       "      <th>addr_state_NH</th>\n",
       "      <th>addr_state_NJ</th>\n",
       "      <th>addr_state_NM</th>\n",
       "      <th>addr_state_NV</th>\n",
       "      <th>addr_state_NY</th>\n",
       "      <th>addr_state_OH</th>\n",
       "      <th>addr_state_OK</th>\n",
       "      <th>addr_state_OR</th>\n",
       "      <th>addr_state_PA</th>\n",
       "      <th>addr_state_RI</th>\n",
       "      <th>addr_state_SC</th>\n",
       "      <th>addr_state_SD</th>\n",
       "      <th>addr_state_TN</th>\n",
       "      <th>addr_state_TX</th>\n",
       "      <th>addr_state_UT</th>\n",
       "      <th>addr_state_VA</th>\n",
       "      <th>addr_state_VT</th>\n",
       "      <th>addr_state_WA</th>\n",
       "      <th>addr_state_WI</th>\n",
       "      <th>addr_state_WV</th>\n",
       "      <th>addr_state_WY</th>\n",
       "      <th>addr_state_nan</th>\n",
       "    </tr>\n",
       "  </thead>\n",
       "  <tbody>\n",
       "    <tr>\n",
       "      <th>0</th>\n",
       "      <td>5000.0</td>\n",
       "      <td>0.1065</td>\n",
       "      <td>162.87</td>\n",
       "      <td>24000.0</td>\n",
       "      <td>1</td>\n",
       "      <td>27.65</td>\n",
       "      <td>0.0</td>\n",
       "      <td>1.0</td>\n",
       "      <td>NaN</td>\n",
       "      <td>3.0</td>\n",
       "      <td>0.0</td>\n",
       "      <td>13648.0</td>\n",
       "      <td>0.837</td>\n",
       "      <td>9.0</td>\n",
       "      <td>1.0</td>\n",
       "      <td>0.0</td>\n",
       "      <td>0</td>\n",
       "      <td>1</td>\n",
       "      <td>0</td>\n",
       "      <td>0</td>\n",
       "      <td>0</td>\n",
       "      <td>1</td>\n",
       "      <td>0</td>\n",
       "      <td>0</td>\n",
       "      <td>0</td>\n",
       "      <td>0</td>\n",
       "      <td>0</td>\n",
       "      <td>0</td>\n",
       "      <td>0</td>\n",
       "      <td>0</td>\n",
       "      <td>0</td>\n",
       "      <td>0</td>\n",
       "      <td>1</td>\n",
       "      <td>0</td>\n",
       "      <td>0</td>\n",
       "      <td>0</td>\n",
       "      <td>0</td>\n",
       "      <td>1</td>\n",
       "      <td>0</td>\n",
       "      <td>0</td>\n",
       "      <td>0</td>\n",
       "      <td>0</td>\n",
       "      <td>0</td>\n",
       "      <td>0</td>\n",
       "      <td>0</td>\n",
       "      <td>0</td>\n",
       "      <td>0</td>\n",
       "      <td>0</td>\n",
       "      <td>0</td>\n",
       "      <td>0</td>\n",
       "      <td>0</td>\n",
       "      <td>0</td>\n",
       "      <td>0</td>\n",
       "      <td>0</td>\n",
       "      <td>0</td>\n",
       "      <td>0</td>\n",
       "      <td>0</td>\n",
       "      <td>0</td>\n",
       "      <td>0</td>\n",
       "      <td>0</td>\n",
       "      <td>0</td>\n",
       "      <td>0</td>\n",
       "      <td>0</td>\n",
       "      <td>0</td>\n",
       "      <td>0</td>\n",
       "      <td>0</td>\n",
       "      <td>0</td>\n",
       "      <td>0</td>\n",
       "      <td>0</td>\n",
       "      <td>0</td>\n",
       "      <td>0</td>\n",
       "      <td>0</td>\n",
       "      <td>0</td>\n",
       "      <td>0</td>\n",
       "      <td>0</td>\n",
       "      <td>0</td>\n",
       "      <td>0</td>\n",
       "      <td>0</td>\n",
       "      <td>0</td>\n",
       "      <td>0</td>\n",
       "      <td>0</td>\n",
       "      <td>0</td>\n",
       "      <td>0</td>\n",
       "      <td>0</td>\n",
       "      <td>0</td>\n",
       "    </tr>\n",
       "    <tr>\n",
       "      <th>1</th>\n",
       "      <td>2500.0</td>\n",
       "      <td>0.1527</td>\n",
       "      <td>59.83</td>\n",
       "      <td>30000.0</td>\n",
       "      <td>1</td>\n",
       "      <td>1.00</td>\n",
       "      <td>0.0</td>\n",
       "      <td>5.0</td>\n",
       "      <td>NaN</td>\n",
       "      <td>3.0</td>\n",
       "      <td>0.0</td>\n",
       "      <td>1687.0</td>\n",
       "      <td>0.094</td>\n",
       "      <td>4.0</td>\n",
       "      <td>1.0</td>\n",
       "      <td>0.0</td>\n",
       "      <td>1</td>\n",
       "      <td>0</td>\n",
       "      <td>1</td>\n",
       "      <td>0</td>\n",
       "      <td>0</td>\n",
       "      <td>0</td>\n",
       "      <td>1</td>\n",
       "      <td>0</td>\n",
       "      <td>0</td>\n",
       "      <td>0</td>\n",
       "      <td>0</td>\n",
       "      <td>0</td>\n",
       "      <td>0</td>\n",
       "      <td>0</td>\n",
       "      <td>0</td>\n",
       "      <td>0</td>\n",
       "      <td>1</td>\n",
       "      <td>0</td>\n",
       "      <td>0</td>\n",
       "      <td>0</td>\n",
       "      <td>0</td>\n",
       "      <td>0</td>\n",
       "      <td>0</td>\n",
       "      <td>0</td>\n",
       "      <td>0</td>\n",
       "      <td>0</td>\n",
       "      <td>0</td>\n",
       "      <td>0</td>\n",
       "      <td>1</td>\n",
       "      <td>0</td>\n",
       "      <td>0</td>\n",
       "      <td>0</td>\n",
       "      <td>0</td>\n",
       "      <td>0</td>\n",
       "      <td>0</td>\n",
       "      <td>0</td>\n",
       "      <td>0</td>\n",
       "      <td>0</td>\n",
       "      <td>0</td>\n",
       "      <td>0</td>\n",
       "      <td>0</td>\n",
       "      <td>0</td>\n",
       "      <td>0</td>\n",
       "      <td>0</td>\n",
       "      <td>0</td>\n",
       "      <td>0</td>\n",
       "      <td>0</td>\n",
       "      <td>0</td>\n",
       "      <td>0</td>\n",
       "      <td>0</td>\n",
       "      <td>0</td>\n",
       "      <td>0</td>\n",
       "      <td>0</td>\n",
       "      <td>0</td>\n",
       "      <td>0</td>\n",
       "      <td>0</td>\n",
       "      <td>0</td>\n",
       "      <td>0</td>\n",
       "      <td>0</td>\n",
       "      <td>0</td>\n",
       "      <td>0</td>\n",
       "      <td>0</td>\n",
       "      <td>0</td>\n",
       "      <td>0</td>\n",
       "      <td>0</td>\n",
       "      <td>0</td>\n",
       "      <td>0</td>\n",
       "      <td>0</td>\n",
       "      <td>0</td>\n",
       "    </tr>\n",
       "    <tr>\n",
       "      <th>2</th>\n",
       "      <td>2400.0</td>\n",
       "      <td>0.1596</td>\n",
       "      <td>84.33</td>\n",
       "      <td>12252.0</td>\n",
       "      <td>0</td>\n",
       "      <td>8.72</td>\n",
       "      <td>0.0</td>\n",
       "      <td>2.0</td>\n",
       "      <td>NaN</td>\n",
       "      <td>2.0</td>\n",
       "      <td>0.0</td>\n",
       "      <td>2956.0</td>\n",
       "      <td>0.985</td>\n",
       "      <td>10.0</td>\n",
       "      <td>1.0</td>\n",
       "      <td>0.0</td>\n",
       "      <td>0</td>\n",
       "      <td>1</td>\n",
       "      <td>0</td>\n",
       "      <td>0</td>\n",
       "      <td>0</td>\n",
       "      <td>0</td>\n",
       "      <td>1</td>\n",
       "      <td>0</td>\n",
       "      <td>0</td>\n",
       "      <td>0</td>\n",
       "      <td>0</td>\n",
       "      <td>0</td>\n",
       "      <td>0</td>\n",
       "      <td>0</td>\n",
       "      <td>0</td>\n",
       "      <td>0</td>\n",
       "      <td>1</td>\n",
       "      <td>0</td>\n",
       "      <td>0</td>\n",
       "      <td>0</td>\n",
       "      <td>0</td>\n",
       "      <td>0</td>\n",
       "      <td>0</td>\n",
       "      <td>0</td>\n",
       "      <td>0</td>\n",
       "      <td>0</td>\n",
       "      <td>0</td>\n",
       "      <td>0</td>\n",
       "      <td>0</td>\n",
       "      <td>0</td>\n",
       "      <td>0</td>\n",
       "      <td>0</td>\n",
       "      <td>1</td>\n",
       "      <td>0</td>\n",
       "      <td>0</td>\n",
       "      <td>0</td>\n",
       "      <td>0</td>\n",
       "      <td>0</td>\n",
       "      <td>0</td>\n",
       "      <td>0</td>\n",
       "      <td>0</td>\n",
       "      <td>0</td>\n",
       "      <td>0</td>\n",
       "      <td>0</td>\n",
       "      <td>0</td>\n",
       "      <td>0</td>\n",
       "      <td>0</td>\n",
       "      <td>0</td>\n",
       "      <td>0</td>\n",
       "      <td>0</td>\n",
       "      <td>0</td>\n",
       "      <td>0</td>\n",
       "      <td>0</td>\n",
       "      <td>0</td>\n",
       "      <td>0</td>\n",
       "      <td>0</td>\n",
       "      <td>0</td>\n",
       "      <td>0</td>\n",
       "      <td>0</td>\n",
       "      <td>0</td>\n",
       "      <td>0</td>\n",
       "      <td>0</td>\n",
       "      <td>0</td>\n",
       "      <td>0</td>\n",
       "      <td>0</td>\n",
       "      <td>0</td>\n",
       "      <td>0</td>\n",
       "      <td>0</td>\n",
       "      <td>0</td>\n",
       "    </tr>\n",
       "    <tr>\n",
       "      <th>3</th>\n",
       "      <td>10000.0</td>\n",
       "      <td>0.1349</td>\n",
       "      <td>339.31</td>\n",
       "      <td>49200.0</td>\n",
       "      <td>1</td>\n",
       "      <td>20.00</td>\n",
       "      <td>0.0</td>\n",
       "      <td>1.0</td>\n",
       "      <td>35.0</td>\n",
       "      <td>10.0</td>\n",
       "      <td>0.0</td>\n",
       "      <td>5598.0</td>\n",
       "      <td>0.210</td>\n",
       "      <td>37.0</td>\n",
       "      <td>1.0</td>\n",
       "      <td>0.0</td>\n",
       "      <td>0</td>\n",
       "      <td>1</td>\n",
       "      <td>0</td>\n",
       "      <td>0</td>\n",
       "      <td>0</td>\n",
       "      <td>0</td>\n",
       "      <td>1</td>\n",
       "      <td>0</td>\n",
       "      <td>0</td>\n",
       "      <td>0</td>\n",
       "      <td>0</td>\n",
       "      <td>0</td>\n",
       "      <td>0</td>\n",
       "      <td>0</td>\n",
       "      <td>0</td>\n",
       "      <td>0</td>\n",
       "      <td>1</td>\n",
       "      <td>0</td>\n",
       "      <td>0</td>\n",
       "      <td>0</td>\n",
       "      <td>0</td>\n",
       "      <td>0</td>\n",
       "      <td>1</td>\n",
       "      <td>0</td>\n",
       "      <td>0</td>\n",
       "      <td>0</td>\n",
       "      <td>0</td>\n",
       "      <td>0</td>\n",
       "      <td>0</td>\n",
       "      <td>0</td>\n",
       "      <td>0</td>\n",
       "      <td>0</td>\n",
       "      <td>0</td>\n",
       "      <td>0</td>\n",
       "      <td>0</td>\n",
       "      <td>0</td>\n",
       "      <td>0</td>\n",
       "      <td>0</td>\n",
       "      <td>0</td>\n",
       "      <td>0</td>\n",
       "      <td>0</td>\n",
       "      <td>0</td>\n",
       "      <td>0</td>\n",
       "      <td>0</td>\n",
       "      <td>0</td>\n",
       "      <td>0</td>\n",
       "      <td>0</td>\n",
       "      <td>0</td>\n",
       "      <td>0</td>\n",
       "      <td>0</td>\n",
       "      <td>0</td>\n",
       "      <td>0</td>\n",
       "      <td>0</td>\n",
       "      <td>0</td>\n",
       "      <td>0</td>\n",
       "      <td>0</td>\n",
       "      <td>0</td>\n",
       "      <td>0</td>\n",
       "      <td>0</td>\n",
       "      <td>0</td>\n",
       "      <td>0</td>\n",
       "      <td>0</td>\n",
       "      <td>0</td>\n",
       "      <td>0</td>\n",
       "      <td>0</td>\n",
       "      <td>0</td>\n",
       "      <td>0</td>\n",
       "      <td>0</td>\n",
       "      <td>0</td>\n",
       "    </tr>\n",
       "    <tr>\n",
       "      <th>4</th>\n",
       "      <td>3000.0</td>\n",
       "      <td>0.1269</td>\n",
       "      <td>67.79</td>\n",
       "      <td>80000.0</td>\n",
       "      <td>1</td>\n",
       "      <td>17.94</td>\n",
       "      <td>0.0</td>\n",
       "      <td>0.0</td>\n",
       "      <td>38.0</td>\n",
       "      <td>15.0</td>\n",
       "      <td>0.0</td>\n",
       "      <td>27783.0</td>\n",
       "      <td>0.539</td>\n",
       "      <td>38.0</td>\n",
       "      <td>1.0</td>\n",
       "      <td>0.0</td>\n",
       "      <td>0</td>\n",
       "      <td>0</td>\n",
       "      <td>1</td>\n",
       "      <td>0</td>\n",
       "      <td>0</td>\n",
       "      <td>1</td>\n",
       "      <td>0</td>\n",
       "      <td>0</td>\n",
       "      <td>0</td>\n",
       "      <td>0</td>\n",
       "      <td>0</td>\n",
       "      <td>0</td>\n",
       "      <td>0</td>\n",
       "      <td>0</td>\n",
       "      <td>0</td>\n",
       "      <td>0</td>\n",
       "      <td>1</td>\n",
       "      <td>0</td>\n",
       "      <td>0</td>\n",
       "      <td>0</td>\n",
       "      <td>0</td>\n",
       "      <td>0</td>\n",
       "      <td>0</td>\n",
       "      <td>0</td>\n",
       "      <td>0</td>\n",
       "      <td>0</td>\n",
       "      <td>0</td>\n",
       "      <td>0</td>\n",
       "      <td>0</td>\n",
       "      <td>0</td>\n",
       "      <td>0</td>\n",
       "      <td>0</td>\n",
       "      <td>0</td>\n",
       "      <td>0</td>\n",
       "      <td>0</td>\n",
       "      <td>0</td>\n",
       "      <td>0</td>\n",
       "      <td>0</td>\n",
       "      <td>0</td>\n",
       "      <td>0</td>\n",
       "      <td>0</td>\n",
       "      <td>0</td>\n",
       "      <td>0</td>\n",
       "      <td>0</td>\n",
       "      <td>0</td>\n",
       "      <td>0</td>\n",
       "      <td>0</td>\n",
       "      <td>0</td>\n",
       "      <td>0</td>\n",
       "      <td>0</td>\n",
       "      <td>0</td>\n",
       "      <td>0</td>\n",
       "      <td>0</td>\n",
       "      <td>0</td>\n",
       "      <td>1</td>\n",
       "      <td>0</td>\n",
       "      <td>0</td>\n",
       "      <td>0</td>\n",
       "      <td>0</td>\n",
       "      <td>0</td>\n",
       "      <td>0</td>\n",
       "      <td>0</td>\n",
       "      <td>0</td>\n",
       "      <td>0</td>\n",
       "      <td>0</td>\n",
       "      <td>0</td>\n",
       "      <td>0</td>\n",
       "      <td>0</td>\n",
       "      <td>0</td>\n",
       "    </tr>\n",
       "  </tbody>\n",
       "</table>\n",
       "</div>"
      ],
      "text/plain": [
       "   loan_amnt  int_rate  installment  annual_inc  verification_status    dti  \\\n",
       "0     5000.0    0.1065       162.87     24000.0                    1  27.65   \n",
       "1     2500.0    0.1527        59.83     30000.0                    1   1.00   \n",
       "2     2400.0    0.1596        84.33     12252.0                    0   8.72   \n",
       "3    10000.0    0.1349       339.31     49200.0                    1  20.00   \n",
       "4     3000.0    0.1269        67.79     80000.0                    1  17.94   \n",
       "\n",
       "   delinq_2yrs  inq_last_6mths  mths_since_last_delinq  open_acc  pub_rec  \\\n",
       "0          0.0             1.0                     NaN       3.0      0.0   \n",
       "1          0.0             5.0                     NaN       3.0      0.0   \n",
       "2          0.0             2.0                     NaN       2.0      0.0   \n",
       "3          0.0             1.0                    35.0      10.0      0.0   \n",
       "4          0.0             0.0                    38.0      15.0      0.0   \n",
       "\n",
       "   revol_bal  revol_util  total_acc  policy_code  pub_rec_bankruptcies  \\\n",
       "0    13648.0       0.837        9.0          1.0                   0.0   \n",
       "1     1687.0       0.094        4.0          1.0                   0.0   \n",
       "2     2956.0       0.985       10.0          1.0                   0.0   \n",
       "3     5598.0       0.210       37.0          1.0                   0.0   \n",
       "4    27783.0       0.539       38.0          1.0                   0.0   \n",
       "\n",
       "   target  term_36 months  term_60 months  term_nan  grade_A  grade_B  \\\n",
       "0       0               1               0         0        0        1   \n",
       "1       1               0               1         0        0        0   \n",
       "2       0               1               0         0        0        0   \n",
       "3       0               1               0         0        0        0   \n",
       "4       0               0               1         0        0        1   \n",
       "\n",
       "   grade_C  grade_D  grade_E  grade_F  grade_G  grade_nan  \\\n",
       "0        0        0        0        0        0          0   \n",
       "1        1        0        0        0        0          0   \n",
       "2        1        0        0        0        0          0   \n",
       "3        1        0        0        0        0          0   \n",
       "4        0        0        0        0        0          0   \n",
       "\n",
       "   home_ownership_MORTGAGE  home_ownership_NONE  home_ownership_OTHER  \\\n",
       "0                        0                    0                     0   \n",
       "1                        0                    0                     0   \n",
       "2                        0                    0                     0   \n",
       "3                        0                    0                     0   \n",
       "4                        0                    0                     0   \n",
       "\n",
       "   home_ownership_OWN  home_ownership_RENT  home_ownership_nan  addr_state_AK  \\\n",
       "0                   0                    1                   0              0   \n",
       "1                   0                    1                   0              0   \n",
       "2                   0                    1                   0              0   \n",
       "3                   0                    1                   0              0   \n",
       "4                   0                    1                   0              0   \n",
       "\n",
       "   addr_state_AL  addr_state_AR  addr_state_AZ  addr_state_CA  addr_state_CO  \\\n",
       "0              0              0              1              0              0   \n",
       "1              0              0              0              0              0   \n",
       "2              0              0              0              0              0   \n",
       "3              0              0              0              1              0   \n",
       "4              0              0              0              0              0   \n",
       "\n",
       "   addr_state_CT  addr_state_DC  addr_state_DE  addr_state_FL  addr_state_GA  \\\n",
       "0              0              0              0              0              0   \n",
       "1              0              0              0              0              1   \n",
       "2              0              0              0              0              0   \n",
       "3              0              0              0              0              0   \n",
       "4              0              0              0              0              0   \n",
       "\n",
       "   addr_state_HI  addr_state_IA  addr_state_ID  addr_state_IL  addr_state_IN  \\\n",
       "0              0              0              0              0              0   \n",
       "1              0              0              0              0              0   \n",
       "2              0              0              0              1              0   \n",
       "3              0              0              0              0              0   \n",
       "4              0              0              0              0              0   \n",
       "\n",
       "   addr_state_KS  addr_state_KY  addr_state_LA  addr_state_MA  addr_state_MD  \\\n",
       "0              0              0              0              0              0   \n",
       "1              0              0              0              0              0   \n",
       "2              0              0              0              0              0   \n",
       "3              0              0              0              0              0   \n",
       "4              0              0              0              0              0   \n",
       "\n",
       "   addr_state_ME  addr_state_MI  addr_state_MN  addr_state_MO  addr_state_MS  \\\n",
       "0              0              0              0              0              0   \n",
       "1              0              0              0              0              0   \n",
       "2              0              0              0              0              0   \n",
       "3              0              0              0              0              0   \n",
       "4              0              0              0              0              0   \n",
       "\n",
       "   addr_state_MT  addr_state_NC  addr_state_NE  addr_state_NH  addr_state_NJ  \\\n",
       "0              0              0              0              0              0   \n",
       "1              0              0              0              0              0   \n",
       "2              0              0              0              0              0   \n",
       "3              0              0              0              0              0   \n",
       "4              0              0              0              0              0   \n",
       "\n",
       "   addr_state_NM  addr_state_NV  addr_state_NY  addr_state_OH  addr_state_OK  \\\n",
       "0              0              0              0              0              0   \n",
       "1              0              0              0              0              0   \n",
       "2              0              0              0              0              0   \n",
       "3              0              0              0              0              0   \n",
       "4              0              0              0              0              0   \n",
       "\n",
       "   addr_state_OR  addr_state_PA  addr_state_RI  addr_state_SC  addr_state_SD  \\\n",
       "0              0              0              0              0              0   \n",
       "1              0              0              0              0              0   \n",
       "2              0              0              0              0              0   \n",
       "3              0              0              0              0              0   \n",
       "4              1              0              0              0              0   \n",
       "\n",
       "   addr_state_TN  addr_state_TX  addr_state_UT  addr_state_VA  addr_state_VT  \\\n",
       "0              0              0              0              0              0   \n",
       "1              0              0              0              0              0   \n",
       "2              0              0              0              0              0   \n",
       "3              0              0              0              0              0   \n",
       "4              0              0              0              0              0   \n",
       "\n",
       "   addr_state_WA  addr_state_WI  addr_state_WV  addr_state_WY  addr_state_nan  \n",
       "0              0              0              0              0               0  \n",
       "1              0              0              0              0               0  \n",
       "2              0              0              0              0               0  \n",
       "3              0              0              0              0               0  \n",
       "4              0              0              0              0               0  "
      ]
     },
     "execution_count": 44,
     "metadata": {},
     "output_type": "execute_result"
    }
   ],
   "source": [
    "df2.head()"
   ]
  },
  {
   "cell_type": "markdown",
   "metadata": {
    "id": "tVQdaYhRzyf1"
   },
   "source": [
    "###### 2.8 Missing value imputation"
   ]
  },
  {
   "cell_type": "code",
   "execution_count": 45,
   "metadata": {
    "colab": {
     "base_uri": "https://localhost:8080/",
     "height": 142
    },
    "id": "9romB2cAzyf1",
    "outputId": "f614de17-a532-48f1-a2d7-eaceb89d3af7"
   },
   "outputs": [
    {
     "data": {
      "text/html": [
       "<div>\n",
       "<style scoped>\n",
       "    .dataframe tbody tr th:only-of-type {\n",
       "        vertical-align: middle;\n",
       "    }\n",
       "\n",
       "    .dataframe tbody tr th {\n",
       "        vertical-align: top;\n",
       "    }\n",
       "\n",
       "    .dataframe thead th {\n",
       "        text-align: right;\n",
       "    }\n",
       "</style>\n",
       "<table border=\"1\" class=\"dataframe\">\n",
       "  <thead>\n",
       "    <tr style=\"text-align: right;\">\n",
       "      <th></th>\n",
       "      <th>Missing Values</th>\n",
       "      <th>% of Total Values</th>\n",
       "    </tr>\n",
       "  </thead>\n",
       "  <tbody>\n",
       "    <tr>\n",
       "      <th>mths_since_last_delinq</th>\n",
       "      <td>25727</td>\n",
       "      <td>64.663449</td>\n",
       "    </tr>\n",
       "    <tr>\n",
       "      <th>revol_util</th>\n",
       "      <td>50</td>\n",
       "      <td>0.125672</td>\n",
       "    </tr>\n",
       "    <tr>\n",
       "      <th>pub_rec_bankruptcies</th>\n",
       "      <td>697</td>\n",
       "      <td>1.751873</td>\n",
       "    </tr>\n",
       "  </tbody>\n",
       "</table>\n",
       "</div>"
      ],
      "text/plain": [
       "                        Missing Values  % of Total Values\n",
       "mths_since_last_delinq           25727          64.663449\n",
       "revol_util                          50           0.125672\n",
       "pub_rec_bankruptcies               697           1.751873"
      ]
     },
     "execution_count": 45,
     "metadata": {},
     "output_type": "execute_result"
    }
   ],
   "source": [
    "missing=missing_values_table(df2)\n",
    "missing"
   ]
  },
  {
   "cell_type": "code",
   "execution_count": 46,
   "metadata": {
    "id": "Q9kSZliezyf2"
   },
   "outputs": [],
   "source": [
    "df2['pub_rec_bankruptcies'].fillna(value=0,inplace=True)"
   ]
  },
  {
   "cell_type": "markdown",
   "metadata": {
    "id": "KcBT4BDfzyf2"
   },
   "source": [
    "Practice:\n",
    "1. impute 0 for ['revol_util']'s missing values\n",
    "1. impute 0 for ['mths_since_last_delinq']'s missing values "
   ]
  },
  {
   "cell_type": "code",
   "execution_count": 47,
   "metadata": {
    "id": "RtrPT4pgzyf2"
   },
   "outputs": [],
   "source": [
    "df2['revol_util'].fillna(value=0,inplace=True)\n",
    "df2['mths_since_last_delinq'].fillna(value=0,inplace=True)"
   ]
  },
  {
   "cell_type": "code",
   "execution_count": 48,
   "metadata": {
    "colab": {
     "base_uri": "https://localhost:8080/",
     "height": 49
    },
    "id": "p0LM4V1Xzyf2",
    "outputId": "14d32118-ef89-4a5f-cdee-78ff9a2ecab0"
   },
   "outputs": [
    {
     "data": {
      "text/html": [
       "<div>\n",
       "<style scoped>\n",
       "    .dataframe tbody tr th:only-of-type {\n",
       "        vertical-align: middle;\n",
       "    }\n",
       "\n",
       "    .dataframe tbody tr th {\n",
       "        vertical-align: top;\n",
       "    }\n",
       "\n",
       "    .dataframe thead th {\n",
       "        text-align: right;\n",
       "    }\n",
       "</style>\n",
       "<table border=\"1\" class=\"dataframe\">\n",
       "  <thead>\n",
       "    <tr style=\"text-align: right;\">\n",
       "      <th></th>\n",
       "      <th>Missing Values</th>\n",
       "      <th>% of Total Values</th>\n",
       "    </tr>\n",
       "  </thead>\n",
       "  <tbody>\n",
       "  </tbody>\n",
       "</table>\n",
       "</div>"
      ],
      "text/plain": [
       "Empty DataFrame\n",
       "Columns: [Missing Values, % of Total Values]\n",
       "Index: []"
      ]
     },
     "execution_count": 48,
     "metadata": {},
     "output_type": "execute_result"
    }
   ],
   "source": [
    "# Check again:\n",
    "missing=missing_values_table(df2)\n",
    "missing"
   ]
  },
  {
   "cell_type": "markdown",
   "metadata": {
    "id": "QWpSQEs9zyf3"
   },
   "source": [
    "Backup the dataset:"
   ]
  },
  {
   "cell_type": "code",
   "execution_count": 49,
   "metadata": {
    "id": "nkJMAlrFzyf3"
   },
   "outputs": [],
   "source": [
    "final=df2.copy()\n",
    "df2.to_csv('final_dataset_for_model.csv')"
   ]
  },
  {
   "cell_type": "markdown",
   "metadata": {
    "id": "M8b2mldWzyf3"
   },
   "source": [
    "## Step Three: ML Modelling"
   ]
  },
  {
   "cell_type": "markdown",
   "metadata": {
    "id": "An6dWkEIzyf3"
   },
   "source": [
    "###### 3.1 Check Correlations"
   ]
  },
  {
   "cell_type": "code",
   "execution_count": 50,
   "metadata": {
    "colab": {
     "base_uri": "https://localhost:8080/"
    },
    "id": "19UtTS-Azyf3",
    "outputId": "d9bd09f7-1901-4970-bfd2-8486e311a71b"
   },
   "outputs": [
    {
     "name": "stdout",
     "output_type": "stream",
     "text": [
      "Top Positive Correlations:\n",
      " target                  1.000000\n",
      "int_rate                0.197918\n",
      "term_60 months          0.149151\n",
      "revol_util              0.095925\n",
      "grade_E                 0.088464\n",
      "grade_D                 0.078370\n",
      "grade_F                 0.077362\n",
      "inq_last_6mths          0.071325\n",
      "pub_rec                 0.050927\n",
      "loan_amnt               0.050035\n",
      "pub_rec_bankruptcies    0.047140\n",
      "grade_G                 0.044960\n",
      "dti                     0.041984\n",
      "verification_status     0.038998\n",
      "grade_C                 0.035708\n",
      "Name: target, dtype: float64\n",
      "\n",
      "Top Negative Correlations:\n",
      " addr_state_OH             -0.007789\n",
      "addr_state_VA             -0.008817\n",
      "open_acc                  -0.010199\n",
      "addr_state_NY             -0.010491\n",
      "addr_state_MA             -0.012153\n",
      "addr_state_WY             -0.012336\n",
      "addr_state_PA             -0.012936\n",
      "addr_state_DC             -0.015234\n",
      "addr_state_TX             -0.019222\n",
      "total_acc                 -0.022640\n",
      "home_ownership_MORTGAGE   -0.024870\n",
      "annual_inc                -0.041168\n",
      "grade_B                   -0.044163\n",
      "grade_A                   -0.138053\n",
      "term_36 months            -0.149151\n",
      "Name: target, dtype: float64\n"
     ]
    }
   ],
   "source": [
    "# Display correlations\n",
    "correlations = final.corr()['target'].dropna().sort_values(ascending = False)\n",
    "print('Top Positive Correlations:\\n', correlations.head(15))\n",
    "print('\\nTop Negative Correlations:\\n', correlations.tail(15))"
   ]
  },
  {
   "cell_type": "markdown",
   "metadata": {
    "id": "LAzNH_xXzyf4"
   },
   "source": [
    "##### 3.2 Split into Test and Train datasets"
   ]
  },
  {
   "cell_type": "code",
   "execution_count": 51,
   "metadata": {
    "id": "bXgHsOM8zyf4"
   },
   "outputs": [],
   "source": [
    "x=final.drop(columns='target')\n",
    "y=final['target']"
   ]
  },
  {
   "cell_type": "code",
   "execution_count": 52,
   "metadata": {
    "colab": {
     "base_uri": "https://localhost:8080/"
    },
    "id": "lnUgv5fGzyf4",
    "outputId": "afe4120a-2e74-4860-8781-402d5ba8df84"
   },
   "outputs": [
    {
     "name": "stdout",
     "output_type": "stream",
     "text": [
      "(29839, 84)\n",
      "(29839,)\n",
      "(9947, 84)\n",
      "(9947,)\n"
     ]
    }
   ],
   "source": [
    "x_train, x_test, y_train, y_test = train_test_split(x, y, test_size=0.25, random_state=0)\n",
    "print(x_train.shape)\n",
    "print(y_train.shape)\n",
    "print(x_test.shape)\n",
    "print(y_test.shape)"
   ]
  },
  {
   "cell_type": "markdown",
   "metadata": {
    "id": "8b2I130hzyf5"
   },
   "source": [
    "###### 3.3 Logistic regression model"
   ]
  },
  {
   "cell_type": "markdown",
   "metadata": {
    "id": "M85TU7nnzyf5"
   },
   "source": [
    "1.Create the classifier(object)"
   ]
  },
  {
   "cell_type": "code",
   "execution_count": 53,
   "metadata": {
    "id": "om9KdZk1zyf5"
   },
   "outputs": [],
   "source": [
    "logist= LogisticRegression()"
   ]
  },
  {
   "cell_type": "markdown",
   "metadata": {
    "id": "1Re_vON0zyf5"
   },
   "source": [
    "2.Train the model on training data"
   ]
  },
  {
   "cell_type": "code",
   "execution_count": 54,
   "metadata": {
    "colab": {
     "base_uri": "https://localhost:8080/"
    },
    "id": "ajdLKjcbzyf5",
    "outputId": "a397641f-c2c8-4866-df6d-e5048b9b489d",
    "scrolled": true
   },
   "outputs": [
    {
     "data": {
      "text/plain": [
       "LogisticRegression()"
      ]
     },
     "execution_count": 54,
     "metadata": {},
     "output_type": "execute_result"
    }
   ],
   "source": [
    "logist.fit(x_train, y_train)"
   ]
  },
  {
   "cell_type": "markdown",
   "metadata": {
    "id": "6rZdv86azyf6"
   },
   "source": [
    "3.Make the prediction:\n",
    "\n",
    "Now that the model has been trained, we can use it to make predictions. \n",
    "\n",
    "We want to predict the probabilities of not paying a loan, so we use the model **predict_proba** method.\n",
    "\n",
    "The first column is the probability of the target being 0 and the second column is the probability of the target being 1"
   ]
  },
  {
   "cell_type": "code",
   "execution_count": 55,
   "metadata": {
    "colab": {
     "base_uri": "https://localhost:8080/"
    },
    "id": "1Z1F5gtkzyf6",
    "outputId": "949e6865-63b8-4746-d3f7-e5477d525fde"
   },
   "outputs": [
    {
     "data": {
      "text/plain": [
       "array([0.06488344, 0.21125751, 0.19880481, ..., 0.23782679, 0.14403556,\n",
       "       0.15653834])"
      ]
     },
     "execution_count": 55,
     "metadata": {},
     "output_type": "execute_result"
    }
   ],
   "source": [
    "log_reg_pred = logist.predict_proba(x_test)\n",
    "y_pred_proba=log_reg_pred[:,1]\n",
    "y_pred_proba"
   ]
  },
  {
   "cell_type": "markdown",
   "metadata": {
    "id": "PNW1iiHrzyf6"
   },
   "source": [
    "Predict the label:\n",
    "\n",
    "**.predict()** is for predicting class labels:\n",
    "\n",
    "scikit-learn is using a threshold of P>0.5 for binary classifications"
   ]
  },
  {
   "cell_type": "code",
   "execution_count": 56,
   "metadata": {
    "colab": {
     "base_uri": "https://localhost:8080/"
    },
    "id": "uoWGUK6lzyf6",
    "outputId": "e4aab7ed-a72b-43e0-8726-0e8465b8a0fd"
   },
   "outputs": [
    {
     "data": {
      "text/plain": [
       "array([0, 0, 0, ..., 0, 0, 0])"
      ]
     },
     "execution_count": 56,
     "metadata": {},
     "output_type": "execute_result"
    }
   ],
   "source": [
    "y_pred = logist.predict(x_test)\n",
    "y_pred"
   ]
  },
  {
   "cell_type": "markdown",
   "metadata": {
    "id": "7q6wAJu8zyf7"
   },
   "source": [
    "Get the coefficient list:"
   ]
  },
  {
   "cell_type": "code",
   "execution_count": 57,
   "metadata": {
    "colab": {
     "base_uri": "https://localhost:8080/",
     "height": 419
    },
    "id": "CtterMPXzyf7",
    "outputId": "56376c36-9db3-4604-a954-43f6dda7037f"
   },
   "outputs": [
    {
     "data": {
      "text/html": [
       "<div>\n",
       "<style scoped>\n",
       "    .dataframe tbody tr th:only-of-type {\n",
       "        vertical-align: middle;\n",
       "    }\n",
       "\n",
       "    .dataframe tbody tr th {\n",
       "        vertical-align: top;\n",
       "    }\n",
       "\n",
       "    .dataframe thead th {\n",
       "        text-align: right;\n",
       "    }\n",
       "</style>\n",
       "<table border=\"1\" class=\"dataframe\">\n",
       "  <thead>\n",
       "    <tr style=\"text-align: right;\">\n",
       "      <th></th>\n",
       "      <th>0</th>\n",
       "      <th>0</th>\n",
       "    </tr>\n",
       "  </thead>\n",
       "  <tbody>\n",
       "    <tr>\n",
       "      <th>0</th>\n",
       "      <td>loan_amnt</td>\n",
       "      <td>0.000092</td>\n",
       "    </tr>\n",
       "    <tr>\n",
       "      <th>1</th>\n",
       "      <td>int_rate</td>\n",
       "      <td>-0.000093</td>\n",
       "    </tr>\n",
       "    <tr>\n",
       "      <th>2</th>\n",
       "      <td>installment</td>\n",
       "      <td>-0.002933</td>\n",
       "    </tr>\n",
       "    <tr>\n",
       "      <th>3</th>\n",
       "      <td>annual_inc</td>\n",
       "      <td>-0.000015</td>\n",
       "    </tr>\n",
       "    <tr>\n",
       "      <th>4</th>\n",
       "      <td>verification_status</td>\n",
       "      <td>-0.000536</td>\n",
       "    </tr>\n",
       "    <tr>\n",
       "      <th>...</th>\n",
       "      <td>...</td>\n",
       "      <td>...</td>\n",
       "    </tr>\n",
       "    <tr>\n",
       "      <th>79</th>\n",
       "      <td>addr_state_WA</td>\n",
       "      <td>-0.000048</td>\n",
       "    </tr>\n",
       "    <tr>\n",
       "      <th>80</th>\n",
       "      <td>addr_state_WI</td>\n",
       "      <td>-0.000035</td>\n",
       "    </tr>\n",
       "    <tr>\n",
       "      <th>81</th>\n",
       "      <td>addr_state_WV</td>\n",
       "      <td>-0.000035</td>\n",
       "    </tr>\n",
       "    <tr>\n",
       "      <th>82</th>\n",
       "      <td>addr_state_WY</td>\n",
       "      <td>-0.000017</td>\n",
       "    </tr>\n",
       "    <tr>\n",
       "      <th>83</th>\n",
       "      <td>addr_state_nan</td>\n",
       "      <td>0.000000</td>\n",
       "    </tr>\n",
       "  </tbody>\n",
       "</table>\n",
       "<p>84 rows × 2 columns</p>\n",
       "</div>"
      ],
      "text/plain": [
       "                      0         0\n",
       "0             loan_amnt  0.000092\n",
       "1              int_rate -0.000093\n",
       "2           installment -0.002933\n",
       "3            annual_inc -0.000015\n",
       "4   verification_status -0.000536\n",
       "..                  ...       ...\n",
       "79        addr_state_WA -0.000048\n",
       "80        addr_state_WI -0.000035\n",
       "81        addr_state_WV -0.000035\n",
       "82        addr_state_WY -0.000017\n",
       "83       addr_state_nan  0.000000\n",
       "\n",
       "[84 rows x 2 columns]"
      ]
     },
     "execution_count": 57,
     "metadata": {},
     "output_type": "execute_result"
    }
   ],
   "source": [
    "coefficients = pd.concat([pd.DataFrame(list(x_train.columns)),pd.DataFrame(np.transpose(logist.coef_))], axis = 1)\n",
    "coefficients"
   ]
  },
  {
   "cell_type": "markdown",
   "metadata": {
    "id": "t3JRGC-7zyf7"
   },
   "source": [
    "**Check key metrics**"
   ]
  },
  {
   "cell_type": "markdown",
   "metadata": {
    "id": "2V_h2UN_zyf7"
   },
   "source": [
    "An **ROC curve** is a plot of True Positive Rate vs False Positive Rate where False Positive Rate=FP/(TN+FP) =1-Specificity."
   ]
  },
  {
   "cell_type": "markdown",
   "metadata": {
    "id": "_RTCMaqWzyf8"
   },
   "source": [
    "4.Show the ROC_CURVE to evaluate the model performance"
   ]
  },
  {
   "cell_type": "code",
   "execution_count": 58,
   "metadata": {
    "colab": {
     "base_uri": "https://localhost:8080/",
     "height": 299
    },
    "id": "-oVCWR-jzyf8",
    "outputId": "2516276d-6da7-4461-a0a0-17291e4e8beb"
   },
   "outputs": [
    {
     "data": {
      "image/png": "[encoded data removed]",
      "text/plain": [
       "<Figure size 432x288 with 1 Axes>"
      ]
     },
     "metadata": {
      "needs_background": "light"
     },
     "output_type": "display_data"
    }
   ],
   "source": [
    "import numpy as np\n",
    "[fpr, tpr, thr] = metrics.roc_curve(y_test, y_pred_proba)\n",
    "idx = np.min(np.where(tpr > 0.95))  # index of the first threshold for which the sensibility > 0.95\n",
    "plt.figure()\n",
    "plt.plot(fpr, tpr, color='coral', label='ROC curve (area = %0.3f)' % metrics.auc(fpr, tpr))\n",
    "plt.plot([0, 1], [0, 1], 'k--')\n",
    "plt.plot([0, fpr[idx]], [tpr[idx], tpr[idx]], 'k--', color='blue')\n",
    "plt.plot([fpr[idx], fpr[idx]], [0, tpr[idx]], 'k--', color='blue')\n",
    "plt.xlim([0.0, 1.0])\n",
    "plt.ylim([0.0, 1.05])\n",
    "plt.xlabel('False Positive Rate (1 - specificity)', fontsize=14)\n",
    "plt.ylabel('True Positive Rate (recall)', fontsize=14)\n",
    "plt.title('Receiver operating characteristic (ROC) curve')\n",
    "plt.legend(loc=\"lower right\")\n",
    "plt.show()"
   ]
  },
  {
   "cell_type": "markdown",
   "metadata": {
    "id": "tUNDhga0zyf8"
   },
   "source": [
    "**AUROC** (Area Under the Receiver Operating Characteristics)\n",
    "The more the area enclosed by the ROC curve, the better it is. The area under the curve can lie between 0 and 1. The closer it is to 1, the better it is"
   ]
  },
  {
   "cell_type": "markdown",
   "metadata": {
    "id": "b-LS1Sqhzyf8"
   },
   "source": [
    "###### 3.4 Random Forest"
   ]
  },
  {
   "cell_type": "markdown",
   "metadata": {
    "id": "yEeWk0slzyf9"
   },
   "source": [
    "**Ensemble learning**, in general, is a model that makes predictions based on a number of different models. By combining individual models, the ensemble model tends to be more flexible (less bias) and less data-sensitive (less variance)\n",
    "Two most popular ensemble methods are bagging and boosting.\n",
    "\n",
    "**Bagging**: Training a bunch of individual models in a parallel way. Each model is trained by a random subset of the data => bootstrapping the data plus using the aggregate to make a decision is called bagging!\n",
    "\n",
    "- **Random forest** is an ensemble model using bagging as the ensemble method and decision tree as the individual model.\n",
    "\n",
    "**Boosting**: Training a bunch of individual models in a sequential way. Each individual model learns from mistakes made by the previous model\n",
    "\n",
    "- **Gradient Boosting**: GBT build trees one at a time, where each new tree helps to correct errors made by previously trained tree. GBT build trees one at a time, where each new tree helps to correct errors made by previously trained tree."
   ]
  },
  {
   "cell_type": "markdown",
   "metadata": {
    "id": "AatoUoFLzyf9"
   },
   "source": [
    "1.Create the classifier(object):"
   ]
  },
  {
   "cell_type": "code",
   "execution_count": 59,
   "metadata": {
    "id": "9yxcbnoIzyf9"
   },
   "outputs": [],
   "source": [
    "rf_model = RandomForestClassifier(\n",
    "   n_estimators=200,\n",
    "    max_depth=5)"
   ]
  },
  {
   "cell_type": "markdown",
   "metadata": {
    "id": "obeR_ww1zyf9"
   },
   "source": [
    "2.Train the model on training data:"
   ]
  },
  {
   "cell_type": "code",
   "execution_count": 60,
   "metadata": {
    "colab": {
     "base_uri": "https://localhost:8080/"
    },
    "id": "TstwGQ4mzyf-",
    "outputId": "a02d63d0-a3d1-4a92-dd22-8dff2e96e7aa"
   },
   "outputs": [
    {
     "data": {
      "text/plain": [
       "RandomForestClassifier(max_depth=5, n_estimators=200)"
      ]
     },
     "execution_count": 60,
     "metadata": {},
     "output_type": "execute_result"
    }
   ],
   "source": [
    "rf_model.fit(x_train, y_train)"
   ]
  },
  {
   "cell_type": "markdown",
   "metadata": {
    "id": "JpvgIRNCzyf-"
   },
   "source": [
    "3.Make the prediction:"
   ]
  },
  {
   "cell_type": "code",
   "execution_count": 61,
   "metadata": {
    "colab": {
     "base_uri": "https://localhost:8080/"
    },
    "id": "3ZOPwGXGzyf-",
    "outputId": "5ae985c2-e2f1-4f26-f26d-be3b9c6427b8"
   },
   "outputs": [
    {
     "data": {
      "text/plain": [
       "array([0.10820195, 0.11574054, 0.16507915, ..., 0.24764802, 0.07836085,\n",
       "       0.09664364])"
      ]
     },
     "execution_count": 61,
     "metadata": {},
     "output_type": "execute_result"
    }
   ],
   "source": [
    "rf_model_pred = rf_model.predict_proba(x_test)\n",
    "y_pred_proba=rf_model_pred[:,1]\n",
    "y_pred_proba"
   ]
  },
  {
   "cell_type": "markdown",
   "metadata": {
    "id": "ZpVXKGVazyf-"
   },
   "source": [
    "4.Show the ROC_CURVE to evaluate the model performance:"
   ]
  },
  {
   "cell_type": "code",
   "execution_count": 62,
   "metadata": {
    "colab": {
     "base_uri": "https://localhost:8080/",
     "height": 299
    },
    "id": "uph0kaOZzyf_",
    "outputId": "15c7a938-f016-4d48-f3d7-259f2353e6b1"
   },
   "outputs": [
    {
     "data": {
      "image/png": "[encoded data removed]",
      "text/plain": [
       "<Figure size 432x288 with 1 Axes>"
      ]
     },
     "metadata": {
      "needs_background": "light"
     },
     "output_type": "display_data"
    }
   ],
   "source": [
    "import numpy as np\n",
    "[fpr, tpr, thr] = metrics.roc_curve(y_test, y_pred_proba)\n",
    "idx = np.min(np.where(tpr > 0.95))  # index of the first threshold for which the sensibility > 0.95\n",
    "plt.figure()\n",
    "plt.plot(fpr, tpr, color='coral', label='ROC curve (area = %0.3f)' % metrics.auc(fpr, tpr))\n",
    "plt.plot([0, 1], [0, 1], 'k--')\n",
    "plt.plot([0, fpr[idx]], [tpr[idx], tpr[idx]], 'k--', color='blue')\n",
    "plt.plot([fpr[idx], fpr[idx]], [0, tpr[idx]], 'k--', color='blue')\n",
    "plt.xlim([0.0, 1.0])\n",
    "plt.ylim([0.0, 1.05])\n",
    "plt.xlabel('False Positive Rate (1 - specificity)', fontsize=14)\n",
    "plt.ylabel('True Positive Rate (recall)', fontsize=14)\n",
    "plt.title('Receiver operating characteristic (ROC) curve')\n",
    "plt.legend(loc=\"lower right\")\n",
    "plt.show()"
   ]
  },
  {
   "cell_type": "markdown",
   "metadata": {
    "id": "PA9JIOVuzyf_"
   },
   "source": [
    "Get the feature importances for each feature using the following code:"
   ]
  },
  {
   "cell_type": "code",
   "execution_count": 63,
   "metadata": {
    "colab": {
     "base_uri": "https://localhost:8080/"
    },
    "id": "7xsVBXNUzyf_",
    "outputId": "01a4bf86-3fd8-4e2c-dd71-f7ce5338468e"
   },
   "outputs": [
    {
     "data": {
      "text/plain": [
       "array([2.30862452e-02, 2.05900322e-01, 1.93947902e-02, 5.24416745e-02,\n",
       "       4.08890249e-03, 1.91755868e-02, 4.36555634e-03, 2.70543998e-02,\n",
       "       1.02216126e-02, 1.47671603e-02, 1.16672629e-02, 1.62914634e-02,\n",
       "       6.57672491e-02, 1.48668924e-02, 0.00000000e+00, 1.04090686e-02,\n",
       "       1.23081856e-01, 1.15454482e-01, 0.00000000e+00, 1.03140867e-01,\n",
       "       1.86370087e-02, 7.31876233e-03, 3.24113769e-02, 3.38615909e-02,\n",
       "       1.88824669e-02, 4.19015827e-03, 0.00000000e+00, 3.55540042e-03,\n",
       "       0.00000000e+00, 5.52393217e-04, 9.15893374e-04, 3.03959375e-03,\n",
       "       0.00000000e+00, 8.16960680e-04, 3.77672804e-04, 3.69284849e-04,\n",
       "       7.46861572e-04, 2.58785482e-03, 6.48598235e-04, 6.42086538e-04,\n",
       "       3.20387454e-04, 1.35419771e-04, 2.50502259e-03, 8.04556691e-04,\n",
       "       5.80798079e-04, 0.00000000e+00, 1.06199386e-04, 9.51995698e-04,\n",
       "       0.00000000e+00, 5.66456861e-04, 7.83194652e-04, 4.47475990e-04,\n",
       "       6.97781382e-04, 6.13915720e-04, 0.00000000e+00, 1.01446400e-03,\n",
       "       6.15020640e-04, 1.05048188e-03, 6.08113560e-05, 8.57907397e-05,\n",
       "       1.09783080e-03, 1.30022554e-03, 3.72903573e-04, 8.34850418e-04,\n",
       "       3.72168199e-04, 3.72612016e-03, 9.58731234e-04, 3.56120593e-04,\n",
       "       2.02885164e-04, 1.08332722e-03, 6.96464643e-04, 1.28444064e-04,\n",
       "       8.19709182e-04, 5.36779987e-04, 1.47159030e-04, 1.41590302e-03,\n",
       "       9.07425455e-04, 1.27727342e-03, 3.07456423e-05, 7.34299677e-04,\n",
       "       6.73254549e-04, 1.81223136e-04, 7.70265464e-05, 0.00000000e+00])"
      ]
     },
     "execution_count": 63,
     "metadata": {},
     "output_type": "execute_result"
    }
   ],
   "source": [
    "rf_model.feature_importances_"
   ]
  },
  {
   "cell_type": "markdown",
   "metadata": {
    "id": "EPjyUePjzyf_"
   },
   "source": [
    "Associate these feature importances with the corresponding features:"
   ]
  },
  {
   "cell_type": "code",
   "execution_count": 64,
   "metadata": {
    "colab": {
     "base_uri": "https://localhost:8080/",
     "height": 669
    },
    "id": "DW3fy2clzygA",
    "outputId": "7ac6f159-479d-4e9c-edaa-7625d673d0e2"
   },
   "outputs": [
    {
     "data": {
      "text/html": [
       "<div>\n",
       "<style scoped>\n",
       "    .dataframe tbody tr th:only-of-type {\n",
       "        vertical-align: middle;\n",
       "    }\n",
       "\n",
       "    .dataframe tbody tr th {\n",
       "        vertical-align: top;\n",
       "    }\n",
       "\n",
       "    .dataframe thead th {\n",
       "        text-align: right;\n",
       "    }\n",
       "</style>\n",
       "<table border=\"1\" class=\"dataframe\">\n",
       "  <thead>\n",
       "    <tr style=\"text-align: right;\">\n",
       "      <th></th>\n",
       "      <th>feature.importance</th>\n",
       "      <th>feature</th>\n",
       "    </tr>\n",
       "  </thead>\n",
       "  <tbody>\n",
       "    <tr>\n",
       "      <th>1</th>\n",
       "      <td>0.205900</td>\n",
       "      <td>int_rate</td>\n",
       "    </tr>\n",
       "    <tr>\n",
       "      <th>16</th>\n",
       "      <td>0.123082</td>\n",
       "      <td>term_36 months</td>\n",
       "    </tr>\n",
       "    <tr>\n",
       "      <th>17</th>\n",
       "      <td>0.115454</td>\n",
       "      <td>term_60 months</td>\n",
       "    </tr>\n",
       "    <tr>\n",
       "      <th>19</th>\n",
       "      <td>0.103141</td>\n",
       "      <td>grade_A</td>\n",
       "    </tr>\n",
       "    <tr>\n",
       "      <th>12</th>\n",
       "      <td>0.065767</td>\n",
       "      <td>revol_util</td>\n",
       "    </tr>\n",
       "    <tr>\n",
       "      <th>3</th>\n",
       "      <td>0.052442</td>\n",
       "      <td>annual_inc</td>\n",
       "    </tr>\n",
       "    <tr>\n",
       "      <th>23</th>\n",
       "      <td>0.033862</td>\n",
       "      <td>grade_E</td>\n",
       "    </tr>\n",
       "    <tr>\n",
       "      <th>22</th>\n",
       "      <td>0.032411</td>\n",
       "      <td>grade_D</td>\n",
       "    </tr>\n",
       "    <tr>\n",
       "      <th>7</th>\n",
       "      <td>0.027054</td>\n",
       "      <td>inq_last_6mths</td>\n",
       "    </tr>\n",
       "    <tr>\n",
       "      <th>0</th>\n",
       "      <td>0.023086</td>\n",
       "      <td>loan_amnt</td>\n",
       "    </tr>\n",
       "    <tr>\n",
       "      <th>2</th>\n",
       "      <td>0.019395</td>\n",
       "      <td>installment</td>\n",
       "    </tr>\n",
       "    <tr>\n",
       "      <th>5</th>\n",
       "      <td>0.019176</td>\n",
       "      <td>dti</td>\n",
       "    </tr>\n",
       "    <tr>\n",
       "      <th>24</th>\n",
       "      <td>0.018882</td>\n",
       "      <td>grade_F</td>\n",
       "    </tr>\n",
       "    <tr>\n",
       "      <th>20</th>\n",
       "      <td>0.018637</td>\n",
       "      <td>grade_B</td>\n",
       "    </tr>\n",
       "    <tr>\n",
       "      <th>11</th>\n",
       "      <td>0.016291</td>\n",
       "      <td>revol_bal</td>\n",
       "    </tr>\n",
       "    <tr>\n",
       "      <th>13</th>\n",
       "      <td>0.014867</td>\n",
       "      <td>total_acc</td>\n",
       "    </tr>\n",
       "    <tr>\n",
       "      <th>9</th>\n",
       "      <td>0.014767</td>\n",
       "      <td>open_acc</td>\n",
       "    </tr>\n",
       "    <tr>\n",
       "      <th>10</th>\n",
       "      <td>0.011667</td>\n",
       "      <td>pub_rec</td>\n",
       "    </tr>\n",
       "    <tr>\n",
       "      <th>15</th>\n",
       "      <td>0.010409</td>\n",
       "      <td>pub_rec_bankruptcies</td>\n",
       "    </tr>\n",
       "    <tr>\n",
       "      <th>8</th>\n",
       "      <td>0.010222</td>\n",
       "      <td>mths_since_last_delinq</td>\n",
       "    </tr>\n",
       "  </tbody>\n",
       "</table>\n",
       "</div>"
      ],
      "text/plain": [
       "    feature.importance                 feature\n",
       "1             0.205900                int_rate\n",
       "16            0.123082          term_36 months\n",
       "17            0.115454          term_60 months\n",
       "19            0.103141                 grade_A\n",
       "12            0.065767              revol_util\n",
       "3             0.052442              annual_inc\n",
       "23            0.033862                 grade_E\n",
       "22            0.032411                 grade_D\n",
       "7             0.027054          inq_last_6mths\n",
       "0             0.023086               loan_amnt\n",
       "2             0.019395             installment\n",
       "5             0.019176                     dti\n",
       "24            0.018882                 grade_F\n",
       "20            0.018637                 grade_B\n",
       "11            0.016291               revol_bal\n",
       "13            0.014867               total_acc\n",
       "9             0.014767                open_acc\n",
       "10            0.011667                 pub_rec\n",
       "15            0.010409    pub_rec_bankruptcies\n",
       "8             0.010222  mths_since_last_delinq"
      ]
     },
     "execution_count": 64,
     "metadata": {},
     "output_type": "execute_result"
    }
   ],
   "source": [
    "feature_importance_df = pd.DataFrame(list(zip(rf_model.feature_importances_, list(x_train.columns))))\n",
    "feature_importance_df.columns = ['feature.importance', 'feature']\n",
    "feature_importance_df.sort_values(by='feature.importance', ascending=False).head(20) # only show top 20"
   ]
  }
 ],
 "metadata": {
  "colab": {
   "name": "ML_Model1.ipynb",
   "provenance": []
  },
  "kernelspec": {
   "display_name": "Python 3",
   "language": "python",
   "name": "python3"
  },
  "language_info": {
   "codemirror_mode": {
    "name": "ipython",
    "version": 3
   },
   "file_extension": ".py",
   "mimetype": "text/x-python",
   "name": "python",
   "nbconvert_exporter": "python",
   "pygments_lexer": "ipython3",
   "version": "3.8.3"
  }
 },
 "nbformat": 4,
 "nbformat_minor": 1
}
