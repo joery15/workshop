{
 "cells": [
  {
   "cell_type": "markdown",
   "metadata": {
    "id": "_VVLyyz2zyei"
   },
   "source": [
    "# ML_Model1-- Loan Payment Prediction"
   ]
  },
  {
   "cell_type": "markdown",
   "metadata": {
    "id": "Oba5r_Sbzyer"
   },
   "source": [
    "###  Problem Statement: Produce a supervised machine learning model to predict whether a load will be paid in full or charged off"
   ]
  },
  {
   "cell_type": "markdown",
   "metadata": {
    "id": "nKFM8J0uzyes"
   },
   "source": [
    "## Step One: Data processing and cleaning"
   ]
  },
  {
   "cell_type": "code",
   "execution_count": 1,
   "metadata": {
    "id": "KvRny06-zyet"
   },
   "outputs": [],
   "source": [
    "import pandas as pd\n",
    "import numpy as np\n",
    "pd.options.display.max_columns = 20\n",
    "pd.options.display.max_rows = 20\n",
    "import datetime as dt\n",
    "\n",
    "# visualization\n",
    "import matplotlib.pyplot as plt\n",
    "import seaborn as sns\n",
    "from IPython.display import HTML\n",
    "%matplotlib inline"
   ]
  },
  {
   "cell_type": "markdown",
   "metadata": {
    "id": "fHn0RkGpzye4"
   },
   "source": [
    "Packages for model build:"
   ]
  },
  {
   "cell_type": "code",
   "execution_count": 2,
   "metadata": {
    "id": "BV-FQDijzye5"
   },
   "outputs": [],
   "source": [
    "from sklearn import metrics\n",
    "from sklearn.preprocessing import OneHotEncoder, LabelEncoder\n",
    "from sklearn.model_selection import train_test_split\n",
    "from sklearn.linear_model import LogisticRegression\n",
    "from sklearn.metrics import accuracy_score\n",
    "from sklearn.neighbors import KNeighborsClassifier\n",
    "from sklearn.tree import DecisionTreeClassifier\n",
    "from sklearn.ensemble import RandomForestClassifier,GradientBoostingClassifier\n",
    "from sklearn.metrics import f1_score, recall_score, precision_score, roc_auc_score\n",
    "from sklearn.metrics import classification_report, precision_recall_curve, roc_curve, auc"
   ]
  },
  {
   "cell_type": "markdown",
   "metadata": {
    "id": "BkiPpfgVzye5"
   },
   "source": [
    "Load the data to Pandas:"
   ]
  },
  {
   "cell_type": "code",
   "execution_count": 3,
   "metadata": {
    "colab": {
     "base_uri": "https://localhost:8080/",
     "height": 372
    },
    "id": "Cq0rm3v5zye6",
    "outputId": "4d45d314-c626-4c04-d950-2c13bc474886"
   },
   "outputs": [
    {
     "name": "stderr",
     "output_type": "stream",
     "text": [
      "/Users/apple/opt/anaconda3/lib/python3.8/site-packages/IPython/core/interactiveshell.py:3145: DtypeWarning: Columns (1,48) have mixed types.Specify dtype option on import or set low_memory=False.\n",
      "  has_raised = await self.run_ast_nodes(code_ast.body, cell_name,\n"
     ]
    },
    {
     "data": {
      "text/html": [
       "<div>\n",
       "<style scoped>\n",
       "    .dataframe tbody tr th:only-of-type {\n",
       "        vertical-align: middle;\n",
       "    }\n",
       "\n",
       "    .dataframe tbody tr th {\n",
       "        vertical-align: top;\n",
       "    }\n",
       "\n",
       "    .dataframe thead th {\n",
       "        text-align: right;\n",
       "    }\n",
       "</style>\n",
       "<table border=\"1\" class=\"dataframe\">\n",
       "  <thead>\n",
       "    <tr style=\"text-align: right;\">\n",
       "      <th></th>\n",
       "      <th>Unnamed: 0</th>\n",
       "      <th>id</th>\n",
       "      <th>member_id</th>\n",
       "      <th>loan_amnt</th>\n",
       "      <th>funded_amnt</th>\n",
       "      <th>funded_amnt_inv</th>\n",
       "      <th>term</th>\n",
       "      <th>int_rate</th>\n",
       "      <th>installment</th>\n",
       "      <th>grade</th>\n",
       "      <th>...</th>\n",
       "      <th>orig_projected_additional_accrued_interest</th>\n",
       "      <th>hardship_payoff_balance_amount</th>\n",
       "      <th>hardship_last_payment_amount</th>\n",
       "      <th>debt_settlement_flag</th>\n",
       "      <th>debt_settlement_flag_date</th>\n",
       "      <th>settlement_status</th>\n",
       "      <th>settlement_date</th>\n",
       "      <th>settlement_amount</th>\n",
       "      <th>settlement_percentage</th>\n",
       "      <th>settlement_term</th>\n",
       "    </tr>\n",
       "  </thead>\n",
       "  <tbody>\n",
       "    <tr>\n",
       "      <th>0</th>\n",
       "      <td>22545</td>\n",
       "      <td>NaN</td>\n",
       "      <td>NaN</td>\n",
       "      <td>8500.0</td>\n",
       "      <td>8500.0</td>\n",
       "      <td>8450.00000</td>\n",
       "      <td>36 months</td>\n",
       "      <td>9.99%</td>\n",
       "      <td>274.24</td>\n",
       "      <td>B</td>\n",
       "      <td>...</td>\n",
       "      <td>NaN</td>\n",
       "      <td>NaN</td>\n",
       "      <td>NaN</td>\n",
       "      <td>N</td>\n",
       "      <td>NaN</td>\n",
       "      <td>NaN</td>\n",
       "      <td>NaN</td>\n",
       "      <td>NaN</td>\n",
       "      <td>NaN</td>\n",
       "      <td>NaN</td>\n",
       "    </tr>\n",
       "    <tr>\n",
       "      <th>1</th>\n",
       "      <td>22546</td>\n",
       "      <td>NaN</td>\n",
       "      <td>NaN</td>\n",
       "      <td>19000.0</td>\n",
       "      <td>19000.0</td>\n",
       "      <td>18975.00000</td>\n",
       "      <td>36 months</td>\n",
       "      <td>13.72%</td>\n",
       "      <td>646.80</td>\n",
       "      <td>C</td>\n",
       "      <td>...</td>\n",
       "      <td>NaN</td>\n",
       "      <td>NaN</td>\n",
       "      <td>NaN</td>\n",
       "      <td>N</td>\n",
       "      <td>NaN</td>\n",
       "      <td>NaN</td>\n",
       "      <td>NaN</td>\n",
       "      <td>NaN</td>\n",
       "      <td>NaN</td>\n",
       "      <td>NaN</td>\n",
       "    </tr>\n",
       "    <tr>\n",
       "      <th>2</th>\n",
       "      <td>22547</td>\n",
       "      <td>NaN</td>\n",
       "      <td>NaN</td>\n",
       "      <td>4000.0</td>\n",
       "      <td>4000.0</td>\n",
       "      <td>4000.00000</td>\n",
       "      <td>60 months</td>\n",
       "      <td>16.69%</td>\n",
       "      <td>98.75</td>\n",
       "      <td>E</td>\n",
       "      <td>...</td>\n",
       "      <td>NaN</td>\n",
       "      <td>NaN</td>\n",
       "      <td>NaN</td>\n",
       "      <td>N</td>\n",
       "      <td>NaN</td>\n",
       "      <td>NaN</td>\n",
       "      <td>NaN</td>\n",
       "      <td>NaN</td>\n",
       "      <td>NaN</td>\n",
       "      <td>NaN</td>\n",
       "    </tr>\n",
       "    <tr>\n",
       "      <th>3</th>\n",
       "      <td>22548</td>\n",
       "      <td>NaN</td>\n",
       "      <td>NaN</td>\n",
       "      <td>24250.0</td>\n",
       "      <td>17675.0</td>\n",
       "      <td>17431.82356</td>\n",
       "      <td>60 months</td>\n",
       "      <td>12.23%</td>\n",
       "      <td>395.23</td>\n",
       "      <td>C</td>\n",
       "      <td>...</td>\n",
       "      <td>NaN</td>\n",
       "      <td>NaN</td>\n",
       "      <td>NaN</td>\n",
       "      <td>N</td>\n",
       "      <td>NaN</td>\n",
       "      <td>NaN</td>\n",
       "      <td>NaN</td>\n",
       "      <td>NaN</td>\n",
       "      <td>NaN</td>\n",
       "      <td>NaN</td>\n",
       "    </tr>\n",
       "    <tr>\n",
       "      <th>4</th>\n",
       "      <td>22549</td>\n",
       "      <td>NaN</td>\n",
       "      <td>NaN</td>\n",
       "      <td>3600.0</td>\n",
       "      <td>3600.0</td>\n",
       "      <td>3600.00000</td>\n",
       "      <td>36 months</td>\n",
       "      <td>12.98%</td>\n",
       "      <td>121.27</td>\n",
       "      <td>C</td>\n",
       "      <td>...</td>\n",
       "      <td>NaN</td>\n",
       "      <td>NaN</td>\n",
       "      <td>NaN</td>\n",
       "      <td>N</td>\n",
       "      <td>NaN</td>\n",
       "      <td>NaN</td>\n",
       "      <td>NaN</td>\n",
       "      <td>NaN</td>\n",
       "      <td>NaN</td>\n",
       "      <td>NaN</td>\n",
       "    </tr>\n",
       "  </tbody>\n",
       "</table>\n",
       "<p>5 rows × 145 columns</p>\n",
       "</div>"
      ],
      "text/plain": [
       "   Unnamed: 0   id  member_id  loan_amnt  funded_amnt  funded_amnt_inv  \\\n",
       "0       22545  NaN        NaN     8500.0       8500.0       8450.00000   \n",
       "1       22546  NaN        NaN    19000.0      19000.0      18975.00000   \n",
       "2       22547  NaN        NaN     4000.0       4000.0       4000.00000   \n",
       "3       22548  NaN        NaN    24250.0      17675.0      17431.82356   \n",
       "4       22549  NaN        NaN     3600.0       3600.0       3600.00000   \n",
       "\n",
       "         term int_rate  installment grade  ...  \\\n",
       "0   36 months    9.99%       274.24     B  ...   \n",
       "1   36 months   13.72%       646.80     C  ...   \n",
       "2   60 months   16.69%        98.75     E  ...   \n",
       "3   60 months   12.23%       395.23     C  ...   \n",
       "4   36 months   12.98%       121.27     C  ...   \n",
       "\n",
       "  orig_projected_additional_accrued_interest hardship_payoff_balance_amount  \\\n",
       "0                                        NaN                            NaN   \n",
       "1                                        NaN                            NaN   \n",
       "2                                        NaN                            NaN   \n",
       "3                                        NaN                            NaN   \n",
       "4                                        NaN                            NaN   \n",
       "\n",
       "  hardship_last_payment_amount debt_settlement_flag  \\\n",
       "0                          NaN                    N   \n",
       "1                          NaN                    N   \n",
       "2                          NaN                    N   \n",
       "3                          NaN                    N   \n",
       "4                          NaN                    N   \n",
       "\n",
       "   debt_settlement_flag_date settlement_status settlement_date  \\\n",
       "0                        NaN               NaN             NaN   \n",
       "1                        NaN               NaN             NaN   \n",
       "2                        NaN               NaN             NaN   \n",
       "3                        NaN               NaN             NaN   \n",
       "4                        NaN               NaN             NaN   \n",
       "\n",
       "  settlement_amount settlement_percentage  settlement_term  \n",
       "0               NaN                   NaN              NaN  \n",
       "1               NaN                   NaN              NaN  \n",
       "2               NaN                   NaN              NaN  \n",
       "3               NaN                   NaN              NaN  \n",
       "4               NaN                   NaN              NaN  \n",
       "\n",
       "[5 rows x 145 columns]"
      ]
     },
     "execution_count": 3,
     "metadata": {},
     "output_type": "execute_result"
    }
   ],
   "source": [
    "#the uploaded file has low than 25MB, the original has to splitted into two parts\n",
    "df=pd.read_csv('CaseStudy_Dataset2.csv')\n",
    "df.head(5)"
   ]
  },
  {
   "cell_type": "code",
   "execution_count": 4,
   "metadata": {
    "colab": {
     "base_uri": "https://localhost:8080/"
    },
    "id": "Zj8qL103zye8",
    "outputId": "6bffacd2-ce7a-4b25-8ec5-6e2db5c29b18"
   },
   "outputs": [
    {
     "data": {
      "text/plain": [
       "(20000, 145)"
      ]
     },
     "execution_count": 4,
     "metadata": {},
     "output_type": "execute_result"
    }
   ],
   "source": [
    "df.shape"
   ]
  },
  {
   "cell_type": "markdown",
   "metadata": {
    "id": "ahZU4wbazye8"
   },
   "source": [
    "Check the column information:"
   ]
  },
  {
   "cell_type": "code",
   "execution_count": 5,
   "metadata": {
    "id": "kORAQ6Rgzye9"
   },
   "outputs": [
    {
     "data": {
      "text/plain": [
       "['Unnamed: 0',\n",
       " 'id',\n",
       " 'member_id',\n",
       " 'loan_amnt',\n",
       " 'funded_amnt',\n",
       " 'funded_amnt_inv',\n",
       " 'term',\n",
       " 'int_rate',\n",
       " 'installment',\n",
       " 'grade',\n",
       " 'sub_grade',\n",
       " 'emp_title',\n",
       " 'emp_length',\n",
       " 'home_ownership',\n",
       " 'annual_inc',\n",
       " 'verification_status',\n",
       " 'issue_d',\n",
       " 'loan_status',\n",
       " 'pymnt_plan',\n",
       " 'url',\n",
       " 'desc',\n",
       " 'purpose',\n",
       " 'title',\n",
       " 'zip_code',\n",
       " 'addr_state',\n",
       " 'dti',\n",
       " 'delinq_2yrs',\n",
       " 'earliest_cr_line',\n",
       " 'inq_last_6mths',\n",
       " 'mths_since_last_delinq',\n",
       " 'mths_since_last_record',\n",
       " 'open_acc',\n",
       " 'pub_rec',\n",
       " 'revol_bal',\n",
       " 'revol_util',\n",
       " 'total_acc',\n",
       " 'initial_list_status',\n",
       " 'out_prncp',\n",
       " 'out_prncp_inv',\n",
       " 'total_pymnt',\n",
       " 'total_pymnt_inv',\n",
       " 'total_rec_prncp',\n",
       " 'total_rec_int',\n",
       " 'total_rec_late_fee',\n",
       " 'recoveries',\n",
       " 'collection_recovery_fee',\n",
       " 'last_pymnt_d',\n",
       " 'last_pymnt_amnt',\n",
       " 'next_pymnt_d',\n",
       " 'last_credit_pull_d',\n",
       " 'collections_12_mths_ex_med',\n",
       " 'mths_since_last_major_derog',\n",
       " 'policy_code',\n",
       " 'application_type',\n",
       " 'annual_inc_joint',\n",
       " 'dti_joint',\n",
       " 'verification_status_joint',\n",
       " 'acc_now_delinq',\n",
       " 'tot_coll_amt',\n",
       " 'tot_cur_bal',\n",
       " 'open_acc_6m',\n",
       " 'open_act_il',\n",
       " 'open_il_12m',\n",
       " 'open_il_24m',\n",
       " 'mths_since_rcnt_il',\n",
       " 'total_bal_il',\n",
       " 'il_util',\n",
       " 'open_rv_12m',\n",
       " 'open_rv_24m',\n",
       " 'max_bal_bc',\n",
       " 'all_util',\n",
       " 'total_rev_hi_lim',\n",
       " 'inq_fi',\n",
       " 'total_cu_tl',\n",
       " 'inq_last_12m',\n",
       " 'acc_open_past_24mths',\n",
       " 'avg_cur_bal',\n",
       " 'bc_open_to_buy',\n",
       " 'bc_util',\n",
       " 'chargeoff_within_12_mths',\n",
       " 'delinq_amnt',\n",
       " 'mo_sin_old_il_acct',\n",
       " 'mo_sin_old_rev_tl_op',\n",
       " 'mo_sin_rcnt_rev_tl_op',\n",
       " 'mo_sin_rcnt_tl',\n",
       " 'mort_acc',\n",
       " 'mths_since_recent_bc',\n",
       " 'mths_since_recent_bc_dlq',\n",
       " 'mths_since_recent_inq',\n",
       " 'mths_since_recent_revol_delinq',\n",
       " 'num_accts_ever_120_pd',\n",
       " 'num_actv_bc_tl',\n",
       " 'num_actv_rev_tl',\n",
       " 'num_bc_sats',\n",
       " 'num_bc_tl',\n",
       " 'num_il_tl',\n",
       " 'num_op_rev_tl',\n",
       " 'num_rev_accts',\n",
       " 'num_rev_tl_bal_gt_0',\n",
       " 'num_sats',\n",
       " 'num_tl_120dpd_2m',\n",
       " 'num_tl_30dpd',\n",
       " 'num_tl_90g_dpd_24m',\n",
       " 'num_tl_op_past_12m',\n",
       " 'pct_tl_nvr_dlq',\n",
       " 'percent_bc_gt_75',\n",
       " 'pub_rec_bankruptcies',\n",
       " 'tax_liens',\n",
       " 'tot_hi_cred_lim',\n",
       " 'total_bal_ex_mort',\n",
       " 'total_bc_limit',\n",
       " 'total_il_high_credit_limit',\n",
       " 'revol_bal_joint',\n",
       " 'sec_app_earliest_cr_line',\n",
       " 'sec_app_inq_last_6mths',\n",
       " 'sec_app_mort_acc',\n",
       " 'sec_app_open_acc',\n",
       " 'sec_app_revol_util',\n",
       " 'sec_app_open_act_il',\n",
       " 'sec_app_num_rev_accts',\n",
       " 'sec_app_chargeoff_within_12_mths',\n",
       " 'sec_app_collections_12_mths_ex_med',\n",
       " 'sec_app_mths_since_last_major_derog',\n",
       " 'hardship_flag',\n",
       " 'hardship_type',\n",
       " 'hardship_reason',\n",
       " 'hardship_status',\n",
       " 'deferral_term',\n",
       " 'hardship_amount',\n",
       " 'hardship_start_date',\n",
       " 'hardship_end_date',\n",
       " 'payment_plan_start_date',\n",
       " 'hardship_length',\n",
       " 'hardship_dpd',\n",
       " 'hardship_loan_status',\n",
       " 'orig_projected_additional_accrued_interest',\n",
       " 'hardship_payoff_balance_amount',\n",
       " 'hardship_last_payment_amount',\n",
       " 'debt_settlement_flag',\n",
       " 'debt_settlement_flag_date',\n",
       " 'settlement_status',\n",
       " 'settlement_date',\n",
       " 'settlement_amount',\n",
       " 'settlement_percentage',\n",
       " 'settlement_term']"
      ]
     },
     "execution_count": 5,
     "metadata": {},
     "output_type": "execute_result"
    }
   ],
   "source": [
    "list(df.columns)"
   ]
  },
  {
   "cell_type": "markdown",
   "metadata": {
    "id": "h7QFQBcDzye9"
   },
   "source": [
    "Check the target variable - loan_status by using value_counts():"
   ]
  },
  {
   "cell_type": "code",
   "execution_count": 6,
   "metadata": {
    "colab": {
     "base_uri": "https://localhost:8080/"
    },
    "id": "ZTJ_6seGzye-",
    "outputId": "26f6e426-58c3-4954-b625-d7275e1623d9"
   },
   "outputs": [
    {
     "data": {
      "text/plain": [
       "Fully Paid                                             14959\n",
       "Charged Off                                             2289\n",
       "Does not meet the credit policy. Status:Fully Paid      1988\n",
       "Does not meet the credit policy. Status:Charged Off      761\n",
       "Name: loan_status, dtype: int64"
      ]
     },
     "execution_count": 6,
     "metadata": {},
     "output_type": "execute_result"
    }
   ],
   "source": [
    "df['loan_status'].value_counts()"
   ]
  },
  {
   "cell_type": "markdown",
   "metadata": {
    "id": "Xe3V6tnlzye-"
   },
   "source": [
    "Usually for loan applications which **didn't meet credit policy**, they should be declined directly before sent to the model.\n",
    "Although, in this case these loans still had 'Status' information, we **would remove these records from build model and assume these loans won't be processed by the model** "
   ]
  },
  {
   "cell_type": "markdown",
   "metadata": {
    "id": "uEKt75h2zye-"
   },
   "source": [
    "Only keep records which passed credit policy:"
   ]
  },
  {
   "cell_type": "code",
   "execution_count": 7,
   "metadata": {
    "id": "K1WLDjNazye_"
   },
   "outputs": [],
   "source": [
    "df=df.loc[df['loan_status'].isin(['Fully Paid', 'Charged Off'])]"
   ]
  },
  {
   "cell_type": "code",
   "execution_count": 8,
   "metadata": {
    "colab": {
     "base_uri": "https://localhost:8080/"
    },
    "id": "LbOTUqjEzye_",
    "outputId": "b9e6364d-4c44-4b1f-e113-0f7e2e91d413"
   },
   "outputs": [
    {
     "data": {
      "text/plain": [
       "Fully Paid     14959\n",
       "Charged Off     2289\n",
       "Name: loan_status, dtype: int64"
      ]
     },
     "execution_count": 8,
     "metadata": {},
     "output_type": "execute_result"
    }
   ],
   "source": [
    "df['loan_status'].value_counts()"
   ]
  },
  {
   "cell_type": "markdown",
   "metadata": {
    "id": "GwgWuMwIzyfA"
   },
   "source": [
    "Define a function to check missing values:"
   ]
  },
  {
   "cell_type": "code",
   "execution_count": 9,
   "metadata": {
    "id": "VixlMfXizyfA"
   },
   "outputs": [],
   "source": [
    "def missing_values_table(df):\n",
    "        #1 Total missing values\n",
    "        mis_val = df.isnull().sum()\n",
    "        \n",
    "        #2 Percentage of missing values\n",
    "        mis_val_percent = 100 * df.isnull().sum() / len(df)\n",
    "        \n",
    "        #3 Make a table with the results\n",
    "        mis_val_table = pd.concat([mis_val, mis_val_percent], axis=1)\n",
    "        \n",
    "        #4 Rename the columns\n",
    "        mis_val_table_ren_columns = mis_val_table.rename(\n",
    "        columns = {0 : 'Missing Values', 1 : '% of Total Values'})\n",
    "        \n",
    "        #5 Only keep the columns with missing values\n",
    "        mis_val_table_only = mis_val_table_ren_columns.loc[mis_val_table_ren_columns['% of Total Values'] > 0]\n",
    "        \n",
    "        #6 Return the dataframe with missing information\n",
    "        return mis_val_table_only"
   ]
  },
  {
   "cell_type": "code",
   "execution_count": 10,
   "metadata": {
    "colab": {
     "base_uri": "https://localhost:8080/",
     "height": 419
    },
    "id": "O0Bw2V0JzyfH",
    "outputId": "e72e4159-07c6-46c3-f512-1c9d2d3d3b47"
   },
   "outputs": [
    {
     "data": {
      "text/html": [
       "<div>\n",
       "<style scoped>\n",
       "    .dataframe tbody tr th:only-of-type {\n",
       "        vertical-align: middle;\n",
       "    }\n",
       "\n",
       "    .dataframe tbody tr th {\n",
       "        vertical-align: top;\n",
       "    }\n",
       "\n",
       "    .dataframe thead th {\n",
       "        text-align: right;\n",
       "    }\n",
       "</style>\n",
       "<table border=\"1\" class=\"dataframe\">\n",
       "  <thead>\n",
       "    <tr style=\"text-align: right;\">\n",
       "      <th></th>\n",
       "      <th>Missing Values</th>\n",
       "      <th>% of Total Values</th>\n",
       "    </tr>\n",
       "  </thead>\n",
       "  <tbody>\n",
       "    <tr>\n",
       "      <th>id</th>\n",
       "      <td>17248</td>\n",
       "      <td>100.000000</td>\n",
       "    </tr>\n",
       "    <tr>\n",
       "      <th>member_id</th>\n",
       "      <td>17248</td>\n",
       "      <td>100.000000</td>\n",
       "    </tr>\n",
       "    <tr>\n",
       "      <th>emp_title</th>\n",
       "      <td>973</td>\n",
       "      <td>5.641234</td>\n",
       "    </tr>\n",
       "    <tr>\n",
       "      <th>emp_length</th>\n",
       "      <td>288</td>\n",
       "      <td>1.669759</td>\n",
       "    </tr>\n",
       "    <tr>\n",
       "      <th>url</th>\n",
       "      <td>17248</td>\n",
       "      <td>100.000000</td>\n",
       "    </tr>\n",
       "    <tr>\n",
       "      <th>...</th>\n",
       "      <td>...</td>\n",
       "      <td>...</td>\n",
       "    </tr>\n",
       "    <tr>\n",
       "      <th>settlement_status</th>\n",
       "      <td>17197</td>\n",
       "      <td>99.704314</td>\n",
       "    </tr>\n",
       "    <tr>\n",
       "      <th>settlement_date</th>\n",
       "      <td>17197</td>\n",
       "      <td>99.704314</td>\n",
       "    </tr>\n",
       "    <tr>\n",
       "      <th>settlement_amount</th>\n",
       "      <td>17197</td>\n",
       "      <td>99.704314</td>\n",
       "    </tr>\n",
       "    <tr>\n",
       "      <th>settlement_percentage</th>\n",
       "      <td>17197</td>\n",
       "      <td>99.704314</td>\n",
       "    </tr>\n",
       "    <tr>\n",
       "      <th>settlement_term</th>\n",
       "      <td>17197</td>\n",
       "      <td>99.704314</td>\n",
       "    </tr>\n",
       "  </tbody>\n",
       "</table>\n",
       "<p>102 rows × 2 columns</p>\n",
       "</div>"
      ],
      "text/plain": [
       "                       Missing Values  % of Total Values\n",
       "id                              17248         100.000000\n",
       "member_id                       17248         100.000000\n",
       "emp_title                         973           5.641234\n",
       "emp_length                        288           1.669759\n",
       "url                             17248         100.000000\n",
       "...                               ...                ...\n",
       "settlement_status               17197          99.704314\n",
       "settlement_date                 17197          99.704314\n",
       "settlement_amount               17197          99.704314\n",
       "settlement_percentage           17197          99.704314\n",
       "settlement_term                 17197          99.704314\n",
       "\n",
       "[102 rows x 2 columns]"
      ]
     },
     "execution_count": 10,
     "metadata": {},
     "output_type": "execute_result"
    }
   ],
   "source": [
    "#Apply the function to our dataframe:\n",
    "missing=missing_values_table(df)\n",
    "missing"
   ]
  },
  {
   "cell_type": "markdown",
   "metadata": {
    "id": "GyUq2v9gzyfH"
   },
   "source": [
    "Usually there are three options to deal with missing values:\n",
    " 1. Imputation\n",
    " 2. Create missing flag\n",
    " 3. Drop columns with a high percentage of missing vlaues"
   ]
  },
  {
   "cell_type": "markdown",
   "metadata": {
    "id": "CIBeYfiPzyfH"
   },
   "source": [
    "We see there are a number of columns with a high percentage of missing values. \n",
    "There is no well-established threshold for removing missing values, \n",
    "\n",
    "and the best course of action depends on the problem. \n",
    "\n",
    "Here, to reduce the number of features, we will remove any columns that have greater than 80% missing rate (in real situations, the threshold can be 98%)."
   ]
  },
  {
   "cell_type": "code",
   "execution_count": 11,
   "metadata": {
    "colab": {
     "base_uri": "https://localhost:8080/"
    },
    "id": "Zi2rm0bLzyfI",
    "outputId": "524c40fe-e433-43f8-ccdb-70f31d9c453c",
    "scrolled": true
   },
   "outputs": [
    {
     "data": {
      "text/plain": [
       "['id',\n",
       " 'member_id',\n",
       " 'url',\n",
       " 'mths_since_last_record',\n",
       " 'next_pymnt_d',\n",
       " 'mths_since_last_major_derog',\n",
       " 'annual_inc_joint',\n",
       " 'dti_joint',\n",
       " 'verification_status_joint',\n",
       " 'tot_coll_amt',\n",
       " 'tot_cur_bal',\n",
       " 'open_acc_6m',\n",
       " 'open_act_il',\n",
       " 'open_il_12m',\n",
       " 'open_il_24m',\n",
       " 'mths_since_rcnt_il',\n",
       " 'total_bal_il',\n",
       " 'il_util',\n",
       " 'open_rv_12m',\n",
       " 'open_rv_24m',\n",
       " 'max_bal_bc',\n",
       " 'all_util',\n",
       " 'total_rev_hi_lim',\n",
       " 'inq_fi',\n",
       " 'total_cu_tl',\n",
       " 'inq_last_12m',\n",
       " 'acc_open_past_24mths',\n",
       " 'avg_cur_bal',\n",
       " 'bc_open_to_buy',\n",
       " 'bc_util',\n",
       " 'mo_sin_old_il_acct',\n",
       " 'mo_sin_old_rev_tl_op',\n",
       " 'mo_sin_rcnt_rev_tl_op',\n",
       " 'mo_sin_rcnt_tl',\n",
       " 'mort_acc',\n",
       " 'mths_since_recent_bc',\n",
       " 'mths_since_recent_bc_dlq',\n",
       " 'mths_since_recent_inq',\n",
       " 'mths_since_recent_revol_delinq',\n",
       " 'num_accts_ever_120_pd',\n",
       " 'num_actv_bc_tl',\n",
       " 'num_actv_rev_tl',\n",
       " 'num_bc_sats',\n",
       " 'num_bc_tl',\n",
       " 'num_il_tl',\n",
       " 'num_op_rev_tl',\n",
       " 'num_rev_accts',\n",
       " 'num_rev_tl_bal_gt_0',\n",
       " 'num_sats',\n",
       " 'num_tl_120dpd_2m',\n",
       " 'num_tl_30dpd',\n",
       " 'num_tl_90g_dpd_24m',\n",
       " 'num_tl_op_past_12m',\n",
       " 'pct_tl_nvr_dlq',\n",
       " 'percent_bc_gt_75',\n",
       " 'tot_hi_cred_lim',\n",
       " 'total_bal_ex_mort',\n",
       " 'total_bc_limit',\n",
       " 'total_il_high_credit_limit',\n",
       " 'revol_bal_joint',\n",
       " 'sec_app_earliest_cr_line',\n",
       " 'sec_app_inq_last_6mths',\n",
       " 'sec_app_mort_acc',\n",
       " 'sec_app_open_acc',\n",
       " 'sec_app_revol_util',\n",
       " 'sec_app_open_act_il',\n",
       " 'sec_app_num_rev_accts',\n",
       " 'sec_app_chargeoff_within_12_mths',\n",
       " 'sec_app_collections_12_mths_ex_med',\n",
       " 'sec_app_mths_since_last_major_derog',\n",
       " 'hardship_type',\n",
       " 'hardship_reason',\n",
       " 'hardship_status',\n",
       " 'deferral_term',\n",
       " 'hardship_amount',\n",
       " 'hardship_start_date',\n",
       " 'hardship_end_date',\n",
       " 'payment_plan_start_date',\n",
       " 'hardship_length',\n",
       " 'hardship_dpd',\n",
       " 'hardship_loan_status',\n",
       " 'orig_projected_additional_accrued_interest',\n",
       " 'hardship_payoff_balance_amount',\n",
       " 'hardship_last_payment_amount',\n",
       " 'debt_settlement_flag_date',\n",
       " 'settlement_status',\n",
       " 'settlement_date',\n",
       " 'settlement_amount',\n",
       " 'settlement_percentage',\n",
       " 'settlement_term']"
      ]
     },
     "execution_count": 11,
     "metadata": {},
     "output_type": "execute_result"
    }
   ],
   "source": [
    "# find columns with missing > 80%\n",
    "missing_columns = list(missing.index[missing['% of Total Values'] > 80])\n",
    "missing_columns"
   ]
  },
  {
   "cell_type": "markdown",
   "metadata": {
    "id": "kyq-sMxJzyfI"
   },
   "source": [
    "Drop these columns with missing rate > 80%:"
   ]
  },
  {
   "cell_type": "code",
   "execution_count": 12,
   "metadata": {
    "colab": {
     "base_uri": "https://localhost:8080/",
     "height": 421
    },
    "id": "P5DZ_NvDzyfI",
    "outputId": "60ba163c-56c7-4d74-eee2-ca322be40c9d"
   },
   "outputs": [
    {
     "data": {
      "text/html": [
       "<div>\n",
       "<style scoped>\n",
       "    .dataframe tbody tr th:only-of-type {\n",
       "        vertical-align: middle;\n",
       "    }\n",
       "\n",
       "    .dataframe tbody tr th {\n",
       "        vertical-align: top;\n",
       "    }\n",
       "\n",
       "    .dataframe thead th {\n",
       "        text-align: right;\n",
       "    }\n",
       "</style>\n",
       "<table border=\"1\" class=\"dataframe\">\n",
       "  <thead>\n",
       "    <tr style=\"text-align: right;\">\n",
       "      <th></th>\n",
       "      <th>Missing Values</th>\n",
       "      <th>% of Total Values</th>\n",
       "    </tr>\n",
       "  </thead>\n",
       "  <tbody>\n",
       "    <tr>\n",
       "      <th>emp_title</th>\n",
       "      <td>973</td>\n",
       "      <td>5.641234</td>\n",
       "    </tr>\n",
       "    <tr>\n",
       "      <th>emp_length</th>\n",
       "      <td>288</td>\n",
       "      <td>1.669759</td>\n",
       "    </tr>\n",
       "    <tr>\n",
       "      <th>desc</th>\n",
       "      <td>3671</td>\n",
       "      <td>21.283627</td>\n",
       "    </tr>\n",
       "    <tr>\n",
       "      <th>title</th>\n",
       "      <td>11</td>\n",
       "      <td>0.063776</td>\n",
       "    </tr>\n",
       "    <tr>\n",
       "      <th>mths_since_last_delinq</th>\n",
       "      <td>10816</td>\n",
       "      <td>62.708720</td>\n",
       "    </tr>\n",
       "    <tr>\n",
       "      <th>revol_util</th>\n",
       "      <td>40</td>\n",
       "      <td>0.231911</td>\n",
       "    </tr>\n",
       "    <tr>\n",
       "      <th>last_pymnt_d</th>\n",
       "      <td>33</td>\n",
       "      <td>0.191327</td>\n",
       "    </tr>\n",
       "    <tr>\n",
       "      <th>last_credit_pull_d</th>\n",
       "      <td>2</td>\n",
       "      <td>0.011596</td>\n",
       "    </tr>\n",
       "    <tr>\n",
       "      <th>collections_12_mths_ex_med</th>\n",
       "      <td>56</td>\n",
       "      <td>0.324675</td>\n",
       "    </tr>\n",
       "    <tr>\n",
       "      <th>chargeoff_within_12_mths</th>\n",
       "      <td>56</td>\n",
       "      <td>0.324675</td>\n",
       "    </tr>\n",
       "    <tr>\n",
       "      <th>pub_rec_bankruptcies</th>\n",
       "      <td>697</td>\n",
       "      <td>4.041048</td>\n",
       "    </tr>\n",
       "    <tr>\n",
       "      <th>tax_liens</th>\n",
       "      <td>39</td>\n",
       "      <td>0.226113</td>\n",
       "    </tr>\n",
       "  </tbody>\n",
       "</table>\n",
       "</div>"
      ],
      "text/plain": [
       "                            Missing Values  % of Total Values\n",
       "emp_title                              973           5.641234\n",
       "emp_length                             288           1.669759\n",
       "desc                                  3671          21.283627\n",
       "title                                   11           0.063776\n",
       "mths_since_last_delinq               10816          62.708720\n",
       "revol_util                              40           0.231911\n",
       "last_pymnt_d                            33           0.191327\n",
       "last_credit_pull_d                       2           0.011596\n",
       "collections_12_mths_ex_med              56           0.324675\n",
       "chargeoff_within_12_mths                56           0.324675\n",
       "pub_rec_bankruptcies                   697           4.041048\n",
       "tax_liens                               39           0.226113"
      ]
     },
     "execution_count": 12,
     "metadata": {},
     "output_type": "execute_result"
    }
   ],
   "source": [
    "df2 = df.drop(columns = missing_columns)\n",
    "missing_values_table(df2)"
   ]
  },
  {
   "cell_type": "markdown",
   "metadata": {
    "id": "fFftBnbczyfJ"
   },
   "source": [
    "Check duplicates in Pandas:"
   ]
  },
  {
   "cell_type": "code",
   "execution_count": 13,
   "metadata": {
    "colab": {
     "base_uri": "https://localhost:8080/"
    },
    "id": "1ZI2RVRbzyfJ",
    "outputId": "035f6fe3-a4b7-4c36-b20d-9ff833d4ade7"
   },
   "outputs": [
    {
     "data": {
      "text/plain": [
       "0        False\n",
       "1        False\n",
       "2        False\n",
       "3        False\n",
       "4        False\n",
       "         ...  \n",
       "17243    False\n",
       "17244    False\n",
       "17245    False\n",
       "17246    False\n",
       "17247    False\n",
       "Length: 17248, dtype: bool"
      ]
     },
     "execution_count": 13,
     "metadata": {},
     "output_type": "execute_result"
    }
   ],
   "source": [
    "# DataFrame.duplicated(): Return boolean Series denoting duplicate rows\n",
    "df2.duplicated()"
   ]
  },
  {
   "cell_type": "code",
   "execution_count": 14,
   "metadata": {
    "colab": {
     "base_uri": "https://localhost:8080/",
     "height": 485
    },
    "id": "uI2o3TYEzyfL",
    "outputId": "b1b5f08f-3538-4580-c57e-fc0c46ff33f9"
   },
   "outputs": [
    {
     "data": {
      "text/html": [
       "<div>\n",
       "<style scoped>\n",
       "    .dataframe tbody tr th:only-of-type {\n",
       "        vertical-align: middle;\n",
       "    }\n",
       "\n",
       "    .dataframe tbody tr th {\n",
       "        vertical-align: top;\n",
       "    }\n",
       "\n",
       "    .dataframe thead th {\n",
       "        text-align: right;\n",
       "    }\n",
       "</style>\n",
       "<table border=\"1\" class=\"dataframe\">\n",
       "  <thead>\n",
       "    <tr style=\"text-align: right;\">\n",
       "      <th></th>\n",
       "      <th>Unnamed: 0</th>\n",
       "      <th>loan_amnt</th>\n",
       "      <th>funded_amnt</th>\n",
       "      <th>funded_amnt_inv</th>\n",
       "      <th>term</th>\n",
       "      <th>int_rate</th>\n",
       "      <th>installment</th>\n",
       "      <th>grade</th>\n",
       "      <th>sub_grade</th>\n",
       "      <th>emp_title</th>\n",
       "      <th>...</th>\n",
       "      <th>collections_12_mths_ex_med</th>\n",
       "      <th>policy_code</th>\n",
       "      <th>application_type</th>\n",
       "      <th>acc_now_delinq</th>\n",
       "      <th>chargeoff_within_12_mths</th>\n",
       "      <th>delinq_amnt</th>\n",
       "      <th>pub_rec_bankruptcies</th>\n",
       "      <th>tax_liens</th>\n",
       "      <th>hardship_flag</th>\n",
       "      <th>debt_settlement_flag</th>\n",
       "    </tr>\n",
       "  </thead>\n",
       "  <tbody>\n",
       "  </tbody>\n",
       "</table>\n",
       "<p>0 rows × 55 columns</p>\n",
       "</div>"
      ],
      "text/plain": [
       "Empty DataFrame\n",
       "Columns: [Unnamed: 0, loan_amnt, funded_amnt, funded_amnt_inv, term, int_rate, installment, grade, sub_grade, emp_title, emp_length, home_ownership, annual_inc, verification_status, issue_d, loan_status, pymnt_plan, desc, purpose, title, zip_code, addr_state, dti, delinq_2yrs, earliest_cr_line, inq_last_6mths, mths_since_last_delinq, open_acc, pub_rec, revol_bal, revol_util, total_acc, initial_list_status, out_prncp, out_prncp_inv, total_pymnt, total_pymnt_inv, total_rec_prncp, total_rec_int, total_rec_late_fee, recoveries, collection_recovery_fee, last_pymnt_d, last_pymnt_amnt, last_credit_pull_d, collections_12_mths_ex_med, policy_code, application_type, acc_now_delinq, chargeoff_within_12_mths, delinq_amnt, pub_rec_bankruptcies, tax_liens, hardship_flag, debt_settlement_flag]\n",
       "Index: []\n",
       "\n",
       "[0 rows x 55 columns]"
      ]
     },
     "execution_count": 14,
     "metadata": {},
     "output_type": "execute_result"
    }
   ],
   "source": [
    "df2.loc[df2.duplicated()]"
   ]
  },
  {
   "cell_type": "markdown",
   "metadata": {
    "id": "SzfQtldpzyfM"
   },
   "source": [
    "Remove duplicates:"
   ]
  },
  {
   "cell_type": "code",
   "execution_count": 15,
   "metadata": {
    "colab": {
     "base_uri": "https://localhost:8080/"
    },
    "id": "k0KIlMBVzyfM",
    "outputId": "25c987fc-c2ff-4362-84d7-db4b9bb5db55"
   },
   "outputs": [
    {
     "data": {
      "text/plain": [
       "(17248, 55)"
      ]
     },
     "execution_count": 15,
     "metadata": {},
     "output_type": "execute_result"
    }
   ],
   "source": [
    "# DataFrame.drop_duplicates(): Return DataFrame with duplicate rows removed\n",
    "  # inplace (bool, default False): Whether to drop duplicates in place or to return a copy\n",
    "df2.drop_duplicates(inplace= True)\n",
    "df2.shape"
   ]
  },
  {
   "cell_type": "markdown",
   "metadata": {
    "id": "AUj6PfNuzyfN"
   },
   "source": [
    "## Step Two: Exploratory Data Analysis"
   ]
  },
  {
   "cell_type": "markdown",
   "metadata": {
    "id": "alFpXxEmzyfN"
   },
   "source": [
    "###### 2.1 Check whether the data is balanced or imbalanced"
   ]
  },
  {
   "cell_type": "markdown",
   "metadata": {
    "id": "swMn9BrLzyfN"
   },
   "source": [
    "Practice:\n",
    "1. Encode the target variable as 1 for 'Charged Off' and 0 for 'Fully Paid':\n",
    "2. Calculate the charge off rate:"
   ]
  },
  {
   "cell_type": "code",
   "execution_count": 16,
   "metadata": {
    "id": "LMa_fbkmzyfO"
   },
   "outputs": [],
   "source": [
    "df2['target'] = df2['loan_status'].apply(lambda x:1 if x == 'Charged Off' else 0)"
   ]
  },
  {
   "cell_type": "code",
   "execution_count": 17,
   "metadata": {
    "colab": {
     "base_uri": "https://localhost:8080/"
    },
    "id": "SsGRwXIIzyfO",
    "outputId": "80c3b8e9-fde3-4a56-cf3a-a57d649cd427"
   },
   "outputs": [
    {
     "data": {
      "text/plain": [
       "13.271103896103897"
      ]
     },
     "execution_count": 17,
     "metadata": {},
     "output_type": "execute_result"
    }
   ],
   "source": [
    "df2.target.sum() / df2.shape[0] * 100"
   ]
  },
  {
   "cell_type": "markdown",
   "metadata": {
    "id": "cmAbwdvtzyfO"
   },
   "source": [
    "The data is imbalanced"
   ]
  },
  {
   "cell_type": "markdown",
   "metadata": {
    "id": "yA6ae5aNzyfO"
   },
   "source": [
    "##### 2.2 Drop Columns May Cause Data Leakge\n",
    "Data leakage is when information from outside the training dataset is used to create the model. This additional information can allow the model to learn or know something that it otherwise would not know and in turn invalidate the estimated performance of the mode being constructed.\n",
    "\n",
    "In this case, we want to predict from the client's information whether the loan is \"charged off\" or \"fully paid\". The variables about the loan payment can fully infer the status of the loan, which is against the goal of prediction."
   ]
  },
  {
   "cell_type": "code",
   "execution_count": 18,
   "metadata": {
    "id": "TjrWDasdzyfP"
   },
   "outputs": [],
   "source": [
    "data_leakage_cols = ['funded_amnt','funded_amnt_inv','total_pymnt','total_pymnt_inv','total_rec_prncp',\n",
    "                     'total_rec_int','total_rec_late_fee','recoveries','collection_recovery_fee',\n",
    "                     'last_pymnt_amnt','chargeoff_within_12_mths','debt_settlement_flag']"
   ]
  },
  {
   "cell_type": "code",
   "execution_count": 19,
   "metadata": {
    "id": "y3rOgFoDzyfP"
   },
   "outputs": [],
   "source": [
    "df2.drop(columns=data_leakage_cols, inplace=True)"
   ]
  },
  {
   "cell_type": "markdown",
   "metadata": {
    "id": "cQq7LYK2zyfQ"
   },
   "source": [
    "##### 2.3 Explore numerical features"
   ]
  },
  {
   "cell_type": "markdown",
   "metadata": {
    "id": "Bdj-bRPnzyfR"
   },
   "source": [
    "Basic descriptive statistics view:"
   ]
  },
  {
   "cell_type": "code",
   "execution_count": 20,
   "metadata": {
    "colab": {
     "base_uri": "https://localhost:8080/",
     "height": 317
    },
    "id": "RFhcjNmKzyfR",
    "outputId": "d1d692c3-23c5-41ce-e5dd-95ffc19a23f0"
   },
   "outputs": [
    {
     "data": {
      "text/html": [
       "<div>\n",
       "<style scoped>\n",
       "    .dataframe tbody tr th:only-of-type {\n",
       "        vertical-align: middle;\n",
       "    }\n",
       "\n",
       "    .dataframe tbody tr th {\n",
       "        vertical-align: top;\n",
       "    }\n",
       "\n",
       "    .dataframe thead th {\n",
       "        text-align: right;\n",
       "    }\n",
       "</style>\n",
       "<table border=\"1\" class=\"dataframe\">\n",
       "  <thead>\n",
       "    <tr style=\"text-align: right;\">\n",
       "      <th></th>\n",
       "      <th>Unnamed: 0</th>\n",
       "      <th>loan_amnt</th>\n",
       "      <th>installment</th>\n",
       "      <th>annual_inc</th>\n",
       "      <th>dti</th>\n",
       "      <th>delinq_2yrs</th>\n",
       "      <th>inq_last_6mths</th>\n",
       "      <th>mths_since_last_delinq</th>\n",
       "      <th>open_acc</th>\n",
       "      <th>pub_rec</th>\n",
       "      <th>...</th>\n",
       "      <th>total_acc</th>\n",
       "      <th>out_prncp</th>\n",
       "      <th>out_prncp_inv</th>\n",
       "      <th>collections_12_mths_ex_med</th>\n",
       "      <th>policy_code</th>\n",
       "      <th>acc_now_delinq</th>\n",
       "      <th>delinq_amnt</th>\n",
       "      <th>pub_rec_bankruptcies</th>\n",
       "      <th>tax_liens</th>\n",
       "      <th>target</th>\n",
       "    </tr>\n",
       "  </thead>\n",
       "  <tbody>\n",
       "    <tr>\n",
       "      <th>count</th>\n",
       "      <td>17248.000000</td>\n",
       "      <td>17248.000000</td>\n",
       "      <td>17248.000000</td>\n",
       "      <td>1.724800e+04</td>\n",
       "      <td>17248.000000</td>\n",
       "      <td>17248.000000</td>\n",
       "      <td>17248.000000</td>\n",
       "      <td>6432.000000</td>\n",
       "      <td>17248.000000</td>\n",
       "      <td>17248.000000</td>\n",
       "      <td>...</td>\n",
       "      <td>17248.000000</td>\n",
       "      <td>17248.0</td>\n",
       "      <td>17248.0</td>\n",
       "      <td>17192.0</td>\n",
       "      <td>17248.0</td>\n",
       "      <td>17248.0</td>\n",
       "      <td>17248.0</td>\n",
       "      <td>16551.000000</td>\n",
       "      <td>17209.0</td>\n",
       "      <td>17248.000000</td>\n",
       "    </tr>\n",
       "    <tr>\n",
       "      <th>mean</th>\n",
       "      <td>31168.500000</td>\n",
       "      <td>10227.206053</td>\n",
       "      <td>308.455227</td>\n",
       "      <td>6.829683e+04</td>\n",
       "      <td>12.672873</td>\n",
       "      <td>0.144133</td>\n",
       "      <td>0.921382</td>\n",
       "      <td>34.708955</td>\n",
       "      <td>9.173643</td>\n",
       "      <td>0.056876</td>\n",
       "      <td>...</td>\n",
       "      <td>21.502377</td>\n",
       "      <td>0.0</td>\n",
       "      <td>0.0</td>\n",
       "      <td>0.0</td>\n",
       "      <td>1.0</td>\n",
       "      <td>0.0</td>\n",
       "      <td>0.0</td>\n",
       "      <td>0.041206</td>\n",
       "      <td>0.0</td>\n",
       "      <td>0.132711</td>\n",
       "    </tr>\n",
       "    <tr>\n",
       "      <th>std</th>\n",
       "      <td>4979.213057</td>\n",
       "      <td>6375.972589</td>\n",
       "      <td>196.981532</td>\n",
       "      <td>8.021522e+04</td>\n",
       "      <td>6.589699</td>\n",
       "      <td>0.471344</td>\n",
       "      <td>1.105954</td>\n",
       "      <td>22.569229</td>\n",
       "      <td>4.447792</td>\n",
       "      <td>0.244758</td>\n",
       "      <td>...</td>\n",
       "      <td>11.539355</td>\n",
       "      <td>0.0</td>\n",
       "      <td>0.0</td>\n",
       "      <td>0.0</td>\n",
       "      <td>0.0</td>\n",
       "      <td>0.0</td>\n",
       "      <td>0.0</td>\n",
       "      <td>0.199682</td>\n",
       "      <td>0.0</td>\n",
       "      <td>0.339272</td>\n",
       "    </tr>\n",
       "    <tr>\n",
       "      <th>min</th>\n",
       "      <td>22545.000000</td>\n",
       "      <td>500.000000</td>\n",
       "      <td>15.690000</td>\n",
       "      <td>4.000000e+03</td>\n",
       "      <td>0.000000</td>\n",
       "      <td>0.000000</td>\n",
       "      <td>0.000000</td>\n",
       "      <td>0.000000</td>\n",
       "      <td>2.000000</td>\n",
       "      <td>0.000000</td>\n",
       "      <td>...</td>\n",
       "      <td>2.000000</td>\n",
       "      <td>0.0</td>\n",
       "      <td>0.0</td>\n",
       "      <td>0.0</td>\n",
       "      <td>1.0</td>\n",
       "      <td>0.0</td>\n",
       "      <td>0.0</td>\n",
       "      <td>0.000000</td>\n",
       "      <td>0.0</td>\n",
       "      <td>0.000000</td>\n",
       "    </tr>\n",
       "    <tr>\n",
       "      <th>25%</th>\n",
       "      <td>26856.750000</td>\n",
       "      <td>5000.000000</td>\n",
       "      <td>161.470000</td>\n",
       "      <td>4.000000e+04</td>\n",
       "      <td>7.590000</td>\n",
       "      <td>0.000000</td>\n",
       "      <td>0.000000</td>\n",
       "      <td>17.000000</td>\n",
       "      <td>6.000000</td>\n",
       "      <td>0.000000</td>\n",
       "      <td>...</td>\n",
       "      <td>13.000000</td>\n",
       "      <td>0.0</td>\n",
       "      <td>0.0</td>\n",
       "      <td>0.0</td>\n",
       "      <td>1.0</td>\n",
       "      <td>0.0</td>\n",
       "      <td>0.0</td>\n",
       "      <td>0.000000</td>\n",
       "      <td>0.0</td>\n",
       "      <td>0.000000</td>\n",
       "    </tr>\n",
       "    <tr>\n",
       "      <th>50%</th>\n",
       "      <td>31168.500000</td>\n",
       "      <td>9000.000000</td>\n",
       "      <td>263.290000</td>\n",
       "      <td>5.649600e+04</td>\n",
       "      <td>12.790000</td>\n",
       "      <td>0.000000</td>\n",
       "      <td>1.000000</td>\n",
       "      <td>32.000000</td>\n",
       "      <td>8.000000</td>\n",
       "      <td>0.000000</td>\n",
       "      <td>...</td>\n",
       "      <td>20.000000</td>\n",
       "      <td>0.0</td>\n",
       "      <td>0.0</td>\n",
       "      <td>0.0</td>\n",
       "      <td>1.0</td>\n",
       "      <td>0.0</td>\n",
       "      <td>0.0</td>\n",
       "      <td>0.000000</td>\n",
       "      <td>0.0</td>\n",
       "      <td>0.000000</td>\n",
       "    </tr>\n",
       "    <tr>\n",
       "      <th>75%</th>\n",
       "      <td>35480.250000</td>\n",
       "      <td>14500.000000</td>\n",
       "      <td>407.090000</td>\n",
       "      <td>8.000000e+04</td>\n",
       "      <td>17.900000</td>\n",
       "      <td>0.000000</td>\n",
       "      <td>2.000000</td>\n",
       "      <td>51.000000</td>\n",
       "      <td>12.000000</td>\n",
       "      <td>0.000000</td>\n",
       "      <td>...</td>\n",
       "      <td>28.000000</td>\n",
       "      <td>0.0</td>\n",
       "      <td>0.0</td>\n",
       "      <td>0.0</td>\n",
       "      <td>1.0</td>\n",
       "      <td>0.0</td>\n",
       "      <td>0.0</td>\n",
       "      <td>0.000000</td>\n",
       "      <td>0.0</td>\n",
       "      <td>0.000000</td>\n",
       "    </tr>\n",
       "    <tr>\n",
       "      <th>max</th>\n",
       "      <td>39792.000000</td>\n",
       "      <td>25000.000000</td>\n",
       "      <td>950.120000</td>\n",
       "      <td>6.000000e+06</td>\n",
       "      <td>29.420000</td>\n",
       "      <td>7.000000</td>\n",
       "      <td>8.000000</td>\n",
       "      <td>107.000000</td>\n",
       "      <td>44.000000</td>\n",
       "      <td>4.000000</td>\n",
       "      <td>...</td>\n",
       "      <td>90.000000</td>\n",
       "      <td>0.0</td>\n",
       "      <td>0.0</td>\n",
       "      <td>0.0</td>\n",
       "      <td>1.0</td>\n",
       "      <td>0.0</td>\n",
       "      <td>0.0</td>\n",
       "      <td>2.000000</td>\n",
       "      <td>0.0</td>\n",
       "      <td>1.000000</td>\n",
       "    </tr>\n",
       "  </tbody>\n",
       "</table>\n",
       "<p>8 rows × 21 columns</p>\n",
       "</div>"
      ],
      "text/plain": [
       "         Unnamed: 0     loan_amnt   installment    annual_inc           dti  \\\n",
       "count  17248.000000  17248.000000  17248.000000  1.724800e+04  17248.000000   \n",
       "mean   31168.500000  10227.206053    308.455227  6.829683e+04     12.672873   \n",
       "std     4979.213057   6375.972589    196.981532  8.021522e+04      6.589699   \n",
       "min    22545.000000    500.000000     15.690000  4.000000e+03      0.000000   \n",
       "25%    26856.750000   5000.000000    161.470000  4.000000e+04      7.590000   \n",
       "50%    31168.500000   9000.000000    263.290000  5.649600e+04     12.790000   \n",
       "75%    35480.250000  14500.000000    407.090000  8.000000e+04     17.900000   \n",
       "max    39792.000000  25000.000000    950.120000  6.000000e+06     29.420000   \n",
       "\n",
       "        delinq_2yrs  inq_last_6mths  mths_since_last_delinq      open_acc  \\\n",
       "count  17248.000000    17248.000000             6432.000000  17248.000000   \n",
       "mean       0.144133        0.921382               34.708955      9.173643   \n",
       "std        0.471344        1.105954               22.569229      4.447792   \n",
       "min        0.000000        0.000000                0.000000      2.000000   \n",
       "25%        0.000000        0.000000               17.000000      6.000000   \n",
       "50%        0.000000        1.000000               32.000000      8.000000   \n",
       "75%        0.000000        2.000000               51.000000     12.000000   \n",
       "max        7.000000        8.000000              107.000000     44.000000   \n",
       "\n",
       "            pub_rec  ...     total_acc  out_prncp  out_prncp_inv  \\\n",
       "count  17248.000000  ...  17248.000000    17248.0        17248.0   \n",
       "mean       0.056876  ...     21.502377        0.0            0.0   \n",
       "std        0.244758  ...     11.539355        0.0            0.0   \n",
       "min        0.000000  ...      2.000000        0.0            0.0   \n",
       "25%        0.000000  ...     13.000000        0.0            0.0   \n",
       "50%        0.000000  ...     20.000000        0.0            0.0   \n",
       "75%        0.000000  ...     28.000000        0.0            0.0   \n",
       "max        4.000000  ...     90.000000        0.0            0.0   \n",
       "\n",
       "       collections_12_mths_ex_med  policy_code  acc_now_delinq  delinq_amnt  \\\n",
       "count                     17192.0      17248.0         17248.0      17248.0   \n",
       "mean                          0.0          1.0             0.0          0.0   \n",
       "std                           0.0          0.0             0.0          0.0   \n",
       "min                           0.0          1.0             0.0          0.0   \n",
       "25%                           0.0          1.0             0.0          0.0   \n",
       "50%                           0.0          1.0             0.0          0.0   \n",
       "75%                           0.0          1.0             0.0          0.0   \n",
       "max                           0.0          1.0             0.0          0.0   \n",
       "\n",
       "       pub_rec_bankruptcies  tax_liens        target  \n",
       "count          16551.000000    17209.0  17248.000000  \n",
       "mean               0.041206        0.0      0.132711  \n",
       "std                0.199682        0.0      0.339272  \n",
       "min                0.000000        0.0      0.000000  \n",
       "25%                0.000000        0.0      0.000000  \n",
       "50%                0.000000        0.0      0.000000  \n",
       "75%                0.000000        0.0      0.000000  \n",
       "max                2.000000        0.0      1.000000  \n",
       "\n",
       "[8 rows x 21 columns]"
      ]
     },
     "execution_count": 20,
     "metadata": {},
     "output_type": "execute_result"
    }
   ],
   "source": [
    "df2.describe()"
   ]
  },
  {
   "cell_type": "code",
   "execution_count": 21,
   "metadata": {
    "colab": {
     "base_uri": "https://localhost:8080/"
    },
    "id": "wp26frdOzyfS",
    "outputId": "d159b30c-7617-41e6-ad21-cb39088d0d7f",
    "scrolled": true
   },
   "outputs": [
    {
     "data": {
      "text/plain": [
       "0.0    17248\n",
       "Name: delinq_amnt, dtype: int64"
      ]
     },
     "execution_count": 21,
     "metadata": {},
     "output_type": "execute_result"
    }
   ],
   "source": [
    "df2['delinq_amnt'].value_counts()"
   ]
  },
  {
   "cell_type": "markdown",
   "metadata": {
    "id": "bSy9EgotzyfS"
   },
   "source": [
    "Drop columns with constant values:\n",
    "- collections_12_mths_ex_med\n",
    "- tax_liens\n",
    "- out_prncp\n",
    "- out_prncp_inv\n",
    "- delinq_amnt\n",
    "- acc_now_delinq "
   ]
  },
  {
   "cell_type": "code",
   "execution_count": 22,
   "metadata": {
    "id": "6H7KFa6QzyfT"
   },
   "outputs": [],
   "source": [
    "df2.drop(columns=['collections_12_mths_ex_med','tax_liens','out_prncp','out_prncp_inv','delinq_amnt','acc_now_delinq'], inplace=True)"
   ]
  },
  {
   "cell_type": "code",
   "execution_count": 23,
   "metadata": {
    "colab": {
     "base_uri": "https://localhost:8080/"
    },
    "id": "lJq-H90_zyfT",
    "outputId": "e972bc08-841f-4112-ea01-5c573aaf3f87"
   },
   "outputs": [
    {
     "data": {
      "text/plain": [
       "(17248, 38)"
      ]
     },
     "execution_count": 23,
     "metadata": {},
     "output_type": "execute_result"
    }
   ],
   "source": [
    "df2.shape"
   ]
  },
  {
   "cell_type": "markdown",
   "metadata": {
    "id": "E7F7oWnKzyfU"
   },
   "source": [
    "##### 2.5 Explore Categorical features"
   ]
  },
  {
   "cell_type": "code",
   "execution_count": 24,
   "metadata": {
    "colab": {
     "base_uri": "https://localhost:8080/"
    },
    "id": "2mSLqNRQzyfU",
    "outputId": "2bacca7b-e654-4f1b-9a0a-e4501fc5b9ff"
   },
   "outputs": [
    {
     "name": "stdout",
     "output_type": "stream",
     "text": [
      "<class 'pandas.core.frame.DataFrame'>\n",
      "Int64Index: 17248 entries, 0 to 17247\n",
      "Data columns (total 38 columns):\n",
      " #   Column                  Non-Null Count  Dtype  \n",
      "---  ------                  --------------  -----  \n",
      " 0   Unnamed: 0              17248 non-null  int64  \n",
      " 1   loan_amnt               17248 non-null  float64\n",
      " 2   term                    17248 non-null  object \n",
      " 3   int_rate                17248 non-null  object \n",
      " 4   installment             17248 non-null  float64\n",
      " 5   grade                   17248 non-null  object \n",
      " 6   sub_grade               17248 non-null  object \n",
      " 7   emp_title               16275 non-null  object \n",
      " 8   emp_length              16960 non-null  object \n",
      " 9   home_ownership          17248 non-null  object \n",
      " 10  annual_inc              17248 non-null  float64\n",
      " 11  verification_status     17248 non-null  object \n",
      " 12  issue_d                 17248 non-null  object \n",
      " 13  loan_status             17248 non-null  object \n",
      " 14  pymnt_plan              17248 non-null  object \n",
      " 15  desc                    13577 non-null  object \n",
      " 16  purpose                 17248 non-null  object \n",
      " 17  title                   17237 non-null  object \n",
      " 18  zip_code                17248 non-null  object \n",
      " 19  addr_state              17248 non-null  object \n",
      " 20  dti                     17248 non-null  float64\n",
      " 21  delinq_2yrs             17248 non-null  float64\n",
      " 22  earliest_cr_line        17248 non-null  object \n",
      " 23  inq_last_6mths          17248 non-null  float64\n",
      " 24  mths_since_last_delinq  6432 non-null   float64\n",
      " 25  open_acc                17248 non-null  float64\n",
      " 26  pub_rec                 17248 non-null  float64\n",
      " 27  revol_bal               17248 non-null  float64\n",
      " 28  revol_util              17208 non-null  object \n",
      " 29  total_acc               17248 non-null  float64\n",
      " 30  initial_list_status     17248 non-null  object \n",
      " 31  last_pymnt_d            17215 non-null  object \n",
      " 32  last_credit_pull_d      17246 non-null  object \n",
      " 33  policy_code             17248 non-null  float64\n",
      " 34  application_type        17248 non-null  object \n",
      " 35  pub_rec_bankruptcies    16551 non-null  float64\n",
      " 36  hardship_flag           17248 non-null  object \n",
      " 37  target                  17248 non-null  int64  \n",
      "dtypes: float64(13), int64(2), object(23)\n",
      "memory usage: 5.1+ MB\n",
      "None\n"
     ]
    }
   ],
   "source": [
    "print(df2.info(0))"
   ]
  },
  {
   "cell_type": "markdown",
   "metadata": {
    "id": "hAwnEb-MzyfV"
   },
   "source": [
    "Create a separate DataFrame consisting of only categorical features:"
   ]
  },
  {
   "cell_type": "code",
   "execution_count": 25,
   "metadata": {
    "colab": {
     "base_uri": "https://localhost:8080/",
     "height": 389
    },
    "id": "Z1HA6FrRzyfV",
    "outputId": "64d81603-80cb-4fdd-e23d-380236e816a0"
   },
   "outputs": [
    {
     "data": {
      "text/html": [
       "<div>\n",
       "<style scoped>\n",
       "    .dataframe tbody tr th:only-of-type {\n",
       "        vertical-align: middle;\n",
       "    }\n",
       "\n",
       "    .dataframe tbody tr th {\n",
       "        vertical-align: top;\n",
       "    }\n",
       "\n",
       "    .dataframe thead th {\n",
       "        text-align: right;\n",
       "    }\n",
       "</style>\n",
       "<table border=\"1\" class=\"dataframe\">\n",
       "  <thead>\n",
       "    <tr style=\"text-align: right;\">\n",
       "      <th></th>\n",
       "      <th>term</th>\n",
       "      <th>int_rate</th>\n",
       "      <th>grade</th>\n",
       "      <th>sub_grade</th>\n",
       "      <th>emp_title</th>\n",
       "      <th>emp_length</th>\n",
       "      <th>home_ownership</th>\n",
       "      <th>verification_status</th>\n",
       "      <th>issue_d</th>\n",
       "      <th>loan_status</th>\n",
       "      <th>...</th>\n",
       "      <th>title</th>\n",
       "      <th>zip_code</th>\n",
       "      <th>addr_state</th>\n",
       "      <th>earliest_cr_line</th>\n",
       "      <th>revol_util</th>\n",
       "      <th>initial_list_status</th>\n",
       "      <th>last_pymnt_d</th>\n",
       "      <th>last_credit_pull_d</th>\n",
       "      <th>application_type</th>\n",
       "      <th>hardship_flag</th>\n",
       "    </tr>\n",
       "  </thead>\n",
       "  <tbody>\n",
       "    <tr>\n",
       "      <th>0</th>\n",
       "      <td>36 months</td>\n",
       "      <td>9.99%</td>\n",
       "      <td>B</td>\n",
       "      <td>B4</td>\n",
       "      <td>TCVCG</td>\n",
       "      <td>&lt; 1 year</td>\n",
       "      <td>RENT</td>\n",
       "      <td>Not Verified</td>\n",
       "      <td>10-Dec</td>\n",
       "      <td>Fully Paid</td>\n",
       "      <td>...</td>\n",
       "      <td>tracy</td>\n",
       "      <td>071xx</td>\n",
       "      <td>NJ</td>\n",
       "      <td>Jan-74</td>\n",
       "      <td>80.10%</td>\n",
       "      <td>f</td>\n",
       "      <td>11-Jan</td>\n",
       "      <td>11-Jan</td>\n",
       "      <td>Individual</td>\n",
       "      <td>N</td>\n",
       "    </tr>\n",
       "    <tr>\n",
       "      <th>1</th>\n",
       "      <td>36 months</td>\n",
       "      <td>13.72%</td>\n",
       "      <td>C</td>\n",
       "      <td>C5</td>\n",
       "      <td>Santa Fe Springs Storage Park</td>\n",
       "      <td>10+ years</td>\n",
       "      <td>RENT</td>\n",
       "      <td>Verified</td>\n",
       "      <td>10-Dec</td>\n",
       "      <td>Fully Paid</td>\n",
       "      <td>...</td>\n",
       "      <td>Bye Bye BofA</td>\n",
       "      <td>906xx</td>\n",
       "      <td>CA</td>\n",
       "      <td>Sep-96</td>\n",
       "      <td>57.50%</td>\n",
       "      <td>f</td>\n",
       "      <td>12-Jun</td>\n",
       "      <td>12-Jul</td>\n",
       "      <td>Individual</td>\n",
       "      <td>N</td>\n",
       "    </tr>\n",
       "    <tr>\n",
       "      <th>2</th>\n",
       "      <td>60 months</td>\n",
       "      <td>16.69%</td>\n",
       "      <td>E</td>\n",
       "      <td>E3</td>\n",
       "      <td>NaN</td>\n",
       "      <td>NaN</td>\n",
       "      <td>RENT</td>\n",
       "      <td>Verified</td>\n",
       "      <td>10-Dec</td>\n",
       "      <td>Fully Paid</td>\n",
       "      <td>...</td>\n",
       "      <td>rita loan</td>\n",
       "      <td>330xx</td>\n",
       "      <td>FL</td>\n",
       "      <td>2-Jun</td>\n",
       "      <td>65.10%</td>\n",
       "      <td>f</td>\n",
       "      <td>15-Sep</td>\n",
       "      <td>15-Sep</td>\n",
       "      <td>Individual</td>\n",
       "      <td>N</td>\n",
       "    </tr>\n",
       "    <tr>\n",
       "      <th>3</th>\n",
       "      <td>60 months</td>\n",
       "      <td>12.23%</td>\n",
       "      <td>C</td>\n",
       "      <td>C1</td>\n",
       "      <td>Norfolk Southern Corp.</td>\n",
       "      <td>10+ years</td>\n",
       "      <td>MORTGAGE</td>\n",
       "      <td>Verified</td>\n",
       "      <td>10-Dec</td>\n",
       "      <td>Fully Paid</td>\n",
       "      <td>...</td>\n",
       "      <td>connie1958</td>\n",
       "      <td>450xx</td>\n",
       "      <td>OH</td>\n",
       "      <td>Jun-90</td>\n",
       "      <td>68.70%</td>\n",
       "      <td>f</td>\n",
       "      <td>13-Oct</td>\n",
       "      <td>13-Nov</td>\n",
       "      <td>Individual</td>\n",
       "      <td>N</td>\n",
       "    </tr>\n",
       "    <tr>\n",
       "      <th>4</th>\n",
       "      <td>36 months</td>\n",
       "      <td>12.98%</td>\n",
       "      <td>C</td>\n",
       "      <td>C3</td>\n",
       "      <td>Eaton drilling</td>\n",
       "      <td>4 years</td>\n",
       "      <td>MORTGAGE</td>\n",
       "      <td>Not Verified</td>\n",
       "      <td>10-Dec</td>\n",
       "      <td>Charged Off</td>\n",
       "      <td>...</td>\n",
       "      <td>Bill help</td>\n",
       "      <td>956xx</td>\n",
       "      <td>CA</td>\n",
       "      <td>7-Mar</td>\n",
       "      <td>33.60%</td>\n",
       "      <td>f</td>\n",
       "      <td>12-Sep</td>\n",
       "      <td>16-Oct</td>\n",
       "      <td>Individual</td>\n",
       "      <td>N</td>\n",
       "    </tr>\n",
       "  </tbody>\n",
       "</table>\n",
       "<p>5 rows × 23 columns</p>\n",
       "</div>"
      ],
      "text/plain": [
       "         term int_rate grade sub_grade                      emp_title  \\\n",
       "0   36 months    9.99%     B        B4                          TCVCG   \n",
       "1   36 months   13.72%     C        C5  Santa Fe Springs Storage Park   \n",
       "2   60 months   16.69%     E        E3                            NaN   \n",
       "3   60 months   12.23%     C        C1         Norfolk Southern Corp.   \n",
       "4   36 months   12.98%     C        C3                 Eaton drilling   \n",
       "\n",
       "  emp_length home_ownership verification_status issue_d  loan_status  ...  \\\n",
       "0   < 1 year           RENT        Not Verified  10-Dec   Fully Paid  ...   \n",
       "1  10+ years           RENT            Verified  10-Dec   Fully Paid  ...   \n",
       "2        NaN           RENT            Verified  10-Dec   Fully Paid  ...   \n",
       "3  10+ years       MORTGAGE            Verified  10-Dec   Fully Paid  ...   \n",
       "4    4 years       MORTGAGE        Not Verified  10-Dec  Charged Off  ...   \n",
       "\n",
       "          title zip_code addr_state earliest_cr_line revol_util  \\\n",
       "0         tracy    071xx         NJ           Jan-74     80.10%   \n",
       "1  Bye Bye BofA    906xx         CA           Sep-96     57.50%   \n",
       "2     rita loan    330xx         FL            2-Jun     65.10%   \n",
       "3    connie1958    450xx         OH           Jun-90     68.70%   \n",
       "4     Bill help    956xx         CA            7-Mar     33.60%   \n",
       "\n",
       "  initial_list_status last_pymnt_d last_credit_pull_d application_type  \\\n",
       "0                   f       11-Jan             11-Jan       Individual   \n",
       "1                   f       12-Jun             12-Jul       Individual   \n",
       "2                   f       15-Sep             15-Sep       Individual   \n",
       "3                   f       13-Oct             13-Nov       Individual   \n",
       "4                   f       12-Sep             16-Oct       Individual   \n",
       "\n",
       "  hardship_flag  \n",
       "0             N  \n",
       "1             N  \n",
       "2             N  \n",
       "3             N  \n",
       "4             N  \n",
       "\n",
       "[5 rows x 23 columns]"
      ]
     },
     "execution_count": 25,
     "metadata": {},
     "output_type": "execute_result"
    }
   ],
   "source": [
    "df_cat=df2.select_dtypes(include=['object'])\n",
    "df_cat.head()"
   ]
  },
  {
   "cell_type": "markdown",
   "metadata": {
    "id": "-C9M3cIMzyfV"
   },
   "source": [
    "Drop the target column and create a list with all categorical columns:"
   ]
  },
  {
   "cell_type": "code",
   "execution_count": 26,
   "metadata": {
    "colab": {
     "base_uri": "https://localhost:8080/"
    },
    "id": "OS3vkkzBzyfV",
    "outputId": "fcb10f5b-2de7-4ef0-b96e-b66f1b45a522"
   },
   "outputs": [
    {
     "data": {
      "text/plain": [
       "['term',\n",
       " 'int_rate',\n",
       " 'grade',\n",
       " 'sub_grade',\n",
       " 'emp_title',\n",
       " 'emp_length',\n",
       " 'home_ownership',\n",
       " 'verification_status',\n",
       " 'issue_d',\n",
       " 'pymnt_plan',\n",
       " 'desc',\n",
       " 'purpose',\n",
       " 'title',\n",
       " 'zip_code',\n",
       " 'addr_state',\n",
       " 'earliest_cr_line',\n",
       " 'revol_util',\n",
       " 'initial_list_status',\n",
       " 'last_pymnt_d',\n",
       " 'last_credit_pull_d',\n",
       " 'application_type',\n",
       " 'hardship_flag']"
      ]
     },
     "execution_count": 26,
     "metadata": {},
     "output_type": "execute_result"
    }
   ],
   "source": [
    "cat_columns=list(df_cat.drop(columns=['loan_status']).columns)\n",
    "cat_columns"
   ]
  },
  {
   "cell_type": "markdown",
   "metadata": {
    "id": "44Di2Yg9zyfW"
   },
   "source": [
    "Strip leading and trailing space of each categorical column:"
   ]
  },
  {
   "cell_type": "code",
   "execution_count": 27,
   "metadata": {
    "id": "jOr7YL5MzyfW"
   },
   "outputs": [],
   "source": [
    "for i in cat_columns:   \n",
    "    df2[i] = df2[i].str.strip()"
   ]
  },
  {
   "cell_type": "markdown",
   "metadata": {
    "id": "tqRBi-wVzyfW"
   },
   "source": [
    "Quickly explore each each categorical feature and check the frequency:"
   ]
  },
  {
   "cell_type": "code",
   "execution_count": 28,
   "metadata": {
    "colab": {
     "base_uri": "https://localhost:8080/",
     "height": 598
    },
    "id": "yQH3Gyt2zyfX",
    "outputId": "c06a9983-1021-4175-ba59-4828f912649c"
   },
   "outputs": [
    {
     "data": {
      "text/html": [
       "<div>\n",
       "<style scoped>\n",
       "    .dataframe tbody tr th:only-of-type {\n",
       "        vertical-align: middle;\n",
       "    }\n",
       "\n",
       "    .dataframe tbody tr th {\n",
       "        vertical-align: top;\n",
       "    }\n",
       "\n",
       "    .dataframe thead th {\n",
       "        text-align: right;\n",
       "    }\n",
       "</style>\n",
       "<table border=\"1\" class=\"dataframe\">\n",
       "  <thead>\n",
       "    <tr style=\"text-align: right;\">\n",
       "      <th></th>\n",
       "      <th>term</th>\n",
       "      <th>int_rate</th>\n",
       "      <th>grade</th>\n",
       "      <th>sub_grade</th>\n",
       "      <th>emp_title</th>\n",
       "      <th>emp_length</th>\n",
       "      <th>home_ownership</th>\n",
       "      <th>verification_status</th>\n",
       "      <th>issue_d</th>\n",
       "      <th>pymnt_plan</th>\n",
       "      <th>desc</th>\n",
       "      <th>purpose</th>\n",
       "      <th>title</th>\n",
       "      <th>zip_code</th>\n",
       "      <th>addr_state</th>\n",
       "      <th>earliest_cr_line</th>\n",
       "      <th>revol_util</th>\n",
       "      <th>initial_list_status</th>\n",
       "      <th>last_pymnt_d</th>\n",
       "      <th>last_credit_pull_d</th>\n",
       "      <th>application_type</th>\n",
       "      <th>hardship_flag</th>\n",
       "    </tr>\n",
       "  </thead>\n",
       "  <tbody>\n",
       "    <tr>\n",
       "      <th>0</th>\n",
       "      <td>36 months</td>\n",
       "      <td>9.99%</td>\n",
       "      <td>B</td>\n",
       "      <td>B4</td>\n",
       "      <td>TCVCG</td>\n",
       "      <td>&lt; 1 year</td>\n",
       "      <td>RENT</td>\n",
       "      <td>Not Verified</td>\n",
       "      <td>10-Dec</td>\n",
       "      <td>n</td>\n",
       "      <td>Borrower added on 12/06/10 &gt; I would like to c...</td>\n",
       "      <td>debt_consolidation</td>\n",
       "      <td>tracy</td>\n",
       "      <td>071xx</td>\n",
       "      <td>NJ</td>\n",
       "      <td>Jan-74</td>\n",
       "      <td>80.10%</td>\n",
       "      <td>f</td>\n",
       "      <td>11-Jan</td>\n",
       "      <td>11-Jan</td>\n",
       "      <td>Individual</td>\n",
       "      <td>N</td>\n",
       "    </tr>\n",
       "    <tr>\n",
       "      <th>1</th>\n",
       "      <td>36 months</td>\n",
       "      <td>13.72%</td>\n",
       "      <td>C</td>\n",
       "      <td>C5</td>\n",
       "      <td>Santa Fe Springs Storage Park</td>\n",
       "      <td>10+ years</td>\n",
       "      <td>RENT</td>\n",
       "      <td>Verified</td>\n",
       "      <td>10-Dec</td>\n",
       "      <td>n</td>\n",
       "      <td>Borrower added on 12/06/10 &gt; I am planning on ...</td>\n",
       "      <td>credit_card</td>\n",
       "      <td>Bye Bye BofA</td>\n",
       "      <td>906xx</td>\n",
       "      <td>CA</td>\n",
       "      <td>Sep-96</td>\n",
       "      <td>57.50%</td>\n",
       "      <td>f</td>\n",
       "      <td>12-Jun</td>\n",
       "      <td>12-Jul</td>\n",
       "      <td>Individual</td>\n",
       "      <td>N</td>\n",
       "    </tr>\n",
       "    <tr>\n",
       "      <th>2</th>\n",
       "      <td>60 months</td>\n",
       "      <td>16.69%</td>\n",
       "      <td>E</td>\n",
       "      <td>E3</td>\n",
       "      <td>NaN</td>\n",
       "      <td>NaN</td>\n",
       "      <td>RENT</td>\n",
       "      <td>Verified</td>\n",
       "      <td>10-Dec</td>\n",
       "      <td>n</td>\n",
       "      <td>Borrower added on 12/08/10 &gt; the funds are goi...</td>\n",
       "      <td>other</td>\n",
       "      <td>rita loan</td>\n",
       "      <td>330xx</td>\n",
       "      <td>FL</td>\n",
       "      <td>2-Jun</td>\n",
       "      <td>65.10%</td>\n",
       "      <td>f</td>\n",
       "      <td>15-Sep</td>\n",
       "      <td>15-Sep</td>\n",
       "      <td>Individual</td>\n",
       "      <td>N</td>\n",
       "    </tr>\n",
       "    <tr>\n",
       "      <th>3</th>\n",
       "      <td>60 months</td>\n",
       "      <td>12.23%</td>\n",
       "      <td>C</td>\n",
       "      <td>C1</td>\n",
       "      <td>Norfolk Southern Corp.</td>\n",
       "      <td>10+ years</td>\n",
       "      <td>MORTGAGE</td>\n",
       "      <td>Verified</td>\n",
       "      <td>10-Dec</td>\n",
       "      <td>n</td>\n",
       "      <td>NaN</td>\n",
       "      <td>credit_card</td>\n",
       "      <td>connie1958</td>\n",
       "      <td>450xx</td>\n",
       "      <td>OH</td>\n",
       "      <td>Jun-90</td>\n",
       "      <td>68.70%</td>\n",
       "      <td>f</td>\n",
       "      <td>13-Oct</td>\n",
       "      <td>13-Nov</td>\n",
       "      <td>Individual</td>\n",
       "      <td>N</td>\n",
       "    </tr>\n",
       "    <tr>\n",
       "      <th>4</th>\n",
       "      <td>36 months</td>\n",
       "      <td>12.98%</td>\n",
       "      <td>C</td>\n",
       "      <td>C3</td>\n",
       "      <td>Eaton drilling</td>\n",
       "      <td>4 years</td>\n",
       "      <td>MORTGAGE</td>\n",
       "      <td>Not Verified</td>\n",
       "      <td>10-Dec</td>\n",
       "      <td>n</td>\n",
       "      <td>NaN</td>\n",
       "      <td>debt_consolidation</td>\n",
       "      <td>Bill help</td>\n",
       "      <td>956xx</td>\n",
       "      <td>CA</td>\n",
       "      <td>7-Mar</td>\n",
       "      <td>33.60%</td>\n",
       "      <td>f</td>\n",
       "      <td>12-Sep</td>\n",
       "      <td>16-Oct</td>\n",
       "      <td>Individual</td>\n",
       "      <td>N</td>\n",
       "    </tr>\n",
       "  </tbody>\n",
       "</table>\n",
       "</div>"
      ],
      "text/plain": [
       "        term int_rate grade sub_grade                      emp_title  \\\n",
       "0  36 months    9.99%     B        B4                          TCVCG   \n",
       "1  36 months   13.72%     C        C5  Santa Fe Springs Storage Park   \n",
       "2  60 months   16.69%     E        E3                            NaN   \n",
       "3  60 months   12.23%     C        C1         Norfolk Southern Corp.   \n",
       "4  36 months   12.98%     C        C3                 Eaton drilling   \n",
       "\n",
       "  emp_length home_ownership verification_status issue_d pymnt_plan  \\\n",
       "0   < 1 year           RENT        Not Verified  10-Dec          n   \n",
       "1  10+ years           RENT            Verified  10-Dec          n   \n",
       "2        NaN           RENT            Verified  10-Dec          n   \n",
       "3  10+ years       MORTGAGE            Verified  10-Dec          n   \n",
       "4    4 years       MORTGAGE        Not Verified  10-Dec          n   \n",
       "\n",
       "                                                desc             purpose  \\\n",
       "0  Borrower added on 12/06/10 > I would like to c...  debt_consolidation   \n",
       "1  Borrower added on 12/06/10 > I am planning on ...         credit_card   \n",
       "2  Borrower added on 12/08/10 > the funds are goi...               other   \n",
       "3                                                NaN         credit_card   \n",
       "4                                                NaN  debt_consolidation   \n",
       "\n",
       "          title zip_code addr_state earliest_cr_line revol_util  \\\n",
       "0         tracy    071xx         NJ           Jan-74     80.10%   \n",
       "1  Bye Bye BofA    906xx         CA           Sep-96     57.50%   \n",
       "2     rita loan    330xx         FL            2-Jun     65.10%   \n",
       "3    connie1958    450xx         OH           Jun-90     68.70%   \n",
       "4     Bill help    956xx         CA            7-Mar     33.60%   \n",
       "\n",
       "  initial_list_status last_pymnt_d last_credit_pull_d application_type  \\\n",
       "0                   f       11-Jan             11-Jan       Individual   \n",
       "1                   f       12-Jun             12-Jul       Individual   \n",
       "2                   f       15-Sep             15-Sep       Individual   \n",
       "3                   f       13-Oct             13-Nov       Individual   \n",
       "4                   f       12-Sep             16-Oct       Individual   \n",
       "\n",
       "  hardship_flag  \n",
       "0             N  \n",
       "1             N  \n",
       "2             N  \n",
       "3             N  \n",
       "4             N  "
      ]
     },
     "execution_count": 28,
     "metadata": {},
     "output_type": "execute_result"
    }
   ],
   "source": [
    "pd.set_option('display.max_columns', None)\n",
    "df2[cat_columns].head(5)"
   ]
  },
  {
   "cell_type": "markdown",
   "metadata": {
    "id": "8EvryG_SzyfX"
   },
   "source": [
    "Check frequency:"
   ]
  },
  {
   "cell_type": "code",
   "execution_count": 29,
   "metadata": {
    "id": "fs6USoakzyfX"
   },
   "outputs": [
    {
     "name": "stdout",
     "output_type": "stream",
     "text": [
      "            term\n",
      "36 months  14433\n",
      "60 months   2815\n",
      "        int_rate\n",
      "7.88%        725\n",
      "7.51%        486\n",
      "11.86%       392\n",
      "7.14%        341\n",
      "11.49%       336\n",
      "...          ...\n",
      "16.15%         1\n",
      "16.40%         1\n",
      "16.96%         1\n",
      "17.46%         1\n",
      "16.01%         1\n",
      "\n",
      "[268 rows x 1 columns]\n",
      "   grade\n",
      "B   5251\n",
      "A   4082\n",
      "C   4005\n",
      "D   2429\n",
      "E   1066\n",
      "F    309\n",
      "G    106\n",
      "    sub_grade\n",
      "A5       1492\n",
      "B5       1266\n",
      "B4       1168\n",
      "A4       1104\n",
      "B3       1041\n",
      "..        ...\n",
      "F5         26\n",
      "G2         25\n",
      "G4         25\n",
      "G3         15\n",
      "G5         13\n",
      "\n",
      "[35 rows x 1 columns]\n",
      "                                     emp_title\n",
      "US Army                                     49\n",
      "Bank of America                             41\n",
      "Self Employed                               35\n",
      "Self                                        29\n",
      "US Air Force                                29\n",
      "...                                        ...\n",
      "Flo tv, Qualcomm                             1\n",
      "University of California Santa Cruz          1\n",
      "Colorado Business Bank                       1\n",
      "ANS Marketing LLC                            1\n",
      "Joseph Productions, Inc.                     1\n",
      "\n",
      "[13485 rows x 1 columns]\n",
      "           emp_length\n",
      "10+ years        3362\n",
      "< 1 year         2354\n",
      "2 years          2191\n",
      "3 years          1900\n",
      "1 year           1635\n",
      "4 years          1475\n",
      "5 years          1359\n",
      "6 years           798\n",
      "7 years           696\n",
      "8 years           633\n",
      "9 years           557\n",
      "          home_ownership\n",
      "RENT                8599\n",
      "MORTGAGE            7165\n",
      "OWN                 1384\n",
      "OTHER                 97\n",
      "NONE                   3\n",
      "                 verification_status\n",
      "Not Verified                    9719\n",
      "Verified                        4723\n",
      "Source Verified                 2806\n",
      "        issue_d\n",
      "10-Oct     1138\n",
      "10-Nov     1121\n",
      "10-Jul     1119\n",
      "10-Sep     1087\n",
      "10-Aug     1078\n",
      "...         ...\n",
      "7-Aug        33\n",
      "8-Sep        32\n",
      "7-Jul        30\n",
      "7-Sep        18\n",
      "7-Jun         1\n",
      "\n",
      "[43 rows x 1 columns]\n",
      "   pymnt_plan\n",
      "n       17248\n",
      "                                                    desc\n",
      "                                                     207\n",
      "Camping Membership                                     6\n",
      "Debt Consolidation                                     6\n",
      "Personal Loan                                          4\n",
      "credit card debt consolidation                         3\n",
      "...                                                  ...\n",
      "Borrower added on 05/06/10 > With this loan we ...     1\n",
      "Borrower added on 04/15/10 > I will be selling ...     1\n",
      "Borrower added on 03/08/10 > I have been in my ...     1\n",
      "4,000.00 will be used to pay off my Veterinaria...     1\n",
      "I am currently paying off my credit cards but w...     1\n",
      "\n",
      "[13328 rows x 1 columns]\n",
      "                    purpose\n",
      "debt_consolidation     7617\n",
      "credit_card            2201\n",
      "other                  2066\n",
      "home_improvement       1244\n",
      "major_purchase         1070\n",
      "small_business          827\n",
      "car                     576\n",
      "wedding                 427\n",
      "educational             325\n",
      "medical                 289\n",
      "moving                  266\n",
      "house                   159\n",
      "vacation                138\n",
      "renewable_energy         43\n",
      "                                          title\n",
      "Debt Consolidation                          709\n",
      "Personal Loan                               318\n",
      "Debt Consolidation Loan                     228\n",
      "Consolidation                               194\n",
      "debt consolidation                          152\n",
      "...                                         ...\n",
      "In need of a used car for transportation      1\n",
      "Debit Consol                                  1\n",
      "NY                                            1\n",
      "cc pay off                                    1\n",
      "DEBT FREE LOAN                                1\n",
      "\n",
      "[11114 rows x 1 columns]\n",
      "       zip_code\n",
      "100xx       290\n",
      "945xx       244\n",
      "112xx       222\n",
      "900xx       221\n",
      "606xx       214\n",
      "...         ...\n",
      "094xx         1\n",
      "859xx         1\n",
      "838xx         1\n",
      "833xx         1\n",
      "499xx         1\n",
      "\n",
      "[783 rows x 1 columns]\n",
      "    addr_state\n",
      "CA        3099\n",
      "NY        1716\n",
      "FL        1216\n",
      "TX        1191\n",
      "NJ         826\n",
      "..         ...\n",
      "IN           9\n",
      "ID           6\n",
      "NE           5\n",
      "IA           5\n",
      "ME           3\n",
      "\n",
      "[50 rows x 1 columns]\n",
      "        earliest_cr_line\n",
      "Oct-99               172\n",
      "Dec-98               160\n",
      "Dec-97               154\n",
      "Dec-95               151\n",
      "Nov-98               148\n",
      "...                  ...\n",
      "Aug-73                 1\n",
      "Nov-61                 1\n",
      "Feb-72                 1\n",
      "Oct-74                 1\n",
      "Jun-70                 1\n",
      "\n",
      "[481 rows x 1 columns]\n",
      "        revol_util\n",
      "0%             497\n",
      "0.50%           33\n",
      "0.20%           32\n",
      "35.30%          32\n",
      "23.80%          31\n",
      "...            ...\n",
      "10.17%           1\n",
      "56.26%           1\n",
      "70.94%           1\n",
      "5.79%            1\n",
      "7.28%            1\n",
      "\n",
      "[1030 rows x 1 columns]\n",
      "   initial_list_status\n",
      "f                17248\n",
      "        last_pymnt_d\n",
      "13-Mar           555\n",
      "13-May           489\n",
      "13-Feb           479\n",
      "12-Mar           477\n",
      "11-Mar           454\n",
      "...              ...\n",
      "8-Mar              5\n",
      "8-Jan              4\n",
      "16-Feb             2\n",
      "16-Jul             1\n",
      "8-Feb              1\n",
      "\n",
      "[99 rows x 1 columns]\n",
      "        last_credit_pull_d\n",
      "19-May                3260\n",
      "16-Oct                1260\n",
      "19-Apr                 391\n",
      "13-Feb                 315\n",
      "19-Mar                 310\n",
      "...                    ...\n",
      "8-Jul                    1\n",
      "7-Jul                    1\n",
      "8-Jun                    1\n",
      "7-May                    1\n",
      "7-Dec                    1\n",
      "\n",
      "[141 rows x 1 columns]\n",
      "            application_type\n",
      "Individual             17248\n",
      "   hardship_flag\n",
      "N          17248\n"
     ]
    }
   ],
   "source": [
    "for i in cat_columns:\n",
    "    print(df2[i].value_counts().to_frame())\n",
    "#for seperate columns:\n",
    "#df2['emp_title'].value_counts()"
   ]
  },
  {
   "cell_type": "markdown",
   "metadata": {
    "id": "uizdMznvzyfq"
   },
   "source": [
    "After the exploratory analysis, we have a few findings:\n",
    "\n",
    "1. **'desc'** is not relevant to the mdoel build and should be dropped\n",
    "\n",
    "2. Drop all **date columns** to simplify the model build in this case. If we have more time, we can do some feature engineering by using date features, e.g. df_loan['issue_to_earliest_cr_line'] = df_loan['issue_d'] - df_loan['earliest_cr_line']\n",
    "\n",
    "3. **'pmnt_plan','hardship_flag','initial_list_status' and 'application_type'** only have constant values and are useless for model build\n",
    "\n",
    "4. **'emp_title', 'zip_code', and 'title'** have too many unique values and are not informative, we should drop them \n",
    "\n",
    "5. To simplify the analysis, we only **keep 'grade' and drop 'sub_grade'**\n",
    "\n",
    "6. Also, some types of information filled in by customer are very difficult to verify (customers can put whatever they want to). To simplify the analysis for this case, we should drop these columns that cann't be easily verified: **'emp_length', 'purpose'**\n",
    "\n",
    "Finally, we create a list including all categorical columns should be dropped"
   ]
  },
  {
   "cell_type": "code",
   "execution_count": 30,
   "metadata": {
    "id": "88_2ck39zyfq"
   },
   "outputs": [],
   "source": [
    "drop_feature=['desc','issue_d','last_pymnt_d','last_credit_pull_d','earliest_cr_line', 'pymnt_plan','hardship_flag', 'emp_title',\n",
    "             'emp_length', 'zip_code','title', 'purpose','sub_grade','initial_list_status','application_type']"
   ]
  },
  {
   "cell_type": "code",
   "execution_count": 31,
   "metadata": {
    "id": "crSuT595zyfr"
   },
   "outputs": [],
   "source": [
    "# Drop thoes features\n",
    "df2 = df2.drop(columns=drop_feature)"
   ]
  },
  {
   "cell_type": "code",
   "execution_count": 32,
   "metadata": {
    "colab": {
     "base_uri": "https://localhost:8080/",
     "height": 309
    },
    "id": "JNdUKGCdzyfs",
    "outputId": "2585e755-0eec-4df5-d566-c41ddb102749"
   },
   "outputs": [
    {
     "data": {
      "text/html": [
       "<div>\n",
       "<style scoped>\n",
       "    .dataframe tbody tr th:only-of-type {\n",
       "        vertical-align: middle;\n",
       "    }\n",
       "\n",
       "    .dataframe tbody tr th {\n",
       "        vertical-align: top;\n",
       "    }\n",
       "\n",
       "    .dataframe thead th {\n",
       "        text-align: right;\n",
       "    }\n",
       "</style>\n",
       "<table border=\"1\" class=\"dataframe\">\n",
       "  <thead>\n",
       "    <tr style=\"text-align: right;\">\n",
       "      <th></th>\n",
       "      <th>Unnamed: 0</th>\n",
       "      <th>loan_amnt</th>\n",
       "      <th>term</th>\n",
       "      <th>int_rate</th>\n",
       "      <th>installment</th>\n",
       "      <th>grade</th>\n",
       "      <th>home_ownership</th>\n",
       "      <th>annual_inc</th>\n",
       "      <th>verification_status</th>\n",
       "      <th>loan_status</th>\n",
       "      <th>addr_state</th>\n",
       "      <th>dti</th>\n",
       "      <th>delinq_2yrs</th>\n",
       "      <th>inq_last_6mths</th>\n",
       "      <th>mths_since_last_delinq</th>\n",
       "      <th>open_acc</th>\n",
       "      <th>pub_rec</th>\n",
       "      <th>revol_bal</th>\n",
       "      <th>revol_util</th>\n",
       "      <th>total_acc</th>\n",
       "      <th>policy_code</th>\n",
       "      <th>pub_rec_bankruptcies</th>\n",
       "      <th>target</th>\n",
       "    </tr>\n",
       "  </thead>\n",
       "  <tbody>\n",
       "    <tr>\n",
       "      <th>0</th>\n",
       "      <td>22545</td>\n",
       "      <td>8500.0</td>\n",
       "      <td>36 months</td>\n",
       "      <td>9.99%</td>\n",
       "      <td>274.24</td>\n",
       "      <td>B</td>\n",
       "      <td>RENT</td>\n",
       "      <td>19200.0</td>\n",
       "      <td>Not Verified</td>\n",
       "      <td>Fully Paid</td>\n",
       "      <td>NJ</td>\n",
       "      <td>15.56</td>\n",
       "      <td>0.0</td>\n",
       "      <td>0.0</td>\n",
       "      <td>NaN</td>\n",
       "      <td>7.0</td>\n",
       "      <td>1.0</td>\n",
       "      <td>8011.0</td>\n",
       "      <td>80.10%</td>\n",
       "      <td>8.0</td>\n",
       "      <td>1.0</td>\n",
       "      <td>1.0</td>\n",
       "      <td>0</td>\n",
       "    </tr>\n",
       "    <tr>\n",
       "      <th>1</th>\n",
       "      <td>22546</td>\n",
       "      <td>19000.0</td>\n",
       "      <td>36 months</td>\n",
       "      <td>13.72%</td>\n",
       "      <td>646.80</td>\n",
       "      <td>C</td>\n",
       "      <td>RENT</td>\n",
       "      <td>35576.0</td>\n",
       "      <td>Verified</td>\n",
       "      <td>Fully Paid</td>\n",
       "      <td>CA</td>\n",
       "      <td>13.50</td>\n",
       "      <td>0.0</td>\n",
       "      <td>0.0</td>\n",
       "      <td>NaN</td>\n",
       "      <td>9.0</td>\n",
       "      <td>0.0</td>\n",
       "      <td>11219.0</td>\n",
       "      <td>57.50%</td>\n",
       "      <td>12.0</td>\n",
       "      <td>1.0</td>\n",
       "      <td>0.0</td>\n",
       "      <td>0</td>\n",
       "    </tr>\n",
       "    <tr>\n",
       "      <th>2</th>\n",
       "      <td>22547</td>\n",
       "      <td>4000.0</td>\n",
       "      <td>60 months</td>\n",
       "      <td>16.69%</td>\n",
       "      <td>98.75</td>\n",
       "      <td>E</td>\n",
       "      <td>RENT</td>\n",
       "      <td>14500.0</td>\n",
       "      <td>Verified</td>\n",
       "      <td>Fully Paid</td>\n",
       "      <td>FL</td>\n",
       "      <td>12.25</td>\n",
       "      <td>0.0</td>\n",
       "      <td>0.0</td>\n",
       "      <td>NaN</td>\n",
       "      <td>3.0</td>\n",
       "      <td>0.0</td>\n",
       "      <td>4364.0</td>\n",
       "      <td>65.10%</td>\n",
       "      <td>7.0</td>\n",
       "      <td>1.0</td>\n",
       "      <td>0.0</td>\n",
       "      <td>0</td>\n",
       "    </tr>\n",
       "    <tr>\n",
       "      <th>3</th>\n",
       "      <td>22548</td>\n",
       "      <td>24250.0</td>\n",
       "      <td>60 months</td>\n",
       "      <td>12.23%</td>\n",
       "      <td>395.23</td>\n",
       "      <td>C</td>\n",
       "      <td>MORTGAGE</td>\n",
       "      <td>70000.0</td>\n",
       "      <td>Verified</td>\n",
       "      <td>Fully Paid</td>\n",
       "      <td>OH</td>\n",
       "      <td>23.79</td>\n",
       "      <td>0.0</td>\n",
       "      <td>2.0</td>\n",
       "      <td>NaN</td>\n",
       "      <td>6.0</td>\n",
       "      <td>0.0</td>\n",
       "      <td>31061.0</td>\n",
       "      <td>68.70%</td>\n",
       "      <td>25.0</td>\n",
       "      <td>1.0</td>\n",
       "      <td>0.0</td>\n",
       "      <td>0</td>\n",
       "    </tr>\n",
       "    <tr>\n",
       "      <th>4</th>\n",
       "      <td>22549</td>\n",
       "      <td>3600.0</td>\n",
       "      <td>36 months</td>\n",
       "      <td>12.98%</td>\n",
       "      <td>121.27</td>\n",
       "      <td>C</td>\n",
       "      <td>MORTGAGE</td>\n",
       "      <td>65000.0</td>\n",
       "      <td>Not Verified</td>\n",
       "      <td>Charged Off</td>\n",
       "      <td>CA</td>\n",
       "      <td>12.41</td>\n",
       "      <td>0.0</td>\n",
       "      <td>1.0</td>\n",
       "      <td>NaN</td>\n",
       "      <td>7.0</td>\n",
       "      <td>0.0</td>\n",
       "      <td>1446.0</td>\n",
       "      <td>33.60%</td>\n",
       "      <td>8.0</td>\n",
       "      <td>1.0</td>\n",
       "      <td>0.0</td>\n",
       "      <td>1</td>\n",
       "    </tr>\n",
       "  </tbody>\n",
       "</table>\n",
       "</div>"
      ],
      "text/plain": [
       "   Unnamed: 0  loan_amnt       term int_rate  installment grade  \\\n",
       "0       22545     8500.0  36 months    9.99%       274.24     B   \n",
       "1       22546    19000.0  36 months   13.72%       646.80     C   \n",
       "2       22547     4000.0  60 months   16.69%        98.75     E   \n",
       "3       22548    24250.0  60 months   12.23%       395.23     C   \n",
       "4       22549     3600.0  36 months   12.98%       121.27     C   \n",
       "\n",
       "  home_ownership  annual_inc verification_status  loan_status addr_state  \\\n",
       "0           RENT     19200.0        Not Verified   Fully Paid         NJ   \n",
       "1           RENT     35576.0            Verified   Fully Paid         CA   \n",
       "2           RENT     14500.0            Verified   Fully Paid         FL   \n",
       "3       MORTGAGE     70000.0            Verified   Fully Paid         OH   \n",
       "4       MORTGAGE     65000.0        Not Verified  Charged Off         CA   \n",
       "\n",
       "     dti  delinq_2yrs  inq_last_6mths  mths_since_last_delinq  open_acc  \\\n",
       "0  15.56          0.0             0.0                     NaN       7.0   \n",
       "1  13.50          0.0             0.0                     NaN       9.0   \n",
       "2  12.25          0.0             0.0                     NaN       3.0   \n",
       "3  23.79          0.0             2.0                     NaN       6.0   \n",
       "4  12.41          0.0             1.0                     NaN       7.0   \n",
       "\n",
       "   pub_rec  revol_bal revol_util  total_acc  policy_code  \\\n",
       "0      1.0     8011.0     80.10%        8.0          1.0   \n",
       "1      0.0    11219.0     57.50%       12.0          1.0   \n",
       "2      0.0     4364.0     65.10%        7.0          1.0   \n",
       "3      0.0    31061.0     68.70%       25.0          1.0   \n",
       "4      0.0     1446.0     33.60%        8.0          1.0   \n",
       "\n",
       "   pub_rec_bankruptcies  target  \n",
       "0                   1.0       0  \n",
       "1                   0.0       0  \n",
       "2                   0.0       0  \n",
       "3                   0.0       0  \n",
       "4                   0.0       1  "
      ]
     },
     "execution_count": 32,
     "metadata": {},
     "output_type": "execute_result"
    }
   ],
   "source": [
    "df2.head(5)"
   ]
  },
  {
   "cell_type": "code",
   "execution_count": 33,
   "metadata": {
    "colab": {
     "base_uri": "https://localhost:8080/"
    },
    "id": "KV1g0Bcwzyfs",
    "outputId": "ee25abd1-c1b7-47a4-ec2e-c5ef9e08e2fa"
   },
   "outputs": [
    {
     "data": {
      "text/plain": [
       "['term',\n",
       " 'int_rate',\n",
       " 'grade',\n",
       " 'home_ownership',\n",
       " 'verification_status',\n",
       " 'addr_state',\n",
       " 'revol_util']"
      ]
     },
     "execution_count": 33,
     "metadata": {},
     "output_type": "execute_result"
    }
   ],
   "source": [
    "remaining_cat_fea=[i for i in cat_columns if i not in drop_feature]\n",
    "remaining_cat_fea"
   ]
  },
  {
   "cell_type": "markdown",
   "metadata": {
    "id": "5aSPHoslzyft"
   },
   "source": [
    "##### 2.6 Encode remaining categorical features"
   ]
  },
  {
   "cell_type": "markdown",
   "metadata": {
    "id": "Qd0QQMRhzyft"
   },
   "source": [
    "Convert 'revol_util' into a numerical feature:"
   ]
  },
  {
   "cell_type": "code",
   "execution_count": 34,
   "metadata": {
    "colab": {
     "base_uri": "https://localhost:8080/"
    },
    "id": "yJshBrGbzyft",
    "outputId": "2b27f446-e51c-4d18-aacc-b2a3ee28b7be",
    "scrolled": false
   },
   "outputs": [
    {
     "data": {
      "text/plain": [
       "0%        497\n",
       "0.50%      33\n",
       "0.20%      32\n",
       "35.30%     32\n",
       "23.80%     31\n",
       "         ... \n",
       "10.17%      1\n",
       "56.26%      1\n",
       "70.94%      1\n",
       "5.79%       1\n",
       "7.28%       1\n",
       "Name: revol_util, Length: 1030, dtype: int64"
      ]
     },
     "execution_count": 34,
     "metadata": {},
     "output_type": "execute_result"
    }
   ],
   "source": [
    "df2['revol_util'].value_counts()"
   ]
  },
  {
   "cell_type": "code",
   "execution_count": 35,
   "metadata": {
    "colab": {
     "base_uri": "https://localhost:8080/"
    },
    "id": "GKoei1j8zyfu",
    "outputId": "d04880a2-6276-47dc-edd0-cb6fb73ce011"
   },
   "outputs": [
    {
     "data": {
      "text/plain": [
       "0.0000    497\n",
       "0.0050     33\n",
       "0.3530     32\n",
       "0.0020     32\n",
       "0.2380     31\n",
       "         ... \n",
       "0.0579      1\n",
       "0.0004      1\n",
       "0.1163      1\n",
       "0.0728      1\n",
       "0.3326      1\n",
       "Name: revol_util, Length: 1030, dtype: int64"
      ]
     },
     "execution_count": 35,
     "metadata": {},
     "output_type": "execute_result"
    }
   ],
   "source": [
    "df2['revol_util'] = df2['revol_util'].str.replace('%', '').astype(float)/100\n",
    "df2['revol_util'].value_counts()"
   ]
  },
  {
   "cell_type": "markdown",
   "metadata": {
    "id": "LISbE7Snzyfu"
   },
   "source": [
    "1. Convert 'int_rate' into a numerical feature:\n",
    "2. Convert 'verification_status' into a numerical feature: if 'Not Verified' then 0, else 1"
   ]
  },
  {
   "cell_type": "code",
   "execution_count": 36,
   "metadata": {
    "colab": {
     "base_uri": "https://localhost:8080/"
    },
    "id": "qk1sd9Cdzyfu",
    "outputId": "addda303-349a-45be-dcfa-74600c560d5b"
   },
   "outputs": [
    {
     "data": {
      "text/plain": [
       "0.0788    725\n",
       "0.0751    486\n",
       "0.1186    392\n",
       "0.0714    341\n",
       "0.1149    336\n",
       "         ... \n",
       "0.1746      1\n",
       "0.1836      1\n",
       "0.1467      1\n",
       "0.1601      1\n",
       "0.1640      1\n",
       "Name: int_rate, Length: 268, dtype: int64"
      ]
     },
     "execution_count": 36,
     "metadata": {},
     "output_type": "execute_result"
    }
   ],
   "source": [
    "df2['int_rate'] = df2['int_rate'].str.replace('%', '').astype(float)/100\n",
    "df2['int_rate'].value_counts()"
   ]
  },
  {
   "cell_type": "code",
   "execution_count": 37,
   "metadata": {
    "colab": {
     "base_uri": "https://localhost:8080/"
    },
    "id": "vC3WC2Vczyfv",
    "outputId": "cd7c24fa-fa7d-40a9-cd82-9d5cefe61d18",
    "scrolled": true
   },
   "outputs": [
    {
     "data": {
      "text/plain": [
       "Not Verified       9719\n",
       "Verified           4723\n",
       "Source Verified    2806\n",
       "Name: verification_status, dtype: int64"
      ]
     },
     "execution_count": 37,
     "metadata": {},
     "output_type": "execute_result"
    }
   ],
   "source": [
    "df2['verification_status'].value_counts()"
   ]
  },
  {
   "cell_type": "code",
   "execution_count": 38,
   "metadata": {
    "colab": {
     "base_uri": "https://localhost:8080/"
    },
    "id": "C8VeO6Ttzyfw",
    "outputId": "f7906f52-8402-4f15-8421-548b0ea9fc9e"
   },
   "outputs": [
    {
     "data": {
      "text/plain": [
       "0    9719\n",
       "1    7529\n",
       "Name: verification_status, dtype: int64"
      ]
     },
     "execution_count": 38,
     "metadata": {},
     "output_type": "execute_result"
    }
   ],
   "source": [
    "df2['verification_status'] = df2['verification_status'].apply(lambda x: 0 if x == 'Not Verified' else 1)\n",
    "df2['verification_status'].value_counts()"
   ]
  },
  {
   "cell_type": "markdown",
   "metadata": {
    "id": "qsgQj8nGzyfw"
   },
   "source": [
    "Check remaining categorical features:"
   ]
  },
  {
   "cell_type": "code",
   "execution_count": 39,
   "metadata": {
    "colab": {
     "base_uri": "https://localhost:8080/"
    },
    "id": "srGByRFxzyfx",
    "outputId": "25dfe93f-e288-41a9-db8c-eb97389a07ad"
   },
   "outputs": [
    {
     "data": {
      "text/plain": [
       "['term', 'grade', 'home_ownership', 'loan_status', 'addr_state']"
      ]
     },
     "execution_count": 39,
     "metadata": {},
     "output_type": "execute_result"
    }
   ],
   "source": [
    "list(df2.select_dtypes(include=['object']).columns)"
   ]
  },
  {
   "cell_type": "markdown",
   "metadata": {
    "id": "nsc6KeJjzyfx"
   },
   "source": [
    "Remove 'loan_status':"
   ]
  },
  {
   "cell_type": "code",
   "execution_count": 40,
   "metadata": {
    "id": "WNlo9hpFzyfx"
   },
   "outputs": [],
   "source": [
    "df2=df2.drop(columns=['loan_status'])"
   ]
  },
  {
   "cell_type": "markdown",
   "metadata": {
    "id": "XyPj3HOdzyfx"
   },
   "source": [
    "##### 2.7 One-hot encoding for remaining categorical features:"
   ]
  },
  {
   "cell_type": "markdown",
   "metadata": {
    "id": "KYWCv8ORzyfy"
   },
   "source": [
    "Most machine learning models unfortunately cannot deal with categorical variables\n",
    "\n",
    "There are two mains to encode categorical variables:"
   ]
  },
  {
   "cell_type": "markdown",
   "metadata": {
    "id": "B6xnMjxmzyfy"
   },
   "source": [
    "1. **Label encoding**: assign each unique category \n",
    "   in a categorical variable with an integer. \n",
    "   \n",
    "   No new columns are created."
   ]
  },
  {
   "cell_type": "markdown",
   "metadata": {
    "id": "Zj5Ckg6wzyfy"
   },
   "source": [
    "2. **One-hot encoding**: create a new column for each unique category in a categorical variable. \n",
    "\n",
    "    Each observation recieves a 1 in the column for its corresponding category and a 0 in all other new columns."
   ]
  },
  {
   "cell_type": "code",
   "execution_count": 41,
   "metadata": {
    "id": "IaapVWySzyf0"
   },
   "outputs": [],
   "source": [
    "def cate_convert(df, nan_as_category = True):\n",
    "    original_columns = list(df.columns)\n",
    "    categorical_columns = [col for col in df.columns if df[col].dtype == 'object']\n",
    "    df = pd.get_dummies(df, columns = categorical_columns, dummy_na= nan_as_category)\n",
    "    new_columns = [c for c in df.columns if c not in original_columns]\n",
    "    return df, new_columns"
   ]
  },
  {
   "cell_type": "code",
   "execution_count": 42,
   "metadata": {
    "id": "Xe71tVBQzyf1"
   },
   "outputs": [],
   "source": [
    "df2,cat_cols = cate_convert(df2, nan_as_category = True)"
   ]
  },
  {
   "cell_type": "code",
   "execution_count": 43,
   "metadata": {
    "colab": {
     "base_uri": "https://localhost:8080/",
     "height": 241
    },
    "id": "2jDzoFr2zyf1",
    "outputId": "694404e6-8c59-41e7-e088-07967d2eedd3"
   },
   "outputs": [
    {
     "data": {
      "text/html": [
       "<div>\n",
       "<style scoped>\n",
       "    .dataframe tbody tr th:only-of-type {\n",
       "        vertical-align: middle;\n",
       "    }\n",
       "\n",
       "    .dataframe tbody tr th {\n",
       "        vertical-align: top;\n",
       "    }\n",
       "\n",
       "    .dataframe thead th {\n",
       "        text-align: right;\n",
       "    }\n",
       "</style>\n",
       "<table border=\"1\" class=\"dataframe\">\n",
       "  <thead>\n",
       "    <tr style=\"text-align: right;\">\n",
       "      <th></th>\n",
       "      <th>Unnamed: 0</th>\n",
       "      <th>loan_amnt</th>\n",
       "      <th>int_rate</th>\n",
       "      <th>installment</th>\n",
       "      <th>annual_inc</th>\n",
       "      <th>verification_status</th>\n",
       "      <th>dti</th>\n",
       "      <th>delinq_2yrs</th>\n",
       "      <th>inq_last_6mths</th>\n",
       "      <th>mths_since_last_delinq</th>\n",
       "      <th>open_acc</th>\n",
       "      <th>pub_rec</th>\n",
       "      <th>revol_bal</th>\n",
       "      <th>revol_util</th>\n",
       "      <th>total_acc</th>\n",
       "      <th>policy_code</th>\n",
       "      <th>pub_rec_bankruptcies</th>\n",
       "      <th>target</th>\n",
       "      <th>term_36 months</th>\n",
       "      <th>term_60 months</th>\n",
       "      <th>term_nan</th>\n",
       "      <th>grade_A</th>\n",
       "      <th>grade_B</th>\n",
       "      <th>grade_C</th>\n",
       "      <th>grade_D</th>\n",
       "      <th>grade_E</th>\n",
       "      <th>grade_F</th>\n",
       "      <th>grade_G</th>\n",
       "      <th>grade_nan</th>\n",
       "      <th>home_ownership_MORTGAGE</th>\n",
       "      <th>home_ownership_NONE</th>\n",
       "      <th>home_ownership_OTHER</th>\n",
       "      <th>home_ownership_OWN</th>\n",
       "      <th>home_ownership_RENT</th>\n",
       "      <th>home_ownership_nan</th>\n",
       "      <th>addr_state_AK</th>\n",
       "      <th>addr_state_AL</th>\n",
       "      <th>addr_state_AR</th>\n",
       "      <th>addr_state_AZ</th>\n",
       "      <th>addr_state_CA</th>\n",
       "      <th>addr_state_CO</th>\n",
       "      <th>addr_state_CT</th>\n",
       "      <th>addr_state_DC</th>\n",
       "      <th>addr_state_DE</th>\n",
       "      <th>addr_state_FL</th>\n",
       "      <th>addr_state_GA</th>\n",
       "      <th>addr_state_HI</th>\n",
       "      <th>addr_state_IA</th>\n",
       "      <th>addr_state_ID</th>\n",
       "      <th>addr_state_IL</th>\n",
       "      <th>addr_state_IN</th>\n",
       "      <th>addr_state_KS</th>\n",
       "      <th>addr_state_KY</th>\n",
       "      <th>addr_state_LA</th>\n",
       "      <th>addr_state_MA</th>\n",
       "      <th>addr_state_MD</th>\n",
       "      <th>addr_state_ME</th>\n",
       "      <th>addr_state_MI</th>\n",
       "      <th>addr_state_MN</th>\n",
       "      <th>addr_state_MO</th>\n",
       "      <th>addr_state_MS</th>\n",
       "      <th>addr_state_MT</th>\n",
       "      <th>addr_state_NC</th>\n",
       "      <th>addr_state_NE</th>\n",
       "      <th>addr_state_NH</th>\n",
       "      <th>addr_state_NJ</th>\n",
       "      <th>addr_state_NM</th>\n",
       "      <th>addr_state_NV</th>\n",
       "      <th>addr_state_NY</th>\n",
       "      <th>addr_state_OH</th>\n",
       "      <th>addr_state_OK</th>\n",
       "      <th>addr_state_OR</th>\n",
       "      <th>addr_state_PA</th>\n",
       "      <th>addr_state_RI</th>\n",
       "      <th>addr_state_SC</th>\n",
       "      <th>addr_state_SD</th>\n",
       "      <th>addr_state_TN</th>\n",
       "      <th>addr_state_TX</th>\n",
       "      <th>addr_state_UT</th>\n",
       "      <th>addr_state_VA</th>\n",
       "      <th>addr_state_VT</th>\n",
       "      <th>addr_state_WA</th>\n",
       "      <th>addr_state_WI</th>\n",
       "      <th>addr_state_WV</th>\n",
       "      <th>addr_state_WY</th>\n",
       "      <th>addr_state_nan</th>\n",
       "    </tr>\n",
       "  </thead>\n",
       "  <tbody>\n",
       "    <tr>\n",
       "      <th>0</th>\n",
       "      <td>22545</td>\n",
       "      <td>8500.0</td>\n",
       "      <td>0.0999</td>\n",
       "      <td>274.24</td>\n",
       "      <td>19200.0</td>\n",
       "      <td>0</td>\n",
       "      <td>15.56</td>\n",
       "      <td>0.0</td>\n",
       "      <td>0.0</td>\n",
       "      <td>NaN</td>\n",
       "      <td>7.0</td>\n",
       "      <td>1.0</td>\n",
       "      <td>8011.0</td>\n",
       "      <td>0.801</td>\n",
       "      <td>8.0</td>\n",
       "      <td>1.0</td>\n",
       "      <td>1.0</td>\n",
       "      <td>0</td>\n",
       "      <td>1</td>\n",
       "      <td>0</td>\n",
       "      <td>0</td>\n",
       "      <td>0</td>\n",
       "      <td>1</td>\n",
       "      <td>0</td>\n",
       "      <td>0</td>\n",
       "      <td>0</td>\n",
       "      <td>0</td>\n",
       "      <td>0</td>\n",
       "      <td>0</td>\n",
       "      <td>0</td>\n",
       "      <td>0</td>\n",
       "      <td>0</td>\n",
       "      <td>0</td>\n",
       "      <td>1</td>\n",
       "      <td>0</td>\n",
       "      <td>0</td>\n",
       "      <td>0</td>\n",
       "      <td>0</td>\n",
       "      <td>0</td>\n",
       "      <td>0</td>\n",
       "      <td>0</td>\n",
       "      <td>0</td>\n",
       "      <td>0</td>\n",
       "      <td>0</td>\n",
       "      <td>0</td>\n",
       "      <td>0</td>\n",
       "      <td>0</td>\n",
       "      <td>0</td>\n",
       "      <td>0</td>\n",
       "      <td>0</td>\n",
       "      <td>0</td>\n",
       "      <td>0</td>\n",
       "      <td>0</td>\n",
       "      <td>0</td>\n",
       "      <td>0</td>\n",
       "      <td>0</td>\n",
       "      <td>0</td>\n",
       "      <td>0</td>\n",
       "      <td>0</td>\n",
       "      <td>0</td>\n",
       "      <td>0</td>\n",
       "      <td>0</td>\n",
       "      <td>0</td>\n",
       "      <td>0</td>\n",
       "      <td>0</td>\n",
       "      <td>1</td>\n",
       "      <td>0</td>\n",
       "      <td>0</td>\n",
       "      <td>0</td>\n",
       "      <td>0</td>\n",
       "      <td>0</td>\n",
       "      <td>0</td>\n",
       "      <td>0</td>\n",
       "      <td>0</td>\n",
       "      <td>0</td>\n",
       "      <td>0</td>\n",
       "      <td>0</td>\n",
       "      <td>0</td>\n",
       "      <td>0</td>\n",
       "      <td>0</td>\n",
       "      <td>0</td>\n",
       "      <td>0</td>\n",
       "      <td>0</td>\n",
       "      <td>0</td>\n",
       "      <td>0</td>\n",
       "      <td>0</td>\n",
       "    </tr>\n",
       "    <tr>\n",
       "      <th>1</th>\n",
       "      <td>22546</td>\n",
       "      <td>19000.0</td>\n",
       "      <td>0.1372</td>\n",
       "      <td>646.80</td>\n",
       "      <td>35576.0</td>\n",
       "      <td>1</td>\n",
       "      <td>13.50</td>\n",
       "      <td>0.0</td>\n",
       "      <td>0.0</td>\n",
       "      <td>NaN</td>\n",
       "      <td>9.0</td>\n",
       "      <td>0.0</td>\n",
       "      <td>11219.0</td>\n",
       "      <td>0.575</td>\n",
       "      <td>12.0</td>\n",
       "      <td>1.0</td>\n",
       "      <td>0.0</td>\n",
       "      <td>0</td>\n",
       "      <td>1</td>\n",
       "      <td>0</td>\n",
       "      <td>0</td>\n",
       "      <td>0</td>\n",
       "      <td>0</td>\n",
       "      <td>1</td>\n",
       "      <td>0</td>\n",
       "      <td>0</td>\n",
       "      <td>0</td>\n",
       "      <td>0</td>\n",
       "      <td>0</td>\n",
       "      <td>0</td>\n",
       "      <td>0</td>\n",
       "      <td>0</td>\n",
       "      <td>0</td>\n",
       "      <td>1</td>\n",
       "      <td>0</td>\n",
       "      <td>0</td>\n",
       "      <td>0</td>\n",
       "      <td>0</td>\n",
       "      <td>0</td>\n",
       "      <td>1</td>\n",
       "      <td>0</td>\n",
       "      <td>0</td>\n",
       "      <td>0</td>\n",
       "      <td>0</td>\n",
       "      <td>0</td>\n",
       "      <td>0</td>\n",
       "      <td>0</td>\n",
       "      <td>0</td>\n",
       "      <td>0</td>\n",
       "      <td>0</td>\n",
       "      <td>0</td>\n",
       "      <td>0</td>\n",
       "      <td>0</td>\n",
       "      <td>0</td>\n",
       "      <td>0</td>\n",
       "      <td>0</td>\n",
       "      <td>0</td>\n",
       "      <td>0</td>\n",
       "      <td>0</td>\n",
       "      <td>0</td>\n",
       "      <td>0</td>\n",
       "      <td>0</td>\n",
       "      <td>0</td>\n",
       "      <td>0</td>\n",
       "      <td>0</td>\n",
       "      <td>0</td>\n",
       "      <td>0</td>\n",
       "      <td>0</td>\n",
       "      <td>0</td>\n",
       "      <td>0</td>\n",
       "      <td>0</td>\n",
       "      <td>0</td>\n",
       "      <td>0</td>\n",
       "      <td>0</td>\n",
       "      <td>0</td>\n",
       "      <td>0</td>\n",
       "      <td>0</td>\n",
       "      <td>0</td>\n",
       "      <td>0</td>\n",
       "      <td>0</td>\n",
       "      <td>0</td>\n",
       "      <td>0</td>\n",
       "      <td>0</td>\n",
       "      <td>0</td>\n",
       "      <td>0</td>\n",
       "      <td>0</td>\n",
       "    </tr>\n",
       "    <tr>\n",
       "      <th>2</th>\n",
       "      <td>22547</td>\n",
       "      <td>4000.0</td>\n",
       "      <td>0.1669</td>\n",
       "      <td>98.75</td>\n",
       "      <td>14500.0</td>\n",
       "      <td>1</td>\n",
       "      <td>12.25</td>\n",
       "      <td>0.0</td>\n",
       "      <td>0.0</td>\n",
       "      <td>NaN</td>\n",
       "      <td>3.0</td>\n",
       "      <td>0.0</td>\n",
       "      <td>4364.0</td>\n",
       "      <td>0.651</td>\n",
       "      <td>7.0</td>\n",
       "      <td>1.0</td>\n",
       "      <td>0.0</td>\n",
       "      <td>0</td>\n",
       "      <td>0</td>\n",
       "      <td>1</td>\n",
       "      <td>0</td>\n",
       "      <td>0</td>\n",
       "      <td>0</td>\n",
       "      <td>0</td>\n",
       "      <td>0</td>\n",
       "      <td>1</td>\n",
       "      <td>0</td>\n",
       "      <td>0</td>\n",
       "      <td>0</td>\n",
       "      <td>0</td>\n",
       "      <td>0</td>\n",
       "      <td>0</td>\n",
       "      <td>0</td>\n",
       "      <td>1</td>\n",
       "      <td>0</td>\n",
       "      <td>0</td>\n",
       "      <td>0</td>\n",
       "      <td>0</td>\n",
       "      <td>0</td>\n",
       "      <td>0</td>\n",
       "      <td>0</td>\n",
       "      <td>0</td>\n",
       "      <td>0</td>\n",
       "      <td>0</td>\n",
       "      <td>1</td>\n",
       "      <td>0</td>\n",
       "      <td>0</td>\n",
       "      <td>0</td>\n",
       "      <td>0</td>\n",
       "      <td>0</td>\n",
       "      <td>0</td>\n",
       "      <td>0</td>\n",
       "      <td>0</td>\n",
       "      <td>0</td>\n",
       "      <td>0</td>\n",
       "      <td>0</td>\n",
       "      <td>0</td>\n",
       "      <td>0</td>\n",
       "      <td>0</td>\n",
       "      <td>0</td>\n",
       "      <td>0</td>\n",
       "      <td>0</td>\n",
       "      <td>0</td>\n",
       "      <td>0</td>\n",
       "      <td>0</td>\n",
       "      <td>0</td>\n",
       "      <td>0</td>\n",
       "      <td>0</td>\n",
       "      <td>0</td>\n",
       "      <td>0</td>\n",
       "      <td>0</td>\n",
       "      <td>0</td>\n",
       "      <td>0</td>\n",
       "      <td>0</td>\n",
       "      <td>0</td>\n",
       "      <td>0</td>\n",
       "      <td>0</td>\n",
       "      <td>0</td>\n",
       "      <td>0</td>\n",
       "      <td>0</td>\n",
       "      <td>0</td>\n",
       "      <td>0</td>\n",
       "      <td>0</td>\n",
       "      <td>0</td>\n",
       "      <td>0</td>\n",
       "      <td>0</td>\n",
       "    </tr>\n",
       "    <tr>\n",
       "      <th>3</th>\n",
       "      <td>22548</td>\n",
       "      <td>24250.0</td>\n",
       "      <td>0.1223</td>\n",
       "      <td>395.23</td>\n",
       "      <td>70000.0</td>\n",
       "      <td>1</td>\n",
       "      <td>23.79</td>\n",
       "      <td>0.0</td>\n",
       "      <td>2.0</td>\n",
       "      <td>NaN</td>\n",
       "      <td>6.0</td>\n",
       "      <td>0.0</td>\n",
       "      <td>31061.0</td>\n",
       "      <td>0.687</td>\n",
       "      <td>25.0</td>\n",
       "      <td>1.0</td>\n",
       "      <td>0.0</td>\n",
       "      <td>0</td>\n",
       "      <td>0</td>\n",
       "      <td>1</td>\n",
       "      <td>0</td>\n",
       "      <td>0</td>\n",
       "      <td>0</td>\n",
       "      <td>1</td>\n",
       "      <td>0</td>\n",
       "      <td>0</td>\n",
       "      <td>0</td>\n",
       "      <td>0</td>\n",
       "      <td>0</td>\n",
       "      <td>1</td>\n",
       "      <td>0</td>\n",
       "      <td>0</td>\n",
       "      <td>0</td>\n",
       "      <td>0</td>\n",
       "      <td>0</td>\n",
       "      <td>0</td>\n",
       "      <td>0</td>\n",
       "      <td>0</td>\n",
       "      <td>0</td>\n",
       "      <td>0</td>\n",
       "      <td>0</td>\n",
       "      <td>0</td>\n",
       "      <td>0</td>\n",
       "      <td>0</td>\n",
       "      <td>0</td>\n",
       "      <td>0</td>\n",
       "      <td>0</td>\n",
       "      <td>0</td>\n",
       "      <td>0</td>\n",
       "      <td>0</td>\n",
       "      <td>0</td>\n",
       "      <td>0</td>\n",
       "      <td>0</td>\n",
       "      <td>0</td>\n",
       "      <td>0</td>\n",
       "      <td>0</td>\n",
       "      <td>0</td>\n",
       "      <td>0</td>\n",
       "      <td>0</td>\n",
       "      <td>0</td>\n",
       "      <td>0</td>\n",
       "      <td>0</td>\n",
       "      <td>0</td>\n",
       "      <td>0</td>\n",
       "      <td>0</td>\n",
       "      <td>0</td>\n",
       "      <td>0</td>\n",
       "      <td>0</td>\n",
       "      <td>0</td>\n",
       "      <td>1</td>\n",
       "      <td>0</td>\n",
       "      <td>0</td>\n",
       "      <td>0</td>\n",
       "      <td>0</td>\n",
       "      <td>0</td>\n",
       "      <td>0</td>\n",
       "      <td>0</td>\n",
       "      <td>0</td>\n",
       "      <td>0</td>\n",
       "      <td>0</td>\n",
       "      <td>0</td>\n",
       "      <td>0</td>\n",
       "      <td>0</td>\n",
       "      <td>0</td>\n",
       "      <td>0</td>\n",
       "      <td>0</td>\n",
       "    </tr>\n",
       "    <tr>\n",
       "      <th>4</th>\n",
       "      <td>22549</td>\n",
       "      <td>3600.0</td>\n",
       "      <td>0.1298</td>\n",
       "      <td>121.27</td>\n",
       "      <td>65000.0</td>\n",
       "      <td>0</td>\n",
       "      <td>12.41</td>\n",
       "      <td>0.0</td>\n",
       "      <td>1.0</td>\n",
       "      <td>NaN</td>\n",
       "      <td>7.0</td>\n",
       "      <td>0.0</td>\n",
       "      <td>1446.0</td>\n",
       "      <td>0.336</td>\n",
       "      <td>8.0</td>\n",
       "      <td>1.0</td>\n",
       "      <td>0.0</td>\n",
       "      <td>1</td>\n",
       "      <td>1</td>\n",
       "      <td>0</td>\n",
       "      <td>0</td>\n",
       "      <td>0</td>\n",
       "      <td>0</td>\n",
       "      <td>1</td>\n",
       "      <td>0</td>\n",
       "      <td>0</td>\n",
       "      <td>0</td>\n",
       "      <td>0</td>\n",
       "      <td>0</td>\n",
       "      <td>1</td>\n",
       "      <td>0</td>\n",
       "      <td>0</td>\n",
       "      <td>0</td>\n",
       "      <td>0</td>\n",
       "      <td>0</td>\n",
       "      <td>0</td>\n",
       "      <td>0</td>\n",
       "      <td>0</td>\n",
       "      <td>0</td>\n",
       "      <td>1</td>\n",
       "      <td>0</td>\n",
       "      <td>0</td>\n",
       "      <td>0</td>\n",
       "      <td>0</td>\n",
       "      <td>0</td>\n",
       "      <td>0</td>\n",
       "      <td>0</td>\n",
       "      <td>0</td>\n",
       "      <td>0</td>\n",
       "      <td>0</td>\n",
       "      <td>0</td>\n",
       "      <td>0</td>\n",
       "      <td>0</td>\n",
       "      <td>0</td>\n",
       "      <td>0</td>\n",
       "      <td>0</td>\n",
       "      <td>0</td>\n",
       "      <td>0</td>\n",
       "      <td>0</td>\n",
       "      <td>0</td>\n",
       "      <td>0</td>\n",
       "      <td>0</td>\n",
       "      <td>0</td>\n",
       "      <td>0</td>\n",
       "      <td>0</td>\n",
       "      <td>0</td>\n",
       "      <td>0</td>\n",
       "      <td>0</td>\n",
       "      <td>0</td>\n",
       "      <td>0</td>\n",
       "      <td>0</td>\n",
       "      <td>0</td>\n",
       "      <td>0</td>\n",
       "      <td>0</td>\n",
       "      <td>0</td>\n",
       "      <td>0</td>\n",
       "      <td>0</td>\n",
       "      <td>0</td>\n",
       "      <td>0</td>\n",
       "      <td>0</td>\n",
       "      <td>0</td>\n",
       "      <td>0</td>\n",
       "      <td>0</td>\n",
       "      <td>0</td>\n",
       "      <td>0</td>\n",
       "      <td>0</td>\n",
       "    </tr>\n",
       "  </tbody>\n",
       "</table>\n",
       "</div>"
      ],
      "text/plain": [
       "   Unnamed: 0  loan_amnt  int_rate  installment  annual_inc  \\\n",
       "0       22545     8500.0    0.0999       274.24     19200.0   \n",
       "1       22546    19000.0    0.1372       646.80     35576.0   \n",
       "2       22547     4000.0    0.1669        98.75     14500.0   \n",
       "3       22548    24250.0    0.1223       395.23     70000.0   \n",
       "4       22549     3600.0    0.1298       121.27     65000.0   \n",
       "\n",
       "   verification_status    dti  delinq_2yrs  inq_last_6mths  \\\n",
       "0                    0  15.56          0.0             0.0   \n",
       "1                    1  13.50          0.0             0.0   \n",
       "2                    1  12.25          0.0             0.0   \n",
       "3                    1  23.79          0.0             2.0   \n",
       "4                    0  12.41          0.0             1.0   \n",
       "\n",
       "   mths_since_last_delinq  open_acc  pub_rec  revol_bal  revol_util  \\\n",
       "0                     NaN       7.0      1.0     8011.0       0.801   \n",
       "1                     NaN       9.0      0.0    11219.0       0.575   \n",
       "2                     NaN       3.0      0.0     4364.0       0.651   \n",
       "3                     NaN       6.0      0.0    31061.0       0.687   \n",
       "4                     NaN       7.0      0.0     1446.0       0.336   \n",
       "\n",
       "   total_acc  policy_code  pub_rec_bankruptcies  target  term_36 months  \\\n",
       "0        8.0          1.0                   1.0       0               1   \n",
       "1       12.0          1.0                   0.0       0               1   \n",
       "2        7.0          1.0                   0.0       0               0   \n",
       "3       25.0          1.0                   0.0       0               0   \n",
       "4        8.0          1.0                   0.0       1               1   \n",
       "\n",
       "   term_60 months  term_nan  grade_A  grade_B  grade_C  grade_D  grade_E  \\\n",
       "0               0         0        0        1        0        0        0   \n",
       "1               0         0        0        0        1        0        0   \n",
       "2               1         0        0        0        0        0        1   \n",
       "3               1         0        0        0        1        0        0   \n",
       "4               0         0        0        0        1        0        0   \n",
       "\n",
       "   grade_F  grade_G  grade_nan  home_ownership_MORTGAGE  home_ownership_NONE  \\\n",
       "0        0        0          0                        0                    0   \n",
       "1        0        0          0                        0                    0   \n",
       "2        0        0          0                        0                    0   \n",
       "3        0        0          0                        1                    0   \n",
       "4        0        0          0                        1                    0   \n",
       "\n",
       "   home_ownership_OTHER  home_ownership_OWN  home_ownership_RENT  \\\n",
       "0                     0                   0                    1   \n",
       "1                     0                   0                    1   \n",
       "2                     0                   0                    1   \n",
       "3                     0                   0                    0   \n",
       "4                     0                   0                    0   \n",
       "\n",
       "   home_ownership_nan  addr_state_AK  addr_state_AL  addr_state_AR  \\\n",
       "0                   0              0              0              0   \n",
       "1                   0              0              0              0   \n",
       "2                   0              0              0              0   \n",
       "3                   0              0              0              0   \n",
       "4                   0              0              0              0   \n",
       "\n",
       "   addr_state_AZ  addr_state_CA  addr_state_CO  addr_state_CT  addr_state_DC  \\\n",
       "0              0              0              0              0              0   \n",
       "1              0              1              0              0              0   \n",
       "2              0              0              0              0              0   \n",
       "3              0              0              0              0              0   \n",
       "4              0              1              0              0              0   \n",
       "\n",
       "   addr_state_DE  addr_state_FL  addr_state_GA  addr_state_HI  addr_state_IA  \\\n",
       "0              0              0              0              0              0   \n",
       "1              0              0              0              0              0   \n",
       "2              0              1              0              0              0   \n",
       "3              0              0              0              0              0   \n",
       "4              0              0              0              0              0   \n",
       "\n",
       "   addr_state_ID  addr_state_IL  addr_state_IN  addr_state_KS  addr_state_KY  \\\n",
       "0              0              0              0              0              0   \n",
       "1              0              0              0              0              0   \n",
       "2              0              0              0              0              0   \n",
       "3              0              0              0              0              0   \n",
       "4              0              0              0              0              0   \n",
       "\n",
       "   addr_state_LA  addr_state_MA  addr_state_MD  addr_state_ME  addr_state_MI  \\\n",
       "0              0              0              0              0              0   \n",
       "1              0              0              0              0              0   \n",
       "2              0              0              0              0              0   \n",
       "3              0              0              0              0              0   \n",
       "4              0              0              0              0              0   \n",
       "\n",
       "   addr_state_MN  addr_state_MO  addr_state_MS  addr_state_MT  addr_state_NC  \\\n",
       "0              0              0              0              0              0   \n",
       "1              0              0              0              0              0   \n",
       "2              0              0              0              0              0   \n",
       "3              0              0              0              0              0   \n",
       "4              0              0              0              0              0   \n",
       "\n",
       "   addr_state_NE  addr_state_NH  addr_state_NJ  addr_state_NM  addr_state_NV  \\\n",
       "0              0              0              1              0              0   \n",
       "1              0              0              0              0              0   \n",
       "2              0              0              0              0              0   \n",
       "3              0              0              0              0              0   \n",
       "4              0              0              0              0              0   \n",
       "\n",
       "   addr_state_NY  addr_state_OH  addr_state_OK  addr_state_OR  addr_state_PA  \\\n",
       "0              0              0              0              0              0   \n",
       "1              0              0              0              0              0   \n",
       "2              0              0              0              0              0   \n",
       "3              0              1              0              0              0   \n",
       "4              0              0              0              0              0   \n",
       "\n",
       "   addr_state_RI  addr_state_SC  addr_state_SD  addr_state_TN  addr_state_TX  \\\n",
       "0              0              0              0              0              0   \n",
       "1              0              0              0              0              0   \n",
       "2              0              0              0              0              0   \n",
       "3              0              0              0              0              0   \n",
       "4              0              0              0              0              0   \n",
       "\n",
       "   addr_state_UT  addr_state_VA  addr_state_VT  addr_state_WA  addr_state_WI  \\\n",
       "0              0              0              0              0              0   \n",
       "1              0              0              0              0              0   \n",
       "2              0              0              0              0              0   \n",
       "3              0              0              0              0              0   \n",
       "4              0              0              0              0              0   \n",
       "\n",
       "   addr_state_WV  addr_state_WY  addr_state_nan  \n",
       "0              0              0               0  \n",
       "1              0              0               0  \n",
       "2              0              0               0  \n",
       "3              0              0               0  \n",
       "4              0              0               0  "
      ]
     },
     "execution_count": 43,
     "metadata": {},
     "output_type": "execute_result"
    }
   ],
   "source": [
    "df2.head()"
   ]
  },
  {
   "cell_type": "markdown",
   "metadata": {
    "id": "tVQdaYhRzyf1"
   },
   "source": [
    "###### 2.8 Missing value imputation"
   ]
  },
  {
   "cell_type": "code",
   "execution_count": 44,
   "metadata": {
    "colab": {
     "base_uri": "https://localhost:8080/",
     "height": 142
    },
    "id": "9romB2cAzyf1",
    "outputId": "f614de17-a532-48f1-a2d7-eaceb89d3af7"
   },
   "outputs": [
    {
     "data": {
      "text/html": [
       "<div>\n",
       "<style scoped>\n",
       "    .dataframe tbody tr th:only-of-type {\n",
       "        vertical-align: middle;\n",
       "    }\n",
       "\n",
       "    .dataframe tbody tr th {\n",
       "        vertical-align: top;\n",
       "    }\n",
       "\n",
       "    .dataframe thead th {\n",
       "        text-align: right;\n",
       "    }\n",
       "</style>\n",
       "<table border=\"1\" class=\"dataframe\">\n",
       "  <thead>\n",
       "    <tr style=\"text-align: right;\">\n",
       "      <th></th>\n",
       "      <th>Missing Values</th>\n",
       "      <th>% of Total Values</th>\n",
       "    </tr>\n",
       "  </thead>\n",
       "  <tbody>\n",
       "    <tr>\n",
       "      <th>mths_since_last_delinq</th>\n",
       "      <td>10816</td>\n",
       "      <td>62.708720</td>\n",
       "    </tr>\n",
       "    <tr>\n",
       "      <th>revol_util</th>\n",
       "      <td>40</td>\n",
       "      <td>0.231911</td>\n",
       "    </tr>\n",
       "    <tr>\n",
       "      <th>pub_rec_bankruptcies</th>\n",
       "      <td>697</td>\n",
       "      <td>4.041048</td>\n",
       "    </tr>\n",
       "  </tbody>\n",
       "</table>\n",
       "</div>"
      ],
      "text/plain": [
       "                        Missing Values  % of Total Values\n",
       "mths_since_last_delinq           10816          62.708720\n",
       "revol_util                          40           0.231911\n",
       "pub_rec_bankruptcies               697           4.041048"
      ]
     },
     "execution_count": 44,
     "metadata": {},
     "output_type": "execute_result"
    }
   ],
   "source": [
    "missing=missing_values_table(df2)\n",
    "missing"
   ]
  },
  {
   "cell_type": "code",
   "execution_count": 45,
   "metadata": {
    "id": "Q9kSZliezyf2"
   },
   "outputs": [],
   "source": [
    "df2['pub_rec_bankruptcies'].fillna(value=0,inplace=True)"
   ]
  },
  {
   "cell_type": "markdown",
   "metadata": {
    "id": "KcBT4BDfzyf2"
   },
   "source": [
    "Practice:\n",
    "1. impute 0 for ['revol_util']'s missing values\n",
    "1. impute 0 for ['mths_since_last_delinq']'s missing values "
   ]
  },
  {
   "cell_type": "code",
   "execution_count": 46,
   "metadata": {
    "id": "RtrPT4pgzyf2"
   },
   "outputs": [],
   "source": [
    "df2['revol_util'].fillna(value=0,inplace=True)\n",
    "df2['mths_since_last_delinq'].fillna(value=0,inplace=True)"
   ]
  },
  {
   "cell_type": "code",
   "execution_count": 47,
   "metadata": {
    "colab": {
     "base_uri": "https://localhost:8080/",
     "height": 49
    },
    "id": "p0LM4V1Xzyf2",
    "outputId": "14d32118-ef89-4a5f-cdee-78ff9a2ecab0"
   },
   "outputs": [
    {
     "data": {
      "text/html": [
       "<div>\n",
       "<style scoped>\n",
       "    .dataframe tbody tr th:only-of-type {\n",
       "        vertical-align: middle;\n",
       "    }\n",
       "\n",
       "    .dataframe tbody tr th {\n",
       "        vertical-align: top;\n",
       "    }\n",
       "\n",
       "    .dataframe thead th {\n",
       "        text-align: right;\n",
       "    }\n",
       "</style>\n",
       "<table border=\"1\" class=\"dataframe\">\n",
       "  <thead>\n",
       "    <tr style=\"text-align: right;\">\n",
       "      <th></th>\n",
       "      <th>Missing Values</th>\n",
       "      <th>% of Total Values</th>\n",
       "    </tr>\n",
       "  </thead>\n",
       "  <tbody>\n",
       "  </tbody>\n",
       "</table>\n",
       "</div>"
      ],
      "text/plain": [
       "Empty DataFrame\n",
       "Columns: [Missing Values, % of Total Values]\n",
       "Index: []"
      ]
     },
     "execution_count": 47,
     "metadata": {},
     "output_type": "execute_result"
    }
   ],
   "source": [
    "# Check again:\n",
    "missing=missing_values_table(df2)\n",
    "missing"
   ]
  },
  {
   "cell_type": "markdown",
   "metadata": {
    "id": "QWpSQEs9zyf3"
   },
   "source": [
    "Backup the dataset:"
   ]
  },
  {
   "cell_type": "code",
   "execution_count": 48,
   "metadata": {
    "id": "nkJMAlrFzyf3"
   },
   "outputs": [],
   "source": [
    "final=df2.copy()\n",
    "df2.to_csv('final_dataset_for_model.csv')"
   ]
  },
  {
   "cell_type": "markdown",
   "metadata": {
    "id": "M8b2mldWzyf3"
   },
   "source": [
    "## Step Three: ML Modelling"
   ]
  },
  {
   "cell_type": "markdown",
   "metadata": {
    "id": "An6dWkEIzyf3"
   },
   "source": [
    "###### 3.1 Check Correlations"
   ]
  },
  {
   "cell_type": "code",
   "execution_count": 49,
   "metadata": {
    "colab": {
     "base_uri": "https://localhost:8080/"
    },
    "id": "19UtTS-Azyf3",
    "outputId": "d9bd09f7-1901-4970-bfd2-8486e311a71b"
   },
   "outputs": [
    {
     "name": "stdout",
     "output_type": "stream",
     "text": [
      "Top Positive Correlations:\n",
      " target                  1.000000\n",
      "int_rate                0.166554\n",
      "term_60 months          0.107015\n",
      "revol_util              0.082058\n",
      "inq_last_6mths          0.079574\n",
      "grade_E                 0.074894\n",
      "grade_D                 0.074011\n",
      "grade_F                 0.061832\n",
      "pub_rec                 0.056425\n",
      "pub_rec_bankruptcies    0.049313\n",
      "grade_G                 0.041399\n",
      "addr_state_FL           0.033128\n",
      "grade_C                 0.032578\n",
      "loan_amnt               0.031894\n",
      "dti                     0.031063\n",
      "Name: target, dtype: float64\n",
      "\n",
      "Top Negative Correlations:\n",
      " addr_state_DC             -0.014116\n",
      "addr_state_IL             -0.014298\n",
      "addr_state_VA             -0.014718\n",
      "addr_state_WY             -0.015859\n",
      "addr_state_MA             -0.017767\n",
      "home_ownership_MORTGAGE   -0.018336\n",
      "addr_state_NY             -0.018688\n",
      "addr_state_TX             -0.019586\n",
      "addr_state_OH             -0.020771\n",
      "addr_state_PA             -0.023690\n",
      "total_acc                 -0.024317\n",
      "annual_inc                -0.026927\n",
      "grade_B                   -0.029660\n",
      "term_36 months            -0.107015\n",
      "grade_A                   -0.130161\n",
      "Name: target, dtype: float64\n"
     ]
    }
   ],
   "source": [
    "# Display correlations\n",
    "correlations = final.corr()['target'].dropna().sort_values(ascending = False)\n",
    "print('Top Positive Correlations:\\n', correlations.head(15))\n",
    "print('\\nTop Negative Correlations:\\n', correlations.tail(15))"
   ]
  },
  {
   "cell_type": "markdown",
   "metadata": {
    "id": "LAzNH_xXzyf4"
   },
   "source": [
    "##### 3.2 Split into Test and Train datasets"
   ]
  },
  {
   "cell_type": "code",
   "execution_count": 50,
   "metadata": {
    "id": "bXgHsOM8zyf4"
   },
   "outputs": [],
   "source": [
    "x=final.drop(columns='target')\n",
    "y=final['target']"
   ]
  },
  {
   "cell_type": "code",
   "execution_count": 51,
   "metadata": {
    "colab": {
     "base_uri": "https://localhost:8080/"
    },
    "id": "lnUgv5fGzyf4",
    "outputId": "afe4120a-2e74-4860-8781-402d5ba8df84"
   },
   "outputs": [
    {
     "name": "stdout",
     "output_type": "stream",
     "text": [
      "(12936, 85)\n",
      "(12936,)\n",
      "(4312, 85)\n",
      "(4312,)\n"
     ]
    }
   ],
   "source": [
    "x_train, x_test, y_train, y_test = train_test_split(x, y, test_size=0.25, random_state=0)\n",
    "print(x_train.shape)\n",
    "print(y_train.shape)\n",
    "print(x_test.shape)\n",
    "print(y_test.shape)"
   ]
  },
  {
   "cell_type": "markdown",
   "metadata": {
    "id": "8b2I130hzyf5"
   },
   "source": [
    "###### 3.3 Logistic regression model"
   ]
  },
  {
   "cell_type": "markdown",
   "metadata": {
    "id": "M85TU7nnzyf5"
   },
   "source": [
    "1.Create the classifier(object)"
   ]
  },
  {
   "cell_type": "code",
   "execution_count": 52,
   "metadata": {
    "id": "om9KdZk1zyf5"
   },
   "outputs": [],
   "source": [
    "logist= LogisticRegression()"
   ]
  },
  {
   "cell_type": "markdown",
   "metadata": {
    "id": "1Re_vON0zyf5"
   },
   "source": [
    "2.Train the model on training data"
   ]
  },
  {
   "cell_type": "code",
   "execution_count": 53,
   "metadata": {
    "colab": {
     "base_uri": "https://localhost:8080/"
    },
    "id": "ajdLKjcbzyf5",
    "outputId": "a397641f-c2c8-4866-df6d-e5048b9b489d",
    "scrolled": true
   },
   "outputs": [
    {
     "data": {
      "text/plain": [
       "LogisticRegression()"
      ]
     },
     "execution_count": 53,
     "metadata": {},
     "output_type": "execute_result"
    }
   ],
   "source": [
    "logist.fit(x_train, y_train)"
   ]
  },
  {
   "cell_type": "markdown",
   "metadata": {
    "id": "6rZdv86azyf6"
   },
   "source": [
    "3.Make the prediction:\n",
    "\n",
    "Now that the model has been trained, we can use it to make predictions. \n",
    "\n",
    "We want to predict the probabilities of not paying a loan, so we use the model **predict_proba** method.\n",
    "\n",
    "The first column is the probability of the target being 0 and the second column is the probability of the target being 1"
   ]
  },
  {
   "cell_type": "code",
   "execution_count": 54,
   "metadata": {
    "colab": {
     "base_uri": "https://localhost:8080/"
    },
    "id": "1Z1F5gtkzyf6",
    "outputId": "949e6865-63b8-4746-d3f7-e5477d525fde"
   },
   "outputs": [
    {
     "data": {
      "text/plain": [
       "array([0.07169809, 0.10618282, 0.11190762, ..., 0.08849368, 0.15391882,\n",
       "       0.19361028])"
      ]
     },
     "execution_count": 54,
     "metadata": {},
     "output_type": "execute_result"
    }
   ],
   "source": [
    "log_reg_pred = logist.predict_proba(x_test)\n",
    "y_pred_proba=log_reg_pred[:,1]\n",
    "y_pred_proba"
   ]
  },
  {
   "cell_type": "markdown",
   "metadata": {
    "id": "PNW1iiHrzyf6"
   },
   "source": [
    "Predict the label:\n",
    "\n",
    "**.predict()** is for predicting class labels:\n",
    "\n",
    "scikit-learn is using a threshold of P>0.5 for binary classifications"
   ]
  },
  {
   "cell_type": "code",
   "execution_count": 55,
   "metadata": {
    "colab": {
     "base_uri": "https://localhost:8080/"
    },
    "id": "uoWGUK6lzyf6",
    "outputId": "e4aab7ed-a72b-43e0-8726-0e8465b8a0fd"
   },
   "outputs": [
    {
     "data": {
      "text/plain": [
       "array([0, 0, 0, ..., 0, 0, 0])"
      ]
     },
     "execution_count": 55,
     "metadata": {},
     "output_type": "execute_result"
    }
   ],
   "source": [
    "y_pred = logist.predict(x_test)\n",
    "y_pred"
   ]
  },
  {
   "cell_type": "markdown",
   "metadata": {
    "id": "7q6wAJu8zyf7"
   },
   "source": [
    "Get the coefficient list:"
   ]
  },
  {
   "cell_type": "code",
   "execution_count": 56,
   "metadata": {
    "colab": {
     "base_uri": "https://localhost:8080/",
     "height": 419
    },
    "id": "CtterMPXzyf7",
    "outputId": "56376c36-9db3-4604-a954-43f6dda7037f"
   },
   "outputs": [
    {
     "data": {
      "text/html": [
       "<div>\n",
       "<style scoped>\n",
       "    .dataframe tbody tr th:only-of-type {\n",
       "        vertical-align: middle;\n",
       "    }\n",
       "\n",
       "    .dataframe tbody tr th {\n",
       "        vertical-align: top;\n",
       "    }\n",
       "\n",
       "    .dataframe thead th {\n",
       "        text-align: right;\n",
       "    }\n",
       "</style>\n",
       "<table border=\"1\" class=\"dataframe\">\n",
       "  <thead>\n",
       "    <tr style=\"text-align: right;\">\n",
       "      <th></th>\n",
       "      <th>0</th>\n",
       "      <th>0</th>\n",
       "    </tr>\n",
       "  </thead>\n",
       "  <tbody>\n",
       "    <tr>\n",
       "      <th>0</th>\n",
       "      <td>Unnamed: 0</td>\n",
       "      <td>-0.000047</td>\n",
       "    </tr>\n",
       "    <tr>\n",
       "      <th>1</th>\n",
       "      <td>loan_amnt</td>\n",
       "      <td>0.000010</td>\n",
       "    </tr>\n",
       "    <tr>\n",
       "      <th>2</th>\n",
       "      <td>int_rate</td>\n",
       "      <td>0.000101</td>\n",
       "    </tr>\n",
       "    <tr>\n",
       "      <th>3</th>\n",
       "      <td>installment</td>\n",
       "      <td>0.000126</td>\n",
       "    </tr>\n",
       "    <tr>\n",
       "      <th>4</th>\n",
       "      <td>annual_inc</td>\n",
       "      <td>-0.000005</td>\n",
       "    </tr>\n",
       "    <tr>\n",
       "      <th>...</th>\n",
       "      <td>...</td>\n",
       "      <td>...</td>\n",
       "    </tr>\n",
       "    <tr>\n",
       "      <th>80</th>\n",
       "      <td>addr_state_WA</td>\n",
       "      <td>0.000036</td>\n",
       "    </tr>\n",
       "    <tr>\n",
       "      <th>81</th>\n",
       "      <td>addr_state_WI</td>\n",
       "      <td>-0.000012</td>\n",
       "    </tr>\n",
       "    <tr>\n",
       "      <th>82</th>\n",
       "      <td>addr_state_WV</td>\n",
       "      <td>-0.000017</td>\n",
       "    </tr>\n",
       "    <tr>\n",
       "      <th>83</th>\n",
       "      <td>addr_state_WY</td>\n",
       "      <td>-0.000027</td>\n",
       "    </tr>\n",
       "    <tr>\n",
       "      <th>84</th>\n",
       "      <td>addr_state_nan</td>\n",
       "      <td>0.000000</td>\n",
       "    </tr>\n",
       "  </tbody>\n",
       "</table>\n",
       "<p>85 rows × 2 columns</p>\n",
       "</div>"
      ],
      "text/plain": [
       "                 0         0\n",
       "0       Unnamed: 0 -0.000047\n",
       "1        loan_amnt  0.000010\n",
       "2         int_rate  0.000101\n",
       "3      installment  0.000126\n",
       "4       annual_inc -0.000005\n",
       "..             ...       ...\n",
       "80   addr_state_WA  0.000036\n",
       "81   addr_state_WI -0.000012\n",
       "82   addr_state_WV -0.000017\n",
       "83   addr_state_WY -0.000027\n",
       "84  addr_state_nan  0.000000\n",
       "\n",
       "[85 rows x 2 columns]"
      ]
     },
     "execution_count": 56,
     "metadata": {},
     "output_type": "execute_result"
    }
   ],
   "source": [
    "coefficients = pd.concat([pd.DataFrame(list(x_train.columns)),pd.DataFrame(np.transpose(logist.coef_))], axis = 1)\n",
    "coefficients"
   ]
  },
  {
   "cell_type": "markdown",
   "metadata": {
    "id": "t3JRGC-7zyf7"
   },
   "source": [
    "**Check key metrics**"
   ]
  },
  {
   "cell_type": "markdown",
   "metadata": {
    "id": "2V_h2UN_zyf7"
   },
   "source": [
    "An **ROC curve** is a plot of True Positive Rate vs False Positive Rate where False Positive Rate=FP/(TN+FP) =1-Specificity."
   ]
  },
  {
   "cell_type": "markdown",
   "metadata": {
    "id": "_RTCMaqWzyf8"
   },
   "source": [
    "4.Show the ROC_CURVE to evaluate the model performance"
   ]
  },
  {
   "cell_type": "code",
   "execution_count": 57,
   "metadata": {
    "colab": {
     "base_uri": "https://localhost:8080/",
     "height": 299
    },
    "id": "-oVCWR-jzyf8",
    "outputId": "2516276d-6da7-4461-a0a0-17291e4e8beb"
   },
   "outputs": [
    {
     "data": {
      "image/png": "[encoded data removed]",
      "text/plain": [
       "<Figure size 432x288 with 1 Axes>"
      ]
     },
     "metadata": {
      "needs_background": "light"
     },
     "output_type": "display_data"
    }
   ],
   "source": [
    "import numpy as np\n",
    "[fpr, tpr, thr] = metrics.roc_curve(y_test, y_pred_proba)\n",
    "idx = np.min(np.where(tpr > 0.95))  # index of the first threshold for which the sensibility > 0.95\n",
    "plt.figure()\n",
    "plt.plot(fpr, tpr, color='coral', label='ROC curve (area = %0.3f)' % metrics.auc(fpr, tpr))\n",
    "plt.plot([0, 1], [0, 1], 'k--')\n",
    "plt.plot([0, fpr[idx]], [tpr[idx], tpr[idx]], 'k--', color='blue')\n",
    "plt.plot([fpr[idx], fpr[idx]], [0, tpr[idx]], 'k--', color='blue')\n",
    "plt.xlim([0.0, 1.0])\n",
    "plt.ylim([0.0, 1.05])\n",
    "plt.xlabel('False Positive Rate (1 - specificity)', fontsize=14)\n",
    "plt.ylabel('True Positive Rate (recall)', fontsize=14)\n",
    "plt.title('Receiver operating characteristic (ROC) curve')\n",
    "plt.legend(loc=\"lower right\")\n",
    "plt.show()"
   ]
  },
  {
   "cell_type": "markdown",
   "metadata": {
    "id": "tUNDhga0zyf8"
   },
   "source": [
    "**AUROC** (Area Under the Receiver Operating Characteristics)\n",
    "The more the area enclosed by the ROC curve, the better it is. The area under the curve can lie between 0 and 1. The closer it is to 1, the better it is"
   ]
  },
  {
   "cell_type": "markdown",
   "metadata": {
    "id": "b-LS1Sqhzyf8"
   },
   "source": [
    "###### 3.4 Random Forest"
   ]
  },
  {
   "cell_type": "markdown",
   "metadata": {
    "id": "yEeWk0slzyf9"
   },
   "source": [
    "**Ensemble learning**, in general, is a model that makes predictions based on a number of different models. By combining individual models, the ensemble model tends to be more flexible (less bias) and less data-sensitive (less variance)\n",
    "Two most popular ensemble methods are bagging and boosting.\n",
    "\n",
    "**Bagging**: Training a bunch of individual models in a parallel way. Each model is trained by a random subset of the data => bootstrapping the data plus using the aggregate to make a decision is called bagging!\n",
    "\n",
    "- **Random forest** is an ensemble model using bagging as the ensemble method and decision tree as the individual model.\n",
    "\n",
    "**Boosting**: Training a bunch of individual models in a sequential way. Each individual model learns from mistakes made by the previous model\n",
    "\n",
    "- **Gradient Boosting**: GBT build trees one at a time, where each new tree helps to correct errors made by previously trained tree. GBT build trees one at a time, where each new tree helps to correct errors made by previously trained tree."
   ]
  },
  {
   "cell_type": "markdown",
   "metadata": {
    "id": "AatoUoFLzyf9"
   },
   "source": [
    "1.Create the classifier(object):"
   ]
  },
  {
   "cell_type": "code",
   "execution_count": 58,
   "metadata": {
    "id": "9yxcbnoIzyf9"
   },
   "outputs": [],
   "source": [
    "rf_model = RandomForestClassifier(\n",
    "   n_estimators=200,\n",
    "    max_depth=5)"
   ]
  },
  {
   "cell_type": "markdown",
   "metadata": {
    "id": "obeR_ww1zyf9"
   },
   "source": [
    "2.Train the model on training data:"
   ]
  },
  {
   "cell_type": "code",
   "execution_count": 59,
   "metadata": {
    "colab": {
     "base_uri": "https://localhost:8080/"
    },
    "id": "TstwGQ4mzyf-",
    "outputId": "a02d63d0-a3d1-4a92-dd22-8dff2e96e7aa"
   },
   "outputs": [
    {
     "data": {
      "text/plain": [
       "RandomForestClassifier(max_depth=5, n_estimators=200)"
      ]
     },
     "execution_count": 59,
     "metadata": {},
     "output_type": "execute_result"
    }
   ],
   "source": [
    "rf_model.fit(x_train, y_train)"
   ]
  },
  {
   "cell_type": "markdown",
   "metadata": {
    "id": "JpvgIRNCzyf-"
   },
   "source": [
    "3.Make the prediction:"
   ]
  },
  {
   "cell_type": "code",
   "execution_count": 60,
   "metadata": {
    "colab": {
     "base_uri": "https://localhost:8080/"
    },
    "id": "3ZOPwGXGzyf-",
    "outputId": "5ae985c2-e2f1-4f26-f26d-be3b9c6427b8"
   },
   "outputs": [
    {
     "data": {
      "text/plain": [
       "array([0.05757971, 0.13336961, 0.14290489, ..., 0.17055502, 0.19339283,\n",
       "       0.15164095])"
      ]
     },
     "execution_count": 60,
     "metadata": {},
     "output_type": "execute_result"
    }
   ],
   "source": [
    "rf_model_pred = rf_model.predict_proba(x_test)\n",
    "y_pred_proba=rf_model_pred[:,1]\n",
    "y_pred_proba"
   ]
  },
  {
   "cell_type": "markdown",
   "metadata": {
    "id": "ZpVXKGVazyf-"
   },
   "source": [
    "4.Show the ROC_CURVE to evaluate the model performance:"
   ]
  },
  {
   "cell_type": "code",
   "execution_count": 61,
   "metadata": {
    "colab": {
     "base_uri": "https://localhost:8080/",
     "height": 299
    },
    "id": "uph0kaOZzyf_",
    "outputId": "15c7a938-f016-4d48-f3d7-259f2353e6b1"
   },
   "outputs": [
    {
     "data": {
      "image/png": "[encoded data removed]",
      "text/plain": [
       "<Figure size 432x288 with 1 Axes>"
      ]
     },
     "metadata": {
      "needs_background": "light"
     },
     "output_type": "display_data"
    }
   ],
   "source": [
    "import numpy as np\n",
    "[fpr, tpr, thr] = metrics.roc_curve(y_test, y_pred_proba)\n",
    "idx = np.min(np.where(tpr > 0.95))  # index of the first threshold for which the sensibility > 0.95\n",
    "plt.figure()\n",
    "plt.plot(fpr, tpr, color='coral', label='ROC curve (area = %0.3f)' % metrics.auc(fpr, tpr))\n",
    "plt.plot([0, 1], [0, 1], 'k--')\n",
    "plt.plot([0, fpr[idx]], [tpr[idx], tpr[idx]], 'k--', color='blue')\n",
    "plt.plot([fpr[idx], fpr[idx]], [0, tpr[idx]], 'k--', color='blue')\n",
    "plt.xlim([0.0, 1.0])\n",
    "plt.ylim([0.0, 1.05])\n",
    "plt.xlabel('False Positive Rate (1 - specificity)', fontsize=14)\n",
    "plt.ylabel('True Positive Rate (recall)', fontsize=14)\n",
    "plt.title('Receiver operating characteristic (ROC) curve')\n",
    "plt.legend(loc=\"lower right\")\n",
    "plt.show()"
   ]
  },
  {
   "cell_type": "markdown",
   "metadata": {
    "id": "PA9JIOVuzyf_"
   },
   "source": [
    "Get the feature importances for each feature using the following code:"
   ]
  },
  {
   "cell_type": "code",
   "execution_count": 62,
   "metadata": {
    "colab": {
     "base_uri": "https://localhost:8080/"
    },
    "id": "7xsVBXNUzyf_",
    "outputId": "01a4bf86-3fd8-4e2c-dd71-f7ce5338468e"
   },
   "outputs": [
    {
     "data": {
      "text/plain": [
       "array([4.61377971e-02, 2.97105362e-02, 1.62231988e-01, 3.89757400e-02,\n",
       "       7.30151978e-02, 2.98122869e-03, 2.98329504e-02, 3.61074199e-03,\n",
       "       4.64316499e-02, 2.09856563e-02, 2.51282204e-02, 1.59478493e-02,\n",
       "       2.81354984e-02, 5.98684273e-02, 3.44167034e-02, 0.00000000e+00,\n",
       "       9.33163593e-03, 4.70999082e-02, 6.17266104e-02, 0.00000000e+00,\n",
       "       9.07662583e-02, 1.07515734e-02, 7.77978981e-03, 2.16740452e-02,\n",
       "       2.50193546e-02, 1.96116262e-02, 8.08726743e-03, 0.00000000e+00,\n",
       "       5.54558102e-03, 0.00000000e+00, 1.35893766e-03, 3.18257423e-03,\n",
       "       3.12336399e-03, 0.00000000e+00, 7.65486750e-04, 5.06130129e-04,\n",
       "       4.38679604e-04, 7.66545059e-04, 4.47092865e-03, 7.14533917e-04,\n",
       "       8.97249147e-04, 6.27451235e-04, 8.43911819e-04, 9.69664434e-03,\n",
       "       3.10051500e-03, 2.98018765e-03, 0.00000000e+00, 7.03180003e-05,\n",
       "       1.16219812e-03, 1.30180874e-05, 7.13557020e-04, 3.93950967e-04,\n",
       "       1.94544262e-03, 1.01483709e-03, 9.23024250e-04, 0.00000000e+00,\n",
       "       1.40851297e-03, 2.26232470e-03, 1.73190385e-03, 4.52148511e-05,\n",
       "       1.53059390e-04, 2.28931752e-03, 1.63859973e-03, 4.41690787e-04,\n",
       "       2.39725564e-03, 1.72947319e-03, 5.58364977e-03, 1.73622330e-03,\n",
       "       6.18965000e-04, 5.74647881e-04, 1.28336584e-03, 2.23536273e-03,\n",
       "       5.99216480e-04, 7.43410399e-04, 1.11160364e-04, 1.80089494e-04,\n",
       "       1.47540630e-03, 1.56457743e-03, 1.29073499e-03, 0.00000000e+00,\n",
       "       1.20681896e-03, 1.02738431e-03, 9.46209997e-04, 2.12103170e-04,\n",
       "       0.00000000e+00])"
      ]
     },
     "execution_count": 62,
     "metadata": {},
     "output_type": "execute_result"
    }
   ],
   "source": [
    "rf_model.feature_importances_"
   ]
  },
  {
   "cell_type": "markdown",
   "metadata": {
    "id": "EPjyUePjzyf_"
   },
   "source": [
    "Associate these feature importances with the corresponding features:"
   ]
  },
  {
   "cell_type": "code",
   "execution_count": 63,
   "metadata": {
    "colab": {
     "base_uri": "https://localhost:8080/",
     "height": 669
    },
    "id": "DW3fy2clzygA",
    "outputId": "7ac6f159-479d-4e9c-edaa-7625d673d0e2"
   },
   "outputs": [
    {
     "data": {
      "text/html": [
       "<div>\n",
       "<style scoped>\n",
       "    .dataframe tbody tr th:only-of-type {\n",
       "        vertical-align: middle;\n",
       "    }\n",
       "\n",
       "    .dataframe tbody tr th {\n",
       "        vertical-align: top;\n",
       "    }\n",
       "\n",
       "    .dataframe thead th {\n",
       "        text-align: right;\n",
       "    }\n",
       "</style>\n",
       "<table border=\"1\" class=\"dataframe\">\n",
       "  <thead>\n",
       "    <tr style=\"text-align: right;\">\n",
       "      <th></th>\n",
       "      <th>feature.importance</th>\n",
       "      <th>feature</th>\n",
       "    </tr>\n",
       "  </thead>\n",
       "  <tbody>\n",
       "    <tr>\n",
       "      <th>2</th>\n",
       "      <td>0.162232</td>\n",
       "      <td>int_rate</td>\n",
       "    </tr>\n",
       "    <tr>\n",
       "      <th>20</th>\n",
       "      <td>0.090766</td>\n",
       "      <td>grade_A</td>\n",
       "    </tr>\n",
       "    <tr>\n",
       "      <th>4</th>\n",
       "      <td>0.073015</td>\n",
       "      <td>annual_inc</td>\n",
       "    </tr>\n",
       "    <tr>\n",
       "      <th>18</th>\n",
       "      <td>0.061727</td>\n",
       "      <td>term_60 months</td>\n",
       "    </tr>\n",
       "    <tr>\n",
       "      <th>13</th>\n",
       "      <td>0.059868</td>\n",
       "      <td>revol_util</td>\n",
       "    </tr>\n",
       "    <tr>\n",
       "      <th>17</th>\n",
       "      <td>0.047100</td>\n",
       "      <td>term_36 months</td>\n",
       "    </tr>\n",
       "    <tr>\n",
       "      <th>8</th>\n",
       "      <td>0.046432</td>\n",
       "      <td>inq_last_6mths</td>\n",
       "    </tr>\n",
       "    <tr>\n",
       "      <th>0</th>\n",
       "      <td>0.046138</td>\n",
       "      <td>Unnamed: 0</td>\n",
       "    </tr>\n",
       "    <tr>\n",
       "      <th>3</th>\n",
       "      <td>0.038976</td>\n",
       "      <td>installment</td>\n",
       "    </tr>\n",
       "    <tr>\n",
       "      <th>14</th>\n",
       "      <td>0.034417</td>\n",
       "      <td>total_acc</td>\n",
       "    </tr>\n",
       "    <tr>\n",
       "      <th>6</th>\n",
       "      <td>0.029833</td>\n",
       "      <td>dti</td>\n",
       "    </tr>\n",
       "    <tr>\n",
       "      <th>1</th>\n",
       "      <td>0.029711</td>\n",
       "      <td>loan_amnt</td>\n",
       "    </tr>\n",
       "    <tr>\n",
       "      <th>12</th>\n",
       "      <td>0.028135</td>\n",
       "      <td>revol_bal</td>\n",
       "    </tr>\n",
       "    <tr>\n",
       "      <th>10</th>\n",
       "      <td>0.025128</td>\n",
       "      <td>open_acc</td>\n",
       "    </tr>\n",
       "    <tr>\n",
       "      <th>24</th>\n",
       "      <td>0.025019</td>\n",
       "      <td>grade_E</td>\n",
       "    </tr>\n",
       "    <tr>\n",
       "      <th>23</th>\n",
       "      <td>0.021674</td>\n",
       "      <td>grade_D</td>\n",
       "    </tr>\n",
       "    <tr>\n",
       "      <th>9</th>\n",
       "      <td>0.020986</td>\n",
       "      <td>mths_since_last_delinq</td>\n",
       "    </tr>\n",
       "    <tr>\n",
       "      <th>25</th>\n",
       "      <td>0.019612</td>\n",
       "      <td>grade_F</td>\n",
       "    </tr>\n",
       "    <tr>\n",
       "      <th>11</th>\n",
       "      <td>0.015948</td>\n",
       "      <td>pub_rec</td>\n",
       "    </tr>\n",
       "    <tr>\n",
       "      <th>21</th>\n",
       "      <td>0.010752</td>\n",
       "      <td>grade_B</td>\n",
       "    </tr>\n",
       "  </tbody>\n",
       "</table>\n",
       "</div>"
      ],
      "text/plain": [
       "    feature.importance                 feature\n",
       "2             0.162232                int_rate\n",
       "20            0.090766                 grade_A\n",
       "4             0.073015              annual_inc\n",
       "18            0.061727          term_60 months\n",
       "13            0.059868              revol_util\n",
       "17            0.047100          term_36 months\n",
       "8             0.046432          inq_last_6mths\n",
       "0             0.046138              Unnamed: 0\n",
       "3             0.038976             installment\n",
       "14            0.034417               total_acc\n",
       "6             0.029833                     dti\n",
       "1             0.029711               loan_amnt\n",
       "12            0.028135               revol_bal\n",
       "10            0.025128                open_acc\n",
       "24            0.025019                 grade_E\n",
       "23            0.021674                 grade_D\n",
       "9             0.020986  mths_since_last_delinq\n",
       "25            0.019612                 grade_F\n",
       "11            0.015948                 pub_rec\n",
       "21            0.010752                 grade_B"
      ]
     },
     "execution_count": 63,
     "metadata": {},
     "output_type": "execute_result"
    }
   ],
   "source": [
    "feature_importance_df = pd.DataFrame(list(zip(rf_model.feature_importances_, list(x_train.columns))))\n",
    "feature_importance_df.columns = ['feature.importance', 'feature']\n",
    "feature_importance_df.sort_values(by='feature.importance', ascending=False).head(20) # only show top 20"
   ]
  }
 ],
 "metadata": {
  "colab": {
   "name": "ML_Model1.ipynb",
   "provenance": []
  },
  "kernelspec": {
   "display_name": "Python 3",
   "language": "python",
   "name": "python3"
  },
  "language_info": {
   "codemirror_mode": {
    "name": "ipython",
    "version": 3
   },
   "file_extension": ".py",
   "mimetype": "text/x-python",
   "name": "python",
   "nbconvert_exporter": "python",
   "pygments_lexer": "ipython3",
   "version": "3.8.3"
  }
 },
 "nbformat": 4,
 "nbformat_minor": 1
}
