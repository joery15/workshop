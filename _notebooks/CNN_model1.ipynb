{
 "cells": [
  {
   "cell_type": "markdown",
   "metadata": {
    "id": "bRb__-98Awrd"
   },
   "source": [
    "# CNN_model1\n",
    "\n",
    "mnist case\n",
    "releated-link https://raw.githubusercontent.com/skyu0221/online-dropbox/master/ml/capstone2/train.csv"
   ]
  },
  {
   "cell_type": "markdown",
   "metadata": {
    "id": "2NQkD6etG7vR"
   },
   "source": [
    "\n",
    "## Part 1 - understand a model\n",
    "\n",
    "### Optimizers\n",
    "\n",
    "Loss is the penalty for a bad prediction. That is, loss is a number indicating how bad the model's prediction was on a single example. If the model's prediction is perfect, the loss is zero; otherwise, the loss is greater than zero. The goal of training a model is to find a set of weights and biases (i.e. parameters) that have, on average, a low loss across all examples. The term cost is used interchangably with loss. See the [loss section](https://keras.io/losses/) in the Keras documentation for a list and descriptions of what is available.\n",
    "\n",
    "![Side by side loss](https://drive.google.com/uc?id=1DdbQEQLCLCSw4uPsuf0C1nJCfUICT0Ae)\n",
    "<b>Figure 1.</b> Left: high loss and right: low loss.\n",
    "\n",
    "<!-- https://drive.google.com/file/d/1DdbQEQLCLCSw4uPsuf0C1nJCfUICT0Ae/view?usp=sharing\n",
    "<img src=\"./fig/LossSideBySide.png\" width=\"500\">\n",
    "<figcaption>Figure. Left: high loss and right: low loss.</figcaption>\n",
    " -->\n",
    "The optimizer is the algorithm used to minimize the loss/cost. Optimizers in neural networks work by finding the gradient/derivative of the loss with respect to the parameters (i.e. the weights). \"Gradient\" is the correct term since a we are looking at multi-dimensional systems (i.e. many parameters), however, the terms are often used interchangably. For those who didn't take multivariate calculus, just think of the gradient as a derivative. The derivative of the loss with respect to a parameters tells us how much the loss changes when we nudge a weight up or down. So, by knowing how a given parameter affects the loss the optimizer can change it so as to decrease the loss. The various optimizers differ in how they change the weights. \n",
    "\n",
    "#### Mini-overview over popular optimizers\n",
    "\n",
    "* **Stochastic Gradient Descent (SGD)**. This is the most basic and easy to understand optimizer. It updates the weights in the negative direction of the gradient by taking the average gradient of mini-batch of data (e.g. 20-1000 examples) in each step. Vanilla SGD only has one hyper-parameter, the learning rate.\n",
    "* **Momentum**. This optimizer \"gains speed\" when the gradient has pointed in the same direction for several consecutive updates. That is, it has a momentum and want to keep moving in that direction. It gains momentum by accumulating an exponentially decaying moving average of past gradients. The step size depends on how large and aligned the sequence of gradients are. The most important hyper-parameter is alpha and common values are 0.5 and 0.9.\n",
    "* **Nesterov Momentum**. This is a modification of the standard momentum optimizer.\n",
    "* **AdaGrad**. This optimizer Ada-ptively sets the learning rate depending on the steepness/magnitude of the Grad-ients. This is done so that weights with big gradients get a smaller effective learning rate, and weights with small gradients will get a greater effective learning rate. The result is quicker progress in the more gently sloped directions of the weight space and a slowdown in stepp regions.\n",
    "* **RMSProp**. This is modification of AdaGrad, where the accumulated gradient decays, that is, the influence of previous gradients gradually decreases.\n",
    "* **Adam**. The name comes from \"adaptive moments\", and it is a combination of RMSProp and momentum. It has several hyper-parameters.\n",
    "\n",
    "The above list just gives a quick overview of some of the most common. However, old optimizers are constantly improved and new are developed. SGD and momentum are most basic and easiest to understand and implement. They are still in use, but the more advanced optimizers tend to be better for practical use. Which one to use is generally an emperical question depending on both the data and the model.\n",
    "\n",
    "For a more complete overview of optimization algorithms see [this comparison](http://ruder.io/optimizing-gradient-descent/), and to see what is available in Keras, see the [optimizer section](https://keras.io/optimizers/) of the documentation.\n",
    "\n",
    "See the images below for a comparison of optimizers in a 2D space (NAG: Nesterov accelerated gradient, Adadelta: an extension of AdaGrad).\n",
    "\n",
    "![Contours - optimizer comparison](https://drive.google.com/uc?id=1CmrD-UPZ7EIUjRuO_ib7k9CL1FO2bbLk)\n",
    "<b>Figure 2.</b> Comparison of six different optimizers.\n",
    "\n",
    "\n",
    "![Saddle point - optimizer comparison](https://drive.google.com/uc?id=1QVhN9rAvCjXtGyNZkmFivyyCzNsntObh)\n",
    "<b>Figure 3.</b> Comparison of six different optimizers at a saddle point.\n",
    "\n",
    "<!-- <img src=\"./fig/contours_evaluation_optimizers.gif\" width=\"500\">\n",
    "<img src=\"./fig/saddle_point_evaluation_optimizers.gif\" width=\"500\"> -->"
   ]
  },
  {
   "cell_type": "code",
   "execution_count": 2,
   "metadata": {},
   "outputs": [
    {
     "name": "stdout",
     "output_type": "stream",
     "text": [
      "Collecting tensorflow\n",
      "  Downloading tensorflow-2.4.0-cp38-cp38-macosx_10_11_x86_64.whl (175.5 MB)\n",
      "\u001b[K     |████████████████████████████████| 175.5 MB 22 kB/s  eta 0:00:01    |██                              | 10.6 MB 7.0 MB/s eta 0:00:24     |██████████▎                     | 56.6 MB 6.5 MB/s eta 0:00:19     |███████████▏                    | 61.4 MB 7.4 MB/s eta 0:00:16     |████████████████▉               | 92.1 MB 6.1 MB/s eta 0:00:14     |██████████████████              | 98.8 MB 7.5 MB/s eta 0:00:11     |██████████████████▎             | 100.3 MB 7.5 MB/s eta 0:00:11     |████████████████████▋           | 113.1 MB 7.9 MB/s eta 0:00:08     |█████████████████████████       | 137.4 MB 7.7 MB/s eta 0:00:05     |█████████████████████████▍      | 139.2 MB 5.9 MB/s eta 0:00:07     |███████████████████████████     | 147.8 MB 7.2 MB/s eta 0:00:04     |████████████████████████████▏   | 154.5 MB 5.8 MB/s eta 0:00:04     |████████████████████████████▌   | 156.4 MB 5.8 MB/s eta 0:00:04     |███████████████████████████████▋| 173.7 MB 6.2 MB/s eta 0:00:01\n",
      "\u001b[?25hRequirement already satisfied: h5py~=2.10.0 in /Users/apple/opt/anaconda3/lib/python3.8/site-packages (from tensorflow) (2.10.0)\n",
      "Collecting protobuf>=3.9.2\n",
      "  Downloading protobuf-3.14.0-cp38-cp38-macosx_10_9_x86_64.whl (1.0 MB)\n",
      "\u001b[K     |████████████████████████████████| 1.0 MB 9.1 MB/s eta 0:00:01\n",
      "\u001b[?25hCollecting numpy~=1.19.2\n",
      "  Downloading numpy-1.19.5-cp38-cp38-macosx_10_9_x86_64.whl (15.6 MB)\n",
      "\u001b[K     |████████████████████████████████| 15.6 MB 7.3 MB/s eta 0:00:01\n",
      "\u001b[?25hCollecting astunparse~=1.6.3\n",
      "  Downloading astunparse-1.6.3-py2.py3-none-any.whl (12 kB)\n",
      "Collecting termcolor~=1.1.0\n",
      "  Downloading termcolor-1.1.0.tar.gz (3.9 kB)\n",
      "Requirement already satisfied: typing-extensions~=3.7.4 in /Users/apple/opt/anaconda3/lib/python3.8/site-packages (from tensorflow) (3.7.4.3)\n",
      "Collecting absl-py~=0.10\n",
      "  Downloading absl_py-0.11.0-py3-none-any.whl (127 kB)\n",
      "\u001b[K     |████████████████████████████████| 127 kB 12.2 MB/s eta 0:00:01\n",
      "\u001b[?25hCollecting tensorboard~=2.4\n",
      "  Downloading tensorboard-2.4.0-py3-none-any.whl (10.6 MB)\n",
      "\u001b[K     |████████████████████████████████| 10.6 MB 6.2 MB/s eta 0:00:01     |██████████████████████████████  | 10.0 MB 6.2 MB/s eta 0:00:01\n",
      "\u001b[?25hCollecting flatbuffers~=1.12.0\n",
      "  Downloading flatbuffers-1.12-py2.py3-none-any.whl (15 kB)\n",
      "Collecting wrapt~=1.12.1\n",
      "  Using cached wrapt-1.12.1.tar.gz (27 kB)\n",
      "Collecting tensorflow-estimator<2.5.0,>=2.4.0rc0\n",
      "  Downloading tensorflow_estimator-2.4.0-py2.py3-none-any.whl (462 kB)\n",
      "\u001b[K     |████████████████████████████████| 462 kB 12.0 MB/s eta 0:00:01\n",
      "\u001b[?25hCollecting grpcio~=1.32.0\n",
      "  Downloading grpcio-1.32.0-cp38-cp38-macosx_10_9_x86_64.whl (3.3 MB)\n",
      "\u001b[K     |████████████████████████████████| 3.3 MB 2.1 MB/s eta 0:00:01\n",
      "\u001b[?25hRequirement already satisfied: wheel~=0.35 in /Users/apple/opt/anaconda3/lib/python3.8/site-packages (from tensorflow) (0.35.1)\n",
      "Collecting opt-einsum~=3.3.0\n",
      "  Downloading opt_einsum-3.3.0-py3-none-any.whl (65 kB)\n",
      "\u001b[K     |████████████████████████████████| 65 kB 7.1 MB/s  eta 0:00:01\n",
      "\u001b[?25hCollecting gast==0.3.3\n",
      "  Downloading gast-0.3.3-py2.py3-none-any.whl (9.7 kB)\n",
      "Requirement already satisfied: six~=1.15.0 in /Users/apple/opt/anaconda3/lib/python3.8/site-packages (from tensorflow) (1.15.0)\n",
      "Collecting keras-preprocessing~=1.1.2\n",
      "  Downloading Keras_Preprocessing-1.1.2-py2.py3-none-any.whl (42 kB)\n",
      "\u001b[K     |████████████████████████████████| 42 kB 2.2 MB/s  eta 0:00:01\n",
      "\u001b[?25hCollecting google-pasta~=0.2\n",
      "  Downloading google_pasta-0.2.0-py3-none-any.whl (57 kB)\n",
      "\u001b[K     |████████████████████████████████| 57 kB 6.4 MB/s  eta 0:00:01\n",
      "\u001b[?25hRequirement already satisfied: werkzeug>=0.11.15 in /Users/apple/opt/anaconda3/lib/python3.8/site-packages (from tensorboard~=2.4->tensorflow) (1.0.1)\n",
      "Requirement already satisfied: requests<3,>=2.21.0 in /Users/apple/opt/anaconda3/lib/python3.8/site-packages (from tensorboard~=2.4->tensorflow) (2.24.0)\n",
      "Collecting markdown>=2.6.8\n",
      "  Downloading Markdown-3.3.3-py3-none-any.whl (96 kB)\n",
      "\u001b[K     |████████████████████████████████| 96 kB 6.3 MB/s  eta 0:00:01\n",
      "\u001b[?25hRequirement already satisfied: setuptools>=41.0.0 in /Users/apple/opt/anaconda3/lib/python3.8/site-packages (from tensorboard~=2.4->tensorflow) (49.6.0.post20200814)\n",
      "Collecting google-auth<2,>=1.6.3\n",
      "  Downloading google_auth-1.24.0-py2.py3-none-any.whl (114 kB)\n",
      "\u001b[K     |████████████████████████████████| 114 kB 7.2 MB/s eta 0:00:01\n",
      "\u001b[?25hCollecting tensorboard-plugin-wit>=1.6.0\n",
      "  Downloading tensorboard_plugin_wit-1.7.0-py3-none-any.whl (779 kB)\n",
      "\u001b[K     |████████████████████████████████| 779 kB 6.9 MB/s eta 0:00:01\n",
      "\u001b[?25hCollecting google-auth-oauthlib<0.5,>=0.4.1\n",
      "  Downloading google_auth_oauthlib-0.4.2-py2.py3-none-any.whl (18 kB)\n",
      "Requirement already satisfied: certifi>=2017.4.17 in /Users/apple/opt/anaconda3/lib/python3.8/site-packages (from requests<3,>=2.21.0->tensorboard~=2.4->tensorflow) (2020.6.20)\n",
      "Requirement already satisfied: idna<3,>=2.5 in /Users/apple/opt/anaconda3/lib/python3.8/site-packages (from requests<3,>=2.21.0->tensorboard~=2.4->tensorflow) (2.10)\n",
      "Requirement already satisfied: chardet<4,>=3.0.2 in /Users/apple/opt/anaconda3/lib/python3.8/site-packages (from requests<3,>=2.21.0->tensorboard~=2.4->tensorflow) (3.0.4)\n",
      "Requirement already satisfied: urllib3!=1.25.0,!=1.25.1,<1.26,>=1.21.1 in /Users/apple/opt/anaconda3/lib/python3.8/site-packages (from requests<3,>=2.21.0->tensorboard~=2.4->tensorflow) (1.25.10)\n",
      "Collecting rsa<5,>=3.1.4; python_version >= \"3.6\"\n",
      "  Downloading rsa-4.6-py3-none-any.whl (47 kB)\n",
      "\u001b[K     |████████████████████████████████| 47 kB 7.2 MB/s  eta 0:00:01\n",
      "\u001b[?25hCollecting pyasn1-modules>=0.2.1\n",
      "  Downloading pyasn1_modules-0.2.8-py2.py3-none-any.whl (155 kB)\n",
      "\u001b[K     |████████████████████████████████| 155 kB 7.2 MB/s eta 0:00:01\n",
      "\u001b[?25hCollecting cachetools<5.0,>=2.0.0\n",
      "  Downloading cachetools-4.2.0-py3-none-any.whl (12 kB)\n",
      "Collecting requests-oauthlib>=0.7.0\n",
      "  Downloading requests_oauthlib-1.3.0-py2.py3-none-any.whl (23 kB)\n",
      "Collecting pyasn1>=0.1.3\n",
      "  Downloading pyasn1-0.4.8-py2.py3-none-any.whl (77 kB)\n",
      "\u001b[K     |████████████████████████████████| 77 kB 6.0 MB/s  eta 0:00:01\n",
      "\u001b[?25hCollecting oauthlib>=3.0.0\n",
      "  Downloading oauthlib-3.1.0-py2.py3-none-any.whl (147 kB)\n",
      "\u001b[K     |████████████████████████████████| 147 kB 9.1 MB/s eta 0:00:01\n",
      "\u001b[?25hBuilding wheels for collected packages: termcolor, wrapt\n",
      "  Building wheel for termcolor (setup.py) ... \u001b[?25ldone\n",
      "\u001b[?25h  Created wheel for termcolor: filename=termcolor-1.1.0-py3-none-any.whl size=4830 sha256=4ef403cbd84b7dfdc3388226e37976f2eebdbe539e332563d7af594625aa4978\n",
      "  Stored in directory: /Users/apple/Library/Caches/pip/wheels/a0/16/9c/5473df82468f958445479c59e784896fa24f4a5fc024b0f501\n",
      "  Building wheel for wrapt (setup.py) ... \u001b[?25ldone\n",
      "\u001b[?25h  Created wheel for wrapt: filename=wrapt-1.12.1-cp38-cp38-macosx_10_9_x86_64.whl size=32624 sha256=ddd9f01e3ff4a9718fa86fe7265109c2b09d3dc579eacba1c08d6c0d1667a8f5\n",
      "  Stored in directory: /Users/apple/Library/Caches/pip/wheels/5f/fd/9e/b6cf5890494cb8ef0b5eaff72e5d55a70fb56316007d6dfe73\n",
      "Successfully built termcolor wrapt\n",
      "Installing collected packages: protobuf, numpy, astunparse, termcolor, absl-py, markdown, pyasn1, rsa, pyasn1-modules, cachetools, google-auth, grpcio, tensorboard-plugin-wit, oauthlib, requests-oauthlib, google-auth-oauthlib, tensorboard, flatbuffers, wrapt, tensorflow-estimator, opt-einsum, gast, keras-preprocessing, google-pasta, tensorflow\n",
      "  Attempting uninstall: numpy\n",
      "    Found existing installation: numpy 1.19.1\n",
      "    Uninstalling numpy-1.19.1:\n",
      "      Successfully uninstalled numpy-1.19.1\n",
      "  Attempting uninstall: wrapt\n",
      "    Found existing installation: wrapt 1.11.2\n",
      "    Uninstalling wrapt-1.11.2:\n",
      "      Successfully uninstalled wrapt-1.11.2\n",
      "Successfully installed absl-py-0.11.0 astunparse-1.6.3 cachetools-4.2.0 flatbuffers-1.12 gast-0.3.3 google-auth-1.24.0 google-auth-oauthlib-0.4.2 google-pasta-0.2.0 grpcio-1.32.0 keras-preprocessing-1.1.2 markdown-3.3.3 numpy-1.19.5 oauthlib-3.1.0 opt-einsum-3.3.0 protobuf-3.14.0 pyasn1-0.4.8 pyasn1-modules-0.2.8 requests-oauthlib-1.3.0 rsa-4.6 tensorboard-2.4.0 tensorboard-plugin-wit-1.7.0 tensorflow-2.4.0 tensorflow-estimator-2.4.0 termcolor-1.1.0 wrapt-1.12.1\n",
      "Note: you may need to restart the kernel to use updated packages.\n"
     ]
    }
   ],
   "source": [
    " pip install tensorflow"
   ]
  },
  {
   "cell_type": "code",
   "execution_count": 3,
   "metadata": {
    "id": "83Zunsc6G7vS"
   },
   "outputs": [],
   "source": [
    "# imports\n",
    "import numpy as np\n",
    "from sklearn.datasets import fetch_openml\n",
    "from sklearn.model_selection import train_test_split\n",
    "from sklearn.metrics import confusion_matrix\n",
    "import itertools\n",
    "import matplotlib.pyplot as plt\n",
    "from keras.preprocessing.image import ImageDataGenerator\n",
    "# for the random seed\n",
    "import tensorflow as tf\n",
    "from tensorflow.keras.models import Sequential\n",
    "from tensorflow.keras.layers import Dense, Dropout, Flatten\n",
    "from tensorflow.keras.layers import Conv2D, MaxPooling2D\n",
    "from tensorflow.keras.optimizers import SGD\n",
    "\n",
    "# set the random seeds to get reproducible results\n",
    "np.random.seed(1)\n",
    "tf.random.set_seed(2)\n",
    "\n",
    "# Load data from https://www.openml.org/d/554\n",
    "X, y = fetch_openml('mnist_784', version=1, return_X_y=True)\n",
    "X, y = X[:1000], y[:1000]\n",
    "X = X.reshape(X.shape[0], 28, 28, 1)\n",
    "# Normalize\n",
    "X = X / 255.\n",
    "# number of unique classes\n",
    "num_classes = len(np.unique(y))\n",
    "y = y.astype(int)\n",
    "\n",
    "X_train, X_test, y_train, y_test = train_test_split(X, y, test_size=.2, random_state=1)\n",
    "\n",
    "num_tot = y.shape[0]\n",
    "num_train = y_train.shape[0]\n",
    "num_test = y_test.shape[0]\n",
    "\n",
    "y_oh = np.zeros((num_tot, num_classes))\n",
    "y_oh[range(num_tot), y] = 1\n",
    "\n",
    "y_oh_train = np.zeros((num_train, num_classes))\n",
    "y_oh_train[range(num_train), y_train] = 1\n",
    "\n",
    "y_oh_test = np.zeros((num_test, num_classes))\n",
    "y_oh_test[range(num_test), y_test] = 1"
   ]
  },
  {
   "cell_type": "code",
   "execution_count": 4,
   "metadata": {
    "colab": {
     "base_uri": "https://localhost:8080/"
    },
    "id": "vBjvQ0ZnZ4iL",
    "outputId": "bee1cfe4-2274-4b9e-8586-e6ce8d4bdda0"
   },
   "outputs": [
    {
     "data": {
      "text/plain": [
       "(1000, 28, 28, 1)"
      ]
     },
     "execution_count": 4,
     "metadata": {},
     "output_type": "execute_result"
    }
   ],
   "source": [
    "X.shape"
   ]
  },
  {
   "cell_type": "markdown",
   "metadata": {
    "id": "UMemOR9oG7vS"
   },
   "source": [
    "### Question 1\n",
    "**The data set**\n",
    "\n",
    "Plot a three examples from the data set.\n",
    "* What type of data are in the data set?\n",
    "\n",
    "    <span style=\"color:red\"> < **numpy.ndarray** > </span>\n",
    "    \n",
    "\n",
    "* What does the line ```X = X.reshape(X.shape[0], 28, 28, 1)``` do?\n",
    "\n",
    "  < make the X into 4D array which elements is 1000,28,28,1>\n",
    "\n",
    "Look at how the encoding of the targets (i.e. ```y```) is changed. E.g. the lines\n",
    "```\n",
    "    y_oh = np.zeros((num_tot, num_classes))\n",
    "    y_oh[range(num_tot), y] = 1\n",
    "```\n",
    "Print out a few rows of ```y``` next to ```y_oh```.\n",
    "* What is the relationship between ```y``` and ```y_oh```?\n",
    "\n",
    "    <span style=\"color:red\"> <  **when the columns index in y_oh equal to y, then the value =1， otherwise value in y_oh euqal to 0** > </span>\n",
    "    \n",
    "    \n",
    "* What is the type of encoding in ```y_oh``` called and why is it used?\n",
    "\n",
    "    <span style=\"color:red\"> <**one-hot encoding**> \n",
    "    </span>\n",
    "    <**Because it transform y into the value between 0 and 1, which is suitable for the  equally categorical y**>\n",
    "    \n",
    "* Plot three data examples in the same figure and set the correct label as title. \n",
    "    * It should be possible to see what the data represent."
   ]
  },
  {
   "cell_type": "code",
   "execution_count": 5,
   "metadata": {
    "colab": {
     "base_uri": "https://localhost:8080/",
     "height": 228
    },
    "id": "_5CQf_iasNn2",
    "outputId": "03a23157-b319-4aa3-abe2-784db7103add"
   },
   "outputs": [
    {
     "data": {
      "image/png": "[encoded data removed]",
      "text/plain": [
       "<Figure size 720x720 with 3 Axes>"
      ]
     },
     "metadata": {
      "needs_background": "light"
     },
     "output_type": "display_data"
    }
   ],
   "source": [
    "X_plot, y_plot = X[:3], y[:3]\n",
    "X_plot=X_plot.reshape(3,28,28)\n",
    "fig=plt.figure(figsize=(10,10))\n",
    "fig.add_subplot(1,3,1)\n",
    "plt.imshow(X_plot[0])\n",
    "plt.title(y_plot[0])\n",
    "\n",
    "fig.add_subplot(1,3,2)\n",
    "plt.imshow(X_plot[1])\n",
    "plt.title(y_plot[1])\n",
    "\n",
    "fig.add_subplot(1,3,3)\n",
    "plt.imshow(X_plot[2])\n",
    "plt.title(y_plot[2])\n",
    "\n",
    "plt.show()\n",
    "#for i range(1,4):\n",
    "#  img=X_plot[i]\n",
    "#  fig.add_subplot(1,3,i)\n",
    "#  plt.title(y[i])\n",
    "#  plt.imshow(img)\n",
    "#plt.show\n"
   ]
  },
  {
   "cell_type": "markdown",
   "metadata": {
    "id": "jGsl5ZbNud5M"
   },
   "source": [
    "# Question 2\n",
    "\n",
    "\n",
    "To avoid the problem of overfitting, we need to artificially expand the data set. We can use existing data to generate 'fake data'. We add a small change to each picture on the built-in data:\n",
    "\n",
    "* Randomly rotate some training images by 10 degrees\n",
    "* Randomly Zoom by 10% some training images\n",
    "* Randomly shift images horizontally by 10% of the width\n",
    "* Randomly shift images vertically by 10% of the height"
   ]
  },
  {
   "cell_type": "code",
   "execution_count": 6,
   "metadata": {
    "id": "D66xcoR_udeK"
   },
   "outputs": [],
   "source": [
    "datagen = ImageDataGenerator(\n",
    "            featurewise_center=False,  # set input mean to 0 over the dataset\n",
    "            samplewise_center=False,  # set each sample mean to 0\n",
    "            featurewise_std_normalization=False,  # divide inputs by std of the dataset\n",
    "            samplewise_std_normalization=False,  # divide each input by its std\n",
    "            zca_whitening=False,  # apply ZCA whitening\n",
    "            rotation_range=10,  # randomly rotate images in the range (degrees, 0 to 180)\n",
    "            zoom_range = 0.1, # Randomly zoom image \n",
    "            width_shift_range=0.1,  # randomly shift images horizontally (fraction of total width)\n",
    "            height_shift_range=0.1,  # randomly shift images vertically (fraction of total height)\n",
    "            horizontal_flip=False,  # randomly flip images\n",
    "            vertical_flip=False)  # randomly flip images\n",
    "\n",
    "\n",
    "datagen.fit(X_train)"
   ]
  },
  {
   "cell_type": "markdown",
   "metadata": {
    "id": "V4MlblbwG7vS"
   },
   "source": [
    "### Question 3\n",
    "**The model**\n",
    "\n",
    "Below is some code for bulding and training a model with Keras.\n",
    "* What type of network is implemented below? I.e. a normal MLP, RNN, CNN, Logistic Regression...?\n",
    "\n",
    "    <span style=\"color:red\"> <***CNN***> </span>\n",
    "    \n",
    "    \n",
    "* What does ```Dropout()``` do?\n",
    "\n",
    "    <span style=\"color:red\"> <***controll overfitting***> </span>\n",
    "\n",
    "\n",
    "* Which type of activation function is used for the hidden layers?\n",
    "\n",
    "    <span style=\"color:red\"> <***Relu***> </span>\n",
    "\n",
    "\n",
    "* Which type of activation function is used for the output layer?\n",
    "\n",
    "    <span style=\"color:red\"> <***Softmax***> </span>\n",
    "\n",
    "\n",
    "* Why are two different activation functions used?\n",
    "\n",
    "    <span style=\"color:red\"> <***Different activation functions allow for different non-linearities which might work better for solving a specific function: ReLU is fast to compute so nice for deep networks with high training times; Softmax is used for multi-class classification problems and predict a multinomial probability distribution***> </span>\n",
    "\n",
    "\n",
    "* What optimizer is used in the model below?\n",
    "\n",
    "    <span style=\"color:red\"> <***Stochastic Gradient Descent (SGD)***> </span>\n",
    "\n",
    "\n",
    "* How often are the weights updated (i.e. after how many data examples)?\n",
    "\n",
    "    <span style=\"color:red\"> <**after the 32 samples, the weight will ungrades once**> </span>\n",
    "\n",
    "\n",
    "* What loss function is used?\n",
    "\n",
    "    <span style=\"color:red\"> <***Categorical_crossentropy***> </span>\n",
    "\n",
    "\n",
    "* How many parameters (i.e. weights and biases, NOT hyper-parameters) does the model have?\n",
    "\n",
    "    <span style=\"color:red\"> <***108,618***> </span>\n"
   ]
  },
  {
   "cell_type": "code",
   "execution_count": 7,
   "metadata": {
    "colab": {
     "base_uri": "https://localhost:8080/"
    },
    "id": "XNvAAvzjG7vS",
    "outputId": "07ef0ead-e830-46e5-9dda-a71ff87d60b0",
    "scrolled": true
   },
   "outputs": [
    {
     "name": "stdout",
     "output_type": "stream",
     "text": [
      "Epoch 1/60\n",
      "25/25 [==============================] - 1s 20ms/step - loss: 2.2322\n",
      "Epoch 2/60\n",
      "25/25 [==============================] - 0s 18ms/step - loss: 1.3094\n",
      "Epoch 3/60\n",
      "25/25 [==============================] - 0s 19ms/step - loss: 0.5476\n",
      "Epoch 4/60\n",
      "25/25 [==============================] - 0s 19ms/step - loss: 0.3458\n",
      "Epoch 5/60\n",
      "25/25 [==============================] - 1s 21ms/step - loss: 0.2481\n",
      "Epoch 6/60\n",
      "25/25 [==============================] - 1s 33ms/step - loss: 0.1618\n",
      "Epoch 7/60\n",
      "25/25 [==============================] - 0s 19ms/step - loss: 0.1702\n",
      "Epoch 8/60\n",
      "25/25 [==============================] - 0s 19ms/step - loss: 0.1203\n",
      "Epoch 9/60\n",
      "25/25 [==============================] - 0s 19ms/step - loss: 0.0991\n",
      "Epoch 10/60\n",
      "25/25 [==============================] - 1s 22ms/step - loss: 0.0544\n",
      "Epoch 11/60\n",
      "25/25 [==============================] - 1s 21ms/step - loss: 0.0416\n",
      "Epoch 12/60\n",
      "25/25 [==============================] - 1s 21ms/step - loss: 0.0405\n",
      "Epoch 13/60\n",
      "25/25 [==============================] - 0s 17ms/step - loss: 0.0346\n",
      "Epoch 14/60\n",
      "25/25 [==============================] - 0s 19ms/step - loss: 0.0197\n",
      "Epoch 15/60\n",
      "25/25 [==============================] - 1s 22ms/step - loss: 0.0155\n",
      "Epoch 16/60\n",
      "25/25 [==============================] - 1s 19ms/step - loss: 0.0179\n",
      "Epoch 17/60\n",
      "25/25 [==============================] - 0s 18ms/step - loss: 0.0119\n",
      "Epoch 18/60\n",
      "25/25 [==============================] - 0s 16ms/step - loss: 0.0071\n",
      "Epoch 19/60\n",
      "25/25 [==============================] - 0s 16ms/step - loss: 0.0077\n",
      "Epoch 20/60\n",
      "25/25 [==============================] - 0s 16ms/step - loss: 0.0040\n",
      "Epoch 21/60\n",
      "25/25 [==============================] - 0s 16ms/step - loss: 0.0042\n",
      "Epoch 22/60\n",
      "25/25 [==============================] - 0s 17ms/step - loss: 0.0032\n",
      "Epoch 23/60\n",
      "25/25 [==============================] - 0s 19ms/step - loss: 0.0035\n",
      "Epoch 24/60\n",
      "25/25 [==============================] - 0s 19ms/step - loss: 0.0023\n",
      "Epoch 25/60\n",
      "25/25 [==============================] - 0s 17ms/step - loss: 0.0022\n",
      "Epoch 26/60\n",
      "25/25 [==============================] - 1s 21ms/step - loss: 0.0022\n",
      "Epoch 27/60\n",
      "25/25 [==============================] - 0s 19ms/step - loss: 0.0021\n",
      "Epoch 28/60\n",
      "25/25 [==============================] - 1s 21ms/step - loss: 0.0019\n",
      "Epoch 29/60\n",
      "25/25 [==============================] - 0s 19ms/step - loss: 0.0019\n",
      "Epoch 30/60\n",
      "25/25 [==============================] - 0s 17ms/step - loss: 0.0015\n",
      "Epoch 31/60\n",
      "25/25 [==============================] - 0s 19ms/step - loss: 0.0018\n",
      "Epoch 32/60\n",
      "25/25 [==============================] - 0s 20ms/step - loss: 0.0015\n",
      "Epoch 33/60\n",
      "25/25 [==============================] - 1s 26ms/step - loss: 0.0013\n",
      "Epoch 34/60\n",
      "25/25 [==============================] - 1s 22ms/step - loss: 0.0013\n",
      "Epoch 35/60\n",
      "25/25 [==============================] - 0s 18ms/step - loss: 0.0012\n",
      "Epoch 36/60\n",
      "25/25 [==============================] - 0s 18ms/step - loss: 0.0011\n",
      "Epoch 37/60\n",
      "25/25 [==============================] - 0s 16ms/step - loss: 0.0012\n",
      "Epoch 38/60\n",
      "25/25 [==============================] - 0s 18ms/step - loss: 0.0011\n",
      "Epoch 39/60\n",
      "25/25 [==============================] - 0s 18ms/step - loss: 0.0012\n",
      "Epoch 40/60\n",
      "25/25 [==============================] - 0s 19ms/step - loss: 0.0011\n",
      "Epoch 41/60\n",
      "25/25 [==============================] - 0s 16ms/step - loss: 0.0010\n",
      "Epoch 42/60\n",
      "25/25 [==============================] - 0s 19ms/step - loss: 9.5389e-04\n",
      "Epoch 43/60\n",
      "25/25 [==============================] - 1s 21ms/step - loss: 8.7589e-04\n",
      "Epoch 44/60\n",
      "25/25 [==============================] - 1s 20ms/step - loss: 7.5664e-04\n",
      "Epoch 45/60\n",
      "25/25 [==============================] - 0s 16ms/step - loss: 7.8364e-04\n",
      "Epoch 46/60\n",
      "25/25 [==============================] - 0s 18ms/step - loss: 8.6218e-04\n",
      "Epoch 47/60\n",
      "25/25 [==============================] - 1s 21ms/step - loss: 7.4382e-04\n",
      "Epoch 48/60\n",
      "25/25 [==============================] - 0s 17ms/step - loss: 5.9547e-04\n",
      "Epoch 49/60\n",
      "25/25 [==============================] - 0s 16ms/step - loss: 7.4040e-04\n",
      "Epoch 50/60\n",
      "25/25 [==============================] - 0s 19ms/step - loss: 6.5876e-04\n",
      "Epoch 51/60\n",
      "25/25 [==============================] - 0s 17ms/step - loss: 6.1763e-04\n",
      "Epoch 52/60\n",
      "25/25 [==============================] - 0s 19ms/step - loss: 5.8019e-04\n",
      "Epoch 53/60\n",
      "25/25 [==============================] - 0s 17ms/step - loss: 5.5300e-04\n",
      "Epoch 54/60\n",
      "25/25 [==============================] - 1s 20ms/step - loss: 5.6150e-04\n",
      "Epoch 55/60\n",
      "25/25 [==============================] - 0s 19ms/step - loss: 6.9891e-04\n",
      "Epoch 56/60\n",
      "25/25 [==============================] - 1s 27ms/step - loss: 6.1614e-04\n",
      "Epoch 57/60\n",
      "25/25 [==============================] - 0s 19ms/step - loss: 5.2971e-04\n",
      "Epoch 58/60\n",
      "25/25 [==============================] - 1s 23ms/step - loss: 6.1559e-04\n",
      "Epoch 59/60\n",
      "25/25 [==============================] - 1s 20ms/step - loss: 5.8387e-04\n",
      "Epoch 60/60\n",
      "25/25 [==============================] - 1s 22ms/step - loss: 5.5806e-04\n",
      "7/7 [==============================] - 0s 5ms/step - loss: 0.4677\n",
      "Accuracy: 0.93\n"
     ]
    }
   ],
   "source": [
    "\n",
    "model = Sequential()\n",
    "\n",
    "model.add(Conv2D(16, (3, 3), activation='relu', input_shape=(28, 28, 1)))\n",
    "# Max pooling\n",
    "model.add(MaxPooling2D(pool_size=(2, 2)))\n",
    "model.add(Dropout(0.))\n",
    "\n",
    "model.add(Conv2D(32, (3, 3), activation='relu'))\n",
    "# Max pooling\n",
    "model.add(MaxPooling2D(pool_size=(2, 2)))\n",
    "model.add(Flatten())\n",
    "\n",
    "model.add(Dense(128, activation='relu'))\n",
    "model.add(Dropout(0.))\n",
    "\n",
    "model.add(Dense(10, activation='softmax'))\n",
    "\n",
    "sgd = SGD(lr=0.01, decay=1e-6, momentum=0.9, nesterov=True)\n",
    "\n",
    "# Compile the model\n",
    "model.compile(loss='categorical_crossentropy', optimizer=sgd)\n",
    "\n",
    "# Train the model\n",
    "model.fit(X_train, y_oh_train, batch_size=32, epochs=60)\n",
    "\n",
    "# Evaluate performance\n",
    "test_loss = model.evaluate(X_test, y_oh_test, batch_size=32)\n",
    "\n",
    "predictions = model.predict(X_test, batch_size=32)\n",
    "predictions = np.argmax(predictions, axis=1) # change encoding again\n",
    "print('Accuracy:', (predictions == y_test).sum() / predictions.shape[0])"
   ]
  },
  {
   "cell_type": "code",
   "execution_count": 8,
   "metadata": {
    "colab": {
     "base_uri": "https://localhost:8080/"
    },
    "id": "suvhACy89m-I",
    "outputId": "c8e22e2e-78d6-40c3-db8b-50e21c75af47"
   },
   "outputs": [
    {
     "name": "stdout",
     "output_type": "stream",
     "text": [
      "Model: \"sequential\"\n",
      "_________________________________________________________________\n",
      "Layer (type)                 Output Shape              Param #   \n",
      "=================================================================\n",
      "conv2d (Conv2D)              (None, 26, 26, 16)        160       \n",
      "_________________________________________________________________\n",
      "max_pooling2d (MaxPooling2D) (None, 13, 13, 16)        0         \n",
      "_________________________________________________________________\n",
      "dropout (Dropout)            (None, 13, 13, 16)        0         \n",
      "_________________________________________________________________\n",
      "conv2d_1 (Conv2D)            (None, 11, 11, 32)        4640      \n",
      "_________________________________________________________________\n",
      "max_pooling2d_1 (MaxPooling2 (None, 5, 5, 32)          0         \n",
      "_________________________________________________________________\n",
      "flatten (Flatten)            (None, 800)               0         \n",
      "_________________________________________________________________\n",
      "dense (Dense)                (None, 128)               102528    \n",
      "_________________________________________________________________\n",
      "dropout_1 (Dropout)          (None, 128)               0         \n",
      "_________________________________________________________________\n",
      "dense_1 (Dense)              (None, 10)                1290      \n",
      "=================================================================\n",
      "Total params: 108,618\n",
      "Trainable params: 108,618\n",
      "Non-trainable params: 0\n",
      "_________________________________________________________________\n"
     ]
    }
   ],
   "source": [
    "model.summary()"
   ]
  },
  {
   "cell_type": "markdown",
   "metadata": {
    "id": "64Abk3-GG7vS"
   },
   "source": [
    "## Part 3 - train a model\n",
    "\n",
    "A model's performance depends on many factors apart from the model architecture (e.g. type and number of layers) and the dataset. Here you will get to explore some of the factors that affect model performance. Much of the skill in training deep learning models lies in quickly finding good values/options for these choises.\n",
    "\n",
    "In order to observe the learning process it is best to compare the training set loss with the loss on the test set. How to visualize these variables with Keras is described under [Training history visualization](https://keras.io/visualization/#training-history-visualization) in the documentation.\n",
    "\n",
    "You will explore the effect of 1) optimizer, 2) training duration, and 3) dropout (see the question above).\n",
    "\n",
    "When training, an **epoch** is one pass through the full training set.\n",
    "\n",
    "\n",
    "\n",
    "## Further information\n",
    "For ideas about hyper-parameter tuning, take a look at the strategies described in the sklearn documentation under [model selection](https://scikit-learn.org/stable/model_selection.html), or in this [blog post](https://blog.tensorflow.org/2020/01/hyperparameter-tuning-with-keras-tuner.html) from TensorFlow. For a more thorough discussion about optimizers see [this video](https://www.youtube.com/watch?v=DiNzQP7kK-s) discussing the article [Descending through a Crowded Valley -- Benchmarking Deep Learning Optimizers](https://arxiv.org/abs/2007.01547).\n",
    "\n",
    "\n",
    "**Good luck!**"
   ]
  },
  {
   "cell_type": "markdown",
   "metadata": {
    "id": "C2swN1lCoWeu"
   },
   "source": [
    "### Question 1\n",
    "\n",
    "* **Vizualize the training**. Use the model above to observe the training process. Train it for 150 epochs and then plot both \"loss\" and \"val_loss\" (i.e. loss on the valiadtion set, here the terms \"validation set\" and \"test set\" are used interchangably, but this is not always true). What is the optimal number of epochs for minimizing the test set loss? \n",
    "    * Remember to first reset the weights (this can be done by calling ```model.compile()```), otherwise the training just continues from where it was stopped earlier.\n",
    "\n",
    "    <**Based on the graph showed from the first following code, the optimal number of epochs is around 15**>"
   ]
  },
  {
   "cell_type": "code",
   "execution_count": 9,
   "metadata": {
    "id": "ySbqfAV1B7DP"
   },
   "outputs": [],
   "source": [
    "def built_CNN(droupout):\n",
    "  model = Sequential()\n",
    "  model.add(Conv2D(16, (3, 3), activation='relu', input_shape=(28, 28, 1)))\n",
    "  # Max pooling\n",
    "  model.add(MaxPooling2D(pool_size=(2, 2)))\n",
    "  model.add(Dropout(droupout))\n",
    "  model.add(Conv2D(32, (3, 3), activation='relu'))\n",
    "  # Max pooling\n",
    "  model.add(MaxPooling2D(pool_size=(2, 2)))\n",
    "  model.add(Flatten())\n",
    "  model.add(Dense(128, activation='relu'))\n",
    "  model.add(Dropout(droupout))\n",
    "  model.add(Dense(10, activation='softmax'))\n",
    "  return model"
   ]
  },
  {
   "cell_type": "code",
   "execution_count": 10,
   "metadata": {
    "id": "Kzf0UkjDzWCW"
   },
   "outputs": [
    {
     "name": "stdout",
     "output_type": "stream",
     "text": [
      "Epoch 1/150\n",
      "25/25 [==============================] - 2s 54ms/step - loss: 1.8953 - val_loss: 0.7826\n",
      "Epoch 2/150\n",
      "25/25 [==============================] - 0s 19ms/step - loss: 0.6568 - val_loss: 0.6186\n",
      "Epoch 3/150\n",
      "25/25 [==============================] - 0s 20ms/step - loss: 0.4365 - val_loss: 0.3979\n",
      "Epoch 4/150\n",
      "25/25 [==============================] - 0s 20ms/step - loss: 0.3441 - val_loss: 0.3366\n",
      "Epoch 5/150\n",
      "25/25 [==============================] - 0s 19ms/step - loss: 0.2509 - val_loss: 0.3243\n",
      "Epoch 6/150\n",
      "25/25 [==============================] - 0s 19ms/step - loss: 0.1892 - val_loss: 0.2582\n",
      "Epoch 7/150\n",
      "25/25 [==============================] - 0s 20ms/step - loss: 0.1602 - val_loss: 0.2807\n",
      "Epoch 8/150\n",
      "25/25 [==============================] - 1s 23ms/step - loss: 0.1399 - val_loss: 0.2427\n",
      "Epoch 9/150\n",
      "25/25 [==============================] - 1s 21ms/step - loss: 0.0934 - val_loss: 0.3118\n",
      "Epoch 10/150\n",
      "25/25 [==============================] - 1s 25ms/step - loss: 0.0798 - val_loss: 0.2588\n",
      "Epoch 11/150\n",
      "25/25 [==============================] - 1s 22ms/step - loss: 0.0485 - val_loss: 0.2371\n",
      "Epoch 12/150\n",
      "25/25 [==============================] - 0s 20ms/step - loss: 0.0360 - val_loss: 0.3020\n",
      "Epoch 13/150\n",
      "25/25 [==============================] - 0s 19ms/step - loss: 0.0490 - val_loss: 0.2909\n",
      "Epoch 14/150\n",
      "25/25 [==============================] - 1s 21ms/step - loss: 0.0221 - val_loss: 0.3879\n",
      "Epoch 15/150\n",
      "25/25 [==============================] - 0s 19ms/step - loss: 0.0207 - val_loss: 0.3378\n",
      "Epoch 16/150\n",
      "25/25 [==============================] - 1s 36ms/step - loss: 0.0226 - val_loss: 0.3872\n",
      "Epoch 17/150\n",
      "25/25 [==============================] - 1s 28ms/step - loss: 0.0172 - val_loss: 0.3649\n",
      "Epoch 18/150\n",
      "25/25 [==============================] - 1s 22ms/step - loss: 0.0100 - val_loss: 0.4093\n",
      "Epoch 19/150\n",
      "25/25 [==============================] - 1s 40ms/step - loss: 0.0032 - val_loss: 0.4962\n",
      "Epoch 20/150\n",
      "25/25 [==============================] - 1s 32ms/step - loss: 0.0178 - val_loss: 0.3783\n",
      "Epoch 21/150\n",
      "25/25 [==============================] - 1s 21ms/step - loss: 0.0020 - val_loss: 0.3878\n",
      "Epoch 22/150\n",
      "25/25 [==============================] - 1s 20ms/step - loss: 0.0017 - val_loss: 0.4075\n",
      "Epoch 23/150\n",
      "25/25 [==============================] - 1s 21ms/step - loss: 0.0101 - val_loss: 0.4415\n",
      "Epoch 24/150\n",
      "25/25 [==============================] - 0s 19ms/step - loss: 0.0051 - val_loss: 0.4632\n",
      "Epoch 25/150\n",
      "25/25 [==============================] - 1s 20ms/step - loss: 9.7377e-04 - val_loss: 0.4132\n",
      "Epoch 26/150\n",
      "25/25 [==============================] - 0s 19ms/step - loss: 4.2378e-04 - val_loss: 0.4558\n",
      "Epoch 27/150\n",
      "25/25 [==============================] - 0s 18ms/step - loss: 3.1871e-04 - val_loss: 0.4721\n",
      "Epoch 28/150\n",
      "25/25 [==============================] - 0s 18ms/step - loss: 0.0142 - val_loss: 0.4786\n",
      "Epoch 29/150\n",
      "25/25 [==============================] - 1s 21ms/step - loss: 3.4771e-04 - val_loss: 0.4965\n",
      "Epoch 30/150\n",
      "25/25 [==============================] - 0s 18ms/step - loss: 1.3487e-04 - val_loss: 0.5176\n",
      "Epoch 31/150\n",
      "25/25 [==============================] - 1s 21ms/step - loss: 2.7171e-04 - val_loss: 0.9493\n",
      "Epoch 32/150\n",
      "25/25 [==============================] - 1s 22ms/step - loss: 0.0521 - val_loss: 0.5321\n",
      "Epoch 33/150\n",
      "25/25 [==============================] - 1s 30ms/step - loss: 9.2626e-05 - val_loss: 0.5211\n",
      "Epoch 34/150\n",
      "25/25 [==============================] - 1s 27ms/step - loss: 5.8497e-05 - val_loss: 0.5599\n",
      "Epoch 35/150\n",
      "25/25 [==============================] - 1s 23ms/step - loss: 6.8575e-05 - val_loss: 0.5617\n",
      "Epoch 36/150\n",
      "25/25 [==============================] - 0s 19ms/step - loss: 0.0022 - val_loss: 0.7457\n",
      "Epoch 37/150\n",
      "25/25 [==============================] - 0s 19ms/step - loss: 0.0137 - val_loss: 0.5642\n",
      "Epoch 38/150\n",
      "25/25 [==============================] - 1s 20ms/step - loss: 2.2032e-05 - val_loss: 0.5907\n",
      "Epoch 39/150\n",
      "25/25 [==============================] - 0s 20ms/step - loss: 2.5783e-05 - val_loss: 0.5831\n",
      "Epoch 40/150\n",
      "25/25 [==============================] - 1s 21ms/step - loss: 1.7770e-05 - val_loss: 0.6375\n",
      "Epoch 41/150\n",
      "25/25 [==============================] - 1s 21ms/step - loss: 0.0029 - val_loss: 0.6517\n",
      "Epoch 42/150\n",
      "25/25 [==============================] - 1s 29ms/step - loss: 2.8404e-05 - val_loss: 0.6366\n",
      "Epoch 43/150\n",
      "25/25 [==============================] - 1s 21ms/step - loss: 1.8908e-05 - val_loss: 0.6247\n",
      "Epoch 44/150\n",
      "25/25 [==============================] - 1s 24ms/step - loss: 0.0011 - val_loss: 0.6935\n",
      "Epoch 45/150\n",
      "25/25 [==============================] - 0s 20ms/step - loss: 1.2097e-04 - val_loss: 0.6365\n",
      "Epoch 46/150\n",
      "25/25 [==============================] - 0s 19ms/step - loss: 2.5407e-05 - val_loss: 0.6563\n",
      "Epoch 47/150\n",
      "25/25 [==============================] - 0s 20ms/step - loss: 1.2257e-05 - val_loss: 0.6806\n",
      "Epoch 48/150\n",
      "25/25 [==============================] - 1s 29ms/step - loss: 2.3047e-05 - val_loss: 1.0114\n",
      "Epoch 49/150\n",
      "25/25 [==============================] - 1s 29ms/step - loss: 0.0132 - val_loss: 0.6948\n",
      "Epoch 50/150\n",
      "25/25 [==============================] - 1s 23ms/step - loss: 1.3771e-05 - val_loss: 0.6859\n",
      "Epoch 51/150\n",
      "25/25 [==============================] - 0s 19ms/step - loss: 6.6569e-06 - val_loss: 0.7091\n",
      "Epoch 52/150\n",
      "25/25 [==============================] - 0s 17ms/step - loss: 2.0074e-05 - val_loss: 1.0218\n",
      "Epoch 53/150\n",
      "25/25 [==============================] - 0s 18ms/step - loss: 0.0030 - val_loss: 0.7992\n",
      "Epoch 54/150\n",
      "25/25 [==============================] - 0s 18ms/step - loss: 2.4198e-05 - val_loss: 0.7977\n",
      "Epoch 55/150\n",
      "25/25 [==============================] - 0s 19ms/step - loss: 5.8568e-06 - val_loss: 0.7926\n",
      "Epoch 56/150\n",
      "25/25 [==============================] - 1s 22ms/step - loss: 2.3752e-06 - val_loss: 0.7948\n",
      "Epoch 57/150\n",
      "25/25 [==============================] - 1s 20ms/step - loss: 1.6958e-06 - val_loss: 0.8068\n",
      "Epoch 58/150\n",
      "25/25 [==============================] - 0s 20ms/step - loss: 1.7380e-06 - val_loss: 0.8454\n",
      "Epoch 59/150\n",
      "25/25 [==============================] - 0s 18ms/step - loss: 0.0204 - val_loss: 0.8864\n",
      "Epoch 60/150\n",
      "25/25 [==============================] - 1s 25ms/step - loss: 1.5471e-05 - val_loss: 0.8708\n",
      "Epoch 61/150\n",
      "25/25 [==============================] - 1s 20ms/step - loss: 6.1760e-06 - val_loss: 0.8715\n",
      "Epoch 62/150\n",
      "25/25 [==============================] - 1s 34ms/step - loss: 3.2474e-06 - val_loss: 0.8667\n",
      "Epoch 63/150\n",
      "25/25 [==============================] - 1s 21ms/step - loss: 2.2883e-06 - val_loss: 0.8569\n",
      "Epoch 64/150\n",
      "25/25 [==============================] - 1s 22ms/step - loss: 1.3623e-06 - val_loss: 0.8887\n",
      "Epoch 65/150\n",
      "25/25 [==============================] - 1s 29ms/step - loss: 4.2805e-07 - val_loss: 0.8917\n",
      "Epoch 66/150\n",
      "25/25 [==============================] - 1s 28ms/step - loss: 3.9318e-07 - val_loss: 0.9176\n",
      "Epoch 67/150\n",
      "25/25 [==============================] - 1s 24ms/step - loss: 0.0021 - val_loss: 0.9189\n",
      "Epoch 68/150\n",
      "25/25 [==============================] - 1s 24ms/step - loss: 7.6342e-05 - val_loss: 0.9215\n",
      "Epoch 69/150\n",
      "25/25 [==============================] - 1s 23ms/step - loss: 2.1161e-06 - val_loss: 0.9136\n",
      "Epoch 70/150\n",
      "25/25 [==============================] - 1s 32ms/step - loss: 8.7108e-07 - val_loss: 0.9045\n",
      "Epoch 71/150\n",
      "25/25 [==============================] - 1s 45ms/step - loss: 4.0674e-07 - val_loss: 0.9067\n",
      "Epoch 72/150\n",
      "25/25 [==============================] - 1s 27ms/step - loss: 2.9937e-07 - val_loss: 0.9195\n",
      "Epoch 73/150\n",
      "25/25 [==============================] - 1s 32ms/step - loss: 1.9173e-07 - val_loss: 0.9341\n",
      "Epoch 74/150\n",
      "25/25 [==============================] - 1s 25ms/step - loss: 1.1596e-07 - val_loss: 0.9474\n",
      "Epoch 75/150\n",
      "25/25 [==============================] - 1s 33ms/step - loss: 6.9283e-08 - val_loss: 0.9848\n",
      "Epoch 76/150\n",
      "25/25 [==============================] - 1s 43ms/step - loss: 2.2000e-08 - val_loss: 1.0364\n",
      "Epoch 77/150\n",
      "25/25 [==============================] - 1s 52ms/step - loss: 1.4543e-08 - val_loss: 1.0406\n",
      "Epoch 78/150\n",
      "25/25 [==============================] - 1s 37ms/step - loss: 5.6385e-09 - val_loss: 1.0583\n",
      "Epoch 79/150\n",
      "25/25 [==============================] - 1s 30ms/step - loss: 6.1775e-09 - val_loss: 1.0650\n",
      "Epoch 80/150\n"
     ]
    },
    {
     "name": "stdout",
     "output_type": "stream",
     "text": [
      "25/25 [==============================] - 1s 32ms/step - loss: 2.9873e-09 - val_loss: 1.0768\n",
      "Epoch 81/150\n",
      "25/25 [==============================] - 1s 45ms/step - loss: 1.8504e-09 - val_loss: 1.0816\n",
      "Epoch 82/150\n",
      "25/25 [==============================] - 1s 22ms/step - loss: 2.6199e-09 - val_loss: 1.0936\n",
      "Epoch 83/150\n",
      "25/25 [==============================] - 1s 34ms/step - loss: 1.1282e-09 - val_loss: 1.0906\n",
      "Epoch 84/150\n",
      "25/25 [==============================] - 1s 28ms/step - loss: 2.0477e-09 - val_loss: 1.0958\n",
      "Epoch 85/150\n",
      "25/25 [==============================] - 1s 27ms/step - loss: 1.3992e-09 - val_loss: 1.0965\n",
      "Epoch 86/150\n",
      "25/25 [==============================] - 1s 23ms/step - loss: 7.6978e-10 - val_loss: 1.0961\n",
      "Epoch 87/150\n",
      "25/25 [==============================] - 0s 20ms/step - loss: 1.4035e-09 - val_loss: 1.0960\n",
      "Epoch 88/150\n",
      "25/25 [==============================] - 0s 19ms/step - loss: 1.4449e-09 - val_loss: 1.1025\n",
      "Epoch 89/150\n",
      "25/25 [==============================] - 1s 22ms/step - loss: 1.0136e-09 - val_loss: 1.1000\n",
      "Epoch 90/150\n",
      "25/25 [==============================] - 1s 39ms/step - loss: 1.1206e-09 - val_loss: 1.1051e\n",
      "Epoch 91/150\n",
      "25/25 [==============================] - 1s 35ms/step - loss: 4.2063e-10 - val_loss: 1.1058\n",
      "Epoch 92/150\n",
      "25/25 [==============================] - 1s 23ms/step - loss: 8.3930e-10 - val_loss: 1.1088\n",
      "Epoch 93/150\n",
      "25/25 [==============================] - 1s 21ms/step - loss: 7.5864e-10 - val_loss: 1.1138\n",
      "Epoch 94/150\n",
      "25/25 [==============================] - 0s 19ms/step - loss: 4.3006e-10 - val_loss: 1.1123\n",
      "Epoch 95/150\n",
      "25/25 [==============================] - 1s 22ms/step - loss: 5.1010e-10 - val_loss: 1.1152\n",
      "Epoch 96/150\n",
      "25/25 [==============================] - 1s 22ms/step - loss: 3.9903e-10 - val_loss: 1.1162\n",
      "Epoch 97/150\n",
      "25/25 [==============================] - 1s 29ms/step - loss: 7.3499e-10 - val_loss: 1.1234\n",
      "Epoch 98/150\n",
      "25/25 [==============================] - 1s 20ms/step - loss: 3.7326e-10 - val_loss: 1.1227\n",
      "Epoch 99/150\n",
      "25/25 [==============================] - 1s 27ms/step - loss: 4.9919e-10 - val_loss: 1.1289\n",
      "Epoch 100/150\n",
      "25/25 [==============================] - 1s 27ms/step - loss: 4.1601e-10 - val_loss: 1.1288\n",
      "Epoch 101/150\n",
      "25/25 [==============================] - 1s 28ms/step - loss: 3.0735e-10 - val_loss: 1.1341\n",
      "Epoch 102/150\n",
      "25/25 [==============================] - 1s 26ms/step - loss: 1.4715e-10 - val_loss: 1.1345\n",
      "Epoch 103/150\n",
      "25/25 [==============================] - 1s 33ms/step - loss: 7.6539e-10 - val_loss: 1.1351\n",
      "Epoch 104/150\n",
      "25/25 [==============================] - 1s 31ms/step - loss: 4.0289e-10 - val_loss: 1.1381\n",
      "Epoch 105/150\n",
      "25/25 [==============================] - 1s 25ms/step - loss: 7.2398e-10 - val_loss: 1.1433\n",
      "Epoch 106/150\n",
      "25/25 [==============================] - 1s 23ms/step - loss: 1.0341e-10 - val_loss: 1.1441\n",
      "Epoch 107/150\n",
      "25/25 [==============================] - 1s 48ms/step - loss: 1.7799e-10 - val_loss: 1.1488\n",
      "Epoch 108/150\n",
      "25/25 [==============================] - 1s 36ms/step - loss: 4.3694e-10 - val_loss: 1.1503\n",
      "Epoch 109/150\n",
      "25/25 [==============================] - 1s 27ms/step - loss: 3.5991e-10 - val_loss: 1.1541\n",
      "Epoch 110/150\n",
      "25/25 [==============================] - 1s 31ms/step - loss: 9.6832e-11 - val_loss: 1.1565\n",
      "Epoch 111/150\n",
      "25/25 [==============================] - 1s 23ms/step - loss: 0.0000e+00 - val_loss: 1.1581\n",
      "Epoch 112/150\n",
      "25/25 [==============================] - 1s 36ms/step - loss: 1.7150e-10 - val_loss: 1.1635\n",
      "Epoch 113/150\n",
      "25/25 [==============================] - 1s 34ms/step - loss: 1.6982e-10 - val_loss: 1.1648\n",
      "Epoch 114/150\n",
      "25/25 [==============================] - 1s 22ms/step - loss: 9.6832e-11 - val_loss: 1.1667\n",
      "Epoch 115/150\n",
      "25/25 [==============================] - 1s 22ms/step - loss: 1.1462e-11 - val_loss: 1.1700\n",
      "Epoch 116/150\n",
      "25/25 [==============================] - 1s 22ms/step - loss: 1.0341e-10 - val_loss: 1.1764\n",
      "Epoch 117/150\n",
      "25/25 [==============================] - 1s 21ms/step - loss: 5.9663e-11 - val_loss: 1.1771\n",
      "Epoch 118/150\n",
      "25/25 [==============================] - 1s 22ms/step - loss: 1.7432e-11 - val_loss: 1.1797\n",
      "Epoch 119/150\n",
      "25/25 [==============================] - 1s 20ms/step - loss: 1.7432e-11 - val_loss: 1.1849\n",
      "Epoch 120/150\n",
      "25/25 [==============================] - 0s 19ms/step - loss: 0.0000e+00 - val_loss: 1.1869\n",
      "Epoch 121/150\n",
      "25/25 [==============================] - 0s 19ms/step - loss: 0.0000e+00 - val_loss: 1.1899\n",
      "Epoch 122/150\n",
      "25/25 [==============================] - 0s 19ms/step - loss: 0.0000e+00 - val_loss: 1.1923\n",
      "Epoch 123/150\n",
      "25/25 [==============================] - 1s 20ms/step - loss: 9.6832e-11 - val_loss: 1.1964\n",
      "Epoch 124/150\n",
      "25/25 [==============================] - 0s 19ms/step - loss: 1.5650e-10 - val_loss: 1.2019\n",
      "Epoch 125/150\n",
      "25/25 [==============================] - 0s 20ms/step - loss: 1.1462e-11 - val_loss: 1.2053\n",
      "Epoch 126/150\n",
      "25/25 [==============================] - 0s 20ms/step - loss: 0.0000e+00 - val_loss: 1.2081\n",
      "Epoch 127/150\n",
      "25/25 [==============================] - 1s 22ms/step - loss: 8.6598e-11 - val_loss: 1.2132\n",
      "Epoch 128/150\n",
      "25/25 [==============================] - 1s 20ms/step - loss: 1.6982e-10 - val_loss: 1.2159\n",
      "Epoch 129/150\n",
      "25/25 [==============================] - 1s 20ms/step - loss: 2.3205e-10 - val_loss: 1.2227\n",
      "Epoch 130/150\n",
      "25/25 [==============================] - 0s 19ms/step - loss: 1.4715e-10 - val_loss: 1.2260\n",
      "Epoch 131/150\n",
      "25/25 [==============================] - 1s 26ms/step - loss: 5.9663e-11 - val_loss: 1.2302\n",
      "Epoch 132/150\n",
      "25/25 [==============================] - 1s 21ms/step - loss: 1.5469e-10 - val_loss: 1.2328\n",
      "Epoch 133/150\n",
      "25/25 [==============================] - 1s 27ms/step - loss: 2.8238e-10 - val_loss: 1.2399\n",
      "Epoch 134/150\n",
      "25/25 [==============================] - 1s 29ms/step - loss: 0.0000e+00 - val_loss: 1.2418\n",
      "Epoch 135/150\n",
      "25/25 [==============================] - 1s 35ms/step - loss: 1.1462e-11 - val_loss: 1.2455\n",
      "Epoch 136/150\n",
      "25/25 [==============================] - 1s 37ms/step - loss: 2.4967e-10 - val_loss: 1.2527\n",
      "Epoch 137/150\n",
      "25/25 [==============================] - 1s 33ms/step - loss: 0.0000e+00 - val_loss: 1.2569\n",
      "Epoch 138/150\n",
      "25/25 [==============================] - 1s 39ms/step - loss: 0.0000e+00 - val_loss: 1.2621\n",
      "Epoch 139/150\n",
      "25/25 [==============================] - 1s 42ms/step - loss: 3.0175e-11 - val_loss: 1.2667\n",
      "Epoch 140/150\n",
      "25/25 [==============================] - 2s 62ms/step - loss: 1.7432e-11 - val_loss: 1.2754\n",
      "Epoch 141/150\n",
      "25/25 [==============================] - 2s 82ms/step - loss: 0.0000e+00 - val_loss: 1.2796\n",
      "Epoch 142/150\n",
      "25/25 [==============================] - 1s 39ms/step - loss: 2.3384e-10 - val_loss: 1.2800\n",
      "Epoch 143/150\n",
      "25/25 [==============================] - 1s 54ms/step - loss: 7.0274e-10 - val_loss: 1.2849\n",
      "Epoch 144/150\n",
      "25/25 [==============================] - 1s 43ms/step - loss: 2.8980e-10 - val_loss: 1.2908\n",
      "Epoch 145/150\n",
      "25/25 [==============================] - 2s 101ms/step - loss: 0.0000e+00 - val_loss: 1.2976\n",
      "Epoch 146/150\n",
      "25/25 [==============================] - 1s 31ms/step - loss: 2.3662e-11 - val_loss: 1.3090\n",
      "Epoch 147/150\n",
      "25/25 [==============================] - 1s 40ms/step - loss: 3.6998e-11 - val_loss: 1.3097\n",
      "Epoch 148/150\n",
      "25/25 [==============================] - 1s 26ms/step - loss: 4.4646e-10 - val_loss: 1.3184\n",
      "Epoch 149/150\n",
      "25/25 [==============================] - 1s 31ms/step - loss: 0.0000e+00 - val_loss: 1.3243\n",
      "Epoch 150/150\n",
      "25/25 [==============================] - 1s 28ms/step - loss: 2.3662e-11 - val_loss: 1.3292\n"
     ]
    },
    {
     "data": {
      "image/png": "[encoded data removed]",
      "text/plain": [
       "<Figure size 432x288 with 1 Axes>"
      ]
     },
     "metadata": {
      "needs_background": "light"
     },
     "output_type": "display_data"
    }
   ],
   "source": [
    "#Question: Vizualize the training\n",
    "model=built_CNN(0)\n",
    "model.compile(loss='categorical_crossentropy')\n",
    "history=model.fit(X_train, y_oh_train, batch_size=32, epochs=150,validation_data=(X_test,y_oh_test))\n",
    "\n",
    "plt.plot(history.history['val_loss'],label='test loss')\n",
    "plt.plot(history.history['loss'], label='train loss')\n",
    "plt.title('Model Loss')\n",
    "plt.ylabel('Loss')\n",
    "plt.xlabel('Epoch')\n",
    "plt.legend()\n",
    "plt.show()\n",
    "#the best epoch is 15, the maximum epoch can be up to 30"
   ]
  },
  {
   "cell_type": "code",
   "execution_count": 11,
   "metadata": {
    "colab": {
     "base_uri": "https://localhost:8080/",
     "height": 311
    },
    "id": "R0BNHsd2wDfY",
    "outputId": "2ad8ddcb-0d88-4943-dd34-e92cc9badf82"
   },
   "outputs": [
    {
     "data": {
      "image/png": "[encoded data removed]",
      "text/plain": [
       "<Figure size 432x288 with 2 Axes>"
      ]
     },
     "metadata": {
      "needs_background": "light"
     },
     "output_type": "display_data"
    }
   ],
   "source": [
    "# Look at confusion matrix \n",
    "\n",
    "def plot_confusion_matrix(cm, classes,\n",
    "                          normalize=False,\n",
    "                          title='Confusion matrix',\n",
    "                          cmap=plt.cm.Blues):\n",
    "    \"\"\"\n",
    "    This function prints and plots the confusion matrix.\n",
    "    Normalization can be applied by setting `normalize=True`.\n",
    "    \"\"\"\n",
    "    plt.imshow(cm, interpolation='nearest', cmap=cmap)\n",
    "    plt.title(title)\n",
    "    plt.colorbar()\n",
    "    tick_marks = np.arange(len(classes))\n",
    "    plt.xticks(tick_marks, classes, rotation=45)\n",
    "    plt.yticks(tick_marks, classes)\n",
    "\n",
    "    if normalize:\n",
    "        cm = cm.astype('float') / cm.sum(axis=1)[:, np.newaxis]\n",
    "\n",
    "    thresh = cm.max() / 2.\n",
    "    for i, j in itertools.product(range(cm.shape[0]), range(cm.shape[1])):\n",
    "        plt.text(j, i, cm[i, j],\n",
    "                 horizontalalignment=\"center\",\n",
    "                 color=\"white\" if cm[i, j] > thresh else \"black\")\n",
    "\n",
    "    plt.tight_layout()\n",
    "    plt.ylabel('True label')\n",
    "    plt.xlabel('Predicted label')\n",
    "# Predict the values from the validation dataset\n",
    "Y_pred = model.predict(X_test)\n",
    "# Convert predictions classes to one hot vectors \n",
    "Y_pred_classes = np.argmax(Y_pred,axis = 1) \n",
    "# Convert validation observations to one hot vectors\n",
    "Y_true = np.argmax(y_oh_test,axis = 1) \n",
    "# compute the confusion matrix\n",
    "confusion_mtx = confusion_matrix(Y_true, Y_pred_classes) \n",
    "# plot the confusion matrix\n",
    "plot_confusion_matrix(confusion_mtx, classes = range(10))"
   ]
  },
  {
   "cell_type": "code",
   "execution_count": 12,
   "metadata": {
    "colab": {
     "base_uri": "https://localhost:8080/",
     "height": 497
    },
    "id": "2dMZHr9JB46t",
    "outputId": "c9009261-6c48-4109-a502-9348feb08529"
   },
   "outputs": [
    {
     "data": {
      "text/plain": [
       "<Figure size 1440x1440 with 0 Axes>"
      ]
     },
     "metadata": {},
     "output_type": "display_data"
    },
    {
     "data": {
      "image/png": "[encoded data removed]",
      "text/plain": [
       "<Figure size 720x576 with 6 Axes>"
      ]
     },
     "metadata": {
      "needs_background": "light"
     },
     "output_type": "display_data"
    }
   ],
   "source": [
    "# Display some error results \n",
    "\n",
    "# Errors are difference between predicted labels and true labels\n",
    "errors = (Y_pred_classes - Y_true != 0)\n",
    "\n",
    "Y_pred_classes_errors = Y_pred_classes[errors]\n",
    "Y_pred_errors = Y_pred[errors]\n",
    "Y_true_errors = Y_true[errors]\n",
    "X_val_errors = X_test[errors]\n",
    "\n",
    "def display_errors(errors_index,img_errors,pred_errors, obs_errors):\n",
    "    \"\"\" This function shows 6 images with their predicted and real labels\"\"\"\n",
    "    n = 0\n",
    "    nrows = 2\n",
    "    ncols = 3\n",
    "    fig, ax = plt.subplots(nrows,ncols,sharex=True,sharey=True)\n",
    "    fig.set_size_inches(10, 8)\n",
    "    for row in range(nrows):\n",
    "        for col in range(ncols):\n",
    "            error = errors_index[n]\n",
    "            ax[row,col].imshow((img_errors[error]).reshape((28,28)), cmap='gray')\n",
    "            ax[row,col].set_title(\"Predicted label :{}\\nTrue label :{}\".format(pred_errors[error],obs_errors[error]))\n",
    "            n += 1\n",
    "\n",
    "# Probabilities of the wrong predicted numbers\n",
    "Y_pred_errors_prob = np.max(Y_pred_errors,axis = 1)\n",
    "\n",
    "# Predicted probabilities of the true values in the error set\n",
    "true_prob_errors = np.diagonal(np.take(Y_pred_errors, Y_true_errors, axis=1))\n",
    "\n",
    "# Difference between the probability of the predicted label and the true label\n",
    "delta_pred_true_errors = Y_pred_errors_prob - true_prob_errors\n",
    "\n",
    "# Sorted list of the delta prob errors\n",
    "sorted_dela_errors = np.argsort(delta_pred_true_errors)\n",
    "\n",
    "# Top 6 errors \n",
    "most_important_errors = sorted_dela_errors[-6:]\n",
    "\n",
    "plt.figure(figsize=(20, 20))\n",
    "# Show the top 6 errors\n",
    "display_errors(most_important_errors, X_val_errors, Y_pred_classes_errors, Y_true_errors)"
   ]
  },
  {
   "cell_type": "markdown",
   "metadata": {
    "id": "_pMgm-tzofyD"
   },
   "source": [
    "# Question2\n",
    "\n",
    "* **Optimizer**. Select three different optimizers and for each find the close-to-optimal hyper-parameter(s). In your answer, include a) your three choises, b) best hyper-parameters for each of the three optimizers and, c) the code that produced the results.\n",
    "    * *NOTE* that how long the training takes varies with optimizer. I.e., make sure that the model is trained for long enough to reach optimal performance.\n",
    "\n",
    "    <**a) the three choices: SGD, Adam, RMSProp \n",
    "    b) hyper-parameters for each of the three optimizers can be shown from each search and the result as well.**>"
   ]
  },
  {
   "cell_type": "code",
   "execution_count": 13,
   "metadata": {
    "colab": {
     "base_uri": "https://localhost:8080/"
    },
    "id": "zbKm2KJhD6fS",
    "outputId": "27a49f0a-c8d4-4686-bc1d-66e5665bc1e7"
   },
   "outputs": [
    {
     "name": "stdout",
     "output_type": "stream",
     "text": [
      "Requirement already up-to-date: keras-tuner in /Users/apple/opt/anaconda3/lib/python3.8/site-packages (1.0.2)\n",
      "Requirement already satisfied, skipping upgrade: packaging in /Users/apple/opt/anaconda3/lib/python3.8/site-packages (from keras-tuner) (20.4)\n",
      "Requirement already satisfied, skipping upgrade: requests in /Users/apple/opt/anaconda3/lib/python3.8/site-packages (from keras-tuner) (2.24.0)\n",
      "Requirement already satisfied, skipping upgrade: scikit-learn in /Users/apple/opt/anaconda3/lib/python3.8/site-packages (from keras-tuner) (0.23.2)\n",
      "Requirement already satisfied, skipping upgrade: terminaltables in /Users/apple/opt/anaconda3/lib/python3.8/site-packages (from keras-tuner) (3.1.0)\n",
      "Requirement already satisfied, skipping upgrade: tqdm in /Users/apple/opt/anaconda3/lib/python3.8/site-packages (from keras-tuner) (4.49.0)\n",
      "Requirement already satisfied, skipping upgrade: colorama in /Users/apple/opt/anaconda3/lib/python3.8/site-packages (from keras-tuner) (0.4.3)\n",
      "Requirement already satisfied, skipping upgrade: scipy in /Users/apple/opt/anaconda3/lib/python3.8/site-packages (from keras-tuner) (1.5.0)\n",
      "Requirement already satisfied, skipping upgrade: tabulate in /Users/apple/opt/anaconda3/lib/python3.8/site-packages (from keras-tuner) (0.8.7)\n",
      "Requirement already satisfied, skipping upgrade: future in /Users/apple/opt/anaconda3/lib/python3.8/site-packages (from keras-tuner) (0.18.2)\n",
      "Requirement already satisfied, skipping upgrade: numpy in /Users/apple/opt/anaconda3/lib/python3.8/site-packages (from keras-tuner) (1.19.5)\n",
      "Requirement already satisfied, skipping upgrade: pyparsing>=2.0.2 in /Users/apple/opt/anaconda3/lib/python3.8/site-packages (from packaging->keras-tuner) (2.4.7)\n",
      "Requirement already satisfied, skipping upgrade: six in /Users/apple/opt/anaconda3/lib/python3.8/site-packages (from packaging->keras-tuner) (1.15.0)\n",
      "Requirement already satisfied, skipping upgrade: certifi>=2017.4.17 in /Users/apple/opt/anaconda3/lib/python3.8/site-packages (from requests->keras-tuner) (2020.6.20)\n",
      "Requirement already satisfied, skipping upgrade: chardet<4,>=3.0.2 in /Users/apple/opt/anaconda3/lib/python3.8/site-packages (from requests->keras-tuner) (3.0.4)\n",
      "Requirement already satisfied, skipping upgrade: urllib3!=1.25.0,!=1.25.1,<1.26,>=1.21.1 in /Users/apple/opt/anaconda3/lib/python3.8/site-packages (from requests->keras-tuner) (1.25.10)\n",
      "Requirement already satisfied, skipping upgrade: idna<3,>=2.5 in /Users/apple/opt/anaconda3/lib/python3.8/site-packages (from requests->keras-tuner) (2.10)\n",
      "Requirement already satisfied, skipping upgrade: threadpoolctl>=2.0.0 in /Users/apple/opt/anaconda3/lib/python3.8/site-packages (from scikit-learn->keras-tuner) (2.1.0)\n",
      "Requirement already satisfied, skipping upgrade: joblib>=0.11 in /Users/apple/opt/anaconda3/lib/python3.8/site-packages (from scikit-learn->keras-tuner) (0.16.0)\n",
      "Note: you may need to restart the kernel to use updated packages.\n"
     ]
    }
   ],
   "source": [
    "pip install -U keras-tuner"
   ]
  },
  {
   "cell_type": "code",
   "execution_count": null,
   "metadata": {
    "colab": {
     "base_uri": "https://localhost:8080/"
    },
    "id": "DiNDuK1fV0aE",
    "outputId": "357a6a66-ff4a-44a4-d5d9-cca6ffb76d3b"
   },
   "outputs": [
    {
     "name": "stdout",
     "output_type": "stream",
     "text": [
      "Trial 85 Complete [00h 00m 12s]\n",
      "val_accuracy: 0.2800000011920929\n",
      "\n",
      "Best val_accuracy So Far: 0.9449999928474426\n",
      "Total elapsed time: 00h 05m 51s\n",
      "\n",
      "Search: Running Trial #86\n",
      "\n",
      "Hyperparameter    |Value             |Best Value So Far \n",
      "learning_rate     |0.02182           |0.17306           \n",
      "tuner/epochs      |30                |10                \n",
      "tuner/initial_e...|0                 |0                 \n",
      "tuner/bracket     |0                 |1                 \n",
      "tuner/round       |0                 |0                 \n",
      "\n",
      "Epoch 1/30\n",
      "25/25 [==============================] - 2s 39ms/step - loss: 2.2648 - accuracy: 0.1675 - val_loss: 2.2046 - val_accuracy: 0.2400\n",
      "Epoch 2/30\n",
      "25/25 [==============================] - 1s 21ms/step - loss: 2.1374 - accuracy: 0.3992 - val_loss: 2.0001 - val_accuracy: 0.4650\n",
      "Epoch 3/30\n",
      "25/25 [==============================] - 1s 21ms/step - loss: 1.8406 - accuracy: 0.5673 - val_loss: 1.4332 - val_accuracy: 0.6750\n",
      "Epoch 4/30\n",
      "25/25 [==============================] - 0s 19ms/step - loss: 1.2529 - accuracy: 0.6961 - val_loss: 1.0308 - val_accuracy: 0.7050\n",
      "Epoch 5/30\n",
      "25/25 [==============================] - 0s 20ms/step - loss: 0.8411 - accuracy: 0.7721 - val_loss: 0.8989 - val_accuracy: 0.6850\n",
      "Epoch 6/30\n",
      "25/25 [==============================] - 1s 20ms/step - loss: 0.8034 - accuracy: 0.7410 - val_loss: 0.6944 - val_accuracy: 0.7800\n",
      "Epoch 7/30\n",
      "25/25 [==============================] - 0s 20ms/step - loss: 0.6194 - accuracy: 0.8109 - val_loss: 0.6424 - val_accuracy: 0.8100\n",
      "Epoch 8/30\n",
      "25/25 [==============================] - 0s 20ms/step - loss: 0.6163 - accuracy: 0.8105 - val_loss: 0.6026 - val_accuracy: 0.7700\n",
      "Epoch 9/30\n",
      "25/25 [==============================] - 1s 22ms/step - loss: 0.5118 - accuracy: 0.8274 - val_loss: 0.5591 - val_accuracy: 0.8300\n",
      "Epoch 10/30\n",
      "25/25 [==============================] - 0s 20ms/step - loss: 0.4223 - accuracy: 0.8701 - val_loss: 0.5742 - val_accuracy: 0.7950\n",
      "Epoch 11/30\n",
      "25/25 [==============================] - 1s 21ms/step - loss: 0.3570 - accuracy: 0.8988 - val_loss: 0.4668 - val_accuracy: 0.8350\n",
      "Epoch 12/30\n",
      "25/25 [==============================] - 1s 21ms/step - loss: 0.3621 - accuracy: 0.8898 - val_loss: 0.4566 - val_accuracy: 0.8550\n",
      "Epoch 13/30\n",
      "25/25 [==============================] - 1s 23ms/step - loss: 0.3363 - accuracy: 0.9155 - val_loss: 0.4086 - val_accuracy: 0.8800\n",
      "Epoch 14/30\n",
      "25/25 [==============================] - 1s 23ms/step - loss: 0.3217 - accuracy: 0.9081 - val_loss: 0.4349 - val_accuracy: 0.8750\n",
      "Epoch 15/30\n",
      "25/25 [==============================] - 1s 25ms/step - loss: 0.2802 - accuracy: 0.9092 - val_loss: 0.3861 - val_accuracy: 0.8750\n",
      "Epoch 16/30\n",
      "25/25 [==============================] - 1s 21ms/step - loss: 0.2233 - accuracy: 0.9387 - val_loss: 0.4481 - val_accuracy: 0.8800\n",
      "Epoch 17/30\n",
      "25/25 [==============================] - 1s 22ms/step - loss: 0.2391 - accuracy: 0.9165 - val_loss: 0.4511 - val_accuracy: 0.8300\n",
      "Epoch 18/30\n",
      "11/25 [============>.................] - ETA: 0s - loss: 0.2118 - accuracy: 0.9360"
     ]
    }
   ],
   "source": [
    "#!pip install -U keras-tuner\n",
    "import tensorflow as tf\n",
    "import kerastuner as kt\n",
    "# Question: three optiomizer: SGD,Adam,RMSProp\n",
    "# the hyper-parameter is based on page13 of the article \n",
    "# Descending through a Crowded Valley -- Benchmarking Deep Learning Optimizers.\n",
    "\n",
    "#for SGD optimizer\n",
    "def build_model(hp):\n",
    "  model=built_CNN(0)\n",
    "  model.compile(optimizer=tf.keras.optimizers.SGD(hp.Float('learning_rate', min_value=1e-4, max_value=1,sampling='log')),\n",
    "    loss='categorical_crossentropy', \n",
    "    metrics=['accuracy'])\n",
    "  return model\n",
    "\n",
    "tuner = kt.Hyperband(build_model,objective='val_accuracy',max_epochs=30,project_name='SGD-1')\n",
    "tuner.search(X_train, y_oh_train,epochs=15,validation_data=(X_test,y_oh_test))\n",
    "tuner.results_summary()\n",
    "# the accur is 0.949999988079071\n",
    "#and the learning rate 0.18379900346409866"
   ]
  },
  {
   "cell_type": "code",
   "execution_count": null,
   "metadata": {
    "id": "yLqwRC8XoL5e"
   },
   "outputs": [],
   "source": [
    "# for Adam optimizer\n",
    "def build_model(hp):\n",
    "  model=built_CNN(0)\n",
    "  model.compile(optimizer=tf.keras.optimizers.Adam(hp.Float('learning_rate', min_value=1e-4, max_value=1,sampling='log'),\n",
    "                                                   hp.Float('beta1', min_value=0.5, max_value=0.999,sampling='log'),\n",
    "                                                   hp.Float('beta2', min_value=0.8, max_value=0.999,sampling='log')),\n",
    "    loss='categorical_crossentropy', \n",
    "    metrics=['accuracy'])\n",
    "  return model\n",
    "\n",
    "tuner = kt.Hyperband(build_model,objective='val_accuracy',max_epochs=30,project_name='Adam')\n",
    "tuner.search(X_train, y_oh_train,epochs=15,validation_data=(X_test,y_oh_test))\n",
    "tuner.results_summary()\n",
    "#accuracy: 0.9599999785423279\n",
    "#learning_rate: 0.00880194573492123\n",
    "#beta1: 0.8059667512580438\n",
    "#beta2: 0.818272724625341"
   ]
  },
  {
   "cell_type": "code",
   "execution_count": null,
   "metadata": {
    "id": "YDB0Y44Hu_Jo"
   },
   "outputs": [],
   "source": [
    "#for RMS prop optimizer\n",
    "def build_model(hp):\n",
    "  model=built_CNN(0)\n",
    "  model.compile(optimizer=tf.keras.optimizers.RMSprop(hp.Float('learning_rate', min_value=1e-4, max_value=1, sampling='log'),\n",
    "                                                      hp.Float('rho', min_value=1e-3, max_value=1, sampling='log')),\n",
    "    loss='categorical_crossentropy', \n",
    "    metrics=['accuracy'])\n",
    "  return model\n",
    "\n",
    "tuner = kt.Hyperband(build_model,objective='val_accuracy',max_epochs=30,project_name='RMSprop')\n",
    "tuner.search(X_train, y_oh_train,epochs=15,validation_data=(X_test,y_oh_test))\n",
    "tuner.results_summary()\n",
    "# the val_accuracy is 0.9649999737739563\n",
    "# learning_rate: 0.017378972480895958\n",
    "# rho: 0.011239435767055977"
   ]
  },
  {
   "cell_type": "markdown",
   "metadata": {
    "id": "aNN7wJ7-o028"
   },
   "source": [
    "# Question3\n",
    "\n",
    "* **Dropout**. Use the best optimizer and do hyper-parameter seach and find the best value for ```Dropout()```.\n",
    "\n",
    "    <**the best optimizer is RMS Prop and the learning rate is 0.0174, the rho is 0.01124**>"
   ]
  },
  {
   "cell_type": "code",
   "execution_count": null,
   "metadata": {
    "id": "P9k-AWiyLRUw"
   },
   "outputs": [],
   "source": [
    "#Question: find the best value for Dropout()\n",
    "from keras.wrappers.scikit_learn import KerasClassifier\n",
    "from sklearn.model_selection import GridSearchCV\n",
    "def CNN(dropout):\n",
    "  model=built_CNN(droupout=dropout)\n",
    "#Compile the model\n",
    "  RMSprop = tf.keras.optimizers.RMSprop(learning_rate=0.017378972480895958,rho=0.011239435767055977)\n",
    "  model.compile(loss='categorical_crossentropy',optimizer=sgd,metrics=[\"accuracy\"])\n",
    "# Train the model\n",
    "  return model\n",
    "\n",
    "classifier = KerasClassifier(build_fn= CNN)\n",
    "parameters = {'dropout':[0,0.25,0.5,0.75,0.9]}\n",
    "grid_search = GridSearchCV(estimator = classifier,param_grid = parameters)\n",
    "grid_search = grid_search.fit(X_train, y_oh_train,epochs=15,validation_data = (X_test,y_oh_test))\n",
    "best_parameters = grid_search.best_params_\n",
    "print(best_parameters)\n",
    "# best parameters is 0.5"
   ]
  },
  {
   "cell_type": "code",
   "execution_count": null,
   "metadata": {
    "colab": {
     "base_uri": "https://localhost:8080/",
     "height": 204
    },
    "id": "7u8oLraPy30E",
    "outputId": "9b1ee09c-5b4e-4bf9-e2a0-8d9473688c1d"
   },
   "outputs": [],
   "source": [
    "# the result for douput search\n",
    "import pandas as pd\n",
    "pd.concat([pd.DataFrame(grid_search.cv_results_[\"params\"]),pd.DataFrame(grid_search.cv_results_[\"mean_test_score\"], columns=[\"Accuracy\"])],axis=1)"
   ]
  },
  {
   "cell_type": "markdown",
   "metadata": {
    "id": "oBo5zdUHpIEB"
   },
   "source": [
    "# Question4\n",
    "\n",
    "* **Best model**. Combine the what you learned from the above three questions to build the best model. How much better is it than the worst and average models?\n",
    "\n",
    "    <span style=\"color:red\"> <**the accuracy in the best model is 0.915, the worst model is 0.59, the average one is 0.755**> </span>"
   ]
  },
  {
   "cell_type": "code",
   "execution_count": null,
   "metadata": {
    "colab": {
     "base_uri": "https://localhost:8080/"
    },
    "id": "DQY-cE_S5doI",
    "outputId": "41e48ef9-6d8a-4b1f-ebaf-b5d6a45e168c"
   },
   "outputs": [],
   "source": [
    "# Question: Best model: compare the best model with worst model, average model\n",
    "#for the best model：depout=0.5,epochs=15,optimizer=RMSprop(learning_rate: 0.01737897,rho=rho=0.011239435767055977,accur_score=0.96)\n",
    "model=built_CNN(0.5)\n",
    "RMSprop = tf.keras.optimizers.RMSprop(learning_rate=0.017378972480895958,rho=0.011239435767055977)\n",
    "model.compile(loss='categorical_crossentropy', optimizer=RMSprop)\n",
    "model.fit(X_train, y_oh_train, batch_size=32, epochs=15)\n",
    "predictions = model.predict(X_test, batch_size=32)\n",
    "predictions = np.argmax(predictions, axis=1)\n",
    "print('Accuracy:', (predictions == y_test).sum() / predictions.shape[0])\n",
    "#accur: 0.915"
   ]
  },
  {
   "cell_type": "code",
   "execution_count": null,
   "metadata": {
    "colab": {
     "base_uri": "https://localhost:8080/"
    },
    "id": "Rp6CM2LVG7vT",
    "outputId": "d4d86d85-b107-4507-af03-aa13946b7442"
   },
   "outputs": [],
   "source": [
    "# for the average model: drouput=0.75,epochs=43,optimizer=adam(learning_rate: 0.0065,beta1=0.5763,beta2=0.009668,accur_score=0.86), from previour running of three optimizer models\n",
    "model=built_CNN(0.75)\n",
    "adam=tf.keras.optimizers.Adam(learning_rate=0.0065,beta_1=0.05763, beta_2=0.09668)\n",
    "model.compile(loss='categorical_crossentropy', optimizer=adam)\n",
    "model.fit(X_train, y_oh_train, batch_size=32, epochs=23)\n",
    "predictions = model.predict(X_test, batch_size=32)\n",
    "predictions = np.argmax(predictions, axis=1)\n",
    "print('Accuracy:', (predictions == y_test).sum() / predictions.shape[0])\n",
    "#accur: 0.755"
   ]
  },
  {
   "cell_type": "code",
   "execution_count": null,
   "metadata": {
    "colab": {
     "base_uri": "https://localhost:8080/"
    },
    "id": "-3cLRjEcuarp",
    "outputId": "a4f5c4b6-3a12-4c2c-8a1d-202204793223"
   },
   "outputs": [],
   "source": [
    "# for the worst model: drouput=0.9 epochs=27 optimizer=SGD(learning_rate: 0.031045,accur_score=0.1), from previour running of three optimizer models\n",
    "model=built_CNN(0.9)\n",
    "sgd=tf.keras.optimizers.SGD(lr=0.031045)\n",
    "model.compile(loss='categorical_crossentropy', optimizer=sgd)\n",
    "model.fit(X_train, y_oh_train, batch_size=32, epochs=27)\n",
    "predictions = model.predict(X_test, batch_size=32)\n",
    "predictions = np.argmax(predictions, axis=1)\n",
    "print('Accuracy:', (predictions == y_test).sum() / predictions.shape[0])\n",
    "# accur=0.59"
   ]
  },
  {
   "cell_type": "markdown",
   "metadata": {
    "id": "4RX1FzCSpZS9"
   },
   "source": [
    "# Question 4\n",
    "\n",
    "* **Results on the test set**. When doing this search for good model configuration/hyper-parameter values, the data set was split into *two* parts: a training set and a test set (the term \"validation\" was used interchangably wiht \"test\"). For your final model, is the performance (i.e. accuracy) on the test set representative for the performance one would expect on a previously unseen data set (drawn from the same distribution)? Why?\n",
    "\n",
    "    <span style=\"color:red\"> <**the unseen data, drawn from the same distribution, has the similar feature with validation. Thus, the performance for the best model is representative for unseen data,as we can see from the data in between 1000 and 1100 from data code**> </span>"
   ]
  },
  {
   "cell_type": "code",
   "execution_count": null,
   "metadata": {
    "id": "HRnsCvzHTpOS"
   },
   "outputs": [],
   "source": [
    "#Question:Results on the test set--get the new data\n",
    "X, y = fetch_openml('mnist_784', version=1, return_X_y=True)\n",
    "X, y = X[1000:1100], y[1000:1100]\n",
    "X = X.reshape(X.shape[0], 28, 28, 1)\n",
    "# Normalize\n",
    "X = X / 255.\n",
    "# number of unique classes\n",
    "num_classes = len(np.unique(y))\n",
    "y = y.astype(int)\n",
    "num_tot = y.shape[0]\n",
    "y_oh = np.zeros((num_tot, num_classes))\n",
    "y_oh[range(num_tot), y] = 1"
   ]
  },
  {
   "cell_type": "code",
   "execution_count": null,
   "metadata": {
    "colab": {
     "base_uri": "https://localhost:8080/"
    },
    "id": "NXlAZOiCTe_D",
    "outputId": "be2227ec-5450-47da-e829-eda8b2e4140a"
   },
   "outputs": [],
   "source": [
    "# for the best model\n",
    "model=built_CNN(0.5)\n",
    "RMSprop = tf.keras.optimizers.RMSprop(learning_rate=0.017378972480895958,rho=0.011239435767055977)\n",
    "model.compile(loss='categorical_crossentropy', optimizer=RMSprop)\n",
    "model.fit(X_train, y_oh_train, batch_size=32, epochs=15)\n",
    "predictions = model.predict(X, batch_size=32)\n",
    "predictions = np.argmax(predictions, axis=1)\n",
    "print('Accuracy:', (predictions == y).sum() / predictions.shape[0])\n",
    "#accur: 0.82"
   ]
  },
  {
   "cell_type": "code",
   "execution_count": null,
   "metadata": {
    "colab": {
     "base_uri": "https://localhost:8080/"
    },
    "id": "spvDPJtiT_o8",
    "outputId": "d64519bc-d6d7-4f51-ad03-c9e0a1e16cff"
   },
   "outputs": [],
   "source": [
    "# for the worst model: drouput=0.9 epochs=27 optimizer=SGD(learning_rate: 0.031045,accur_score=0.1), from previour running of three optimizer models\n",
    "model=built_CNN(0.9)\n",
    "sgd=tf.keras.optimizers.SGD(lr=0.031045)\n",
    "model.compile(loss='categorical_crossentropy', optimizer=sgd)\n",
    "model.fit(X_train, y_oh_train, batch_size=32, epochs=27)\n",
    "predictions = model.predict(X, batch_size=32)\n",
    "predictions = np.argmax(predictions, axis=1)\n",
    "print('Accuracy:', (predictions == y).sum() / predictions.shape[0])\n",
    "# accur=0.66"
   ]
  }
 ],
 "metadata": {
  "colab": {
   "collapsed_sections": [],
   "name": "CNN_model1.ipynb",
   "provenance": []
  },
  "kernelspec": {
   "display_name": "Python 3",
   "language": "python",
   "name": "python3"
  },
  "language_info": {
   "codemirror_mode": {
    "name": "ipython",
    "version": 3
   },
   "file_extension": ".py",
   "mimetype": "text/x-python",
   "name": "python",
   "nbconvert_exporter": "python",
   "pygments_lexer": "ipython3",
   "version": "3.8.3"
  }
 },
 "nbformat": 4,
 "nbformat_minor": 1
}
