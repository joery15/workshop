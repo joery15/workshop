{
  "nbformat": 4,
  "nbformat_minor": 0,
  "metadata": {
    "colab": {
      "name": "CNN_model1.ipynb",
      "provenance": [],
      "collapsed_sections": []
    },
    "kernelspec": {
      "display_name": "Python 3",
      "language": "python",
      "name": "python3"
    },
    "language_info": {
      "codemirror_mode": {
        "name": "ipython",
        "version": 3
      },
      "file_extension": ".py",
      "mimetype": "text/x-python",
      "name": "python",
      "nbconvert_exporter": "python",
      "pygments_lexer": "ipython3",
      "version": "3.8.5"
    }
  },
  "cells": [
    {
      "cell_type": "markdown",
      "metadata": {
        "id": "bRb__-98Awrd"
      },
      "source": [
        "# CNN_model1\n",
        "\n",
        "mnist case\n",
        "releated-link https://raw.githubusercontent.com/skyu0221/online-dropbox/master/ml/capstone2/train.csv"
      ]
    },
    {
      "cell_type": "markdown",
      "metadata": {
        "id": "2NQkD6etG7vR"
      },
      "source": [
        "\n",
        "## Part 1 - understand a model\n",
        "\n",
        "### Optimizers\n",
        "\n",
        "Loss is the penalty for a bad prediction. That is, loss is a number indicating how bad the model's prediction was on a single example. If the model's prediction is perfect, the loss is zero; otherwise, the loss is greater than zero. The goal of training a model is to find a set of weights and biases (i.e. parameters) that have, on average, a low loss across all examples. The term cost is used interchangably with loss. See the [loss section](https://keras.io/losses/) in the Keras documentation for a list and descriptions of what is available.\n",
        "\n",
        "![Side by side loss](https://drive.google.com/uc?id=1DdbQEQLCLCSw4uPsuf0C1nJCfUICT0Ae)\n",
        "<b>Figure 1.</b> Left: high loss and right: low loss.\n",
        "\n",
        "<!-- https://drive.google.com/file/d/1DdbQEQLCLCSw4uPsuf0C1nJCfUICT0Ae/view?usp=sharing\n",
        "<img src=\"./fig/LossSideBySide.png\" width=\"500\">\n",
        "<figcaption>Figure. Left: high loss and right: low loss.</figcaption>\n",
        " -->\n",
        "The optimizer is the algorithm used to minimize the loss/cost. Optimizers in neural networks work by finding the gradient/derivative of the loss with respect to the parameters (i.e. the weights). \"Gradient\" is the correct term since a we are looking at multi-dimensional systems (i.e. many parameters), however, the terms are often used interchangably. For those who didn't take multivariate calculus, just think of the gradient as a derivative. The derivative of the loss with respect to a parameters tells us how much the loss changes when we nudge a weight up or down. So, by knowing how a given parameter affects the loss the optimizer can change it so as to decrease the loss. The various optimizers differ in how they change the weights. \n",
        "\n",
        "#### Mini-overview over popular optimizers\n",
        "\n",
        "* **Stochastic Gradient Descent (SGD)**. This is the most basic and easy to understand optimizer. It updates the weights in the negative direction of the gradient by taking the average gradient of mini-batch of data (e.g. 20-1000 examples) in each step. Vanilla SGD only has one hyper-parameter, the learning rate.\n",
        "* **Momentum**. This optimizer \"gains speed\" when the gradient has pointed in the same direction for several consecutive updates. That is, it has a momentum and want to keep moving in that direction. It gains momentum by accumulating an exponentially decaying moving average of past gradients. The step size depends on how large and aligned the sequence of gradients are. The most important hyper-parameter is alpha and common values are 0.5 and 0.9.\n",
        "* **Nesterov Momentum**. This is a modification of the standard momentum optimizer.\n",
        "* **AdaGrad**. This optimizer Ada-ptively sets the learning rate depending on the steepness/magnitude of the Grad-ients. This is done so that weights with big gradients get a smaller effective learning rate, and weights with small gradients will get a greater effective learning rate. The result is quicker progress in the more gently sloped directions of the weight space and a slowdown in stepp regions.\n",
        "* **RMSProp**. This is modification of AdaGrad, where the accumulated gradient decays, that is, the influence of previous gradients gradually decreases.\n",
        "* **Adam**. The name comes from \"adaptive moments\", and it is a combination of RMSProp and momentum. It has several hyper-parameters.\n",
        "\n",
        "The above list just gives a quick overview of some of the most common. However, old optimizers are constantly improved and new are developed. SGD and momentum are most basic and easiest to understand and implement. They are still in use, but the more advanced optimizers tend to be better for practical use. Which one to use is generally an emperical question depending on both the data and the model.\n",
        "\n",
        "For a more complete overview of optimization algorithms see [this comparison](http://ruder.io/optimizing-gradient-descent/), and to see what is available in Keras, see the [optimizer section](https://keras.io/optimizers/) of the documentation.\n",
        "\n",
        "See the images below for a comparison of optimizers in a 2D space (NAG: Nesterov accelerated gradient, Adadelta: an extension of AdaGrad).\n",
        "\n",
        "![Contours - optimizer comparison](https://drive.google.com/uc?id=1CmrD-UPZ7EIUjRuO_ib7k9CL1FO2bbLk)\n",
        "<b>Figure 2.</b> Comparison of six different optimizers.\n",
        "\n",
        "\n",
        "![Saddle point - optimizer comparison](https://drive.google.com/uc?id=1QVhN9rAvCjXtGyNZkmFivyyCzNsntObh)\n",
        "<b>Figure 3.</b> Comparison of six different optimizers at a saddle point.\n",
        "\n",
        "<!-- <img src=\"./fig/contours_evaluation_optimizers.gif\" width=\"500\">\n",
        "<img src=\"./fig/saddle_point_evaluation_optimizers.gif\" width=\"500\"> -->"
      ]
    },
    {
      "cell_type": "code",
      "metadata": {
        "id": "83Zunsc6G7vS"
      },
      "source": [
        "# imports\n",
        "import numpy as np\n",
        "from sklearn.datasets import fetch_openml\n",
        "from sklearn.model_selection import train_test_split\n",
        "from sklearn.metrics import confusion_matrix\n",
        "import itertools\n",
        "import matplotlib.pyplot as plt\n",
        "from keras.preprocessing.image import ImageDataGenerator\n",
        "# for the random seed\n",
        "import tensorflow as tf\n",
        "from tensorflow.keras.models import Sequential\n",
        "from tensorflow.keras.layers import Dense, Dropout, Flatten\n",
        "from tensorflow.keras.layers import Conv2D, MaxPooling2D\n",
        "from tensorflow.keras.optimizers import SGD\n",
        "\n",
        "# set the random seeds to get reproducible results\n",
        "np.random.seed(1)\n",
        "tf.random.set_seed(2)\n",
        "\n",
        "# Load data from https://www.openml.org/d/554\n",
        "X, y = fetch_openml('mnist_784', version=1, return_X_y=True)\n",
        "X, y = X[:1000], y[:1000]\n",
        "X = X.reshape(X.shape[0], 28, 28, 1)\n",
        "# Normalize\n",
        "X = X / 255.\n",
        "# number of unique classes\n",
        "num_classes = len(np.unique(y))\n",
        "y = y.astype(int)\n",
        "\n",
        "X_train, X_test, y_train, y_test = train_test_split(X, y, test_size=.2, random_state=1)\n",
        "\n",
        "num_tot = y.shape[0]\n",
        "num_train = y_train.shape[0]\n",
        "num_test = y_test.shape[0]\n",
        "\n",
        "y_oh = np.zeros((num_tot, num_classes))\n",
        "y_oh[range(num_tot), y] = 1\n",
        "\n",
        "y_oh_train = np.zeros((num_train, num_classes))\n",
        "y_oh_train[range(num_train), y_train] = 1\n",
        "\n",
        "y_oh_test = np.zeros((num_test, num_classes))\n",
        "y_oh_test[range(num_test), y_test] = 1"
      ],
      "execution_count": 1,
      "outputs": []
    },
    {
      "cell_type": "code",
      "metadata": {
        "id": "vBjvQ0ZnZ4iL",
        "colab": {
          "base_uri": "https://localhost:8080/"
        },
        "outputId": "bee1cfe4-2274-4b9e-8586-e6ce8d4bdda0"
      },
      "source": [
        "X.shape"
      ],
      "execution_count": 2,
      "outputs": [
        {
          "output_type": "execute_result",
          "data": {
            "text/plain": [
              "(1000, 28, 28, 1)"
            ]
          },
          "metadata": {
            "tags": []
          },
          "execution_count": 2
        }
      ]
    },
    {
      "cell_type": "markdown",
      "metadata": {
        "id": "UMemOR9oG7vS"
      },
      "source": [
        "### Question 1\n",
        "**The data set**\n",
        "\n",
        "Plot a three examples from the data set.\n",
        "* What type of data are in the data set?\n",
        "\n",
        "    <span style=\"color:red\"> < **numpy.ndarray** > </span>\n",
        "    \n",
        "\n",
        "* What does the line ```X = X.reshape(X.shape[0], 28, 28, 1)``` do?\n",
        "\n",
        "  < make the X into 4D array which elements is 1000,28,28,1>\n",
        "\n",
        "Look at how the encoding of the targets (i.e. ```y```) is changed. E.g. the lines\n",
        "```\n",
        "    y_oh = np.zeros((num_tot, num_classes))\n",
        "    y_oh[range(num_tot), y] = 1\n",
        "```\n",
        "Print out a few rows of ```y``` next to ```y_oh```.\n",
        "* What is the relationship between ```y``` and ```y_oh```?\n",
        "\n",
        "    <span style=\"color:red\"> <  **when the columns index in y_oh equal to y, then the value =1， otherwise value in y_oh euqal to 0** > </span>\n",
        "    \n",
        "    \n",
        "* What is the type of encoding in ```y_oh``` called and why is it used?\n",
        "\n",
        "    <span style=\"color:red\"> <**one-hot encoding**> \n",
        "    </span>\n",
        "    <**Because it transform y into the value between 0 and 1, which is suitable for the  equally categorical y**>\n",
        "    \n",
        "* Plot three data examples in the same figure and set the correct label as title. \n",
        "    * It should be possible to see what the data represent."
      ]
    },
    {
      "cell_type": "code",
      "metadata": {
        "id": "_5CQf_iasNn2",
        "colab": {
          "base_uri": "https://localhost:8080/",
          "height": 228
        },
        "outputId": "03a23157-b319-4aa3-abe2-784db7103add"
      },
      "source": [
        "X_plot, y_plot = X[:3], y[:3]\n",
        "X_plot=X_plot.reshape(3,28,28)\n",
        "fig=plt.figure(figsize=(10,10))\n",
        "fig.add_subplot(1,3,1)\n",
        "plt.imshow(X_plot[0])\n",
        "plt.title(y_plot[0])\n",
        "\n",
        "fig.add_subplot(1,3,2)\n",
        "plt.imshow(X_plot[1])\n",
        "plt.title(y_plot[1])\n",
        "\n",
        "fig.add_subplot(1,3,3)\n",
        "plt.imshow(X_plot[2])\n",
        "plt.title(y_plot[2])\n",
        "\n",
        "plt.show()\n",
        "#for i range(1,4):\n",
        "#  img=X_plot[i]\n",
        "#  fig.add_subplot(1,3,i)\n",
        "#  plt.title(y[i])\n",
        "#  plt.imshow(img)\n",
        "#plt.show\n"
      ],
      "execution_count": 3,
      "outputs": [
        {
          "output_type": "display_data",
          "data": {
            "image/png": "[encoded data removed]",
            "text/plain": [
              "<Figure size 720x720 with 3 Axes>"
            ]
          },
          "metadata": {
            "tags": [],
            "needs_background": "light"
          }
        }
      ]
    },
    {
      "cell_type": "markdown",
      "metadata": {
        "id": "jGsl5ZbNud5M"
      },
      "source": [
        "# Question 2\n",
        "\n",
        "\n",
        "To avoid the problem of overfitting, we need to artificially expand the data set. We can use existing data to generate 'fake data'. We add a small change to each picture on the built-in data:\n",
        "\n",
        "* Randomly rotate some training images by 10 degrees\n",
        "* Randomly Zoom by 10% some training images\n",
        "* Randomly shift images horizontally by 10% of the width\n",
        "* Randomly shift images vertically by 10% of the height"
      ]
    },
    {
      "cell_type": "code",
      "metadata": {
        "id": "D66xcoR_udeK"
      },
      "source": [
        "datagen = ImageDataGenerator(\n",
        "            featurewise_center=False,  # set input mean to 0 over the dataset\n",
        "            samplewise_center=False,  # set each sample mean to 0\n",
        "            featurewise_std_normalization=False,  # divide inputs by std of the dataset\n",
        "            samplewise_std_normalization=False,  # divide each input by its std\n",
        "            zca_whitening=False,  # apply ZCA whitening\n",
        "            rotation_range=10,  # randomly rotate images in the range (degrees, 0 to 180)\n",
        "            zoom_range = 0.1, # Randomly zoom image \n",
        "            width_shift_range=0.1,  # randomly shift images horizontally (fraction of total width)\n",
        "            height_shift_range=0.1,  # randomly shift images vertically (fraction of total height)\n",
        "            horizontal_flip=False,  # randomly flip images\n",
        "            vertical_flip=False)  # randomly flip images\n",
        "\n",
        "\n",
        "datagen.fit(X_train)"
      ],
      "execution_count": 4,
      "outputs": []
    },
    {
      "cell_type": "markdown",
      "metadata": {
        "id": "V4MlblbwG7vS"
      },
      "source": [
        "### Question 3\n",
        "**The model**\n",
        "\n",
        "Below is some code for bulding and training a model with Keras.\n",
        "* What type of network is implemented below? I.e. a normal MLP, RNN, CNN, Logistic Regression...?\n",
        "\n",
        "    <span style=\"color:red\"> <***CNN***> </span>\n",
        "    \n",
        "    \n",
        "* What does ```Dropout()``` do?\n",
        "\n",
        "    <span style=\"color:red\"> <***controll overfitting***> </span>\n",
        "\n",
        "\n",
        "* Which type of activation function is used for the hidden layers?\n",
        "\n",
        "    <span style=\"color:red\"> <***Relu***> </span>\n",
        "\n",
        "\n",
        "* Which type of activation function is used for the output layer?\n",
        "\n",
        "    <span style=\"color:red\"> <***Softmax***> </span>\n",
        "\n",
        "\n",
        "* Why are two different activation functions used?\n",
        "\n",
        "    <span style=\"color:red\"> <***Different activation functions allow for different non-linearities which might work better for solving a specific function: ReLU is fast to compute so nice for deep networks with high training times; Softmax is used for multi-class classification problems and predict a multinomial probability distribution***> </span>\n",
        "\n",
        "\n",
        "* What optimizer is used in the model below?\n",
        "\n",
        "    <span style=\"color:red\"> <***Stochastic Gradient Descent (SGD)***> </span>\n",
        "\n",
        "\n",
        "* How often are the weights updated (i.e. after how many data examples)?\n",
        "\n",
        "    <span style=\"color:red\"> <**after the 32 samples, the weight will ungrades once**> </span>\n",
        "\n",
        "\n",
        "* What loss function is used?\n",
        "\n",
        "    <span style=\"color:red\"> <***Categorical_crossentropy***> </span>\n",
        "\n",
        "\n",
        "* How many parameters (i.e. weights and biases, NOT hyper-parameters) does the model have?\n",
        "\n",
        "    <span style=\"color:red\"> <***108,618***> </span>\n"
      ]
    },
    {
      "cell_type": "code",
      "metadata": {
        "id": "XNvAAvzjG7vS",
        "scrolled": true,
        "colab": {
          "base_uri": "https://localhost:8080/"
        },
        "outputId": "07ef0ead-e830-46e5-9dda-a71ff87d60b0"
      },
      "source": [
        "\n",
        "model = Sequential()\n",
        "\n",
        "model.add(Conv2D(16, (3, 3), activation='relu', input_shape=(28, 28, 1)))\n",
        "# Max pooling\n",
        "model.add(MaxPooling2D(pool_size=(2, 2)))\n",
        "model.add(Dropout(0.))\n",
        "\n",
        "model.add(Conv2D(32, (3, 3), activation='relu'))\n",
        "# Max pooling\n",
        "model.add(MaxPooling2D(pool_size=(2, 2)))\n",
        "model.add(Flatten())\n",
        "\n",
        "model.add(Dense(128, activation='relu'))\n",
        "model.add(Dropout(0.))\n",
        "\n",
        "model.add(Dense(10, activation='softmax'))\n",
        "\n",
        "sgd = SGD(lr=0.01, decay=1e-6, momentum=0.9, nesterov=True)\n",
        "\n",
        "# Compile the model\n",
        "model.compile(loss='categorical_crossentropy', optimizer=sgd)\n",
        "\n",
        "# Train the model\n",
        "model.fit(X_train, y_oh_train, batch_size=32, epochs=60)\n",
        "\n",
        "# Evaluate performance\n",
        "test_loss = model.evaluate(X_test, y_oh_test, batch_size=32)\n",
        "\n",
        "predictions = model.predict(X_test, batch_size=32)\n",
        "predictions = np.argmax(predictions, axis=1) # change encoding again\n",
        "print('Accuracy:', (predictions == y_test).sum() / predictions.shape[0])"
      ],
      "execution_count": 5,
      "outputs": [
        {
          "output_type": "stream",
          "text": [
            "Epoch 1/60\n",
            "25/25 [==============================] - 1s 17ms/step - loss: 2.2322\n",
            "Epoch 2/60\n",
            "25/25 [==============================] - 0s 18ms/step - loss: 1.3094\n",
            "Epoch 3/60\n",
            "25/25 [==============================] - 0s 20ms/step - loss: 0.5476\n",
            "Epoch 4/60\n",
            "25/25 [==============================] - 0s 20ms/step - loss: 0.3458\n",
            "Epoch 5/60\n",
            "25/25 [==============================] - 1s 20ms/step - loss: 0.2481\n",
            "Epoch 6/60\n",
            "25/25 [==============================] - 0s 20ms/step - loss: 0.1618\n",
            "Epoch 7/60\n",
            "25/25 [==============================] - 0s 20ms/step - loss: 0.1702\n",
            "Epoch 8/60\n",
            "25/25 [==============================] - 1s 20ms/step - loss: 0.1203\n",
            "Epoch 9/60\n",
            "25/25 [==============================] - 0s 18ms/step - loss: 0.0991\n",
            "Epoch 10/60\n",
            "25/25 [==============================] - 0s 17ms/step - loss: 0.0544\n",
            "Epoch 11/60\n",
            "25/25 [==============================] - 0s 19ms/step - loss: 0.0416\n",
            "Epoch 12/60\n",
            "25/25 [==============================] - 0s 17ms/step - loss: 0.0405\n",
            "Epoch 13/60\n",
            "25/25 [==============================] - 0s 19ms/step - loss: 0.0346\n",
            "Epoch 14/60\n",
            "25/25 [==============================] - 0s 20ms/step - loss: 0.0197\n",
            "Epoch 15/60\n",
            "25/25 [==============================] - 0s 19ms/step - loss: 0.0155\n",
            "Epoch 16/60\n",
            "25/25 [==============================] - 0s 17ms/step - loss: 0.0179\n",
            "Epoch 17/60\n",
            "25/25 [==============================] - 0s 17ms/step - loss: 0.0119\n",
            "Epoch 18/60\n",
            "25/25 [==============================] - 0s 17ms/step - loss: 0.0071\n",
            "Epoch 19/60\n",
            "25/25 [==============================] - 0s 18ms/step - loss: 0.0077\n",
            "Epoch 20/60\n",
            "25/25 [==============================] - 0s 19ms/step - loss: 0.0040\n",
            "Epoch 21/60\n",
            "25/25 [==============================] - 0s 18ms/step - loss: 0.0042\n",
            "Epoch 22/60\n",
            "25/25 [==============================] - 0s 18ms/step - loss: 0.0032\n",
            "Epoch 23/60\n",
            "25/25 [==============================] - 0s 17ms/step - loss: 0.0035\n",
            "Epoch 24/60\n",
            "25/25 [==============================] - 0s 18ms/step - loss: 0.0023\n",
            "Epoch 25/60\n",
            "25/25 [==============================] - 0s 18ms/step - loss: 0.0022\n",
            "Epoch 26/60\n",
            "25/25 [==============================] - 0s 18ms/step - loss: 0.0022\n",
            "Epoch 27/60\n",
            "25/25 [==============================] - 0s 18ms/step - loss: 0.0021\n",
            "Epoch 28/60\n",
            "25/25 [==============================] - 0s 17ms/step - loss: 0.0019\n",
            "Epoch 29/60\n",
            "25/25 [==============================] - 0s 20ms/step - loss: 0.0019\n",
            "Epoch 30/60\n",
            "25/25 [==============================] - 0s 20ms/step - loss: 0.0015\n",
            "Epoch 31/60\n",
            "25/25 [==============================] - 0s 18ms/step - loss: 0.0018\n",
            "Epoch 32/60\n",
            "25/25 [==============================] - 0s 18ms/step - loss: 0.0015\n",
            "Epoch 33/60\n",
            "25/25 [==============================] - 0s 18ms/step - loss: 0.0013\n",
            "Epoch 34/60\n",
            "25/25 [==============================] - 0s 18ms/step - loss: 0.0013\n",
            "Epoch 35/60\n",
            "25/25 [==============================] - 0s 18ms/step - loss: 0.0012\n",
            "Epoch 36/60\n",
            "25/25 [==============================] - 0s 18ms/step - loss: 0.0011\n",
            "Epoch 37/60\n",
            "25/25 [==============================] - 0s 18ms/step - loss: 0.0012\n",
            "Epoch 38/60\n",
            "25/25 [==============================] - 0s 17ms/step - loss: 0.0011\n",
            "Epoch 39/60\n",
            "25/25 [==============================] - 0s 18ms/step - loss: 0.0012\n",
            "Epoch 40/60\n",
            "25/25 [==============================] - 0s 18ms/step - loss: 0.0011\n",
            "Epoch 41/60\n",
            "25/25 [==============================] - 0s 18ms/step - loss: 0.0010\n",
            "Epoch 42/60\n",
            "25/25 [==============================] - 0s 18ms/step - loss: 9.5389e-04\n",
            "Epoch 43/60\n",
            "25/25 [==============================] - 0s 17ms/step - loss: 8.7589e-04\n",
            "Epoch 44/60\n",
            "25/25 [==============================] - 0s 18ms/step - loss: 7.5664e-04\n",
            "Epoch 45/60\n",
            "25/25 [==============================] - 0s 18ms/step - loss: 7.8364e-04\n",
            "Epoch 46/60\n",
            "25/25 [==============================] - 0s 17ms/step - loss: 8.6218e-04\n",
            "Epoch 47/60\n",
            "25/25 [==============================] - 0s 18ms/step - loss: 7.4382e-04\n",
            "Epoch 48/60\n",
            "25/25 [==============================] - 0s 18ms/step - loss: 5.9547e-04\n",
            "Epoch 49/60\n",
            "25/25 [==============================] - 0s 19ms/step - loss: 7.4040e-04\n",
            "Epoch 50/60\n",
            "25/25 [==============================] - 0s 18ms/step - loss: 6.5876e-04\n",
            "Epoch 51/60\n",
            "25/25 [==============================] - 0s 19ms/step - loss: 6.1762e-04\n",
            "Epoch 52/60\n",
            "25/25 [==============================] - 0s 17ms/step - loss: 5.8019e-04\n",
            "Epoch 53/60\n",
            "25/25 [==============================] - 0s 18ms/step - loss: 5.5301e-04\n",
            "Epoch 54/60\n",
            "25/25 [==============================] - 0s 18ms/step - loss: 5.6151e-04\n",
            "Epoch 55/60\n",
            "25/25 [==============================] - 0s 18ms/step - loss: 6.9891e-04\n",
            "Epoch 56/60\n",
            "25/25 [==============================] - 0s 18ms/step - loss: 6.1614e-04\n",
            "Epoch 57/60\n",
            "25/25 [==============================] - 0s 17ms/step - loss: 5.2972e-04\n",
            "Epoch 58/60\n",
            "25/25 [==============================] - 0s 18ms/step - loss: 6.1560e-04\n",
            "Epoch 59/60\n",
            "25/25 [==============================] - 0s 17ms/step - loss: 5.8387e-04\n",
            "Epoch 60/60\n",
            "25/25 [==============================] - 0s 19ms/step - loss: 5.5804e-04\n",
            "7/7 [==============================] - 0s 6ms/step - loss: 0.4677\n",
            "Accuracy: 0.93\n"
          ],
          "name": "stdout"
        }
      ]
    },
    {
      "cell_type": "code",
      "metadata": {
        "id": "suvhACy89m-I",
        "colab": {
          "base_uri": "https://localhost:8080/"
        },
        "outputId": "c8e22e2e-78d6-40c3-db8b-50e21c75af47"
      },
      "source": [
        "model.summary()"
      ],
      "execution_count": 6,
      "outputs": [
        {
          "output_type": "stream",
          "text": [
            "Model: \"sequential\"\n",
            "_________________________________________________________________\n",
            "Layer (type)                 Output Shape              Param #   \n",
            "=================================================================\n",
            "conv2d (Conv2D)              (None, 26, 26, 16)        160       \n",
            "_________________________________________________________________\n",
            "max_pooling2d (MaxPooling2D) (None, 13, 13, 16)        0         \n",
            "_________________________________________________________________\n",
            "dropout (Dropout)            (None, 13, 13, 16)        0         \n",
            "_________________________________________________________________\n",
            "conv2d_1 (Conv2D)            (None, 11, 11, 32)        4640      \n",
            "_________________________________________________________________\n",
            "max_pooling2d_1 (MaxPooling2 (None, 5, 5, 32)          0         \n",
            "_________________________________________________________________\n",
            "flatten (Flatten)            (None, 800)               0         \n",
            "_________________________________________________________________\n",
            "dense (Dense)                (None, 128)               102528    \n",
            "_________________________________________________________________\n",
            "dropout_1 (Dropout)          (None, 128)               0         \n",
            "_________________________________________________________________\n",
            "dense_1 (Dense)              (None, 10)                1290      \n",
            "=================================================================\n",
            "Total params: 108,618\n",
            "Trainable params: 108,618\n",
            "Non-trainable params: 0\n",
            "_________________________________________________________________\n"
          ],
          "name": "stdout"
        }
      ]
    },
    {
      "cell_type": "markdown",
      "metadata": {
        "id": "64Abk3-GG7vS"
      },
      "source": [
        "## Part 3 - train a model\n",
        "\n",
        "A model's performance depends on many factors apart from the model architecture (e.g. type and number of layers) and the dataset. Here you will get to explore some of the factors that affect model performance. Much of the skill in training deep learning models lies in quickly finding good values/options for these choises.\n",
        "\n",
        "In order to observe the learning process it is best to compare the training set loss with the loss on the test set. How to visualize these variables with Keras is described under [Training history visualization](https://keras.io/visualization/#training-history-visualization) in the documentation.\n",
        "\n",
        "You will explore the effect of 1) optimizer, 2) training duration, and 3) dropout (see the question above).\n",
        "\n",
        "When training, an **epoch** is one pass through the full training set.\n",
        "\n",
        "\n",
        "\n",
        "## Further information\n",
        "For ideas about hyper-parameter tuning, take a look at the strategies described in the sklearn documentation under [model selection](https://scikit-learn.org/stable/model_selection.html), or in this [blog post](https://blog.tensorflow.org/2020/01/hyperparameter-tuning-with-keras-tuner.html) from TensorFlow. For a more thorough discussion about optimizers see [this video](https://www.youtube.com/watch?v=DiNzQP7kK-s) discussing the article [Descending through a Crowded Valley -- Benchmarking Deep Learning Optimizers](https://arxiv.org/abs/2007.01547).\n",
        "\n",
        "\n",
        "**Good luck!**"
      ]
    },
    {
      "cell_type": "markdown",
      "metadata": {
        "id": "C2swN1lCoWeu"
      },
      "source": [
        "### Question 1\n",
        "\n",
        "* **Vizualize the training**. Use the model above to observe the training process. Train it for 150 epochs and then plot both \"loss\" and \"val_loss\" (i.e. loss on the valiadtion set, here the terms \"validation set\" and \"test set\" are used interchangably, but this is not always true). What is the optimal number of epochs for minimizing the test set loss? \n",
        "    * Remember to first reset the weights (this can be done by calling ```model.compile()```), otherwise the training just continues from where it was stopped earlier.\n",
        "\n",
        "    <**Based on the graph showed from the first following code, the optimal number of epochs is around 15**>"
      ]
    },
    {
      "cell_type": "code",
      "metadata": {
        "id": "ySbqfAV1B7DP"
      },
      "source": [
        "def built_CNN(droupout):\n",
        "  model = Sequential()\n",
        "  model.add(Conv2D(16, (3, 3), activation='relu', input_shape=(28, 28, 1)))\n",
        "  # Max pooling\n",
        "  model.add(MaxPooling2D(pool_size=(2, 2)))\n",
        "  model.add(Dropout(droupout))\n",
        "  model.add(Conv2D(32, (3, 3), activation='relu'))\n",
        "  # Max pooling\n",
        "  model.add(MaxPooling2D(pool_size=(2, 2)))\n",
        "  model.add(Flatten())\n",
        "  model.add(Dense(128, activation='relu'))\n",
        "  model.add(Dropout(droupout))\n",
        "  model.add(Dense(10, activation='softmax'))\n",
        "  return model"
      ],
      "execution_count": 7,
      "outputs": []
    },
    {
      "cell_type": "code",
      "metadata": {
        "id": "Kzf0UkjDzWCW"
      },
      "source": [
        "#Question: Vizualize the training\n",
        "model=built_CNN(0)\n",
        "model.compile(loss='categorical_crossentropy')\n",
        "history=model.fit(X_train, y_oh_train, batch_size=32, epochs=150,validation_data=(X_test,y_oh_test))\n",
        "\n",
        "plt.plot(history.history['val_loss'],label='test loss')\n",
        "plt.plot(history.history['loss'], label='train loss')\n",
        "plt.title('Model Loss')\n",
        "plt.ylabel('Loss')\n",
        "plt.xlabel('Epoch')\n",
        "plt.legend()\n",
        "plt.show()\n",
        "#the best epoch is 15, the maximum epoch can be up to 30"
      ],
      "execution_count": null,
      "outputs": []
    },
    {
      "cell_type": "code",
      "metadata": {
        "colab": {
          "base_uri": "https://localhost:8080/",
          "height": 311
        },
        "id": "R0BNHsd2wDfY",
        "outputId": "2ad8ddcb-0d88-4943-dd34-e92cc9badf82"
      },
      "source": [
        "# Look at confusion matrix \n",
        "\n",
        "def plot_confusion_matrix(cm, classes,\n",
        "                          normalize=False,\n",
        "                          title='Confusion matrix',\n",
        "                          cmap=plt.cm.Blues):\n",
        "    \"\"\"\n",
        "    This function prints and plots the confusion matrix.\n",
        "    Normalization can be applied by setting `normalize=True`.\n",
        "    \"\"\"\n",
        "    plt.imshow(cm, interpolation='nearest', cmap=cmap)\n",
        "    plt.title(title)\n",
        "    plt.colorbar()\n",
        "    tick_marks = np.arange(len(classes))\n",
        "    plt.xticks(tick_marks, classes, rotation=45)\n",
        "    plt.yticks(tick_marks, classes)\n",
        "\n",
        "    if normalize:\n",
        "        cm = cm.astype('float') / cm.sum(axis=1)[:, np.newaxis]\n",
        "\n",
        "    thresh = cm.max() / 2.\n",
        "    for i, j in itertools.product(range(cm.shape[0]), range(cm.shape[1])):\n",
        "        plt.text(j, i, cm[i, j],\n",
        "                 horizontalalignment=\"center\",\n",
        "                 color=\"white\" if cm[i, j] > thresh else \"black\")\n",
        "\n",
        "    plt.tight_layout()\n",
        "    plt.ylabel('True label')\n",
        "    plt.xlabel('Predicted label')\n",
        "# Predict the values from the validation dataset\n",
        "Y_pred = model.predict(X_test)\n",
        "# Convert predictions classes to one hot vectors \n",
        "Y_pred_classes = np.argmax(Y_pred,axis = 1) \n",
        "# Convert validation observations to one hot vectors\n",
        "Y_true = np.argmax(y_oh_test,axis = 1) \n",
        "# compute the confusion matrix\n",
        "confusion_mtx = confusion_matrix(Y_true, Y_pred_classes) \n",
        "# plot the confusion matrix\n",
        "plot_confusion_matrix(confusion_mtx, classes = range(10))"
      ],
      "execution_count": 15,
      "outputs": [
        {
          "output_type": "display_data",
          "data": {
            "image/png": "[encoded data removed]",
            "text/plain": [
              "<Figure size 432x288 with 2 Axes>"
            ]
          },
          "metadata": {
            "tags": [],
            "needs_background": "light"
          }
        }
      ]
    },
    {
      "cell_type": "code",
      "metadata": {
        "colab": {
          "base_uri": "https://localhost:8080/",
          "height": 497
        },
        "id": "2dMZHr9JB46t",
        "outputId": "c9009261-6c48-4109-a502-9348feb08529"
      },
      "source": [
        "# Display some error results \n",
        "\n",
        "# Errors are difference between predicted labels and true labels\n",
        "errors = (Y_pred_classes - Y_true != 0)\n",
        "\n",
        "Y_pred_classes_errors = Y_pred_classes[errors]\n",
        "Y_pred_errors = Y_pred[errors]\n",
        "Y_true_errors = Y_true[errors]\n",
        "X_val_errors = X_test[errors]\n",
        "\n",
        "def display_errors(errors_index,img_errors,pred_errors, obs_errors):\n",
        "    \"\"\" This function shows 6 images with their predicted and real labels\"\"\"\n",
        "    n = 0\n",
        "    nrows = 2\n",
        "    ncols = 3\n",
        "    fig, ax = plt.subplots(nrows,ncols,sharex=True,sharey=True)\n",
        "    fig.set_size_inches(10, 8)\n",
        "    for row in range(nrows):\n",
        "        for col in range(ncols):\n",
        "            error = errors_index[n]\n",
        "            ax[row,col].imshow((img_errors[error]).reshape((28,28)), cmap='gray')\n",
        "            ax[row,col].set_title(\"Predicted label :{}\\nTrue label :{}\".format(pred_errors[error],obs_errors[error]))\n",
        "            n += 1\n",
        "\n",
        "# Probabilities of the wrong predicted numbers\n",
        "Y_pred_errors_prob = np.max(Y_pred_errors,axis = 1)\n",
        "\n",
        "# Predicted probabilities of the true values in the error set\n",
        "true_prob_errors = np.diagonal(np.take(Y_pred_errors, Y_true_errors, axis=1))\n",
        "\n",
        "# Difference between the probability of the predicted label and the true label\n",
        "delta_pred_true_errors = Y_pred_errors_prob - true_prob_errors\n",
        "\n",
        "# Sorted list of the delta prob errors\n",
        "sorted_dela_errors = np.argsort(delta_pred_true_errors)\n",
        "\n",
        "# Top 6 errors \n",
        "most_important_errors = sorted_dela_errors[-6:]\n",
        "\n",
        "plt.figure(figsize=(20, 20))\n",
        "# Show the top 6 errors\n",
        "display_errors(most_important_errors, X_val_errors, Y_pred_classes_errors, Y_true_errors)"
      ],
      "execution_count": 17,
      "outputs": [
        {
          "output_type": "display_data",
          "data": {
            "text/plain": [
              "<Figure size 1440x1440 with 0 Axes>"
            ]
          },
          "metadata": {
            "tags": []
          }
        },
        {
          "output_type": "display_data",
          "data": {
            "image/png": "[encoded data removed]",
            "text/plain": [
              "<Figure size 720x576 with 6 Axes>"
            ]
          },
          "metadata": {
            "tags": [],
            "needs_background": "light"
          }
        }
      ]
    },
    {
      "cell_type": "markdown",
      "metadata": {
        "id": "_pMgm-tzofyD"
      },
      "source": [
        "# Question2\n",
        "\n",
        "* **Optimizer**. Select three different optimizers and for each find the close-to-optimal hyper-parameter(s). In your answer, include a) your three choises, b) best hyper-parameters for each of the three optimizers and, c) the code that produced the results.\n",
        "    * *NOTE* that how long the training takes varies with optimizer. I.e., make sure that the model is trained for long enough to reach optimal performance.\n",
        "\n",
        "    <**a) the three choices: SGD, Adam, RMSProp \n",
        "    b) hyper-parameters for each of the three optimizers can be shown from each search and the result as well.**>"
      ]
    },
    {
      "cell_type": "code",
      "metadata": {
        "id": "DiNDuK1fV0aE"
      },
      "source": [
        "#!pip install -U keras-tuner\n",
        "import tensorflow as tf\n",
        "import kerastuner as kt\n",
        "# Question: three optiomizer: SGD,Adam,RMSProp\n",
        "# the hyper-parameter is based on page13 of the article \n",
        "# Descending through a Crowded Valley -- Benchmarking Deep Learning Optimizers.\n",
        "\n",
        "#for SGD optimizer\n",
        "def build_model(hp):\n",
        "  model=built_CNN(0)\n",
        "  model.compile(optimizer=tf.keras.optimizers.SGD(hp.Float('learning_rate', min_value=1e-4, max_value=1,sampling='log')),\n",
        "    loss='categorical_crossentropy', \n",
        "    metrics=['accuracy'])\n",
        "  return model\n",
        "\n",
        "tuner = kt.Hyperband(build_model,objective='val_accuracy',max_epochs=30,project_name='SGD-1')\n",
        "tuner.search(X_train, y_oh_train,epochs=15,validation_data=(X_test,y_oh_test))\n",
        "tuner.results_summary()\n",
        "# the accur is 0.949999988079071\n",
        "#and the learning rate 0.18379900346409866"
      ],
      "execution_count": null,
      "outputs": []
    },
    {
      "cell_type": "code",
      "metadata": {
        "id": "yLqwRC8XoL5e"
      },
      "source": [
        "# for Adam optimizer\n",
        "def build_model(hp):\n",
        "  model=built_CNN(0)\n",
        "  model.compile(optimizer=tf.keras.optimizers.Adam(hp.Float('learning_rate', min_value=1e-4, max_value=1,sampling='log'),\n",
        "                                                   hp.Float('beta1', min_value=0.5, max_value=0.999,sampling='log'),\n",
        "                                                   hp.Float('beta2', min_value=0.8, max_value=0.999,sampling='log')),\n",
        "    loss='categorical_crossentropy', \n",
        "    metrics=['accuracy'])\n",
        "  return model\n",
        "\n",
        "tuner = kt.Hyperband(build_model,objective='val_accuracy',max_epochs=30,project_name='Adam')\n",
        "tuner.search(X_train, y_oh_train,epochs=15,validation_data=(X_test,y_oh_test))\n",
        "tuner.results_summary()\n",
        "#accuracy: 0.9599999785423279\n",
        "#learning_rate: 0.00880194573492123\n",
        "#beta1: 0.8059667512580438\n",
        "#beta2: 0.818272724625341"
      ],
      "execution_count": null,
      "outputs": []
    },
    {
      "cell_type": "code",
      "metadata": {
        "id": "YDB0Y44Hu_Jo"
      },
      "source": [
        "#for RMS prop optimizer\n",
        "def build_model(hp):\n",
        "  model=built_CNN(0)\n",
        "  model.compile(optimizer=tf.keras.optimizers.RMSprop(hp.Float('learning_rate', min_value=1e-4, max_value=1, sampling='log'),\n",
        "                                                      hp.Float('rho', min_value=1e-3, max_value=1, sampling='log')),\n",
        "    loss='categorical_crossentropy', \n",
        "    metrics=['accuracy'])\n",
        "  return model\n",
        "\n",
        "tuner = kt.Hyperband(build_model,objective='val_accuracy',max_epochs=30,project_name='RMSprop')\n",
        "tuner.search(X_train, y_oh_train,epochs=15,validation_data=(X_test,y_oh_test))\n",
        "tuner.results_summary()\n",
        "# the val_accuracy is 0.9649999737739563\n",
        "# learning_rate: 0.017378972480895958\n",
        "# rho: 0.011239435767055977"
      ],
      "execution_count": null,
      "outputs": []
    },
    {
      "cell_type": "markdown",
      "metadata": {
        "id": "aNN7wJ7-o028"
      },
      "source": [
        "# Question3\n",
        "\n",
        "* **Dropout**. Use the best optimizer and do hyper-parameter seach and find the best value for ```Dropout()```.\n",
        "\n",
        "    <**the best optimizer is RMS Prop and the learning rate is 0.0174, the rho is 0.01124**>"
      ]
    },
    {
      "cell_type": "code",
      "metadata": {
        "id": "P9k-AWiyLRUw"
      },
      "source": [
        "#Question: find the best value for Dropout()\n",
        "from keras.wrappers.scikit_learn import KerasClassifier\n",
        "from sklearn.model_selection import GridSearchCV\n",
        "def CNN(dropout):\n",
        "  model=built_CNN(droupout=dropout)\n",
        "#Compile the model\n",
        "  RMSprop = tf.keras.optimizers.RMSprop(learning_rate=0.017378972480895958,rho=0.011239435767055977)\n",
        "  model.compile(loss='categorical_crossentropy',optimizer=sgd,metrics=[\"accuracy\"])\n",
        "# Train the model\n",
        "  return model\n",
        "\n",
        "classifier = KerasClassifier(build_fn= CNN)\n",
        "parameters = {'dropout':[0,0.25,0.5,0.75,0.9]}\n",
        "grid_search = GridSearchCV(estimator = classifier,param_grid = parameters)\n",
        "grid_search = grid_search.fit(X_train, y_oh_train,epochs=15,validation_data = (X_test,y_oh_test))\n",
        "best_parameters = grid_search.best_params_\n",
        "print(best_parameters)\n",
        "# best parameters is 0.5"
      ],
      "execution_count": null,
      "outputs": []
    },
    {
      "cell_type": "code",
      "metadata": {
        "colab": {
          "base_uri": "https://localhost:8080/",
          "height": 204
        },
        "id": "7u8oLraPy30E",
        "outputId": "9b1ee09c-5b4e-4bf9-e2a0-8d9473688c1d"
      },
      "source": [
        "# the result for douput search\n",
        "import pandas as pd\n",
        "pd.concat([pd.DataFrame(grid_search.cv_results_[\"params\"]),pd.DataFrame(grid_search.cv_results_[\"mean_test_score\"], columns=[\"Accuracy\"])],axis=1)"
      ],
      "execution_count": null,
      "outputs": [
        {
          "output_type": "execute_result",
          "data": {
            "text/html": [
              "<div>\n",
              "<style scoped>\n",
              "    .dataframe tbody tr th:only-of-type {\n",
              "        vertical-align: middle;\n",
              "    }\n",
              "\n",
              "    .dataframe tbody tr th {\n",
              "        vertical-align: top;\n",
              "    }\n",
              "\n",
              "    .dataframe thead th {\n",
              "        text-align: right;\n",
              "    }\n",
              "</style>\n",
              "<table border=\"1\" class=\"dataframe\">\n",
              "  <thead>\n",
              "    <tr style=\"text-align: right;\">\n",
              "      <th></th>\n",
              "      <th>dropout</th>\n",
              "      <th>Accuracy</th>\n",
              "    </tr>\n",
              "  </thead>\n",
              "  <tbody>\n",
              "    <tr>\n",
              "      <th>0</th>\n",
              "      <td>0.00</td>\n",
              "      <td>0.90875</td>\n",
              "    </tr>\n",
              "    <tr>\n",
              "      <th>1</th>\n",
              "      <td>0.25</td>\n",
              "      <td>0.90750</td>\n",
              "    </tr>\n",
              "    <tr>\n",
              "      <th>2</th>\n",
              "      <td>0.50</td>\n",
              "      <td>0.91125</td>\n",
              "    </tr>\n",
              "    <tr>\n",
              "      <th>3</th>\n",
              "      <td>0.75</td>\n",
              "      <td>0.83625</td>\n",
              "    </tr>\n",
              "    <tr>\n",
              "      <th>4</th>\n",
              "      <td>0.90</td>\n",
              "      <td>0.38500</td>\n",
              "    </tr>\n",
              "  </tbody>\n",
              "</table>\n",
              "</div>"
            ],
            "text/plain": [
              "   dropout  Accuracy\n",
              "0     0.00   0.90875\n",
              "1     0.25   0.90750\n",
              "2     0.50   0.91125\n",
              "3     0.75   0.83625\n",
              "4     0.90   0.38500"
            ]
          },
          "metadata": {
            "tags": []
          },
          "execution_count": 19
        }
      ]
    },
    {
      "cell_type": "markdown",
      "metadata": {
        "id": "oBo5zdUHpIEB"
      },
      "source": [
        "# Question4\n",
        "\n",
        "* **Best model**. Combine the what you learned from the above three questions to build the best model. How much better is it than the worst and average models?\n",
        "\n",
        "    <span style=\"color:red\"> <**the accuracy in the best model is 0.915, the worst model is 0.59, the average one is 0.755**> </span>"
      ]
    },
    {
      "cell_type": "code",
      "metadata": {
        "id": "DQY-cE_S5doI",
        "colab": {
          "base_uri": "https://localhost:8080/"
        },
        "outputId": "41e48ef9-6d8a-4b1f-ebaf-b5d6a45e168c"
      },
      "source": [
        "# Question: Best model: compare the best model with worst model, average model\n",
        "#for the best model：depout=0.5,epochs=15,optimizer=RMSprop(learning_rate: 0.01737897,rho=rho=0.011239435767055977,accur_score=0.96)\n",
        "model=built_CNN(0.5)\n",
        "RMSprop = tf.keras.optimizers.RMSprop(learning_rate=0.017378972480895958,rho=0.011239435767055977)\n",
        "model.compile(loss='categorical_crossentropy', optimizer=RMSprop)\n",
        "model.fit(X_train, y_oh_train, batch_size=32, epochs=15)\n",
        "predictions = model.predict(X_test, batch_size=32)\n",
        "predictions = np.argmax(predictions, axis=1)\n",
        "print('Accuracy:', (predictions == y_test).sum() / predictions.shape[0])\n",
        "#accur: 0.915"
      ],
      "execution_count": null,
      "outputs": [
        {
          "output_type": "stream",
          "text": [
            "Epoch 1/15\n",
            "25/25 [==============================] - 1s 18ms/step - loss: 2.4598\n",
            "Epoch 2/15\n",
            "25/25 [==============================] - 0s 18ms/step - loss: 1.0114\n",
            "Epoch 3/15\n",
            "25/25 [==============================] - 0s 19ms/step - loss: 0.7831\n",
            "Epoch 4/15\n",
            "25/25 [==============================] - 0s 18ms/step - loss: 0.6503\n",
            "Epoch 5/15\n",
            "25/25 [==============================] - 0s 18ms/step - loss: 0.6528\n",
            "Epoch 6/15\n",
            "25/25 [==============================] - 0s 18ms/step - loss: 0.7504\n",
            "Epoch 7/15\n",
            "25/25 [==============================] - 0s 18ms/step - loss: 0.6909\n",
            "Epoch 8/15\n",
            "25/25 [==============================] - 0s 18ms/step - loss: 0.9260\n",
            "Epoch 9/15\n",
            "25/25 [==============================] - 0s 18ms/step - loss: 0.6351\n",
            "Epoch 10/15\n",
            "25/25 [==============================] - 0s 19ms/step - loss: 0.6558\n",
            "Epoch 11/15\n",
            "25/25 [==============================] - 0s 18ms/step - loss: 0.6920\n",
            "Epoch 12/15\n",
            "25/25 [==============================] - 0s 18ms/step - loss: 0.7351\n",
            "Epoch 13/15\n",
            "25/25 [==============================] - 0s 18ms/step - loss: 0.5912\n",
            "Epoch 14/15\n",
            "25/25 [==============================] - 0s 18ms/step - loss: 0.6744\n",
            "Epoch 15/15\n",
            "25/25 [==============================] - 0s 18ms/step - loss: 0.6180\n",
            "Accuracy: 0.915\n"
          ],
          "name": "stdout"
        }
      ]
    },
    {
      "cell_type": "code",
      "metadata": {
        "id": "Rp6CM2LVG7vT",
        "colab": {
          "base_uri": "https://localhost:8080/"
        },
        "outputId": "d4d86d85-b107-4507-af03-aa13946b7442"
      },
      "source": [
        "# for the average model: drouput=0.75,epochs=43,optimizer=adam(learning_rate: 0.0065,beta1=0.5763,beta2=0.009668,accur_score=0.86), from previour running of three optimizer models\n",
        "model=built_CNN(0.75)\n",
        "adam=tf.keras.optimizers.Adam(learning_rate=0.0065,beta_1=0.05763, beta_2=0.09668)\n",
        "model.compile(loss='categorical_crossentropy', optimizer=adam)\n",
        "model.fit(X_train, y_oh_train, batch_size=32, epochs=23)\n",
        "predictions = model.predict(X_test, batch_size=32)\n",
        "predictions = np.argmax(predictions, axis=1)\n",
        "print('Accuracy:', (predictions == y_test).sum() / predictions.shape[0])\n",
        "#accur: 0.755"
      ],
      "execution_count": null,
      "outputs": [
        {
          "output_type": "stream",
          "text": [
            "Epoch 1/23\n",
            "25/25 [==============================] - 1s 18ms/step - loss: 2.4009\n",
            "Epoch 2/23\n",
            "25/25 [==============================] - 0s 18ms/step - loss: 1.7752\n",
            "Epoch 3/23\n",
            "25/25 [==============================] - 0s 17ms/step - loss: 1.3729\n",
            "Epoch 4/23\n",
            "25/25 [==============================] - 0s 18ms/step - loss: 1.1287\n",
            "Epoch 5/23\n",
            "25/25 [==============================] - 0s 18ms/step - loss: 1.0517\n",
            "Epoch 6/23\n",
            "25/25 [==============================] - 0s 18ms/step - loss: 0.8927\n",
            "Epoch 7/23\n",
            "25/25 [==============================] - 0s 17ms/step - loss: 0.9042\n",
            "Epoch 8/23\n",
            "25/25 [==============================] - 0s 19ms/step - loss: 0.7722\n",
            "Epoch 9/23\n",
            "25/25 [==============================] - 0s 17ms/step - loss: 0.7155\n",
            "Epoch 10/23\n",
            "25/25 [==============================] - 0s 19ms/step - loss: 0.8163\n",
            "Epoch 11/23\n",
            "25/25 [==============================] - 0s 18ms/step - loss: 0.6652\n",
            "Epoch 12/23\n",
            "25/25 [==============================] - 0s 18ms/step - loss: 0.7522\n",
            "Epoch 13/23\n",
            "25/25 [==============================] - 0s 18ms/step - loss: 0.7830\n",
            "Epoch 14/23\n",
            "25/25 [==============================] - 0s 17ms/step - loss: 0.6586\n",
            "Epoch 15/23\n",
            "25/25 [==============================] - 0s 18ms/step - loss: 0.6536\n",
            "Epoch 16/23\n",
            "25/25 [==============================] - 0s 18ms/step - loss: 0.6772\n",
            "Epoch 17/23\n",
            "25/25 [==============================] - 0s 18ms/step - loss: 0.6028\n",
            "Epoch 18/23\n",
            "25/25 [==============================] - 0s 18ms/step - loss: 0.6327\n",
            "Epoch 19/23\n",
            "25/25 [==============================] - 0s 18ms/step - loss: 0.7142\n",
            "Epoch 20/23\n",
            "25/25 [==============================] - 0s 18ms/step - loss: 0.8677\n",
            "Epoch 21/23\n",
            "25/25 [==============================] - 1s 20ms/step - loss: 0.7775\n",
            "Epoch 22/23\n",
            "25/25 [==============================] - 0s 19ms/step - loss: 0.6911\n",
            "Epoch 23/23\n",
            "25/25 [==============================] - 0s 19ms/step - loss: 0.8155\n",
            "Accuracy: 0.755\n"
          ],
          "name": "stdout"
        }
      ]
    },
    {
      "cell_type": "code",
      "metadata": {
        "id": "-3cLRjEcuarp",
        "colab": {
          "base_uri": "https://localhost:8080/"
        },
        "outputId": "a4f5c4b6-3a12-4c2c-8a1d-202204793223"
      },
      "source": [
        "# for the worst model: drouput=0.9 epochs=27 optimizer=SGD(learning_rate: 0.031045,accur_score=0.1), from previour running of three optimizer models\n",
        "model=built_CNN(0.9)\n",
        "sgd=tf.keras.optimizers.SGD(lr=0.031045)\n",
        "model.compile(loss='categorical_crossentropy', optimizer=sgd)\n",
        "model.fit(X_train, y_oh_train, batch_size=32, epochs=27)\n",
        "predictions = model.predict(X_test, batch_size=32)\n",
        "predictions = np.argmax(predictions, axis=1)\n",
        "print('Accuracy:', (predictions == y_test).sum() / predictions.shape[0])\n",
        "# accur=0.59"
      ],
      "execution_count": null,
      "outputs": [
        {
          "output_type": "stream",
          "text": [
            "Epoch 1/27\n",
            "25/25 [==============================] - 1s 19ms/step - loss: 2.7200\n",
            "Epoch 2/27\n",
            "25/25 [==============================] - 0s 19ms/step - loss: 2.2927\n",
            "Epoch 3/27\n",
            "25/25 [==============================] - 0s 18ms/step - loss: 2.2932\n",
            "Epoch 4/27\n",
            "25/25 [==============================] - 0s 18ms/step - loss: 2.2827\n",
            "Epoch 5/27\n",
            "25/25 [==============================] - 0s 18ms/step - loss: 2.2868\n",
            "Epoch 6/27\n",
            "25/25 [==============================] - 0s 18ms/step - loss: 2.2587\n",
            "Epoch 7/27\n",
            "25/25 [==============================] - 0s 18ms/step - loss: 2.2625\n",
            "Epoch 8/27\n",
            "25/25 [==============================] - 0s 18ms/step - loss: 2.2763\n",
            "Epoch 9/27\n",
            "25/25 [==============================] - 0s 18ms/step - loss: 2.2505\n",
            "Epoch 10/27\n",
            "25/25 [==============================] - 0s 19ms/step - loss: 2.2213\n",
            "Epoch 11/27\n",
            "25/25 [==============================] - 1s 20ms/step - loss: 2.2102\n",
            "Epoch 12/27\n",
            "25/25 [==============================] - 0s 19ms/step - loss: 2.2237\n",
            "Epoch 13/27\n",
            "25/25 [==============================] - 1s 20ms/step - loss: 2.2014\n",
            "Epoch 14/27\n",
            "25/25 [==============================] - 0s 19ms/step - loss: 2.1821\n",
            "Epoch 15/27\n",
            "25/25 [==============================] - 0s 18ms/step - loss: 2.1136\n",
            "Epoch 16/27\n",
            "25/25 [==============================] - 0s 19ms/step - loss: 2.0928\n",
            "Epoch 17/27\n",
            "25/25 [==============================] - 0s 18ms/step - loss: 2.1198\n",
            "Epoch 18/27\n",
            "25/25 [==============================] - 0s 19ms/step - loss: 2.0968\n",
            "Epoch 19/27\n",
            "25/25 [==============================] - 0s 19ms/step - loss: 2.0929\n",
            "Epoch 20/27\n",
            "25/25 [==============================] - 0s 19ms/step - loss: 2.1045\n",
            "Epoch 21/27\n",
            "25/25 [==============================] - 1s 20ms/step - loss: 1.9597\n",
            "Epoch 22/27\n",
            "25/25 [==============================] - 0s 19ms/step - loss: 1.9966\n",
            "Epoch 23/27\n",
            "25/25 [==============================] - 0s 18ms/step - loss: 1.9483\n",
            "Epoch 24/27\n",
            "25/25 [==============================] - 0s 18ms/step - loss: 1.9431\n",
            "Epoch 25/27\n",
            "25/25 [==============================] - 0s 18ms/step - loss: 1.9616\n",
            "Epoch 26/27\n",
            "25/25 [==============================] - 0s 19ms/step - loss: 1.9447\n",
            "Epoch 27/27\n",
            "25/25 [==============================] - 0s 18ms/step - loss: 1.9289\n",
            "Accuracy: 0.59\n"
          ],
          "name": "stdout"
        }
      ]
    },
    {
      "cell_type": "markdown",
      "metadata": {
        "id": "4RX1FzCSpZS9"
      },
      "source": [
        "# Question 4\n",
        "\n",
        "* **Results on the test set**. When doing this search for good model configuration/hyper-parameter values, the data set was split into *two* parts: a training set and a test set (the term \"validation\" was used interchangably wiht \"test\"). For your final model, is the performance (i.e. accuracy) on the test set representative for the performance one would expect on a previously unseen data set (drawn from the same distribution)? Why?\n",
        "\n",
        "    <span style=\"color:red\"> <**the unseen data, drawn from the same distribution, has the similar feature with validation. Thus, the performance for the best model is representative for unseen data,as we can see from the data in between 1000 and 1100 from data code**> </span>"
      ]
    },
    {
      "cell_type": "code",
      "metadata": {
        "id": "HRnsCvzHTpOS"
      },
      "source": [
        "#Question:Results on the test set--get the new data\n",
        "X, y = fetch_openml('mnist_784', version=1, return_X_y=True)\n",
        "X, y = X[1000:1100], y[1000:1100]\n",
        "X = X.reshape(X.shape[0], 28, 28, 1)\n",
        "# Normalize\n",
        "X = X / 255.\n",
        "# number of unique classes\n",
        "num_classes = len(np.unique(y))\n",
        "y = y.astype(int)\n",
        "num_tot = y.shape[0]\n",
        "y_oh = np.zeros((num_tot, num_classes))\n",
        "y_oh[range(num_tot), y] = 1"
      ],
      "execution_count": null,
      "outputs": []
    },
    {
      "cell_type": "code",
      "metadata": {
        "colab": {
          "base_uri": "https://localhost:8080/"
        },
        "id": "NXlAZOiCTe_D",
        "outputId": "be2227ec-5450-47da-e829-eda8b2e4140a"
      },
      "source": [
        "# for the best model\n",
        "model=built_CNN(0.5)\n",
        "RMSprop = tf.keras.optimizers.RMSprop(learning_rate=0.017378972480895958,rho=0.011239435767055977)\n",
        "model.compile(loss='categorical_crossentropy', optimizer=RMSprop)\n",
        "model.fit(X_train, y_oh_train, batch_size=32, epochs=15)\n",
        "predictions = model.predict(X, batch_size=32)\n",
        "predictions = np.argmax(predictions, axis=1)\n",
        "print('Accuracy:', (predictions == y).sum() / predictions.shape[0])\n",
        "#accur: 0.82"
      ],
      "execution_count": null,
      "outputs": [
        {
          "output_type": "stream",
          "text": [
            "Epoch 1/15\n",
            "25/25 [==============================] - 1s 19ms/step - loss: 2.3950\n",
            "Epoch 2/15\n",
            "25/25 [==============================] - 0s 18ms/step - loss: 0.9490\n",
            "Epoch 3/15\n",
            "25/25 [==============================] - 0s 18ms/step - loss: 0.7512\n",
            "Epoch 4/15\n",
            "25/25 [==============================] - 0s 17ms/step - loss: 0.6449\n",
            "Epoch 5/15\n",
            "25/25 [==============================] - 0s 18ms/step - loss: 0.6058\n",
            "Epoch 6/15\n",
            "25/25 [==============================] - 0s 18ms/step - loss: 0.7094\n",
            "Epoch 7/15\n",
            "25/25 [==============================] - 0s 18ms/step - loss: 0.6782\n",
            "Epoch 8/15\n",
            "25/25 [==============================] - 0s 17ms/step - loss: 0.7850\n",
            "Epoch 9/15\n",
            "25/25 [==============================] - 0s 18ms/step - loss: 0.6068\n",
            "Epoch 10/15\n",
            "25/25 [==============================] - 0s 18ms/step - loss: 0.6128\n",
            "Epoch 11/15\n",
            "25/25 [==============================] - 0s 18ms/step - loss: 0.7589\n",
            "Epoch 12/15\n",
            "25/25 [==============================] - 0s 19ms/step - loss: 0.6959\n",
            "Epoch 13/15\n",
            "25/25 [==============================] - 0s 18ms/step - loss: 0.6882\n",
            "Epoch 14/15\n",
            "25/25 [==============================] - 0s 18ms/step - loss: 0.9664\n",
            "Epoch 15/15\n",
            "25/25 [==============================] - 0s 19ms/step - loss: 0.7823\n",
            "Accuracy: 0.82\n"
          ],
          "name": "stdout"
        }
      ]
    },
    {
      "cell_type": "code",
      "metadata": {
        "colab": {
          "base_uri": "https://localhost:8080/"
        },
        "id": "spvDPJtiT_o8",
        "outputId": "d64519bc-d6d7-4f51-ad03-c9e0a1e16cff"
      },
      "source": [
        "# for the worst model: drouput=0.9 epochs=27 optimizer=SGD(learning_rate: 0.031045,accur_score=0.1), from previour running of three optimizer models\n",
        "model=built_CNN(0.9)\n",
        "sgd=tf.keras.optimizers.SGD(lr=0.031045)\n",
        "model.compile(loss='categorical_crossentropy', optimizer=sgd)\n",
        "model.fit(X_train, y_oh_train, batch_size=32, epochs=27)\n",
        "predictions = model.predict(X, batch_size=32)\n",
        "predictions = np.argmax(predictions, axis=1)\n",
        "print('Accuracy:', (predictions == y).sum() / predictions.shape[0])\n",
        "# accur=0.66"
      ],
      "execution_count": null,
      "outputs": [
        {
          "output_type": "stream",
          "text": [
            "Epoch 1/27\n",
            "25/25 [==============================] - 1s 17ms/step - loss: 2.5105\n",
            "Epoch 2/27\n",
            "25/25 [==============================] - 0s 17ms/step - loss: 2.2885\n",
            "Epoch 3/27\n",
            "25/25 [==============================] - 0s 18ms/step - loss: 2.2951\n",
            "Epoch 4/27\n",
            "25/25 [==============================] - 0s 17ms/step - loss: 2.2786\n",
            "Epoch 5/27\n",
            "25/25 [==============================] - 0s 18ms/step - loss: 2.2695\n",
            "Epoch 6/27\n",
            "25/25 [==============================] - 0s 18ms/step - loss: 2.2702\n",
            "Epoch 7/27\n",
            "25/25 [==============================] - 0s 19ms/step - loss: 2.2469\n",
            "Epoch 8/27\n",
            "25/25 [==============================] - 0s 18ms/step - loss: 2.2231\n",
            "Epoch 9/27\n",
            "25/25 [==============================] - 0s 17ms/step - loss: 2.2266\n",
            "Epoch 10/27\n",
            "25/25 [==============================] - 0s 18ms/step - loss: 2.1580\n",
            "Epoch 11/27\n",
            "25/25 [==============================] - 0s 17ms/step - loss: 2.1434\n",
            "Epoch 12/27\n",
            "25/25 [==============================] - 0s 18ms/step - loss: 2.1354\n",
            "Epoch 13/27\n",
            "25/25 [==============================] - 0s 18ms/step - loss: 2.0635\n",
            "Epoch 14/27\n",
            "25/25 [==============================] - 0s 18ms/step - loss: 2.1005\n",
            "Epoch 15/27\n",
            "25/25 [==============================] - 0s 18ms/step - loss: 1.9976\n",
            "Epoch 16/27\n",
            "25/25 [==============================] - 0s 18ms/step - loss: 1.9456\n",
            "Epoch 17/27\n",
            "25/25 [==============================] - 0s 18ms/step - loss: 1.9843\n",
            "Epoch 18/27\n",
            "25/25 [==============================] - 0s 17ms/step - loss: 1.9434\n",
            "Epoch 19/27\n",
            "25/25 [==============================] - 0s 19ms/step - loss: 1.9339\n",
            "Epoch 20/27\n",
            "25/25 [==============================] - 0s 18ms/step - loss: 1.9911\n",
            "Epoch 21/27\n",
            "25/25 [==============================] - 0s 19ms/step - loss: 1.8736\n",
            "Epoch 22/27\n",
            "25/25 [==============================] - 0s 19ms/step - loss: 1.9109\n",
            "Epoch 23/27\n",
            "25/25 [==============================] - 0s 20ms/step - loss: 1.8034\n",
            "Epoch 24/27\n",
            "25/25 [==============================] - 1s 20ms/step - loss: 1.7933\n",
            "Epoch 25/27\n",
            "25/25 [==============================] - 0s 20ms/step - loss: 1.8410\n",
            "Epoch 26/27\n",
            "25/25 [==============================] - 1s 23ms/step - loss: 1.7891\n",
            "Epoch 27/27\n",
            "25/25 [==============================] - 1s 24ms/step - loss: 1.6571\n",
            "Accuracy: 0.66\n"
          ],
          "name": "stdout"
        }
      ]
    }
  ]
}