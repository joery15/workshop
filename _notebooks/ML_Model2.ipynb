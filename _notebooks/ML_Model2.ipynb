{
  "nbformat": 4,
  "nbformat_minor": 0,
  "metadata": {
    "kernelspec": {
      "name": "python3",
      "display_name": "Python 3",
      "language": "python"
    },
    "language_info": {
      "name": "python",
      "version": "3.7.6",
      "mimetype": "text/x-python",
      "codemirror_mode": {
        "name": "ipython",
        "version": 3
      },
      "pygments_lexer": "ipython3",
      "nbconvert_exporter": "python",
      "file_extension": ".py"
    },
    "colab": {
      "name": "ML_Model2.ipynb",
      "provenance": []
    }
  },
  "cells": [
    {
      "cell_type": "markdown",
      "metadata": {
        "id": "Lk53hCxEVWv8"
      },
      "source": [
        "#0. Background Info\n",
        "\n",
        "kaggle's case:\n",
        "\n",
        "Titanic - Machine Learning from Disaster\n",
        "\n",
        "information link:https://www.kaggle.com/c/titanic/overview\n",
        "\n",
        "\n"
      ]
    },
    {
      "cell_type": "code",
      "metadata": {
        "trusted": true,
        "id": "tTDYDZtvM8aG"
      },
      "source": [
        "# import package\n",
        "import numpy as np \n",
        "import pandas as pd \n",
        "import matplotlib.pyplot as plt\n",
        "import seaborn as sns\n",
        "%matplotlib inline\n",
        "from sklearn.preprocessing import StandardScaler\n",
        "from sklearn.metrics import accuracy_score, f1_score,roc_auc_score\n",
        "from sklearn import tree\n",
        "from sklearn.model_selection import GridSearchCV, RandomizedSearchCV\n",
        "from sklearn.ensemble import RandomForestClassifier,GradientBoostingClassifier\n",
        "from sklearn.linear_model import LogisticRegression,SGDClassifier\n",
        "from sklearn.naive_bayes import GaussianNB\n",
        "from xgboost import XGBClassifier"
      ],
      "execution_count": 1,
      "outputs": []
    },
    {
      "cell_type": "markdown",
      "metadata": {
        "id": "Id9jeX7FM8aH"
      },
      "source": [
        "# 1. Load the data"
      ]
    },
    {
      "cell_type": "code",
      "metadata": {
        "trusted": true,
        "id": "wIihqDuLM8aH",
        "colab": {
          "base_uri": "https://localhost:8080/",
          "height": 255
        },
        "outputId": "252a46a1-741b-40d7-e908-e0b475f6b44e"
      },
      "source": [
        "#Load the data\n",
        "data1 = pd.read_csv(\"train.csv\")\n",
        "data2 = pd.read_csv(\"test.csv\")\n",
        "data3 = pd.read_csv(\"gender_submission.csv\")\n",
        "data4=pd.merge(data3,data2)\n",
        "data=pd.concat([data1,data4],axis=0)\n",
        "data=data.reset_index()\n",
        "data.head()"
      ],
      "execution_count": 2,
      "outputs": [
        {
          "output_type": "execute_result",
          "data": {
            "text/html": [
              "<div>\n",
              "<style scoped>\n",
              "    .dataframe tbody tr th:only-of-type {\n",
              "        vertical-align: middle;\n",
              "    }\n",
              "\n",
              "    .dataframe tbody tr th {\n",
              "        vertical-align: top;\n",
              "    }\n",
              "\n",
              "    .dataframe thead th {\n",
              "        text-align: right;\n",
              "    }\n",
              "</style>\n",
              "<table border=\"1\" class=\"dataframe\">\n",
              "  <thead>\n",
              "    <tr style=\"text-align: right;\">\n",
              "      <th></th>\n",
              "      <th>index</th>\n",
              "      <th>PassengerId</th>\n",
              "      <th>Survived</th>\n",
              "      <th>Pclass</th>\n",
              "      <th>Name</th>\n",
              "      <th>Sex</th>\n",
              "      <th>Age</th>\n",
              "      <th>SibSp</th>\n",
              "      <th>Parch</th>\n",
              "      <th>Ticket</th>\n",
              "      <th>Fare</th>\n",
              "      <th>Cabin</th>\n",
              "      <th>Embarked</th>\n",
              "    </tr>\n",
              "  </thead>\n",
              "  <tbody>\n",
              "    <tr>\n",
              "      <th>0</th>\n",
              "      <td>0</td>\n",
              "      <td>1</td>\n",
              "      <td>0</td>\n",
              "      <td>3</td>\n",
              "      <td>Braund, Mr. Owen Harris</td>\n",
              "      <td>male</td>\n",
              "      <td>22.0</td>\n",
              "      <td>1</td>\n",
              "      <td>0</td>\n",
              "      <td>A/5 21171</td>\n",
              "      <td>7.2500</td>\n",
              "      <td>NaN</td>\n",
              "      <td>S</td>\n",
              "    </tr>\n",
              "    <tr>\n",
              "      <th>1</th>\n",
              "      <td>1</td>\n",
              "      <td>2</td>\n",
              "      <td>1</td>\n",
              "      <td>1</td>\n",
              "      <td>Cumings, Mrs. John Bradley (Florence Briggs Th...</td>\n",
              "      <td>female</td>\n",
              "      <td>38.0</td>\n",
              "      <td>1</td>\n",
              "      <td>0</td>\n",
              "      <td>PC 17599</td>\n",
              "      <td>71.2833</td>\n",
              "      <td>C85</td>\n",
              "      <td>C</td>\n",
              "    </tr>\n",
              "    <tr>\n",
              "      <th>2</th>\n",
              "      <td>2</td>\n",
              "      <td>3</td>\n",
              "      <td>1</td>\n",
              "      <td>3</td>\n",
              "      <td>Heikkinen, Miss. Laina</td>\n",
              "      <td>female</td>\n",
              "      <td>26.0</td>\n",
              "      <td>0</td>\n",
              "      <td>0</td>\n",
              "      <td>STON/O2. 3101282</td>\n",
              "      <td>7.9250</td>\n",
              "      <td>NaN</td>\n",
              "      <td>S</td>\n",
              "    </tr>\n",
              "    <tr>\n",
              "      <th>3</th>\n",
              "      <td>3</td>\n",
              "      <td>4</td>\n",
              "      <td>1</td>\n",
              "      <td>1</td>\n",
              "      <td>Futrelle, Mrs. Jacques Heath (Lily May Peel)</td>\n",
              "      <td>female</td>\n",
              "      <td>35.0</td>\n",
              "      <td>1</td>\n",
              "      <td>0</td>\n",
              "      <td>113803</td>\n",
              "      <td>53.1000</td>\n",
              "      <td>C123</td>\n",
              "      <td>S</td>\n",
              "    </tr>\n",
              "    <tr>\n",
              "      <th>4</th>\n",
              "      <td>4</td>\n",
              "      <td>5</td>\n",
              "      <td>0</td>\n",
              "      <td>3</td>\n",
              "      <td>Allen, Mr. William Henry</td>\n",
              "      <td>male</td>\n",
              "      <td>35.0</td>\n",
              "      <td>0</td>\n",
              "      <td>0</td>\n",
              "      <td>373450</td>\n",
              "      <td>8.0500</td>\n",
              "      <td>NaN</td>\n",
              "      <td>S</td>\n",
              "    </tr>\n",
              "  </tbody>\n",
              "</table>\n",
              "</div>"
            ],
            "text/plain": [
              "   index  PassengerId  Survived  ...     Fare Cabin Embarked\n",
              "0      0            1         0  ...   7.2500   NaN        S\n",
              "1      1            2         1  ...  71.2833   C85        C\n",
              "2      2            3         1  ...   7.9250   NaN        S\n",
              "3      3            4         1  ...  53.1000  C123        S\n",
              "4      4            5         0  ...   8.0500   NaN        S\n",
              "\n",
              "[5 rows x 13 columns]"
            ]
          },
          "metadata": {
            "tags": []
          },
          "execution_count": 2
        }
      ]
    },
    {
      "cell_type": "markdown",
      "metadata": {
        "id": "QYJ-jp8iM8aI"
      },
      "source": [
        "# 2. Pre-process the data (aka data wrangling)"
      ]
    },
    {
      "cell_type": "markdown",
      "metadata": {
        "id": "MppyzST-M8aI"
      },
      "source": [
        "1, Data cleanning"
      ]
    },
    {
      "cell_type": "code",
      "metadata": {
        "trusted": true,
        "id": "hlv1fLs7M8aI",
        "colab": {
          "base_uri": "https://localhost:8080/",
          "height": 204
        },
        "outputId": "b73aa0a0-5d01-4af3-fe1b-f481d8ee46b8"
      },
      "source": [
        "# drop the unrelated columns\n",
        "data.drop(['PassengerId','Cabin','Ticket'],axis=1,inplace=True)\n",
        "data.head()"
      ],
      "execution_count": 3,
      "outputs": [
        {
          "output_type": "execute_result",
          "data": {
            "text/html": [
              "<div>\n",
              "<style scoped>\n",
              "    .dataframe tbody tr th:only-of-type {\n",
              "        vertical-align: middle;\n",
              "    }\n",
              "\n",
              "    .dataframe tbody tr th {\n",
              "        vertical-align: top;\n",
              "    }\n",
              "\n",
              "    .dataframe thead th {\n",
              "        text-align: right;\n",
              "    }\n",
              "</style>\n",
              "<table border=\"1\" class=\"dataframe\">\n",
              "  <thead>\n",
              "    <tr style=\"text-align: right;\">\n",
              "      <th></th>\n",
              "      <th>index</th>\n",
              "      <th>Survived</th>\n",
              "      <th>Pclass</th>\n",
              "      <th>Name</th>\n",
              "      <th>Sex</th>\n",
              "      <th>Age</th>\n",
              "      <th>SibSp</th>\n",
              "      <th>Parch</th>\n",
              "      <th>Fare</th>\n",
              "      <th>Embarked</th>\n",
              "    </tr>\n",
              "  </thead>\n",
              "  <tbody>\n",
              "    <tr>\n",
              "      <th>0</th>\n",
              "      <td>0</td>\n",
              "      <td>0</td>\n",
              "      <td>3</td>\n",
              "      <td>Braund, Mr. Owen Harris</td>\n",
              "      <td>male</td>\n",
              "      <td>22.0</td>\n",
              "      <td>1</td>\n",
              "      <td>0</td>\n",
              "      <td>7.2500</td>\n",
              "      <td>S</td>\n",
              "    </tr>\n",
              "    <tr>\n",
              "      <th>1</th>\n",
              "      <td>1</td>\n",
              "      <td>1</td>\n",
              "      <td>1</td>\n",
              "      <td>Cumings, Mrs. John Bradley (Florence Briggs Th...</td>\n",
              "      <td>female</td>\n",
              "      <td>38.0</td>\n",
              "      <td>1</td>\n",
              "      <td>0</td>\n",
              "      <td>71.2833</td>\n",
              "      <td>C</td>\n",
              "    </tr>\n",
              "    <tr>\n",
              "      <th>2</th>\n",
              "      <td>2</td>\n",
              "      <td>1</td>\n",
              "      <td>3</td>\n",
              "      <td>Heikkinen, Miss. Laina</td>\n",
              "      <td>female</td>\n",
              "      <td>26.0</td>\n",
              "      <td>0</td>\n",
              "      <td>0</td>\n",
              "      <td>7.9250</td>\n",
              "      <td>S</td>\n",
              "    </tr>\n",
              "    <tr>\n",
              "      <th>3</th>\n",
              "      <td>3</td>\n",
              "      <td>1</td>\n",
              "      <td>1</td>\n",
              "      <td>Futrelle, Mrs. Jacques Heath (Lily May Peel)</td>\n",
              "      <td>female</td>\n",
              "      <td>35.0</td>\n",
              "      <td>1</td>\n",
              "      <td>0</td>\n",
              "      <td>53.1000</td>\n",
              "      <td>S</td>\n",
              "    </tr>\n",
              "    <tr>\n",
              "      <th>4</th>\n",
              "      <td>4</td>\n",
              "      <td>0</td>\n",
              "      <td>3</td>\n",
              "      <td>Allen, Mr. William Henry</td>\n",
              "      <td>male</td>\n",
              "      <td>35.0</td>\n",
              "      <td>0</td>\n",
              "      <td>0</td>\n",
              "      <td>8.0500</td>\n",
              "      <td>S</td>\n",
              "    </tr>\n",
              "  </tbody>\n",
              "</table>\n",
              "</div>"
            ],
            "text/plain": [
              "   index  Survived  Pclass  ... Parch     Fare  Embarked\n",
              "0      0         0       3  ...     0   7.2500         S\n",
              "1      1         1       1  ...     0  71.2833         C\n",
              "2      2         1       3  ...     0   7.9250         S\n",
              "3      3         1       1  ...     0  53.1000         S\n",
              "4      4         0       3  ...     0   8.0500         S\n",
              "\n",
              "[5 rows x 10 columns]"
            ]
          },
          "metadata": {
            "tags": []
          },
          "execution_count": 3
        }
      ]
    },
    {
      "cell_type": "markdown",
      "metadata": {
        "id": "liIrEr0wM8aJ"
      },
      "source": [
        "2, Identification and treatment of missing values and outliers."
      ]
    },
    {
      "cell_type": "code",
      "metadata": {
        "trusted": true,
        "id": "g558dg4IM8aJ",
        "colab": {
          "base_uri": "https://localhost:8080/"
        },
        "outputId": "f746f5dd-284a-4969-9e35-82446533c948"
      },
      "source": [
        "# find the missing value\n",
        "data.isnull().sum()"
      ],
      "execution_count": 4,
      "outputs": [
        {
          "output_type": "execute_result",
          "data": {
            "text/plain": [
              "index         0\n",
              "Survived      0\n",
              "Pclass        0\n",
              "Name          0\n",
              "Sex           0\n",
              "Age         263\n",
              "SibSp         0\n",
              "Parch         0\n",
              "Fare          1\n",
              "Embarked      2\n",
              "dtype: int64"
            ]
          },
          "metadata": {
            "tags": []
          },
          "execution_count": 4
        }
      ]
    },
    {
      "cell_type": "code",
      "metadata": {
        "trusted": true,
        "id": "hKXc6D0IM8aJ",
        "colab": {
          "base_uri": "https://localhost:8080/",
          "height": 111
        },
        "outputId": "dc4e55a5-be78-421e-d33e-3ceadb8d814c"
      },
      "source": [
        "#Find the null value in Fare catergory and fill with mean value\n",
        "data[data['Embarked'].isnull()]"
      ],
      "execution_count": 5,
      "outputs": [
        {
          "output_type": "execute_result",
          "data": {
            "text/html": [
              "<div>\n",
              "<style scoped>\n",
              "    .dataframe tbody tr th:only-of-type {\n",
              "        vertical-align: middle;\n",
              "    }\n",
              "\n",
              "    .dataframe tbody tr th {\n",
              "        vertical-align: top;\n",
              "    }\n",
              "\n",
              "    .dataframe thead th {\n",
              "        text-align: right;\n",
              "    }\n",
              "</style>\n",
              "<table border=\"1\" class=\"dataframe\">\n",
              "  <thead>\n",
              "    <tr style=\"text-align: right;\">\n",
              "      <th></th>\n",
              "      <th>index</th>\n",
              "      <th>Survived</th>\n",
              "      <th>Pclass</th>\n",
              "      <th>Name</th>\n",
              "      <th>Sex</th>\n",
              "      <th>Age</th>\n",
              "      <th>SibSp</th>\n",
              "      <th>Parch</th>\n",
              "      <th>Fare</th>\n",
              "      <th>Embarked</th>\n",
              "    </tr>\n",
              "  </thead>\n",
              "  <tbody>\n",
              "    <tr>\n",
              "      <th>61</th>\n",
              "      <td>61</td>\n",
              "      <td>1</td>\n",
              "      <td>1</td>\n",
              "      <td>Icard, Miss. Amelie</td>\n",
              "      <td>female</td>\n",
              "      <td>38.0</td>\n",
              "      <td>0</td>\n",
              "      <td>0</td>\n",
              "      <td>80.0</td>\n",
              "      <td>NaN</td>\n",
              "    </tr>\n",
              "    <tr>\n",
              "      <th>829</th>\n",
              "      <td>829</td>\n",
              "      <td>1</td>\n",
              "      <td>1</td>\n",
              "      <td>Stone, Mrs. George Nelson (Martha Evelyn)</td>\n",
              "      <td>female</td>\n",
              "      <td>62.0</td>\n",
              "      <td>0</td>\n",
              "      <td>0</td>\n",
              "      <td>80.0</td>\n",
              "      <td>NaN</td>\n",
              "    </tr>\n",
              "  </tbody>\n",
              "</table>\n",
              "</div>"
            ],
            "text/plain": [
              "     index  Survived  Pclass  ... Parch  Fare  Embarked\n",
              "61      61         1       1  ...     0  80.0       NaN\n",
              "829    829         1       1  ...     0  80.0       NaN\n",
              "\n",
              "[2 rows x 10 columns]"
            ]
          },
          "metadata": {
            "tags": []
          },
          "execution_count": 5
        }
      ]
    },
    {
      "cell_type": "code",
      "metadata": {
        "trusted": true,
        "id": "iIygj5XEM8aK"
      },
      "source": [
        "# Miss. Amelie and Mrs. George Nelson was embarked with 'S',since the search from \n",
        "#https://www.encyclopedia-titanica.org/titanic-survivor/martha-evelyn-stone.html\n",
        "data['Embarked'] = data['Embarked'].fillna('S')"
      ],
      "execution_count": 6,
      "outputs": []
    },
    {
      "cell_type": "code",
      "metadata": {
        "trusted": true,
        "id": "C65bCix1M8aK",
        "colab": {
          "base_uri": "https://localhost:8080/",
          "height": 266
        },
        "outputId": "51718e0c-e184-49ff-ce4d-50e0fdf003f8"
      },
      "source": [
        "data.corr()"
      ],
      "execution_count": 7,
      "outputs": [
        {
          "output_type": "execute_result",
          "data": {
            "text/html": [
              "<div>\n",
              "<style scoped>\n",
              "    .dataframe tbody tr th:only-of-type {\n",
              "        vertical-align: middle;\n",
              "    }\n",
              "\n",
              "    .dataframe tbody tr th {\n",
              "        vertical-align: top;\n",
              "    }\n",
              "\n",
              "    .dataframe thead th {\n",
              "        text-align: right;\n",
              "    }\n",
              "</style>\n",
              "<table border=\"1\" class=\"dataframe\">\n",
              "  <thead>\n",
              "    <tr style=\"text-align: right;\">\n",
              "      <th></th>\n",
              "      <th>index</th>\n",
              "      <th>Survived</th>\n",
              "      <th>Pclass</th>\n",
              "      <th>Age</th>\n",
              "      <th>SibSp</th>\n",
              "      <th>Parch</th>\n",
              "      <th>Fare</th>\n",
              "    </tr>\n",
              "  </thead>\n",
              "  <tbody>\n",
              "    <tr>\n",
              "      <th>index</th>\n",
              "      <td>1.000000</td>\n",
              "      <td>0.001504</td>\n",
              "      <td>-0.018212</td>\n",
              "      <td>0.012723</td>\n",
              "      <td>-0.027343</td>\n",
              "      <td>0.003911</td>\n",
              "      <td>-0.003723</td>\n",
              "    </tr>\n",
              "    <tr>\n",
              "      <th>Survived</th>\n",
              "      <td>0.001504</td>\n",
              "      <td>1.000000</td>\n",
              "      <td>-0.264710</td>\n",
              "      <td>-0.053695</td>\n",
              "      <td>0.002370</td>\n",
              "      <td>0.108919</td>\n",
              "      <td>0.233622</td>\n",
              "    </tr>\n",
              "    <tr>\n",
              "      <th>Pclass</th>\n",
              "      <td>-0.018212</td>\n",
              "      <td>-0.264710</td>\n",
              "      <td>1.000000</td>\n",
              "      <td>-0.408106</td>\n",
              "      <td>0.060832</td>\n",
              "      <td>0.018322</td>\n",
              "      <td>-0.558629</td>\n",
              "    </tr>\n",
              "    <tr>\n",
              "      <th>Age</th>\n",
              "      <td>0.012723</td>\n",
              "      <td>-0.053695</td>\n",
              "      <td>-0.408106</td>\n",
              "      <td>1.000000</td>\n",
              "      <td>-0.243699</td>\n",
              "      <td>-0.150917</td>\n",
              "      <td>0.178740</td>\n",
              "    </tr>\n",
              "    <tr>\n",
              "      <th>SibSp</th>\n",
              "      <td>-0.027343</td>\n",
              "      <td>0.002370</td>\n",
              "      <td>0.060832</td>\n",
              "      <td>-0.243699</td>\n",
              "      <td>1.000000</td>\n",
              "      <td>0.373587</td>\n",
              "      <td>0.160238</td>\n",
              "    </tr>\n",
              "    <tr>\n",
              "      <th>Parch</th>\n",
              "      <td>0.003911</td>\n",
              "      <td>0.108919</td>\n",
              "      <td>0.018322</td>\n",
              "      <td>-0.150917</td>\n",
              "      <td>0.373587</td>\n",
              "      <td>1.000000</td>\n",
              "      <td>0.221539</td>\n",
              "    </tr>\n",
              "    <tr>\n",
              "      <th>Fare</th>\n",
              "      <td>-0.003723</td>\n",
              "      <td>0.233622</td>\n",
              "      <td>-0.558629</td>\n",
              "      <td>0.178740</td>\n",
              "      <td>0.160238</td>\n",
              "      <td>0.221539</td>\n",
              "      <td>1.000000</td>\n",
              "    </tr>\n",
              "  </tbody>\n",
              "</table>\n",
              "</div>"
            ],
            "text/plain": [
              "             index  Survived    Pclass       Age     SibSp     Parch      Fare\n",
              "index     1.000000  0.001504 -0.018212  0.012723 -0.027343  0.003911 -0.003723\n",
              "Survived  0.001504  1.000000 -0.264710 -0.053695  0.002370  0.108919  0.233622\n",
              "Pclass   -0.018212 -0.264710  1.000000 -0.408106  0.060832  0.018322 -0.558629\n",
              "Age       0.012723 -0.053695 -0.408106  1.000000 -0.243699 -0.150917  0.178740\n",
              "SibSp    -0.027343  0.002370  0.060832 -0.243699  1.000000  0.373587  0.160238\n",
              "Parch     0.003911  0.108919  0.018322 -0.150917  0.373587  1.000000  0.221539\n",
              "Fare     -0.003723  0.233622 -0.558629  0.178740  0.160238  0.221539  1.000000"
            ]
          },
          "metadata": {
            "tags": []
          },
          "execution_count": 7
        }
      ]
    },
    {
      "cell_type": "code",
      "metadata": {
        "trusted": true,
        "id": "zB_9JhN-M8aL",
        "colab": {
          "base_uri": "https://localhost:8080/",
          "height": 80
        },
        "outputId": "821524bf-e8cd-4223-cf28-11682174f466"
      },
      "source": [
        "# find the missing value in fare column\n",
        "data[data['Fare'].isnull()]"
      ],
      "execution_count": 8,
      "outputs": [
        {
          "output_type": "execute_result",
          "data": {
            "text/html": [
              "<div>\n",
              "<style scoped>\n",
              "    .dataframe tbody tr th:only-of-type {\n",
              "        vertical-align: middle;\n",
              "    }\n",
              "\n",
              "    .dataframe tbody tr th {\n",
              "        vertical-align: top;\n",
              "    }\n",
              "\n",
              "    .dataframe thead th {\n",
              "        text-align: right;\n",
              "    }\n",
              "</style>\n",
              "<table border=\"1\" class=\"dataframe\">\n",
              "  <thead>\n",
              "    <tr style=\"text-align: right;\">\n",
              "      <th></th>\n",
              "      <th>index</th>\n",
              "      <th>Survived</th>\n",
              "      <th>Pclass</th>\n",
              "      <th>Name</th>\n",
              "      <th>Sex</th>\n",
              "      <th>Age</th>\n",
              "      <th>SibSp</th>\n",
              "      <th>Parch</th>\n",
              "      <th>Fare</th>\n",
              "      <th>Embarked</th>\n",
              "    </tr>\n",
              "  </thead>\n",
              "  <tbody>\n",
              "    <tr>\n",
              "      <th>1043</th>\n",
              "      <td>152</td>\n",
              "      <td>0</td>\n",
              "      <td>3</td>\n",
              "      <td>Storey, Mr. Thomas</td>\n",
              "      <td>male</td>\n",
              "      <td>60.5</td>\n",
              "      <td>0</td>\n",
              "      <td>0</td>\n",
              "      <td>NaN</td>\n",
              "      <td>S</td>\n",
              "    </tr>\n",
              "  </tbody>\n",
              "</table>\n",
              "</div>"
            ],
            "text/plain": [
              "      index  Survived  Pclass                Name  ... SibSp  Parch  Fare  Embarked\n",
              "1043    152         0       3  Storey, Mr. Thomas  ...     0      0   NaN         S\n",
              "\n",
              "[1 rows x 10 columns]"
            ]
          },
          "metadata": {
            "tags": []
          },
          "execution_count": 8
        }
      ]
    },
    {
      "cell_type": "code",
      "metadata": {
        "trusted": true,
        "id": "QHEZF0ALM8aM"
      },
      "source": [
        "#fill NA value within \"Fare\" column\n",
        "data['Fare'] = data['Fare'].fillna(data.groupby(['Pclass'])['Fare'].mean()[3])"
      ],
      "execution_count": 9,
      "outputs": []
    },
    {
      "cell_type": "code",
      "metadata": {
        "trusted": true,
        "id": "wEDpgfG9M8aM"
      },
      "source": [
        "# Since ['age'] has no large empty value,\n",
        "#so fill the age with mean value\n",
        "data['Age'].fillna(data['Age'].mean(), inplace = True)"
      ],
      "execution_count": 10,
      "outputs": []
    },
    {
      "cell_type": "code",
      "metadata": {
        "trusted": true,
        "id": "H05pUodQM8aM",
        "colab": {
          "base_uri": "https://localhost:8080/",
          "height": 297
        },
        "outputId": "8455b6b1-f86c-475f-b0f7-e70038e77aee"
      },
      "source": [
        "# Check each numerical,compare the mean,max,min\n",
        "data.describe()"
      ],
      "execution_count": 11,
      "outputs": [
        {
          "output_type": "execute_result",
          "data": {
            "text/html": [
              "<div>\n",
              "<style scoped>\n",
              "    .dataframe tbody tr th:only-of-type {\n",
              "        vertical-align: middle;\n",
              "    }\n",
              "\n",
              "    .dataframe tbody tr th {\n",
              "        vertical-align: top;\n",
              "    }\n",
              "\n",
              "    .dataframe thead th {\n",
              "        text-align: right;\n",
              "    }\n",
              "</style>\n",
              "<table border=\"1\" class=\"dataframe\">\n",
              "  <thead>\n",
              "    <tr style=\"text-align: right;\">\n",
              "      <th></th>\n",
              "      <th>index</th>\n",
              "      <th>Survived</th>\n",
              "      <th>Pclass</th>\n",
              "      <th>Age</th>\n",
              "      <th>SibSp</th>\n",
              "      <th>Parch</th>\n",
              "      <th>Fare</th>\n",
              "    </tr>\n",
              "  </thead>\n",
              "  <tbody>\n",
              "    <tr>\n",
              "      <th>count</th>\n",
              "      <td>1309.000000</td>\n",
              "      <td>1309.000000</td>\n",
              "      <td>1309.000000</td>\n",
              "      <td>1309.000000</td>\n",
              "      <td>1309.000000</td>\n",
              "      <td>1309.000000</td>\n",
              "      <td>1309.000000</td>\n",
              "    </tr>\n",
              "    <tr>\n",
              "      <th>mean</th>\n",
              "      <td>369.478992</td>\n",
              "      <td>0.377387</td>\n",
              "      <td>2.294882</td>\n",
              "      <td>29.881138</td>\n",
              "      <td>0.498854</td>\n",
              "      <td>0.385027</td>\n",
              "      <td>33.280206</td>\n",
              "    </tr>\n",
              "    <tr>\n",
              "      <th>std</th>\n",
              "      <td>248.767105</td>\n",
              "      <td>0.484918</td>\n",
              "      <td>0.837836</td>\n",
              "      <td>12.883193</td>\n",
              "      <td>1.041658</td>\n",
              "      <td>0.865560</td>\n",
              "      <td>51.741830</td>\n",
              "    </tr>\n",
              "    <tr>\n",
              "      <th>min</th>\n",
              "      <td>0.000000</td>\n",
              "      <td>0.000000</td>\n",
              "      <td>1.000000</td>\n",
              "      <td>0.170000</td>\n",
              "      <td>0.000000</td>\n",
              "      <td>0.000000</td>\n",
              "      <td>0.000000</td>\n",
              "    </tr>\n",
              "    <tr>\n",
              "      <th>25%</th>\n",
              "      <td>163.000000</td>\n",
              "      <td>0.000000</td>\n",
              "      <td>2.000000</td>\n",
              "      <td>22.000000</td>\n",
              "      <td>0.000000</td>\n",
              "      <td>0.000000</td>\n",
              "      <td>7.895800</td>\n",
              "    </tr>\n",
              "    <tr>\n",
              "      <th>50%</th>\n",
              "      <td>327.000000</td>\n",
              "      <td>0.000000</td>\n",
              "      <td>3.000000</td>\n",
              "      <td>29.881138</td>\n",
              "      <td>0.000000</td>\n",
              "      <td>0.000000</td>\n",
              "      <td>14.454200</td>\n",
              "    </tr>\n",
              "    <tr>\n",
              "      <th>75%</th>\n",
              "      <td>563.000000</td>\n",
              "      <td>1.000000</td>\n",
              "      <td>3.000000</td>\n",
              "      <td>35.000000</td>\n",
              "      <td>1.000000</td>\n",
              "      <td>0.000000</td>\n",
              "      <td>31.275000</td>\n",
              "    </tr>\n",
              "    <tr>\n",
              "      <th>max</th>\n",
              "      <td>890.000000</td>\n",
              "      <td>1.000000</td>\n",
              "      <td>3.000000</td>\n",
              "      <td>80.000000</td>\n",
              "      <td>8.000000</td>\n",
              "      <td>9.000000</td>\n",
              "      <td>512.329200</td>\n",
              "    </tr>\n",
              "  </tbody>\n",
              "</table>\n",
              "</div>"
            ],
            "text/plain": [
              "             index     Survived  ...        Parch         Fare\n",
              "count  1309.000000  1309.000000  ...  1309.000000  1309.000000\n",
              "mean    369.478992     0.377387  ...     0.385027    33.280206\n",
              "std     248.767105     0.484918  ...     0.865560    51.741830\n",
              "min       0.000000     0.000000  ...     0.000000     0.000000\n",
              "25%     163.000000     0.000000  ...     0.000000     7.895800\n",
              "50%     327.000000     0.000000  ...     0.000000    14.454200\n",
              "75%     563.000000     1.000000  ...     0.000000    31.275000\n",
              "max     890.000000     1.000000  ...     9.000000   512.329200\n",
              "\n",
              "[8 rows x 7 columns]"
            ]
          },
          "metadata": {
            "tags": []
          },
          "execution_count": 11
        }
      ]
    },
    {
      "cell_type": "code",
      "metadata": {
        "trusted": true,
        "id": "bvECYDvTM8aN",
        "colab": {
          "base_uri": "https://localhost:8080/",
          "height": 296
        },
        "outputId": "f53fcaf4-39c6-4d32-9f8c-260afce35296"
      },
      "source": [
        "# for the descibe table, the fare have the outlier more 400\n",
        "sns.boxplot(x=\"Survived\", y=\"Fare\", data=data)"
      ],
      "execution_count": 12,
      "outputs": [
        {
          "output_type": "execute_result",
          "data": {
            "text/plain": [
              "<matplotlib.axes._subplots.AxesSubplot at 0x7f450096a080>"
            ]
          },
          "metadata": {
            "tags": []
          },
          "execution_count": 12
        },
        {
          "output_type": "display_data",
          "data": {
            "image/png": "[encoded data removed]",
            "text/plain": [
              "<Figure size 432x288 with 1 Axes>"
            ]
          },
          "metadata": {
            "tags": [],
            "needs_background": "light"
          }
        }
      ]
    },
    {
      "cell_type": "code",
      "metadata": {
        "trusted": true,
        "id": "z-h2bNwyM8aO"
      },
      "source": [
        "# Remove the outlier of Fare with more than 400\n",
        "data.drop(data[data.Fare > 400].index, inplace=True)"
      ],
      "execution_count": 13,
      "outputs": []
    },
    {
      "cell_type": "markdown",
      "metadata": {
        "id": "lvWyRZ7TM8aO"
      },
      "source": [
        "3, Feature engineering\n"
      ]
    },
    {
      "cell_type": "code",
      "metadata": {
        "trusted": true,
        "id": "qzSklN2OM8aO"
      },
      "source": [
        "# encoding the sex (categorical variable)\n",
        "table1=pd.get_dummies(data['Sex'])\n",
        "data=pd.concat([data, table1], axis=1)"
      ],
      "execution_count": 14,
      "outputs": []
    },
    {
      "cell_type": "code",
      "metadata": {
        "trusted": true,
        "id": "mQwQa0BbM8aO"
      },
      "source": [
        "# encoding the embarked (categorical variable)\n",
        "table2=pd.get_dummies(data['Embarked'])\n",
        "data=pd.concat([data, table2], axis=1)"
      ],
      "execution_count": 15,
      "outputs": []
    },
    {
      "cell_type": "markdown",
      "metadata": {
        "id": "ebP6BDhlM8aP"
      },
      "source": [
        "# 3. Exploratory data analysis."
      ]
    },
    {
      "cell_type": "markdown",
      "metadata": {
        "id": "PJ8EYOnCM8aP"
      },
      "source": [
        "1, At least two plots describing different aspects of the data set (e.g. identifying outliers, histograms of different distributions, or scatter plots to explore correlations)."
      ]
    },
    {
      "cell_type": "code",
      "metadata": {
        "trusted": true,
        "id": "Iw_AVt-iM8aP",
        "colab": {
          "base_uri": "https://localhost:8080/",
          "height": 456
        },
        "outputId": "f7d6bd6c-fdca-45ad-deb0-8bced428ca40"
      },
      "source": [
        "# heatmap for correlations\n",
        "table3=data.drop(['Name','Sex','Embarked'],axis=1)\n",
        "plt.figure(figsize=(8,8))\n",
        "sns.heatmap(table3.astype(float).corr(), mask=np.triu(table3.astype(float).corr()), cmap = sns.diverging_palette(230, 20, as_cmap=True), annot=True, fmt='.1g', square=True, linewidths=.5, cbar_kws={\"shrink\": .5})"
      ],
      "execution_count": 16,
      "outputs": [
        {
          "output_type": "execute_result",
          "data": {
            "text/plain": [
              "<matplotlib.axes._subplots.AxesSubplot at 0x7f4500430358>"
            ]
          },
          "metadata": {
            "tags": []
          },
          "execution_count": 16
        },
        {
          "output_type": "display_data",
          "data": {
            "image/png": "[encoded data removed]",
            "text/plain": [
              "<Figure size 576x576 with 2 Axes>"
            ]
          },
          "metadata": {
            "tags": [],
            "needs_background": "light"
          }
        }
      ]
    },
    {
      "cell_type": "code",
      "metadata": {
        "trusted": true,
        "id": "khPs6xN1M8aQ",
        "colab": {
          "base_uri": "https://localhost:8080/",
          "height": 298
        },
        "outputId": "85e84055-55b8-4d8c-c9e5-72de81af635a"
      },
      "source": [
        "#the relationship between survival and categorical datad catergircal data(sex,Embarked)\n",
        "sns.pointplot(x=\"Embarked\", y=\"Survived\", hue=\"Sex\", kind=\"box\", data=data,palette=\"Set3\")"
      ],
      "execution_count": 17,
      "outputs": [
        {
          "output_type": "execute_result",
          "data": {
            "text/plain": [
              "<matplotlib.axes._subplots.AxesSubplot at 0x7f4500422630>"
            ]
          },
          "metadata": {
            "tags": []
          },
          "execution_count": 17
        },
        {
          "output_type": "display_data",
          "data": {
            "image/png": "[encoded data removed]",
            "text/plain": [
              "<Figure size 432x288 with 1 Axes>"
            ]
          },
          "metadata": {
            "tags": [],
            "needs_background": "light"
          }
        }
      ]
    },
    {
      "cell_type": "markdown",
      "metadata": {
        "id": "hhYYwLfGM8aQ"
      },
      "source": [
        "2, Print a basic data description (e.g. number of examples, number features, number of examples in each class and such)."
      ]
    },
    {
      "cell_type": "code",
      "metadata": {
        "trusted": true,
        "id": "gIrxMy-DM8aQ",
        "colab": {
          "base_uri": "https://localhost:8080/"
        },
        "outputId": "73239bd0-d0d2-4497-8108-c23e3913b750"
      },
      "source": [
        "data.info()"
      ],
      "execution_count": 18,
      "outputs": [
        {
          "output_type": "stream",
          "text": [
            "<class 'pandas.core.frame.DataFrame'>\n",
            "Int64Index: 1305 entries, 0 to 1308\n",
            "Data columns (total 15 columns):\n",
            " #   Column    Non-Null Count  Dtype  \n",
            "---  ------    --------------  -----  \n",
            " 0   index     1305 non-null   int64  \n",
            " 1   Survived  1305 non-null   int64  \n",
            " 2   Pclass    1305 non-null   int64  \n",
            " 3   Name      1305 non-null   object \n",
            " 4   Sex       1305 non-null   object \n",
            " 5   Age       1305 non-null   float64\n",
            " 6   SibSp     1305 non-null   int64  \n",
            " 7   Parch     1305 non-null   int64  \n",
            " 8   Fare      1305 non-null   float64\n",
            " 9   Embarked  1305 non-null   object \n",
            " 10  female    1305 non-null   uint8  \n",
            " 11  male      1305 non-null   uint8  \n",
            " 12  C         1305 non-null   uint8  \n",
            " 13  Q         1305 non-null   uint8  \n",
            " 14  S         1305 non-null   uint8  \n",
            "dtypes: float64(2), int64(5), object(3), uint8(5)\n",
            "memory usage: 158.5+ KB\n"
          ],
          "name": "stdout"
        }
      ]
    },
    {
      "cell_type": "markdown",
      "metadata": {
        "id": "uvcSoO_SM8aR"
      },
      "source": [
        "3, Print (or include in the plots) descriptive statistics (e.g. means, medians, standard deviation)"
      ]
    },
    {
      "cell_type": "code",
      "metadata": {
        "trusted": true,
        "id": "MXw0XV2PM8aR",
        "colab": {
          "base_uri": "https://localhost:8080/",
          "height": 317
        },
        "outputId": "dba66a0a-d754-42aa-8446-58492f50c1c2"
      },
      "source": [
        "data.describe()"
      ],
      "execution_count": 19,
      "outputs": [
        {
          "output_type": "execute_result",
          "data": {
            "text/html": [
              "<div>\n",
              "<style scoped>\n",
              "    .dataframe tbody tr th:only-of-type {\n",
              "        vertical-align: middle;\n",
              "    }\n",
              "\n",
              "    .dataframe tbody tr th {\n",
              "        vertical-align: top;\n",
              "    }\n",
              "\n",
              "    .dataframe thead th {\n",
              "        text-align: right;\n",
              "    }\n",
              "</style>\n",
              "<table border=\"1\" class=\"dataframe\">\n",
              "  <thead>\n",
              "    <tr style=\"text-align: right;\">\n",
              "      <th></th>\n",
              "      <th>index</th>\n",
              "      <th>Survived</th>\n",
              "      <th>Pclass</th>\n",
              "      <th>Age</th>\n",
              "      <th>SibSp</th>\n",
              "      <th>Parch</th>\n",
              "      <th>Fare</th>\n",
              "      <th>female</th>\n",
              "      <th>male</th>\n",
              "      <th>C</th>\n",
              "      <th>Q</th>\n",
              "      <th>S</th>\n",
              "    </tr>\n",
              "  </thead>\n",
              "  <tbody>\n",
              "    <tr>\n",
              "      <th>count</th>\n",
              "      <td>1305.000000</td>\n",
              "      <td>1305.000000</td>\n",
              "      <td>1305.000000</td>\n",
              "      <td>1305.000000</td>\n",
              "      <td>1305.000000</td>\n",
              "      <td>1305.000000</td>\n",
              "      <td>1305.000000</td>\n",
              "      <td>1305.000000</td>\n",
              "      <td>1305.000000</td>\n",
              "      <td>1305.000000</td>\n",
              "      <td>1305.000000</td>\n",
              "      <td>1305.000000</td>\n",
              "    </tr>\n",
              "    <tr>\n",
              "      <th>mean</th>\n",
              "      <td>369.065900</td>\n",
              "      <td>0.375479</td>\n",
              "      <td>2.298851</td>\n",
              "      <td>29.847057</td>\n",
              "      <td>0.500383</td>\n",
              "      <td>0.384674</td>\n",
              "      <td>31.811857</td>\n",
              "      <td>0.355556</td>\n",
              "      <td>0.644444</td>\n",
              "      <td>0.203831</td>\n",
              "      <td>0.094253</td>\n",
              "      <td>0.701916</td>\n",
              "    </tr>\n",
              "    <tr>\n",
              "      <th>std</th>\n",
              "      <td>248.772213</td>\n",
              "      <td>0.484432</td>\n",
              "      <td>0.836040</td>\n",
              "      <td>12.876700</td>\n",
              "      <td>1.042888</td>\n",
              "      <td>0.866421</td>\n",
              "      <td>44.489559</td>\n",
              "      <td>0.478865</td>\n",
              "      <td>0.478865</td>\n",
              "      <td>0.403000</td>\n",
              "      <td>0.292292</td>\n",
              "      <td>0.457592</td>\n",
              "    </tr>\n",
              "    <tr>\n",
              "      <th>min</th>\n",
              "      <td>0.000000</td>\n",
              "      <td>0.000000</td>\n",
              "      <td>1.000000</td>\n",
              "      <td>0.170000</td>\n",
              "      <td>0.000000</td>\n",
              "      <td>0.000000</td>\n",
              "      <td>0.000000</td>\n",
              "      <td>0.000000</td>\n",
              "      <td>0.000000</td>\n",
              "      <td>0.000000</td>\n",
              "      <td>0.000000</td>\n",
              "      <td>0.000000</td>\n",
              "    </tr>\n",
              "    <tr>\n",
              "      <th>25%</th>\n",
              "      <td>163.000000</td>\n",
              "      <td>0.000000</td>\n",
              "      <td>2.000000</td>\n",
              "      <td>22.000000</td>\n",
              "      <td>0.000000</td>\n",
              "      <td>0.000000</td>\n",
              "      <td>7.895800</td>\n",
              "      <td>0.000000</td>\n",
              "      <td>0.000000</td>\n",
              "      <td>0.000000</td>\n",
              "      <td>0.000000</td>\n",
              "      <td>0.000000</td>\n",
              "    </tr>\n",
              "    <tr>\n",
              "      <th>50%</th>\n",
              "      <td>326.000000</td>\n",
              "      <td>0.000000</td>\n",
              "      <td>3.000000</td>\n",
              "      <td>29.881138</td>\n",
              "      <td>0.000000</td>\n",
              "      <td>0.000000</td>\n",
              "      <td>14.454200</td>\n",
              "      <td>0.000000</td>\n",
              "      <td>1.000000</td>\n",
              "      <td>0.000000</td>\n",
              "      <td>0.000000</td>\n",
              "      <td>1.000000</td>\n",
              "    </tr>\n",
              "    <tr>\n",
              "      <th>75%</th>\n",
              "      <td>562.000000</td>\n",
              "      <td>1.000000</td>\n",
              "      <td>3.000000</td>\n",
              "      <td>35.000000</td>\n",
              "      <td>1.000000</td>\n",
              "      <td>0.000000</td>\n",
              "      <td>31.000000</td>\n",
              "      <td>1.000000</td>\n",
              "      <td>1.000000</td>\n",
              "      <td>0.000000</td>\n",
              "      <td>0.000000</td>\n",
              "      <td>1.000000</td>\n",
              "    </tr>\n",
              "    <tr>\n",
              "      <th>max</th>\n",
              "      <td>890.000000</td>\n",
              "      <td>1.000000</td>\n",
              "      <td>3.000000</td>\n",
              "      <td>80.000000</td>\n",
              "      <td>8.000000</td>\n",
              "      <td>9.000000</td>\n",
              "      <td>263.000000</td>\n",
              "      <td>1.000000</td>\n",
              "      <td>1.000000</td>\n",
              "      <td>1.000000</td>\n",
              "      <td>1.000000</td>\n",
              "      <td>1.000000</td>\n",
              "    </tr>\n",
              "  </tbody>\n",
              "</table>\n",
              "</div>"
            ],
            "text/plain": [
              "             index     Survived  ...            Q            S\n",
              "count  1305.000000  1305.000000  ...  1305.000000  1305.000000\n",
              "mean    369.065900     0.375479  ...     0.094253     0.701916\n",
              "std     248.772213     0.484432  ...     0.292292     0.457592\n",
              "min       0.000000     0.000000  ...     0.000000     0.000000\n",
              "25%     163.000000     0.000000  ...     0.000000     0.000000\n",
              "50%     326.000000     0.000000  ...     0.000000     1.000000\n",
              "75%     562.000000     1.000000  ...     0.000000     1.000000\n",
              "max     890.000000     1.000000  ...     1.000000     1.000000\n",
              "\n",
              "[8 rows x 12 columns]"
            ]
          },
          "metadata": {
            "tags": []
          },
          "execution_count": 19
        }
      ]
    },
    {
      "cell_type": "markdown",
      "metadata": {
        "id": "pafn-NuiM8aR"
      },
      "source": [
        "# 4. Partition data into train, validation and test sets."
      ]
    },
    {
      "cell_type": "markdown",
      "metadata": {
        "id": "YBoAkxkWM8aR"
      },
      "source": [
        "From Lecture06.slide:\\\n",
        "training set:   60% of total data set   1305*0.6= 783  \\\n",
        "Validation set: 20% of total data set 1305*0.2 = 261    \\\n",
        "Testing setzz:  20% of total data set   1305*0.2=261"
      ]
    },
    {
      "cell_type": "code",
      "metadata": {
        "trusted": true,
        "id": "7fJ0WwiWM8aR"
      },
      "source": [
        "train_data=data[:783]\n",
        "valid_data=data[783:1044]\n",
        "test_data=data[1044:]"
      ],
      "execution_count": 20,
      "outputs": []
    },
    {
      "cell_type": "markdown",
      "metadata": {
        "id": "BeGLWDjCM8aS"
      },
      "source": [
        "# 5. Fit models on the training set (this can include a hyper-parameter search) and select the best based on validation set performance."
      ]
    },
    {
      "cell_type": "markdown",
      "metadata": {
        "id": "lqb71cvTM8aS"
      },
      "source": [
        "1，building the machine learning model for both test and valid data"
      ]
    },
    {
      "cell_type": "code",
      "metadata": {
        "trusted": true,
        "id": "LoDRlqskM8aS"
      },
      "source": [
        "def build_x(df):\n",
        "    return StandardScaler().fit_transform(df.drop(columns=['Name','Sex','Embarked','index','Survived']))"
      ],
      "execution_count": 21,
      "outputs": []
    },
    {
      "cell_type": "code",
      "metadata": {
        "trusted": true,
        "id": "y9g3noelM8aS"
      },
      "source": [
        "train_x=build_x(train_data)\n",
        "valid_x=build_x(valid_data)\n",
        "test_x=build_x(test_data)"
      ],
      "execution_count": 22,
      "outputs": []
    },
    {
      "cell_type": "code",
      "metadata": {
        "trusted": true,
        "id": "FulW8e1vM8aT"
      },
      "source": [
        "train_y = train_data['Survived'].values\n",
        "valid_y = valid_data['Survived'].values\n",
        "test_y  =  test_data['Survived'].values"
      ],
      "execution_count": 23,
      "outputs": []
    },
    {
      "cell_type": "markdown",
      "metadata": {
        "id": "am39XZLFM8aT"
      },
      "source": [
        "2, runing into different model"
      ]
    },
    {
      "cell_type": "code",
      "metadata": {
        "trusted": true,
        "id": "Su9kOyXxM8aT"
      },
      "source": [
        "#Decision Tree Classifier\n",
        "parameters={'criterion':('gini','entropy'),\n",
        "            'splitter':('random','best'),'max_depth':range(1,5)}\n",
        "clf=tree.DecisionTreeClassifier(random_state=30)\n",
        "clf_gs=GridSearchCV(clf,parameters)\n",
        "clf_gs=clf_gs.fit(train_x,train_y)\n",
        "clf_score=clf_gs.score(valid_x,valid_y)"
      ],
      "execution_count": 24,
      "outputs": []
    },
    {
      "cell_type": "code",
      "metadata": {
        "trusted": true,
        "id": "z_5bG7CSM8aT"
      },
      "source": [
        "#Random Forest Classifier\n",
        "parameters={'criterion':('gini','entropy'),\n",
        "            'max_features':('auto','sqrt','log2'),'max_depth':range(1,5)}\n",
        "random_forest=RandomForestClassifier()\n",
        "random_forest_rs=RandomizedSearchCV(random_forest,parameters)\n",
        "random_forest_rs=random_forest_rs.fit(train_x,train_y)\n",
        "random_forest_score=random_forest_rs.score(valid_x,valid_y)"
      ],
      "execution_count": 25,
      "outputs": []
    },
    {
      "cell_type": "code",
      "metadata": {
        "trusted": true,
        "id": "5PqRgoYCM8aT"
      },
      "source": [
        "#Gradient Boosting Classifier\n",
        "Gradient_Boosting=GradientBoostingClassifier().fit(train_x,train_y)\n",
        "Gradient_Boosting_score=Gradient_Boosting.score(valid_x,valid_y)"
      ],
      "execution_count": 26,
      "outputs": []
    },
    {
      "cell_type": "code",
      "metadata": {
        "trusted": true,
        "id": "9vV1VcL-M8aU"
      },
      "source": [
        "#Logistic Regression\n",
        "parameters={'solver':('newton-cg', 'lbfgs', 'liblinear', 'sag', 'saga')}\n",
        "logis_R=LogisticRegression()\n",
        "logis_R_gs=GridSearchCV(logis_R,parameters)\n",
        "logis_R_gs=logis_R_gs.fit(train_x,train_y)\n",
        "logis_R_score=logis_R_gs.score(valid_x,valid_y)"
      ],
      "execution_count": 27,
      "outputs": []
    },
    {
      "cell_type": "code",
      "metadata": {
        "trusted": true,
        "id": "a-iuOvC0M8aU"
      },
      "source": [
        "#Gaussian Naive Bayes(GNB)\n",
        "GNB=GaussianNB().fit(train_x,train_y)\n",
        "GNB.score=GNB.score(valid_x,valid_y)"
      ],
      "execution_count": 28,
      "outputs": []
    },
    {
      "cell_type": "code",
      "metadata": {
        "trusted": true,
        "id": "dAtiM1PnM8aU",
        "colab": {
          "base_uri": "https://localhost:8080/"
        },
        "outputId": "1c249b98-a843-4350-86e9-27cb140af19e"
      },
      "source": [
        "#Stochastic Gradient Descent (SGD)\n",
        "parameters={'loss':('deviance','exponential'),'learning_rate':[0.01,0.05,0.1,0.2],'n_estimators':[50,100,150]}\n",
        "SGD=GradientBoostingClassifier()\n",
        "SGD_gs=GridSearchCV(SGD,parameters)\n",
        "SGD_gs=SGD_gs.fit(train_x,train_y)\n",
        "SGD_score=SGD_gs.score(valid_x,valid_y)\n",
        "SGD_score"
      ],
      "execution_count": 29,
      "outputs": [
        {
          "output_type": "execute_result",
          "data": {
            "text/plain": [
              "0.8505747126436781"
            ]
          },
          "metadata": {
            "tags": []
          },
          "execution_count": 29
        }
      ]
    },
    {
      "cell_type": "code",
      "metadata": {
        "trusted": true,
        "id": "fjFxeY8sM8aV"
      },
      "source": [
        "#xgboost\n",
        "Xgboost=XGBClassifier().fit(train_x,train_y)\n",
        "Xgboost_score=Xgboost.score(valid_x,valid_y)"
      ],
      "execution_count": 30,
      "outputs": []
    },
    {
      "cell_type": "markdown",
      "metadata": {
        "id": "fbGR0VijM8aV"
      },
      "source": [
        "3, select the table from best performance of validation "
      ]
    },
    {
      "cell_type": "code",
      "metadata": {
        "trusted": true,
        "id": "L1O54WCTM8aV",
        "colab": {
          "base_uri": "https://localhost:8080/"
        },
        "outputId": "613a3bf8-d433-47c9-c3ff-a17cc0751060"
      },
      "source": [
        "results = pd.DataFrame({\n",
        "    'Model': ['Decision Tree', 'Random Forest Classifier','Gradient Boosting',\n",
        "              'Logistic Regression','Gaussian Naive Bayes','Stochastic Gradient Decent', \n",
        "              'xgbooste'],\n",
        "    'Score': [clf_score,random_forest_score,Gradient_Boosting_score,\n",
        "              logis_R_score,GNB.score,SGD_score,Xgboost_score]})\n",
        "result_df = results.sort_values(by='Score', ascending=False)\n",
        "result_df = result_df.set_index('Score')\n",
        "print(result_df)"
      ],
      "execution_count": 31,
      "outputs": [
        {
          "output_type": "stream",
          "text": [
            "                               Model\n",
            "Score                               \n",
            "0.915709    Random Forest Classifier\n",
            "0.892720        Gaussian Naive Bayes\n",
            "0.885057         Logistic Regression\n",
            "0.865900               Decision Tree\n",
            "0.865900           Gradient Boosting\n",
            "0.858238                    xgbooste\n",
            "0.850575  Stochastic Gradient Decent\n"
          ],
          "name": "stdout"
        }
      ]
    },
    {
      "cell_type": "markdown",
      "metadata": {
        "id": "8-RqhL-dM8aV"
      },
      "source": [
        "# 6. Print the results of the final model on the test set. This should include accuracy, F1-score and AUC."
      ]
    },
    {
      "cell_type": "code",
      "metadata": {
        "trusted": true,
        "id": "jhlKZbGnM8aV"
      },
      "source": [
        "#find the predicted value from test_data\n",
        "Y_prediction = random_forest_rs.predict(test_x)"
      ],
      "execution_count": 32,
      "outputs": []
    },
    {
      "cell_type": "code",
      "metadata": {
        "trusted": true,
        "id": "FI0rZFADM8aW",
        "colab": {
          "base_uri": "https://localhost:8080/"
        },
        "outputId": "5f3568d4-84bb-4fcd-817c-04b7ba4cf25c"
      },
      "source": [
        "#Accuracy\n",
        "accuracy=accuracy_score(test_y, Y_prediction)\n",
        "print('accuracy:', accuracy)"
      ],
      "execution_count": 33,
      "outputs": [
        {
          "output_type": "stream",
          "text": [
            "accuracy: 0.9693486590038314\n"
          ],
          "name": "stdout"
        }
      ]
    },
    {
      "cell_type": "code",
      "metadata": {
        "trusted": true,
        "id": "klJ_1UNwM8aW",
        "colab": {
          "base_uri": "https://localhost:8080/"
        },
        "outputId": "9c581070-54f1-4526-a78e-6573467280df"
      },
      "source": [
        "# F1-score\n",
        "f1_score=f1_score(test_y, Y_prediction)\n",
        "print('F1 score:',f1_score )"
      ],
      "execution_count": 34,
      "outputs": [
        {
          "output_type": "stream",
          "text": [
            "F1 score: 0.9574468085106385\n"
          ],
          "name": "stdout"
        }
      ]
    },
    {
      "cell_type": "code",
      "metadata": {
        "trusted": true,
        "id": "MXzt_-TPM8aW",
        "colab": {
          "base_uri": "https://localhost:8080/"
        },
        "outputId": "69cc9373-dab6-4a3a-f4a9-33767e43f4e0"
      },
      "source": [
        "# AUC score\n",
        "y_scores = random_forest_rs.predict_proba(test_x)[:,1]\n",
        "r_a_score = roc_auc_score(test_y, y_scores)\n",
        "print(\"ROC-AUC-Score:\", r_a_score)"
      ],
      "execution_count": 35,
      "outputs": [
        {
          "output_type": "stream",
          "text": [
            "ROC-AUC-Score: 0.9959867499044465\n"
          ],
          "name": "stdout"
        }
      ]
    },
    {
      "cell_type": "code",
      "metadata": {
        "trusted": true,
        "id": "7qcUIA5vM8aX",
        "colab": {
          "base_uri": "https://localhost:8080/"
        },
        "outputId": "9f19ba38-5d52-4944-bd60-a1843fa8e989"
      },
      "source": [
        "Final_result = pd.DataFrame({\n",
        "    'Indicator': ['Accuracy','F1 score','AUC Score'],\n",
        "    'Score': [accuracy,f1_score,r_a_score]})\n",
        "print(Final_result)"
      ],
      "execution_count": 36,
      "outputs": [
        {
          "output_type": "stream",
          "text": [
            "   Indicator     Score\n",
            "0   Accuracy  0.969349\n",
            "1   F1 score  0.957447\n",
            "2  AUC Score  0.995987\n"
          ],
          "name": "stdout"
        }
      ]
    }
  ]
}